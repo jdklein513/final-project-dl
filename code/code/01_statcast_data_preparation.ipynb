{
 "cells": [
  {
   "cell_type": "markdown",
   "metadata": {
    "id": "hJULtPG9guNm"
   },
   "source": [
    "# Statcast Data Preparation\n",
    "\n",
    "**Author:** Jacob Sauberman, Joel Klein, Ben Perkins\n",
    "\n",
    "**Date:** November 21, 2021\n",
    "\n",
    "**Description:** This script loads in MLB statcast data from every MLB registered pitch since 2015 and prepares the data for use in modeling. \n",
    "\n",
    "**Data:** The data is scraped from *baseballsavant.com* for each year and combined together in one large data file. The code for scraping the data and making the data available is called statcast_data_download.ipynb in the adhoc folder of this repository.\n",
    "\n",
    "**Scope:** We will use MLB pitch data starting in 2017 for training, tuning, and evaluating the next pitch prediction models. To avoid data leakage, the data can not be randomly split across all years in the training, validation, and test sets. Future pitches cannot be included as inputs within the training data to generate predictions for past pitches in the validation and/or test data. The data from the 2017 and 2018 seasons will be used for training data while the 2019 season is used for validation. 2020 and 2021 seasons will be used for the testing data in the next pitch prediction model. \n",
    "\n",
    "**Summary:**\n",
    "\n",
    "There are a series of data preparation steps in this notebook: \n",
    "\n",
    "* **Recategorize similar pitch types:** \n",
    "    \n",
    "  The pitch types in scope for this analysis are:\n",
    "    - 4-Seam Fastball\n",
    "    - Slider\n",
    "    - 2-Seam Fastball\n",
    "    - Changeup\n",
    "    - Sinker\n",
    "    - Curveball\n",
    "    - Cutter\n",
    "    - Knuckle Curve\n",
    "    - Split-Finger\n",
    "  \n",
    "  There are pitches which are very similar to each other based on the vertical and horizontal movement. We will combine these pitch types together and reformat the target variable.\n",
    "    \n",
    "  Any at bat with a pitch thrown not in the common pitch list will be removed from the data set.\n",
    "\n",
    "* **Input Feature Engineering:**\n",
    "  * Create current pitch count feature - the pitch count impacts the types of pitches thrown\n",
    "  * Create pitcher historical pitch type probabilities - previous pitch probabilities for a pitcher will likely boost the performance of the models for predicting future pitches thrown\n",
    "  * Create pitcher and hitter historical pitch type statistics such as wOBA and whiff %\n",
    "  * Create game pitch number - the types of pitches thrown in a game may be impacted by the number of pitches a pitcher has thrown in the game\n",
    "\n",
    "* **Combine previous pitch results to existing pitch:**\n",
    "  * The results from the previous pitches within the at-bat may influence the next pitches thrown\n",
    "* **Remove any at bats with missing pitch type or uncommon pitch types thrown:**\n",
    "  * The previous pitch thrown will likely impact the next pitches thrown in the at-bat. Any atbats with missing pitch information will be out of scope for this analysis.\n",
    "* **Filter to only the first 9 innings of pitches:**\n",
    "  * In 2020, extra innings started with a runner on second base. There may be a temporal shift in the data during this time so we will exclude extras from scope.\n",
    "* **Filter at bats to batters and pitcher match up which account for 90% of total at bats:**\n",
    "  * There are many instances in major league baseball where rookie batters and pitchers receive at-bats and there is little or no prior pitch sequence data. In order to make a prediction on next pitch types in the 2019, 2020, and 2021 seasons, the batter and the pitcher need to have a significant amount of recorded at-bats in the 2017 and 2018 seasons. Only batters and pitchers accounting for 90% of at-bats in the 2017 and 2018 seasons were included in scope (443 batters and 521 pitchers).\n",
    "* **Split original data into train, validation, test sets:**\n",
    "  * To avoid data leakage, the data can not be randomly split across all years in the training, validation, and test sets. Future pitches cannot be included as inputs within the training data to generate predictions for past pitches in the validation and/or test data. The data from the 2017 and 2018 seasons will be used for training data while the 2019 season is used for validation. 2020 and 2021 seasons will be used for the testing data in the next pitch prediction model.\n",
    "\n",
    "**Notes:** \n",
    "\n",
    "**Warnings:** \n",
    "\n",
    "**Outline:** \n",
    "  - Import Libraries\n",
    "  - Global Options\n",
    "  - Set Directories\n",
    "  - Define Functions\n",
    "  - Load Data\n",
    "  - Data Preparation\n",
    "    - Feature Engineering\n",
    "  - Data Filtering\n",
    "  - Data Splitting"
   ]
  },
  {
   "cell_type": "markdown",
   "metadata": {
    "id": "Vwx_cBcmgvIh"
   },
   "source": [
    "## Import Libraries"
   ]
  },
  {
   "cell_type": "code",
   "execution_count": null,
   "metadata": {
    "id": "vjGBv3RKg0mS"
   },
   "outputs": [],
   "source": [
    "# data manipulation\n",
    "import numpy as np\n",
    "import pandas as pd \n",
    "import os\n",
    "import zipfile\n",
    "\n",
    "# plotting\n",
    "import seaborn as sns\n",
    "import matplotlib.pyplot as plt\n",
    "from pandas.plotting import scatter_matrix\n",
    "import plotly.graph_objects as go\n",
    "import plotly.express as px"
   ]
  },
  {
   "cell_type": "markdown",
   "metadata": {
    "id": "lWmA2eCigvKw"
   },
   "source": [
    "## Global Options"
   ]
  },
  {
   "cell_type": "code",
   "execution_count": null,
   "metadata": {
    "id": "zRn1T74RhC07"
   },
   "outputs": [],
   "source": [
    "# do not show warnings\n",
    "import warnings\n",
    "warnings.filterwarnings('ignore')\n",
    "\n",
    "# set pandas display options\n",
    "pd.set_option('display.max_rows', 500)\n",
    "pd.set_option('display.max_columns', 500)\n",
    "pd.set_option('display.width', 2000)\n",
    "pd.set_option('display.max_colwidth', 2000)\n",
    "pd.options.display.float_format = '{:.5f}'.format"
   ]
  },
  {
   "cell_type": "markdown",
   "metadata": {
    "id": "x9HT0qCwhbFN"
   },
   "source": [
    "## Set Directories"
   ]
  },
  {
   "cell_type": "code",
   "execution_count": null,
   "metadata": {
    "colab": {
     "base_uri": "https://localhost:8080/"
    },
    "executionInfo": {
     "elapsed": 30082,
     "status": "ok",
     "timestamp": 1639010260021,
     "user": {
      "displayName": "Jake Sauberman",
      "photoUrl": "https://lh3.googleusercontent.com/a-/AOh14Gj3ctFQVUF4lK8a50Ax2CdA5Fv675ParwX6B5LCiw=s64",
      "userId": "14756566655797636634"
     },
     "user_tz": 300
    },
    "id": "y7rTjs1jhen9",
    "outputId": "288c5cf6-5b45-4f4c-c88b-6c7ac416c657"
   },
   "outputs": [
    {
     "name": "stdout",
     "output_type": "stream",
     "text": [
      "Mounted at /content/drive\n"
     ]
    }
   ],
   "source": [
    "# Connect to the colab data source\n",
    "from google.colab import drive\n",
    "drive.mount('/content/drive')\n",
    "\n",
    "DATA_DIR = \"/content/drive/MyDrive/final-project-dl/data/statcast\""
   ]
  },
  {
   "cell_type": "markdown",
   "metadata": {
    "id": "WbbO4WK7hsWT"
   },
   "source": [
    "## Define Functions"
   ]
  },
  {
   "cell_type": "code",
   "execution_count": null,
   "metadata": {
    "id": "BYBm_Yq9hvMX"
   },
   "outputs": [],
   "source": [
    "# define a function for loading in dataset\n",
    "def load_data(in_path, name):\n",
    "    df = pd.read_csv(in_path)\n",
    "    print(f\"{name}: shape is {df.shape}\")\n",
    "    \n",
    "    if ds_name == \"all_15_dataframe\":\n",
    "      print(df.info())\n",
    "      display(df.head(5))\n",
    "    \n",
    "    return df"
   ]
  },
  {
   "cell_type": "markdown",
   "metadata": {
    "id": "P4MStBqLhgvJ"
   },
   "source": [
    "## Load Data"
   ]
  },
  {
   "cell_type": "code",
   "execution_count": null,
   "metadata": {
    "colab": {
     "base_uri": "https://localhost:8080/",
     "height": 1000
    },
    "executionInfo": {
     "elapsed": 73548,
     "status": "ok",
     "timestamp": 1639010334740,
     "user": {
      "displayName": "Jake Sauberman",
      "photoUrl": "https://lh3.googleusercontent.com/a-/AOh14Gj3ctFQVUF4lK8a50Ax2CdA5Fv675ParwX6B5LCiw=s64",
      "userId": "14756566655797636634"
     },
     "user_tz": 300
    },
    "id": "k3oo9FGehf5B",
    "outputId": "0ec9d348-ce29-4df6-9f3b-7fd2a821c5b8"
   },
   "outputs": [
    {
     "name": "stdout",
     "output_type": "stream",
     "text": [
      "all_15_dataframe: shape is (702301, 93)\n",
      "<class 'pandas.core.frame.DataFrame'>\n",
      "RangeIndex: 702301 entries, 0 to 702300\n",
      "Data columns (total 93 columns):\n",
      " #   Column                           Non-Null Count   Dtype  \n",
      "---  ------                           --------------   -----  \n",
      " 0   index                            702301 non-null  int64  \n",
      " 1   pitch_type                       701661 non-null  object \n",
      " 2   game_date                        702301 non-null  object \n",
      " 3   release_speed                    687964 non-null  float64\n",
      " 4   release_pos_x                    687381 non-null  float64\n",
      " 5   release_pos_z                    687381 non-null  float64\n",
      " 6   player_name                      702301 non-null  object \n",
      " 7   batter                           702301 non-null  float64\n",
      " 8   pitcher                          702301 non-null  float64\n",
      " 9   events                           183953 non-null  object \n",
      " 10  description                      702301 non-null  object \n",
      " 11  spin_dir                         0 non-null       float64\n",
      " 12  spin_rate_deprecated             0 non-null       float64\n",
      " 13  break_angle_deprecated           0 non-null       float64\n",
      " 14  break_length_deprecated          0 non-null       float64\n",
      " 15  zone                             687381 non-null  float64\n",
      " 16  des                              702293 non-null  object \n",
      " 17  game_type                        702301 non-null  object \n",
      " 18  stand                            702301 non-null  object \n",
      " 19  p_throws                         702301 non-null  object \n",
      " 20  home_team                        702301 non-null  object \n",
      " 21  away_team                        702301 non-null  object \n",
      " 22  type                             702301 non-null  object \n",
      " 23  hit_location                     162752 non-null  float64\n",
      " 24  bb_type                          130474 non-null  object \n",
      " 25  balls                            702301 non-null  float64\n",
      " 26  strikes                          702301 non-null  float64\n",
      " 27  game_year                        702301 non-null  float64\n",
      " 28  pfx_x                            687381 non-null  float64\n",
      " 29  pfx_z                            687381 non-null  float64\n",
      " 30  plate_x                          687381 non-null  float64\n",
      " 31  plate_z                          687381 non-null  float64\n",
      " 32  on_3b                            67526 non-null   float64\n",
      " 33  on_2b                            130136 non-null  float64\n",
      " 34  on_1b                            208568 non-null  float64\n",
      " 35  outs_when_up                     702301 non-null  float64\n",
      " 36  inning                           702301 non-null  float64\n",
      " 37  inning_topbot                    702301 non-null  object \n",
      " 38  hc_x                             129873 non-null  float64\n",
      " 39  hc_y                             129873 non-null  float64\n",
      " 40  tfs_deprecated                   0 non-null       float64\n",
      " 41  tfs_zulu_deprecated              0 non-null       float64\n",
      " 42  fielder_2                        687965 non-null  float64\n",
      " 43  umpire                           0 non-null       float64\n",
      " 44  sv_id                            687023 non-null  object \n",
      " 45  vx0                              687381 non-null  float64\n",
      " 46  vy0                              687381 non-null  float64\n",
      " 47  vz0                              687381 non-null  float64\n",
      " 48  ax                               687381 non-null  float64\n",
      " 49  ay                               687381 non-null  float64\n",
      " 50  az                               687381 non-null  float64\n",
      " 51  sz_top                           687381 non-null  float64\n",
      " 52  sz_bot                           687381 non-null  float64\n",
      " 53  hit_distance_sc                  138847 non-null  float64\n",
      " 54  launch_speed                     151341 non-null  float64\n",
      " 55  launch_angle                     151342 non-null  float64\n",
      " 56  effective_speed                  686651 non-null  float64\n",
      " 57  release_spin_rate                651299 non-null  float64\n",
      " 58  release_extension                686409 non-null  float64\n",
      " 59  game_pk                          702301 non-null  float64\n",
      " 60  pitcher.1                        702301 non-null  float64\n",
      " 61  fielder_2.1                      687965 non-null  float64\n",
      " 62  fielder_3                        687965 non-null  float64\n",
      " 63  fielder_4                        687965 non-null  float64\n",
      " 64  fielder_5                        687965 non-null  float64\n",
      " 65  fielder_6                        687965 non-null  float64\n",
      " 66  fielder_7                        687965 non-null  float64\n",
      " 67  fielder_8                        687965 non-null  float64\n",
      " 68  fielder_9                        687965 non-null  float64\n",
      " 69  release_pos_y                    687381 non-null  float64\n",
      " 70  estimated_ba_using_speedangle    125792 non-null  float64\n",
      " 71  estimated_woba_using_speedangle  125792 non-null  float64\n",
      " 72  woba_value                       183954 non-null  float64\n",
      " 73  woba_denom                       183954 non-null  float64\n",
      " 74  babip_value                      183954 non-null  float64\n",
      " 75  iso_value                        183954 non-null  float64\n",
      " 76  launch_speed_angle               125792 non-null  float64\n",
      " 77  at_bat_number                    702301 non-null  float64\n",
      " 78  pitch_number                     702301 non-null  float64\n",
      " 79  pitch_name                       701661 non-null  object \n",
      " 80  home_score                       702301 non-null  float64\n",
      " 81  away_score                       702301 non-null  float64\n",
      " 82  bat_score                        702301 non-null  float64\n",
      " 83  fld_score                        702301 non-null  float64\n",
      " 84  post_away_score                  702301 non-null  float64\n",
      " 85  post_home_score                  702301 non-null  float64\n",
      " 86  post_bat_score                   702301 non-null  float64\n",
      " 87  post_fld_score                   702301 non-null  float64\n",
      " 88  if_fielding_alignment            669493 non-null  object \n",
      " 89  of_fielding_alignment            669493 non-null  object \n",
      " 90  spin_axis                        0 non-null       float64\n",
      " 91  delta_home_win_exp               702300 non-null  float64\n",
      " 92  delta_run_exp                    698702 non-null  float64\n",
      "dtypes: float64(74), int64(1), object(18)\n",
      "memory usage: 498.3+ MB\n",
      "None\n"
     ]
    },
    {
     "data": {
      "text/html": [
       "<div>\n",
       "<style scoped>\n",
       "    .dataframe tbody tr th:only-of-type {\n",
       "        vertical-align: middle;\n",
       "    }\n",
       "\n",
       "    .dataframe tbody tr th {\n",
       "        vertical-align: top;\n",
       "    }\n",
       "\n",
       "    .dataframe thead th {\n",
       "        text-align: right;\n",
       "    }\n",
       "</style>\n",
       "<table border=\"1\" class=\"dataframe\">\n",
       "  <thead>\n",
       "    <tr style=\"text-align: right;\">\n",
       "      <th></th>\n",
       "      <th>index</th>\n",
       "      <th>pitch_type</th>\n",
       "      <th>game_date</th>\n",
       "      <th>release_speed</th>\n",
       "      <th>release_pos_x</th>\n",
       "      <th>release_pos_z</th>\n",
       "      <th>player_name</th>\n",
       "      <th>batter</th>\n",
       "      <th>pitcher</th>\n",
       "      <th>events</th>\n",
       "      <th>description</th>\n",
       "      <th>spin_dir</th>\n",
       "      <th>spin_rate_deprecated</th>\n",
       "      <th>break_angle_deprecated</th>\n",
       "      <th>break_length_deprecated</th>\n",
       "      <th>zone</th>\n",
       "      <th>des</th>\n",
       "      <th>game_type</th>\n",
       "      <th>stand</th>\n",
       "      <th>p_throws</th>\n",
       "      <th>home_team</th>\n",
       "      <th>away_team</th>\n",
       "      <th>type</th>\n",
       "      <th>hit_location</th>\n",
       "      <th>bb_type</th>\n",
       "      <th>balls</th>\n",
       "      <th>strikes</th>\n",
       "      <th>game_year</th>\n",
       "      <th>pfx_x</th>\n",
       "      <th>pfx_z</th>\n",
       "      <th>plate_x</th>\n",
       "      <th>plate_z</th>\n",
       "      <th>on_3b</th>\n",
       "      <th>on_2b</th>\n",
       "      <th>on_1b</th>\n",
       "      <th>outs_when_up</th>\n",
       "      <th>inning</th>\n",
       "      <th>inning_topbot</th>\n",
       "      <th>hc_x</th>\n",
       "      <th>hc_y</th>\n",
       "      <th>tfs_deprecated</th>\n",
       "      <th>tfs_zulu_deprecated</th>\n",
       "      <th>fielder_2</th>\n",
       "      <th>umpire</th>\n",
       "      <th>sv_id</th>\n",
       "      <th>vx0</th>\n",
       "      <th>vy0</th>\n",
       "      <th>vz0</th>\n",
       "      <th>ax</th>\n",
       "      <th>ay</th>\n",
       "      <th>az</th>\n",
       "      <th>sz_top</th>\n",
       "      <th>sz_bot</th>\n",
       "      <th>hit_distance_sc</th>\n",
       "      <th>launch_speed</th>\n",
       "      <th>launch_angle</th>\n",
       "      <th>effective_speed</th>\n",
       "      <th>release_spin_rate</th>\n",
       "      <th>release_extension</th>\n",
       "      <th>game_pk</th>\n",
       "      <th>pitcher.1</th>\n",
       "      <th>fielder_2.1</th>\n",
       "      <th>fielder_3</th>\n",
       "      <th>fielder_4</th>\n",
       "      <th>fielder_5</th>\n",
       "      <th>fielder_6</th>\n",
       "      <th>fielder_7</th>\n",
       "      <th>fielder_8</th>\n",
       "      <th>fielder_9</th>\n",
       "      <th>release_pos_y</th>\n",
       "      <th>estimated_ba_using_speedangle</th>\n",
       "      <th>estimated_woba_using_speedangle</th>\n",
       "      <th>woba_value</th>\n",
       "      <th>woba_denom</th>\n",
       "      <th>babip_value</th>\n",
       "      <th>iso_value</th>\n",
       "      <th>launch_speed_angle</th>\n",
       "      <th>at_bat_number</th>\n",
       "      <th>pitch_number</th>\n",
       "      <th>pitch_name</th>\n",
       "      <th>home_score</th>\n",
       "      <th>away_score</th>\n",
       "      <th>bat_score</th>\n",
       "      <th>fld_score</th>\n",
       "      <th>post_away_score</th>\n",
       "      <th>post_home_score</th>\n",
       "      <th>post_bat_score</th>\n",
       "      <th>post_fld_score</th>\n",
       "      <th>if_fielding_alignment</th>\n",
       "      <th>of_fielding_alignment</th>\n",
       "      <th>spin_axis</th>\n",
       "      <th>delta_home_win_exp</th>\n",
       "      <th>delta_run_exp</th>\n",
       "    </tr>\n",
       "  </thead>\n",
       "  <tbody>\n",
       "    <tr>\n",
       "      <th>0</th>\n",
       "      <td>2692</td>\n",
       "      <td>SI</td>\n",
       "      <td>2015-10-04</td>\n",
       "      <td>97.20000</td>\n",
       "      <td>-1.08000</td>\n",
       "      <td>6.20000</td>\n",
       "      <td>Familia, Jeurys</td>\n",
       "      <td>150029.00000</td>\n",
       "      <td>544727.00000</td>\n",
       "      <td>field_out</td>\n",
       "      <td>hit_into_play</td>\n",
       "      <td>nan</td>\n",
       "      <td>nan</td>\n",
       "      <td>nan</td>\n",
       "      <td>nan</td>\n",
       "      <td>7.00000</td>\n",
       "      <td>Jayson Werth flies out to center fielder Juan Lagares.</td>\n",
       "      <td>R</td>\n",
       "      <td>R</td>\n",
       "      <td>R</td>\n",
       "      <td>NYM</td>\n",
       "      <td>WSH</td>\n",
       "      <td>X</td>\n",
       "      <td>8.00000</td>\n",
       "      <td>fly_ball</td>\n",
       "      <td>0.00000</td>\n",
       "      <td>1.00000</td>\n",
       "      <td>2015.00000</td>\n",
       "      <td>-1.12000</td>\n",
       "      <td>0.46000</td>\n",
       "      <td>-0.71000</td>\n",
       "      <td>2.02000</td>\n",
       "      <td>nan</td>\n",
       "      <td>547180.00000</td>\n",
       "      <td>nan</td>\n",
       "      <td>2.00000</td>\n",
       "      <td>9.00000</td>\n",
       "      <td>Top</td>\n",
       "      <td>110.32000</td>\n",
       "      <td>71.66000</td>\n",
       "      <td>nan</td>\n",
       "      <td>nan</td>\n",
       "      <td>518595.00000</td>\n",
       "      <td>nan</td>\n",
       "      <td>151004_174434</td>\n",
       "      <td>3.60000</td>\n",
       "      <td>-141.27000</td>\n",
       "      <td>-6.54000</td>\n",
       "      <td>-14.35000</td>\n",
       "      <td>32.15000</td>\n",
       "      <td>-28.51000</td>\n",
       "      <td>3.64000</td>\n",
       "      <td>1.67000</td>\n",
       "      <td>345.00000</td>\n",
       "      <td>95.20000</td>\n",
       "      <td>35.00000</td>\n",
       "      <td>96.50000</td>\n",
       "      <td>2018.00000</td>\n",
       "      <td>6.10000</td>\n",
       "      <td>416079.00000</td>\n",
       "      <td>544727.00000</td>\n",
       "      <td>518595.00000</td>\n",
       "      <td>446263.00000</td>\n",
       "      <td>502517.00000</td>\n",
       "      <td>431151.00000</td>\n",
       "      <td>514913.00000</td>\n",
       "      <td>624424.00000</td>\n",
       "      <td>501571.00000</td>\n",
       "      <td>434158.00000</td>\n",
       "      <td>50.00000</td>\n",
       "      <td>0.15300</td>\n",
       "      <td>0.29300</td>\n",
       "      <td>0.00000</td>\n",
       "      <td>1.00000</td>\n",
       "      <td>0.00000</td>\n",
       "      <td>0.00000</td>\n",
       "      <td>3.00000</td>\n",
       "      <td>61.00000</td>\n",
       "      <td>2.00000</td>\n",
       "      <td>Sinker</td>\n",
       "      <td>1.00000</td>\n",
       "      <td>0.00000</td>\n",
       "      <td>0.00000</td>\n",
       "      <td>1.00000</td>\n",
       "      <td>0.00000</td>\n",
       "      <td>1.00000</td>\n",
       "      <td>0.00000</td>\n",
       "      <td>1.00000</td>\n",
       "      <td>Standard</td>\n",
       "      <td>Standard</td>\n",
       "      <td>nan</td>\n",
       "      <td>0.11200</td>\n",
       "      <td>-0.25600</td>\n",
       "    </tr>\n",
       "    <tr>\n",
       "      <th>1</th>\n",
       "      <td>2740</td>\n",
       "      <td>SI</td>\n",
       "      <td>2015-10-04</td>\n",
       "      <td>97.50000</td>\n",
       "      <td>-0.93000</td>\n",
       "      <td>6.42000</td>\n",
       "      <td>Familia, Jeurys</td>\n",
       "      <td>150029.00000</td>\n",
       "      <td>544727.00000</td>\n",
       "      <td>NaN</td>\n",
       "      <td>called_strike</td>\n",
       "      <td>nan</td>\n",
       "      <td>nan</td>\n",
       "      <td>nan</td>\n",
       "      <td>nan</td>\n",
       "      <td>3.00000</td>\n",
       "      <td>Jayson Werth flies out to center fielder Juan Lagares.</td>\n",
       "      <td>R</td>\n",
       "      <td>R</td>\n",
       "      <td>R</td>\n",
       "      <td>NYM</td>\n",
       "      <td>WSH</td>\n",
       "      <td>S</td>\n",
       "      <td>nan</td>\n",
       "      <td>NaN</td>\n",
       "      <td>0.00000</td>\n",
       "      <td>0.00000</td>\n",
       "      <td>2015.00000</td>\n",
       "      <td>-1.11000</td>\n",
       "      <td>0.71000</td>\n",
       "      <td>0.44000</td>\n",
       "      <td>3.50000</td>\n",
       "      <td>nan</td>\n",
       "      <td>547180.00000</td>\n",
       "      <td>nan</td>\n",
       "      <td>2.00000</td>\n",
       "      <td>9.00000</td>\n",
       "      <td>Top</td>\n",
       "      <td>nan</td>\n",
       "      <td>nan</td>\n",
       "      <td>nan</td>\n",
       "      <td>nan</td>\n",
       "      <td>518595.00000</td>\n",
       "      <td>nan</td>\n",
       "      <td>151004_174405</td>\n",
       "      <td>6.39000</td>\n",
       "      <td>-141.72000</td>\n",
       "      <td>-3.75000</td>\n",
       "      <td>-14.31000</td>\n",
       "      <td>32.10000</td>\n",
       "      <td>-24.84000</td>\n",
       "      <td>3.64000</td>\n",
       "      <td>1.67000</td>\n",
       "      <td>nan</td>\n",
       "      <td>nan</td>\n",
       "      <td>nan</td>\n",
       "      <td>96.50000</td>\n",
       "      <td>2093.00000</td>\n",
       "      <td>6.00000</td>\n",
       "      <td>416079.00000</td>\n",
       "      <td>544727.00000</td>\n",
       "      <td>518595.00000</td>\n",
       "      <td>446263.00000</td>\n",
       "      <td>502517.00000</td>\n",
       "      <td>431151.00000</td>\n",
       "      <td>514913.00000</td>\n",
       "      <td>624424.00000</td>\n",
       "      <td>501571.00000</td>\n",
       "      <td>434158.00000</td>\n",
       "      <td>50.00000</td>\n",
       "      <td>nan</td>\n",
       "      <td>nan</td>\n",
       "      <td>nan</td>\n",
       "      <td>nan</td>\n",
       "      <td>nan</td>\n",
       "      <td>nan</td>\n",
       "      <td>nan</td>\n",
       "      <td>61.00000</td>\n",
       "      <td>1.00000</td>\n",
       "      <td>Sinker</td>\n",
       "      <td>1.00000</td>\n",
       "      <td>0.00000</td>\n",
       "      <td>0.00000</td>\n",
       "      <td>1.00000</td>\n",
       "      <td>0.00000</td>\n",
       "      <td>1.00000</td>\n",
       "      <td>0.00000</td>\n",
       "      <td>1.00000</td>\n",
       "      <td>Standard</td>\n",
       "      <td>Standard</td>\n",
       "      <td>nan</td>\n",
       "      <td>0.00000</td>\n",
       "      <td>-0.04800</td>\n",
       "    </tr>\n",
       "    <tr>\n",
       "      <th>2</th>\n",
       "      <td>2875</td>\n",
       "      <td>SI</td>\n",
       "      <td>2015-10-04</td>\n",
       "      <td>98.40000</td>\n",
       "      <td>-1.01000</td>\n",
       "      <td>6.21000</td>\n",
       "      <td>Familia, Jeurys</td>\n",
       "      <td>547180.00000</td>\n",
       "      <td>544727.00000</td>\n",
       "      <td>double</td>\n",
       "      <td>hit_into_play</td>\n",
       "      <td>nan</td>\n",
       "      <td>nan</td>\n",
       "      <td>nan</td>\n",
       "      <td>nan</td>\n",
       "      <td>4.00000</td>\n",
       "      <td>Mets challenged (tag play), call on the field was upheld: Bryce Harper doubles (38) on a ground ball to left fielder Michael Conforto.</td>\n",
       "      <td>R</td>\n",
       "      <td>L</td>\n",
       "      <td>R</td>\n",
       "      <td>NYM</td>\n",
       "      <td>WSH</td>\n",
       "      <td>X</td>\n",
       "      <td>7.00000</td>\n",
       "      <td>ground_ball</td>\n",
       "      <td>0.00000</td>\n",
       "      <td>0.00000</td>\n",
       "      <td>2015.00000</td>\n",
       "      <td>-1.52000</td>\n",
       "      <td>0.52000</td>\n",
       "      <td>-0.35000</td>\n",
       "      <td>2.45000</td>\n",
       "      <td>nan</td>\n",
       "      <td>nan</td>\n",
       "      <td>nan</td>\n",
       "      <td>2.00000</td>\n",
       "      <td>9.00000</td>\n",
       "      <td>Top</td>\n",
       "      <td>73.19000</td>\n",
       "      <td>139.24000</td>\n",
       "      <td>nan</td>\n",
       "      <td>nan</td>\n",
       "      <td>518595.00000</td>\n",
       "      <td>nan</td>\n",
       "      <td>151004_174011</td>\n",
       "      <td>5.48000</td>\n",
       "      <td>-143.01000</td>\n",
       "      <td>-5.67000</td>\n",
       "      <td>-20.49000</td>\n",
       "      <td>36.60000</td>\n",
       "      <td>-27.46000</td>\n",
       "      <td>3.19000</td>\n",
       "      <td>1.46000</td>\n",
       "      <td>20.00000</td>\n",
       "      <td>72.20000</td>\n",
       "      <td>-6.00000</td>\n",
       "      <td>97.60000</td>\n",
       "      <td>1960.00000</td>\n",
       "      <td>6.40000</td>\n",
       "      <td>416079.00000</td>\n",
       "      <td>544727.00000</td>\n",
       "      <td>518595.00000</td>\n",
       "      <td>446263.00000</td>\n",
       "      <td>502517.00000</td>\n",
       "      <td>431151.00000</td>\n",
       "      <td>514913.00000</td>\n",
       "      <td>624424.00000</td>\n",
       "      <td>501571.00000</td>\n",
       "      <td>434158.00000</td>\n",
       "      <td>50.00000</td>\n",
       "      <td>0.09300</td>\n",
       "      <td>0.08400</td>\n",
       "      <td>1.25000</td>\n",
       "      <td>1.00000</td>\n",
       "      <td>1.00000</td>\n",
       "      <td>1.00000</td>\n",
       "      <td>2.00000</td>\n",
       "      <td>60.00000</td>\n",
       "      <td>1.00000</td>\n",
       "      <td>Sinker</td>\n",
       "      <td>1.00000</td>\n",
       "      <td>0.00000</td>\n",
       "      <td>0.00000</td>\n",
       "      <td>1.00000</td>\n",
       "      <td>0.00000</td>\n",
       "      <td>1.00000</td>\n",
       "      <td>0.00000</td>\n",
       "      <td>1.00000</td>\n",
       "      <td>Standard</td>\n",
       "      <td>Strategic</td>\n",
       "      <td>nan</td>\n",
       "      <td>-0.07700</td>\n",
       "      <td>0.20800</td>\n",
       "    </tr>\n",
       "    <tr>\n",
       "      <th>3</th>\n",
       "      <td>2944</td>\n",
       "      <td>SI</td>\n",
       "      <td>2015-10-04</td>\n",
       "      <td>97.70000</td>\n",
       "      <td>-0.96000</td>\n",
       "      <td>6.08000</td>\n",
       "      <td>Familia, Jeurys</td>\n",
       "      <td>607208.00000</td>\n",
       "      <td>544727.00000</td>\n",
       "      <td>strikeout</td>\n",
       "      <td>swinging_strike</td>\n",
       "      <td>nan</td>\n",
       "      <td>nan</td>\n",
       "      <td>nan</td>\n",
       "      <td>nan</td>\n",
       "      <td>13.00000</td>\n",
       "      <td>Trea Turner strikes out swinging.</td>\n",
       "      <td>R</td>\n",
       "      <td>R</td>\n",
       "      <td>R</td>\n",
       "      <td>NYM</td>\n",
       "      <td>WSH</td>\n",
       "      <td>S</td>\n",
       "      <td>2.00000</td>\n",
       "      <td>NaN</td>\n",
       "      <td>3.00000</td>\n",
       "      <td>2.00000</td>\n",
       "      <td>2015.00000</td>\n",
       "      <td>-1.29000</td>\n",
       "      <td>0.62000</td>\n",
       "      <td>-0.05000</td>\n",
       "      <td>1.27000</td>\n",
       "      <td>nan</td>\n",
       "      <td>nan</td>\n",
       "      <td>nan</td>\n",
       "      <td>1.00000</td>\n",
       "      <td>9.00000</td>\n",
       "      <td>Top</td>\n",
       "      <td>nan</td>\n",
       "      <td>nan</td>\n",
       "      <td>nan</td>\n",
       "      <td>nan</td>\n",
       "      <td>518595.00000</td>\n",
       "      <td>nan</td>\n",
       "      <td>151004_173928</td>\n",
       "      <td>5.58000</td>\n",
       "      <td>-141.82000</td>\n",
       "      <td>-8.80000</td>\n",
       "      <td>-16.94000</td>\n",
       "      <td>31.90000</td>\n",
       "      <td>-26.15000</td>\n",
       "      <td>3.50000</td>\n",
       "      <td>1.61000</td>\n",
       "      <td>nan</td>\n",
       "      <td>nan</td>\n",
       "      <td>nan</td>\n",
       "      <td>97.10000</td>\n",
       "      <td>2099.00000</td>\n",
       "      <td>6.30000</td>\n",
       "      <td>416079.00000</td>\n",
       "      <td>544727.00000</td>\n",
       "      <td>518595.00000</td>\n",
       "      <td>446263.00000</td>\n",
       "      <td>502517.00000</td>\n",
       "      <td>431151.00000</td>\n",
       "      <td>514913.00000</td>\n",
       "      <td>624424.00000</td>\n",
       "      <td>501571.00000</td>\n",
       "      <td>434158.00000</td>\n",
       "      <td>50.00000</td>\n",
       "      <td>nan</td>\n",
       "      <td>nan</td>\n",
       "      <td>0.00000</td>\n",
       "      <td>1.00000</td>\n",
       "      <td>0.00000</td>\n",
       "      <td>0.00000</td>\n",
       "      <td>nan</td>\n",
       "      <td>59.00000</td>\n",
       "      <td>7.00000</td>\n",
       "      <td>Sinker</td>\n",
       "      <td>1.00000</td>\n",
       "      <td>0.00000</td>\n",
       "      <td>0.00000</td>\n",
       "      <td>1.00000</td>\n",
       "      <td>0.00000</td>\n",
       "      <td>1.00000</td>\n",
       "      <td>0.00000</td>\n",
       "      <td>1.00000</td>\n",
       "      <td>Standard</td>\n",
       "      <td>Standard</td>\n",
       "      <td>nan</td>\n",
       "      <td>0.05200</td>\n",
       "      <td>-0.20000</td>\n",
       "    </tr>\n",
       "    <tr>\n",
       "      <th>4</th>\n",
       "      <td>3111</td>\n",
       "      <td>SI</td>\n",
       "      <td>2015-10-04</td>\n",
       "      <td>98.20000</td>\n",
       "      <td>-1.02000</td>\n",
       "      <td>6.09000</td>\n",
       "      <td>Familia, Jeurys</td>\n",
       "      <td>607208.00000</td>\n",
       "      <td>544727.00000</td>\n",
       "      <td>NaN</td>\n",
       "      <td>foul</td>\n",
       "      <td>nan</td>\n",
       "      <td>nan</td>\n",
       "      <td>nan</td>\n",
       "      <td>nan</td>\n",
       "      <td>7.00000</td>\n",
       "      <td>Trea Turner strikes out swinging.</td>\n",
       "      <td>R</td>\n",
       "      <td>R</td>\n",
       "      <td>R</td>\n",
       "      <td>NYM</td>\n",
       "      <td>WSH</td>\n",
       "      <td>S</td>\n",
       "      <td>nan</td>\n",
       "      <td>NaN</td>\n",
       "      <td>3.00000</td>\n",
       "      <td>2.00000</td>\n",
       "      <td>2015.00000</td>\n",
       "      <td>-1.00000</td>\n",
       "      <td>0.80000</td>\n",
       "      <td>-0.41000</td>\n",
       "      <td>1.56000</td>\n",
       "      <td>nan</td>\n",
       "      <td>nan</td>\n",
       "      <td>nan</td>\n",
       "      <td>1.00000</td>\n",
       "      <td>9.00000</td>\n",
       "      <td>Top</td>\n",
       "      <td>nan</td>\n",
       "      <td>nan</td>\n",
       "      <td>nan</td>\n",
       "      <td>nan</td>\n",
       "      <td>518595.00000</td>\n",
       "      <td>nan</td>\n",
       "      <td>151004_173902</td>\n",
       "      <td>3.99000</td>\n",
       "      <td>-142.75000</td>\n",
       "      <td>-8.51000</td>\n",
       "      <td>-12.71000</td>\n",
       "      <td>36.27000</td>\n",
       "      <td>-23.52000</td>\n",
       "      <td>3.50000</td>\n",
       "      <td>1.61000</td>\n",
       "      <td>nan</td>\n",
       "      <td>nan</td>\n",
       "      <td>nan</td>\n",
       "      <td>97.70000</td>\n",
       "      <td>2155.00000</td>\n",
       "      <td>6.50000</td>\n",
       "      <td>416079.00000</td>\n",
       "      <td>544727.00000</td>\n",
       "      <td>518595.00000</td>\n",
       "      <td>446263.00000</td>\n",
       "      <td>502517.00000</td>\n",
       "      <td>431151.00000</td>\n",
       "      <td>514913.00000</td>\n",
       "      <td>624424.00000</td>\n",
       "      <td>501571.00000</td>\n",
       "      <td>434158.00000</td>\n",
       "      <td>50.00000</td>\n",
       "      <td>nan</td>\n",
       "      <td>nan</td>\n",
       "      <td>nan</td>\n",
       "      <td>nan</td>\n",
       "      <td>nan</td>\n",
       "      <td>nan</td>\n",
       "      <td>nan</td>\n",
       "      <td>59.00000</td>\n",
       "      <td>6.00000</td>\n",
       "      <td>Sinker</td>\n",
       "      <td>1.00000</td>\n",
       "      <td>0.00000</td>\n",
       "      <td>0.00000</td>\n",
       "      <td>1.00000</td>\n",
       "      <td>0.00000</td>\n",
       "      <td>1.00000</td>\n",
       "      <td>0.00000</td>\n",
       "      <td>1.00000</td>\n",
       "      <td>Standard</td>\n",
       "      <td>Standard</td>\n",
       "      <td>nan</td>\n",
       "      <td>0.00000</td>\n",
       "      <td>0.00000</td>\n",
       "    </tr>\n",
       "  </tbody>\n",
       "</table>\n",
       "</div>"
      ],
      "text/plain": [
       "   index pitch_type   game_date  release_speed  release_pos_x  release_pos_z      player_name       batter      pitcher     events      description  spin_dir  spin_rate_deprecated  break_angle_deprecated  break_length_deprecated     zone                                                                                                                                     des game_type stand p_throws home_team away_team type  hit_location      bb_type   balls  strikes  game_year    pfx_x   pfx_z  plate_x  plate_z  on_3b        on_2b  on_1b  outs_when_up  inning inning_topbot      hc_x      hc_y  tfs_deprecated  tfs_zulu_deprecated    fielder_2  umpire          sv_id     vx0        vy0      vz0        ax       ay        az  sz_top  sz_bot  hit_distance_sc  launch_speed  launch_angle  effective_speed  release_spin_rate  release_extension      game_pk    pitcher.1  fielder_2.1    fielder_3    fielder_4    fielder_5    fielder_6    fielder_7    fielder_8    fielder_9  release_pos_y  estimated_ba_using_speedangle  estimated_woba_using_speedangle  woba_value  woba_denom  babip_value  iso_value  launch_speed_angle  at_bat_number  pitch_number pitch_name  home_score  away_score  bat_score  fld_score  post_away_score  post_home_score  post_bat_score  post_fld_score if_fielding_alignment of_fielding_alignment  spin_axis  delta_home_win_exp  delta_run_exp\n",
       "0   2692         SI  2015-10-04       97.20000       -1.08000        6.20000  Familia, Jeurys 150029.00000 544727.00000  field_out    hit_into_play       nan                   nan                     nan                      nan  7.00000                                                                                  Jayson Werth flies out to center fielder Juan Lagares.         R     R        R       NYM       WSH    X       8.00000     fly_ball 0.00000  1.00000 2015.00000 -1.12000 0.46000 -0.71000  2.02000    nan 547180.00000    nan       2.00000 9.00000           Top 110.32000  71.66000             nan                  nan 518595.00000     nan  151004_174434 3.60000 -141.27000 -6.54000 -14.35000 32.15000 -28.51000 3.64000 1.67000        345.00000      95.20000      35.00000         96.50000         2018.00000            6.10000 416079.00000 544727.00000 518595.00000 446263.00000 502517.00000 431151.00000 514913.00000 624424.00000 501571.00000 434158.00000       50.00000                        0.15300                          0.29300     0.00000     1.00000      0.00000    0.00000             3.00000       61.00000       2.00000     Sinker     1.00000     0.00000    0.00000    1.00000          0.00000          1.00000         0.00000         1.00000              Standard              Standard        nan             0.11200       -0.25600\n",
       "1   2740         SI  2015-10-04       97.50000       -0.93000        6.42000  Familia, Jeurys 150029.00000 544727.00000        NaN    called_strike       nan                   nan                     nan                      nan  3.00000                                                                                  Jayson Werth flies out to center fielder Juan Lagares.         R     R        R       NYM       WSH    S           nan          NaN 0.00000  0.00000 2015.00000 -1.11000 0.71000  0.44000  3.50000    nan 547180.00000    nan       2.00000 9.00000           Top       nan       nan             nan                  nan 518595.00000     nan  151004_174405 6.39000 -141.72000 -3.75000 -14.31000 32.10000 -24.84000 3.64000 1.67000              nan           nan           nan         96.50000         2093.00000            6.00000 416079.00000 544727.00000 518595.00000 446263.00000 502517.00000 431151.00000 514913.00000 624424.00000 501571.00000 434158.00000       50.00000                            nan                              nan         nan         nan          nan        nan                 nan       61.00000       1.00000     Sinker     1.00000     0.00000    0.00000    1.00000          0.00000          1.00000         0.00000         1.00000              Standard              Standard        nan             0.00000       -0.04800\n",
       "2   2875         SI  2015-10-04       98.40000       -1.01000        6.21000  Familia, Jeurys 547180.00000 544727.00000     double    hit_into_play       nan                   nan                     nan                      nan  4.00000  Mets challenged (tag play), call on the field was upheld: Bryce Harper doubles (38) on a ground ball to left fielder Michael Conforto.         R     L        R       NYM       WSH    X       7.00000  ground_ball 0.00000  0.00000 2015.00000 -1.52000 0.52000 -0.35000  2.45000    nan          nan    nan       2.00000 9.00000           Top  73.19000 139.24000             nan                  nan 518595.00000     nan  151004_174011 5.48000 -143.01000 -5.67000 -20.49000 36.60000 -27.46000 3.19000 1.46000         20.00000      72.20000      -6.00000         97.60000         1960.00000            6.40000 416079.00000 544727.00000 518595.00000 446263.00000 502517.00000 431151.00000 514913.00000 624424.00000 501571.00000 434158.00000       50.00000                        0.09300                          0.08400     1.25000     1.00000      1.00000    1.00000             2.00000       60.00000       1.00000     Sinker     1.00000     0.00000    0.00000    1.00000          0.00000          1.00000         0.00000         1.00000              Standard             Strategic        nan            -0.07700        0.20800\n",
       "3   2944         SI  2015-10-04       97.70000       -0.96000        6.08000  Familia, Jeurys 607208.00000 544727.00000  strikeout  swinging_strike       nan                   nan                     nan                      nan 13.00000                                                                                                       Trea Turner strikes out swinging.         R     R        R       NYM       WSH    S       2.00000          NaN 3.00000  2.00000 2015.00000 -1.29000 0.62000 -0.05000  1.27000    nan          nan    nan       1.00000 9.00000           Top       nan       nan             nan                  nan 518595.00000     nan  151004_173928 5.58000 -141.82000 -8.80000 -16.94000 31.90000 -26.15000 3.50000 1.61000              nan           nan           nan         97.10000         2099.00000            6.30000 416079.00000 544727.00000 518595.00000 446263.00000 502517.00000 431151.00000 514913.00000 624424.00000 501571.00000 434158.00000       50.00000                            nan                              nan     0.00000     1.00000      0.00000    0.00000                 nan       59.00000       7.00000     Sinker     1.00000     0.00000    0.00000    1.00000          0.00000          1.00000         0.00000         1.00000              Standard              Standard        nan             0.05200       -0.20000\n",
       "4   3111         SI  2015-10-04       98.20000       -1.02000        6.09000  Familia, Jeurys 607208.00000 544727.00000        NaN             foul       nan                   nan                     nan                      nan  7.00000                                                                                                       Trea Turner strikes out swinging.         R     R        R       NYM       WSH    S           nan          NaN 3.00000  2.00000 2015.00000 -1.00000 0.80000 -0.41000  1.56000    nan          nan    nan       1.00000 9.00000           Top       nan       nan             nan                  nan 518595.00000     nan  151004_173902 3.99000 -142.75000 -8.51000 -12.71000 36.27000 -23.52000 3.50000 1.61000              nan           nan           nan         97.70000         2155.00000            6.50000 416079.00000 544727.00000 518595.00000 446263.00000 502517.00000 431151.00000 514913.00000 624424.00000 501571.00000 434158.00000       50.00000                            nan                              nan         nan         nan          nan        nan                 nan       59.00000       6.00000     Sinker     1.00000     0.00000    0.00000    1.00000          0.00000          1.00000         0.00000         1.00000              Standard              Standard        nan             0.00000        0.00000"
      ]
     },
     "metadata": {},
     "output_type": "display_data"
    },
    {
     "name": "stdout",
     "output_type": "stream",
     "text": [
      "all_16_dataframe: shape is (715821, 93)\n",
      "all_17_dataframe: shape is (721244, 93)\n",
      "all_18_dataframe: shape is (721190, 93)\n",
      "all_19_dataframe: shape is (732473, 93)\n",
      "all_20_dataframe: shape is (263584, 93)\n",
      "all_21_dataframe: shape is (654091, 93)\n"
     ]
    },
    {
     "data": {
      "text/plain": [
       "11"
      ]
     },
     "execution_count": 5,
     "metadata": {},
     "output_type": "execute_result"
    }
   ],
   "source": [
    "datasets = {}\n",
    "\n",
    "# set the input data set names we will load in\n",
    "ds_names = (\"all_15_dataframe\", \"all_16_dataframe\", \"all_17_dataframe\",\n",
    "            \"all_18_dataframe\", \"all_19_dataframe\", \"all_20_dataframe\",\n",
    "            \"all_21_dataframe\")\n",
    "\n",
    "# load in each dataset\n",
    "for ds_name in ds_names:\n",
    "    datasets[ds_name] = load_data(os.path.join(DATA_DIR, f'{ds_name}.csv'), ds_name)\n",
    "\n",
    "# combine data into one file\n",
    "statcast_df = pd.concat([datasets['all_15_dataframe'], \n",
    "                         datasets['all_16_dataframe'],\n",
    "                         datasets['all_17_dataframe'],\n",
    "                         datasets['all_18_dataframe'],\n",
    "                         datasets['all_19_dataframe'],\n",
    "                         datasets['all_20_dataframe'],\n",
    "                         datasets['all_21_dataframe']])\n",
    "\n",
    "# delete objects no longer needed for memory\n",
    "import gc\n",
    "gc.enable()\n",
    "del datasets\n",
    "gc.collect()"
   ]
  },
  {
   "cell_type": "markdown",
   "metadata": {
    "id": "pQQ1qiHnnG2_"
   },
   "source": [
    "## Data Preparation"
   ]
  },
  {
   "cell_type": "markdown",
   "metadata": {
    "id": "FR2zRv74b58_"
   },
   "source": [
    "### Feature Engineering"
   ]
  },
  {
   "cell_type": "markdown",
   "metadata": {
    "id": "uu298807nr0X"
   },
   "source": [
    "#### Re-classifying pitch types"
   ]
  },
  {
   "cell_type": "markdown",
   "metadata": {
    "id": "ykDhNxAmTFX9"
   },
   "source": [
    "There are several pitch types the model will attempt to predict. Some of the pitch types in the raw data are very rare. We will only keep the commonly thrown pitch types in scope for modeling.\n",
    "\n",
    "The pitch types in scope for this analysis are:\n",
    "\n",
    "  * 4-Seam Fastball\n",
    "  * Slider\n",
    "  * 2-Seam Fastball\n",
    "  * Changeup\n",
    "  * Sinker\n",
    "  * Curveball\n",
    "  * Cutter\n",
    "  * Knuckle Curve\n",
    "  * Split-Finger\n",
    "  \n",
    "There are pitches which are very similar to each other based on the vertical and horizontal movement. We will combine these pitch types together and reformat the target variable."
   ]
  },
  {
   "cell_type": "code",
   "execution_count": null,
   "metadata": {
    "colab": {
     "base_uri": "https://localhost:8080/"
    },
    "executionInfo": {
     "elapsed": 277,
     "status": "ok",
     "timestamp": 1639010335007,
     "user": {
      "displayName": "Jake Sauberman",
      "photoUrl": "https://lh3.googleusercontent.com/a-/AOh14Gj3ctFQVUF4lK8a50Ax2CdA5Fv675ParwX6B5LCiw=s64",
      "userId": "14756566655797636634"
     },
     "user_tz": 300
    },
    "id": "DL-4V1BKbHwg",
    "outputId": "fb9c4388-5d1e-405f-ac18-4670ba3b99b7"
   },
   "outputs": [
    {
     "data": {
      "text/plain": [
       "array(['SI', 'SL', 'CH', 'FS', 'FF', 'KC', 'CU', 'FT', 'FC', 'IN', nan,\n",
       "       'PO', 'KN', 'EP', 'FO', 'SC', 'FA', 'CS'], dtype=object)"
      ]
     },
     "execution_count": 6,
     "metadata": {},
     "output_type": "execute_result"
    }
   ],
   "source": [
    "# Unique pitch types -- these will end up being our target class in the NN\n",
    "statcast_df.pitch_type.unique()"
   ]
  },
  {
   "cell_type": "code",
   "execution_count": null,
   "metadata": {
    "colab": {
     "base_uri": "https://localhost:8080/",
     "height": 854
    },
    "executionInfo": {
     "elapsed": 6458,
     "status": "ok",
     "timestamp": 1639010341463,
     "user": {
      "displayName": "Jake Sauberman",
      "photoUrl": "https://lh3.googleusercontent.com/a-/AOh14Gj3ctFQVUF4lK8a50Ax2CdA5Fv675ParwX6B5LCiw=s64",
      "userId": "14756566655797636634"
     },
     "user_tz": 300
    },
    "id": "3eTIIq90dfXP",
    "outputId": "fb59463c-8815-4488-d05a-d9041ad2f4b2"
   },
   "outputs": [
    {
     "name": "stdout",
     "output_type": "stream",
     "text": [
      "   pitch_type    Count  Horz_Break  Vert_Break  Velocity\n",
      "0          CH   315552    -1.11201     0.65596  84.88367\n",
      "1          CS      359     0.95844    -0.89326  71.27939\n",
      "2          CU   264934     0.74454    -0.66593  78.77364\n",
      "3          EP      912     0.54898    -0.38519  64.79238\n",
      "4          FA     1357    -0.58444     1.25709  74.20332\n",
      "5          FC   185850     0.18204     0.78431  89.02783\n",
      "6          FF  1169740    -0.65373     1.39607  93.64323\n",
      "7          FO      845    -0.97961     0.75085  86.50726\n",
      "8          FS    63109    -0.92152     0.46916  85.26307\n",
      "9          FT   286707    -1.23676     0.96999  92.89225\n",
      "10         IN     4578    -0.72685     1.27744  73.43726\n",
      "11         KC    84355     0.67933    -0.83188  81.08125\n",
      "12         KN    11455    -0.13279     0.34409  76.09009\n",
      "13         PO      589    -0.81748     1.33183  86.99224\n",
      "14         SC        1    -0.83000    -0.17000  82.30000\n",
      "15         SI   309409    -1.25861     0.77645  92.52217\n",
      "16         SL   565842     0.40443     0.24467  85.01359\n"
     ]
    },
    {
     "data": {
      "text/html": [
       "<html>\n",
       "<head><meta charset=\"utf-8\" /></head>\n",
       "<body>\n",
       "    <div>\n",
       "            <script src=\"https://cdnjs.cloudflare.com/ajax/libs/mathjax/2.7.5/MathJax.js?config=TeX-AMS-MML_SVG\"></script><script type=\"text/javascript\">if (window.MathJax) {MathJax.Hub.Config({SVG: {font: \"STIX-Web\"}});}</script>\n",
       "                <script type=\"text/javascript\">window.PlotlyConfig = {MathJaxConfig: 'local'};</script>\n",
       "        <script src=\"https://cdn.plot.ly/plotly-latest.min.js\"></script>    \n",
       "            <div id=\"2de0e287-2582-4604-bfa8-07bfd6099088\" class=\"plotly-graph-div\" style=\"height:525px; width:100%;\"></div>\n",
       "            <script type=\"text/javascript\">\n",
       "                \n",
       "                    window.PLOTLYENV=window.PLOTLYENV || {};\n",
       "                    \n",
       "                if (document.getElementById(\"2de0e287-2582-4604-bfa8-07bfd6099088\")) {\n",
       "                    Plotly.newPlot(\n",
       "                        '2de0e287-2582-4604-bfa8-07bfd6099088',\n",
       "                        [{\"hoverlabel\": {\"namelength\": 0}, \"hovertemplate\": \"pitch_type=CH<br>Horz_Break=%{x}<br>Vert_Break=%{y}<br>Velocity=%{z}\", \"legendgroup\": \"pitch_type=CH\", \"marker\": {\"color\": \"#636efa\", \"symbol\": \"circle\"}, \"mode\": \"markers\", \"name\": \"pitch_type=CH\", \"scene\": \"scene\", \"showlegend\": true, \"type\": \"scatter3d\", \"x\": [-1.1120115645998458], \"y\": [0.6559609009422674], \"z\": [84.8836692018856]}, {\"hoverlabel\": {\"namelength\": 0}, \"hovertemplate\": \"pitch_type=CS<br>Horz_Break=%{x}<br>Vert_Break=%{y}<br>Velocity=%{z}\", \"legendgroup\": \"pitch_type=CS\", \"marker\": {\"color\": \"#EF553B\", \"symbol\": \"circle\"}, \"mode\": \"markers\", \"name\": \"pitch_type=CS\", \"scene\": \"scene\", \"showlegend\": true, \"type\": \"scatter3d\", \"x\": [0.9584401114206129], \"y\": [-0.8932590529247909], \"z\": [71.27938718662942]}, {\"hoverlabel\": {\"namelength\": 0}, \"hovertemplate\": \"pitch_type=CU<br>Horz_Break=%{x}<br>Vert_Break=%{y}<br>Velocity=%{z}\", \"legendgroup\": \"pitch_type=CU\", \"marker\": {\"color\": \"#00cc96\", \"symbol\": \"circle\"}, \"mode\": \"markers\", \"name\": \"pitch_type=CU\", \"scene\": \"scene\", \"showlegend\": true, \"type\": \"scatter3d\", \"x\": [0.7445400766981736], \"y\": [-0.6659303261571298], \"z\": [78.77363964627787]}, {\"hoverlabel\": {\"namelength\": 0}, \"hovertemplate\": \"pitch_type=EP<br>Horz_Break=%{x}<br>Vert_Break=%{y}<br>Velocity=%{z}\", \"legendgroup\": \"pitch_type=EP\", \"marker\": {\"color\": \"#ab63fa\", \"symbol\": \"circle\"}, \"mode\": \"markers\", \"name\": \"pitch_type=EP\", \"scene\": \"scene\", \"showlegend\": true, \"type\": \"scatter3d\", \"x\": [0.5489845474613688], \"y\": [-0.3851876379690952], \"z\": [64.79238410596028]}, {\"hoverlabel\": {\"namelength\": 0}, \"hovertemplate\": \"pitch_type=FA<br>Horz_Break=%{x}<br>Vert_Break=%{y}<br>Velocity=%{z}\", \"legendgroup\": \"pitch_type=FA\", \"marker\": {\"color\": \"#FFA15A\", \"symbol\": \"circle\"}, \"mode\": \"markers\", \"name\": \"pitch_type=FA\", \"scene\": \"scene\", \"showlegend\": true, \"type\": \"scatter3d\", \"x\": [-0.5844362564480472], \"y\": [1.257089167280765], \"z\": [74.20331613854096]}, {\"hoverlabel\": {\"namelength\": 0}, \"hovertemplate\": \"pitch_type=FC<br>Horz_Break=%{x}<br>Vert_Break=%{y}<br>Velocity=%{z}\", \"legendgroup\": \"pitch_type=FC\", \"marker\": {\"color\": \"#19d3f3\", \"symbol\": \"circle\"}, \"mode\": \"markers\", \"name\": \"pitch_type=FC\", \"scene\": \"scene\", \"showlegend\": true, \"type\": \"scatter3d\", \"x\": [0.18204196251103247], \"y\": [0.7843102019594843], \"z\": [89.02782619056649]}, {\"hoverlabel\": {\"namelength\": 0}, \"hovertemplate\": \"pitch_type=FF<br>Horz_Break=%{x}<br>Vert_Break=%{y}<br>Velocity=%{z}\", \"legendgroup\": \"pitch_type=FF\", \"marker\": {\"color\": \"#FF6692\", \"symbol\": \"circle\"}, \"mode\": \"markers\", \"name\": \"pitch_type=FF\", \"scene\": \"scene\", \"showlegend\": true, \"type\": \"scatter3d\", \"x\": [-0.6537295511267048], \"y\": [1.3960709524947468], \"z\": [93.64322623812215]}, {\"hoverlabel\": {\"namelength\": 0}, \"hovertemplate\": \"pitch_type=FO<br>Horz_Break=%{x}<br>Vert_Break=%{y}<br>Velocity=%{z}\", \"legendgroup\": \"pitch_type=FO\", \"marker\": {\"color\": \"#B6E880\", \"symbol\": \"circle\"}, \"mode\": \"markers\", \"name\": \"pitch_type=FO\", \"scene\": \"scene\", \"showlegend\": true, \"type\": \"scatter3d\", \"x\": [-0.9796071428571422], \"y\": [0.750845238095238], \"z\": [86.50726190476195]}, {\"hoverlabel\": {\"namelength\": 0}, \"hovertemplate\": \"pitch_type=FS<br>Horz_Break=%{x}<br>Vert_Break=%{y}<br>Velocity=%{z}\", \"legendgroup\": \"pitch_type=FS\", \"marker\": {\"color\": \"#FF97FF\", \"symbol\": \"circle\"}, \"mode\": \"markers\", \"name\": \"pitch_type=FS\", \"scene\": \"scene\", \"showlegend\": true, \"type\": \"scatter3d\", \"x\": [-0.9215188784451086], \"y\": [0.4691566034729942], \"z\": [85.26307312410337]}, {\"hoverlabel\": {\"namelength\": 0}, \"hovertemplate\": \"pitch_type=FT<br>Horz_Break=%{x}<br>Vert_Break=%{y}<br>Velocity=%{z}\", \"legendgroup\": \"pitch_type=FT\", \"marker\": {\"color\": \"#FECB52\", \"symbol\": \"circle\"}, \"mode\": \"markers\", \"name\": \"pitch_type=FT\", \"scene\": \"scene\", \"showlegend\": true, \"type\": \"scatter3d\", \"x\": [-1.2367630815280994], \"y\": [0.9699879496061801], \"z\": [92.89225261560496]}, {\"hoverlabel\": {\"namelength\": 0}, \"hovertemplate\": \"pitch_type=IN<br>Horz_Break=%{x}<br>Vert_Break=%{y}<br>Velocity=%{z}\", \"legendgroup\": \"pitch_type=IN\", \"marker\": {\"color\": \"#636efa\", \"symbol\": \"circle\"}, \"mode\": \"markers\", \"name\": \"pitch_type=IN\", \"scene\": \"scene\", \"showlegend\": true, \"type\": \"scatter3d\", \"x\": [-0.7268479745106966], \"y\": [1.2774396904870273], \"z\": [73.43725534820179]}, {\"hoverlabel\": {\"namelength\": 0}, \"hovertemplate\": \"pitch_type=KC<br>Horz_Break=%{x}<br>Vert_Break=%{y}<br>Velocity=%{z}\", \"legendgroup\": \"pitch_type=KC\", \"marker\": {\"color\": \"#EF553B\", \"symbol\": \"circle\"}, \"mode\": \"markers\", \"name\": \"pitch_type=KC\", \"scene\": \"scene\", \"showlegend\": true, \"type\": \"scatter3d\", \"x\": [0.6793321742444122], \"y\": [-0.8318845118727263], \"z\": [81.08125014885509]}, {\"hoverlabel\": {\"namelength\": 0}, \"hovertemplate\": \"pitch_type=KN<br>Horz_Break=%{x}<br>Vert_Break=%{y}<br>Velocity=%{z}\", \"legendgroup\": \"pitch_type=KN\", \"marker\": {\"color\": \"#00cc96\", \"symbol\": \"circle\"}, \"mode\": \"markers\", \"name\": \"pitch_type=KN\", \"scene\": \"scene\", \"showlegend\": true, \"type\": \"scatter3d\", \"x\": [-0.13279449622725226], \"y\": [0.34408610741233686], \"z\": [76.09009320905456]}, {\"hoverlabel\": {\"namelength\": 0}, \"hovertemplate\": \"pitch_type=PO<br>Horz_Break=%{x}<br>Vert_Break=%{y}<br>Velocity=%{z}\", \"legendgroup\": \"pitch_type=PO\", \"marker\": {\"color\": \"#ab63fa\", \"symbol\": \"circle\"}, \"mode\": \"markers\", \"name\": \"pitch_type=PO\", \"scene\": \"scene\", \"showlegend\": true, \"type\": \"scatter3d\", \"x\": [-0.817482758620689], \"y\": [1.3318275862068956], \"z\": [86.99224137931033]}, {\"hoverlabel\": {\"namelength\": 0}, \"hovertemplate\": \"pitch_type=SC<br>Horz_Break=%{x}<br>Vert_Break=%{y}<br>Velocity=%{z}\", \"legendgroup\": \"pitch_type=SC\", \"marker\": {\"color\": \"#FFA15A\", \"symbol\": \"circle\"}, \"mode\": \"markers\", \"name\": \"pitch_type=SC\", \"scene\": \"scene\", \"showlegend\": true, \"type\": \"scatter3d\", \"x\": [-0.83], \"y\": [-0.17], \"z\": [82.3]}, {\"hoverlabel\": {\"namelength\": 0}, \"hovertemplate\": \"pitch_type=SI<br>Horz_Break=%{x}<br>Vert_Break=%{y}<br>Velocity=%{z}\", \"legendgroup\": \"pitch_type=SI\", \"marker\": {\"color\": \"#19d3f3\", \"symbol\": \"circle\"}, \"mode\": \"markers\", \"name\": \"pitch_type=SI\", \"scene\": \"scene\", \"showlegend\": true, \"type\": \"scatter3d\", \"x\": [-1.258613732720367], \"y\": [0.7764487256542331], \"z\": [92.52217392293126]}, {\"hoverlabel\": {\"namelength\": 0}, \"hovertemplate\": \"pitch_type=SL<br>Horz_Break=%{x}<br>Vert_Break=%{y}<br>Velocity=%{z}\", \"legendgroup\": \"pitch_type=SL\", \"marker\": {\"color\": \"#FF6692\", \"symbol\": \"circle\"}, \"mode\": \"markers\", \"name\": \"pitch_type=SL\", \"scene\": \"scene\", \"showlegend\": true, \"type\": \"scatter3d\", \"x\": [0.40442993977305375], \"y\": [0.24467329855764305], \"z\": [85.01359014480465]}],\n",
       "                        {\"legend\": {\"tracegroupgap\": 0}, \"margin\": {\"t\": 60}, \"scene\": {\"domain\": {\"x\": [0.0, 1.0], \"y\": [0.0, 1.0]}, \"xaxis\": {\"title\": {\"text\": \"Horz_Break\"}}, \"yaxis\": {\"title\": {\"text\": \"Vert_Break\"}}, \"zaxis\": {\"title\": {\"text\": \"Velocity\"}}}, \"template\": {\"data\": {\"bar\": [{\"error_x\": {\"color\": \"#2a3f5f\"}, \"error_y\": {\"color\": \"#2a3f5f\"}, \"marker\": {\"line\": {\"color\": \"#E5ECF6\", \"width\": 0.5}}, \"type\": \"bar\"}], \"barpolar\": [{\"marker\": {\"line\": {\"color\": \"#E5ECF6\", \"width\": 0.5}}, \"type\": \"barpolar\"}], \"carpet\": [{\"aaxis\": {\"endlinecolor\": \"#2a3f5f\", \"gridcolor\": \"white\", \"linecolor\": \"white\", \"minorgridcolor\": \"white\", \"startlinecolor\": \"#2a3f5f\"}, \"baxis\": {\"endlinecolor\": \"#2a3f5f\", \"gridcolor\": \"white\", \"linecolor\": \"white\", \"minorgridcolor\": \"white\", \"startlinecolor\": \"#2a3f5f\"}, \"type\": \"carpet\"}], \"choropleth\": [{\"colorbar\": {\"outlinewidth\": 0, \"ticks\": \"\"}, \"type\": \"choropleth\"}], \"contour\": [{\"colorbar\": {\"outlinewidth\": 0, \"ticks\": \"\"}, \"colorscale\": [[0.0, \"#0d0887\"], [0.1111111111111111, \"#46039f\"], [0.2222222222222222, \"#7201a8\"], [0.3333333333333333, \"#9c179e\"], [0.4444444444444444, \"#bd3786\"], [0.5555555555555556, \"#d8576b\"], [0.6666666666666666, \"#ed7953\"], [0.7777777777777778, \"#fb9f3a\"], [0.8888888888888888, \"#fdca26\"], [1.0, \"#f0f921\"]], \"type\": \"contour\"}], \"contourcarpet\": [{\"colorbar\": {\"outlinewidth\": 0, \"ticks\": \"\"}, \"type\": \"contourcarpet\"}], \"heatmap\": [{\"colorbar\": {\"outlinewidth\": 0, \"ticks\": \"\"}, \"colorscale\": [[0.0, \"#0d0887\"], [0.1111111111111111, \"#46039f\"], [0.2222222222222222, \"#7201a8\"], [0.3333333333333333, \"#9c179e\"], [0.4444444444444444, \"#bd3786\"], [0.5555555555555556, \"#d8576b\"], [0.6666666666666666, \"#ed7953\"], [0.7777777777777778, \"#fb9f3a\"], [0.8888888888888888, \"#fdca26\"], [1.0, \"#f0f921\"]], \"type\": \"heatmap\"}], \"heatmapgl\": [{\"colorbar\": {\"outlinewidth\": 0, \"ticks\": \"\"}, \"colorscale\": [[0.0, \"#0d0887\"], [0.1111111111111111, \"#46039f\"], [0.2222222222222222, \"#7201a8\"], [0.3333333333333333, \"#9c179e\"], [0.4444444444444444, \"#bd3786\"], [0.5555555555555556, \"#d8576b\"], [0.6666666666666666, \"#ed7953\"], [0.7777777777777778, \"#fb9f3a\"], [0.8888888888888888, \"#fdca26\"], [1.0, \"#f0f921\"]], \"type\": \"heatmapgl\"}], \"histogram\": [{\"marker\": {\"colorbar\": {\"outlinewidth\": 0, \"ticks\": \"\"}}, \"type\": \"histogram\"}], \"histogram2d\": [{\"colorbar\": {\"outlinewidth\": 0, \"ticks\": \"\"}, \"colorscale\": [[0.0, \"#0d0887\"], [0.1111111111111111, \"#46039f\"], [0.2222222222222222, \"#7201a8\"], [0.3333333333333333, \"#9c179e\"], [0.4444444444444444, \"#bd3786\"], [0.5555555555555556, \"#d8576b\"], [0.6666666666666666, \"#ed7953\"], [0.7777777777777778, \"#fb9f3a\"], [0.8888888888888888, \"#fdca26\"], [1.0, \"#f0f921\"]], \"type\": \"histogram2d\"}], \"histogram2dcontour\": [{\"colorbar\": {\"outlinewidth\": 0, \"ticks\": \"\"}, \"colorscale\": [[0.0, \"#0d0887\"], [0.1111111111111111, \"#46039f\"], [0.2222222222222222, \"#7201a8\"], [0.3333333333333333, \"#9c179e\"], [0.4444444444444444, \"#bd3786\"], [0.5555555555555556, \"#d8576b\"], [0.6666666666666666, \"#ed7953\"], [0.7777777777777778, \"#fb9f3a\"], [0.8888888888888888, \"#fdca26\"], [1.0, \"#f0f921\"]], \"type\": \"histogram2dcontour\"}], \"mesh3d\": [{\"colorbar\": {\"outlinewidth\": 0, \"ticks\": \"\"}, \"type\": \"mesh3d\"}], \"parcoords\": [{\"line\": {\"colorbar\": {\"outlinewidth\": 0, \"ticks\": \"\"}}, \"type\": \"parcoords\"}], \"pie\": [{\"automargin\": true, \"type\": \"pie\"}], \"scatter\": [{\"marker\": {\"colorbar\": {\"outlinewidth\": 0, \"ticks\": \"\"}}, \"type\": \"scatter\"}], \"scatter3d\": [{\"line\": {\"colorbar\": {\"outlinewidth\": 0, \"ticks\": \"\"}}, \"marker\": {\"colorbar\": {\"outlinewidth\": 0, \"ticks\": \"\"}}, \"type\": \"scatter3d\"}], \"scattercarpet\": [{\"marker\": {\"colorbar\": {\"outlinewidth\": 0, \"ticks\": \"\"}}, \"type\": \"scattercarpet\"}], \"scattergeo\": [{\"marker\": {\"colorbar\": {\"outlinewidth\": 0, \"ticks\": \"\"}}, \"type\": \"scattergeo\"}], \"scattergl\": [{\"marker\": {\"colorbar\": {\"outlinewidth\": 0, \"ticks\": \"\"}}, \"type\": \"scattergl\"}], \"scattermapbox\": [{\"marker\": {\"colorbar\": {\"outlinewidth\": 0, \"ticks\": \"\"}}, \"type\": \"scattermapbox\"}], \"scatterpolar\": [{\"marker\": {\"colorbar\": {\"outlinewidth\": 0, \"ticks\": \"\"}}, \"type\": \"scatterpolar\"}], \"scatterpolargl\": [{\"marker\": {\"colorbar\": {\"outlinewidth\": 0, \"ticks\": \"\"}}, \"type\": \"scatterpolargl\"}], \"scatterternary\": [{\"marker\": {\"colorbar\": {\"outlinewidth\": 0, \"ticks\": \"\"}}, \"type\": \"scatterternary\"}], \"surface\": [{\"colorbar\": {\"outlinewidth\": 0, \"ticks\": \"\"}, \"colorscale\": [[0.0, \"#0d0887\"], [0.1111111111111111, \"#46039f\"], [0.2222222222222222, \"#7201a8\"], [0.3333333333333333, \"#9c179e\"], [0.4444444444444444, \"#bd3786\"], [0.5555555555555556, \"#d8576b\"], [0.6666666666666666, \"#ed7953\"], [0.7777777777777778, \"#fb9f3a\"], [0.8888888888888888, \"#fdca26\"], [1.0, \"#f0f921\"]], \"type\": \"surface\"}], \"table\": [{\"cells\": {\"fill\": {\"color\": \"#EBF0F8\"}, \"line\": {\"color\": \"white\"}}, \"header\": {\"fill\": {\"color\": \"#C8D4E3\"}, \"line\": {\"color\": \"white\"}}, \"type\": \"table\"}]}, \"layout\": {\"annotationdefaults\": {\"arrowcolor\": \"#2a3f5f\", \"arrowhead\": 0, \"arrowwidth\": 1}, \"coloraxis\": {\"colorbar\": {\"outlinewidth\": 0, \"ticks\": \"\"}}, \"colorscale\": {\"diverging\": [[0, \"#8e0152\"], [0.1, \"#c51b7d\"], [0.2, \"#de77ae\"], [0.3, \"#f1b6da\"], [0.4, \"#fde0ef\"], [0.5, \"#f7f7f7\"], [0.6, \"#e6f5d0\"], [0.7, \"#b8e186\"], [0.8, \"#7fbc41\"], [0.9, \"#4d9221\"], [1, \"#276419\"]], \"sequential\": [[0.0, \"#0d0887\"], [0.1111111111111111, \"#46039f\"], [0.2222222222222222, \"#7201a8\"], [0.3333333333333333, \"#9c179e\"], [0.4444444444444444, \"#bd3786\"], [0.5555555555555556, \"#d8576b\"], [0.6666666666666666, \"#ed7953\"], [0.7777777777777778, \"#fb9f3a\"], [0.8888888888888888, \"#fdca26\"], [1.0, \"#f0f921\"]], \"sequentialminus\": [[0.0, \"#0d0887\"], [0.1111111111111111, \"#46039f\"], [0.2222222222222222, \"#7201a8\"], [0.3333333333333333, \"#9c179e\"], [0.4444444444444444, \"#bd3786\"], [0.5555555555555556, \"#d8576b\"], [0.6666666666666666, \"#ed7953\"], [0.7777777777777778, \"#fb9f3a\"], [0.8888888888888888, \"#fdca26\"], [1.0, \"#f0f921\"]]}, \"colorway\": [\"#636efa\", \"#EF553B\", \"#00cc96\", \"#ab63fa\", \"#FFA15A\", \"#19d3f3\", \"#FF6692\", \"#B6E880\", \"#FF97FF\", \"#FECB52\"], \"font\": {\"color\": \"#2a3f5f\"}, \"geo\": {\"bgcolor\": \"white\", \"lakecolor\": \"white\", \"landcolor\": \"#E5ECF6\", \"showlakes\": true, \"showland\": true, \"subunitcolor\": \"white\"}, \"hoverlabel\": {\"align\": \"left\"}, \"hovermode\": \"closest\", \"mapbox\": {\"style\": \"light\"}, \"paper_bgcolor\": \"white\", \"plot_bgcolor\": \"#E5ECF6\", \"polar\": {\"angularaxis\": {\"gridcolor\": \"white\", \"linecolor\": \"white\", \"ticks\": \"\"}, \"bgcolor\": \"#E5ECF6\", \"radialaxis\": {\"gridcolor\": \"white\", \"linecolor\": \"white\", \"ticks\": \"\"}}, \"scene\": {\"xaxis\": {\"backgroundcolor\": \"#E5ECF6\", \"gridcolor\": \"white\", \"gridwidth\": 2, \"linecolor\": \"white\", \"showbackground\": true, \"ticks\": \"\", \"zerolinecolor\": \"white\"}, \"yaxis\": {\"backgroundcolor\": \"#E5ECF6\", \"gridcolor\": \"white\", \"gridwidth\": 2, \"linecolor\": \"white\", \"showbackground\": true, \"ticks\": \"\", \"zerolinecolor\": \"white\"}, \"zaxis\": {\"backgroundcolor\": \"#E5ECF6\", \"gridcolor\": \"white\", \"gridwidth\": 2, \"linecolor\": \"white\", \"showbackground\": true, \"ticks\": \"\", \"zerolinecolor\": \"white\"}}, \"shapedefaults\": {\"line\": {\"color\": \"#2a3f5f\"}}, \"ternary\": {\"aaxis\": {\"gridcolor\": \"white\", \"linecolor\": \"white\", \"ticks\": \"\"}, \"baxis\": {\"gridcolor\": \"white\", \"linecolor\": \"white\", \"ticks\": \"\"}, \"bgcolor\": \"#E5ECF6\", \"caxis\": {\"gridcolor\": \"white\", \"linecolor\": \"white\", \"ticks\": \"\"}}, \"title\": {\"x\": 0.05}, \"xaxis\": {\"automargin\": true, \"gridcolor\": \"white\", \"linecolor\": \"white\", \"ticks\": \"\", \"title\": {\"standoff\": 15}, \"zerolinecolor\": \"white\", \"zerolinewidth\": 2}, \"yaxis\": {\"automargin\": true, \"gridcolor\": \"white\", \"linecolor\": \"white\", \"ticks\": \"\", \"title\": {\"standoff\": 15}, \"zerolinecolor\": \"white\", \"zerolinewidth\": 2}}}},\n",
       "                        {\"responsive\": true}\n",
       "                    ).then(function(){\n",
       "                            \n",
       "var gd = document.getElementById('2de0e287-2582-4604-bfa8-07bfd6099088');\n",
       "var x = new MutationObserver(function (mutations, observer) {{\n",
       "        var display = window.getComputedStyle(gd).display;\n",
       "        if (!display || display === 'none') {{\n",
       "            console.log([gd, 'removed!']);\n",
       "            Plotly.purge(gd);\n",
       "            observer.disconnect();\n",
       "        }}\n",
       "}});\n",
       "\n",
       "// Listen for the removal of the full notebook cells\n",
       "var notebookContainer = gd.closest('#notebook-container');\n",
       "if (notebookContainer) {{\n",
       "    x.observe(notebookContainer, {childList: true});\n",
       "}}\n",
       "\n",
       "// Listen for the clearing of the current output cell\n",
       "var outputEl = gd.closest('.output');\n",
       "if (outputEl) {{\n",
       "    x.observe(outputEl, {childList: true});\n",
       "}}\n",
       "\n",
       "                        })\n",
       "                };\n",
       "                \n",
       "            </script>\n",
       "        </div>\n",
       "</body>\n",
       "</html>"
      ]
     },
     "metadata": {},
     "output_type": "display_data"
    }
   ],
   "source": [
    "# Plot each pitch type's average movement in the X and Y directions, with velocity\n",
    "pitch_type_avg_move = statcast_df.query(\"p_throws == 'R'\").groupby(by=[\"pitch_type\"], as_index=False).agg(\n",
    "    **{\n",
    "       \"Count\": pd.NamedAgg(column=\"pitch_type\", aggfunc='count'),\n",
    "       \"Horz_Break\": pd.NamedAgg(column=\"pfx_x\", aggfunc=np.mean),\n",
    "       \"Vert_Break\": pd.NamedAgg(column=\"pfx_z\", aggfunc=np.mean),\n",
    "       \"Velocity\": pd.NamedAgg(column=\"release_speed\", aggfunc=np.mean)\n",
    "    }\n",
    ")\n",
    "\n",
    "print(pitch_type_avg_move)\n",
    "\n",
    "fig = px.scatter_3d(\n",
    "    pitch_type_avg_move, \n",
    "    x = \"Horz_Break\",\n",
    "    y = \"Vert_Break\",\n",
    "    z = \"Velocity\",\n",
    "    color = \"pitch_type\")\n",
    "\n",
    "fig.show()"
   ]
  },
  {
   "cell_type": "markdown",
   "metadata": {
    "id": "cEeFC-hBkO42"
   },
   "source": [
    "There are some very similar pitch types based on their characteristics that, for the purposes of this project, we can group together to reduce the number of target features to predict.\n",
    "\n",
    "Filter out rarely used pitch types -- CS, EP, FA, IN, KN, PO, SC\n",
    "\n",
    "Group similar pitch types together to get 6 target pitch type groups:\n",
    "\n",
    "1.   FF --> Fourseam\n",
    "2.   FT, SI --> Twoseam\n",
    "3.   FC --> Cutter\n",
    "4.   SL --> Slider\n",
    "5.   CU, KC --> Curveball\n",
    "6.   CH, FS, FO --> Changeup"
   ]
  },
  {
   "cell_type": "code",
   "execution_count": null,
   "metadata": {
    "id": "7jEbdQAAgHnU"
   },
   "outputs": [],
   "source": [
    "# Re-classify pitch types using new system\n",
    "statcast_df = statcast_df.assign(\n",
    "    pitch_class = [\n",
    "      \"Fourseam\" if p == \"FF\"\n",
    "      else \"Twoseam\" if p in [\"FT\", \"SI\"]\n",
    "      else \"Cutter\" if p == \"FC\"\n",
    "      else \"Slider\" if p == \"SL\"\n",
    "      else \"Curveball\" if p in [\"CU\", \"KC\"]\n",
    "      else \"Changeup\" if p in [\"CH\", \"FS\", \"FO\"]\n",
    "      else None\n",
    "      for p in statcast_df['pitch_type']\n",
    "    ]\n",
    ")"
   ]
  },
  {
   "cell_type": "markdown",
   "metadata": {
    "id": "rjBVKZNc0rR3"
   },
   "source": [
    "#### Creating Count Feature"
   ]
  },
  {
   "cell_type": "markdown",
   "metadata": {
    "id": "V5yUC35STz7F"
   },
   "source": [
    "The pitch count impacts the types of pitches thrown. It is important to combine the balls and strikes into 1 feature as they are used together to determine the pitch type which will be thrown. There are also a hand full of instances in the data which have 4 balls for the current count. We will replace 4 balls with 3 balls. "
   ]
  },
  {
   "cell_type": "code",
   "execution_count": null,
   "metadata": {
    "id": "Wx_kDYon9S_1"
   },
   "outputs": [],
   "source": [
    "# there are about 10 rows which have 4 balls for the count which is impossible\n",
    "# we will fix those rows by replacing four balls with three\n",
    "statcast_df[\"balls\"][statcast_df[\"balls\"] == 4] = 3\n",
    "\n",
    "# Add count column to df\n",
    "statcast_df[\"count\"] = statcast_df[\"balls\"].astype(int).astype(str) + \"-\" + statcast_df[\"strikes\"].astype(int).astype(str)"
   ]
  },
  {
   "cell_type": "code",
   "execution_count": null,
   "metadata": {
    "colab": {
     "base_uri": "https://localhost:8080/"
    },
    "executionInfo": {
     "elapsed": 1609,
     "status": "ok",
     "timestamp": 1639010354639,
     "user": {
      "displayName": "Jake Sauberman",
      "photoUrl": "https://lh3.googleusercontent.com/a-/AOh14Gj3ctFQVUF4lK8a50Ax2CdA5Fv675ParwX6B5LCiw=s64",
      "userId": "14756566655797636634"
     },
     "user_tz": 300
    },
    "id": "H2g-wHzr2hlb",
    "outputId": "9ff25185-8eb1-4ac6-95fd-667a24178c27"
   },
   "outputs": [
    {
     "name": "stdout",
     "output_type": "stream",
     "text": [
      "  count pitch_class  count_pitches  tot_pitches   usage\n",
      "0   0-0    Changeup          94884      1158966 0.08187\n",
      "1   0-0   Curveball         138613      1158966 0.11960\n",
      "2   0-0      Cutter          63808      1158966 0.05506\n",
      "3   0-0    Fourseam         431073      1158966 0.37195\n",
      "4   0-0      Slider         171462      1158966 0.14794\n"
     ]
    }
   ],
   "source": [
    "# Calculate average pitch type usage by count\n",
    "pitches_by_count = statcast_df.groupby(by=[\"count\", \"pitch_class\"], as_index=False).agg(\n",
    "    **{\n",
    "       \"count_pitches\": pd.NamedAgg(column=\"pitch_class\", aggfunc='count')\n",
    "    }\n",
    ")\n",
    "\n",
    "pitches_overall = statcast_df.groupby(by=[\"count\"], as_index=False).agg(\n",
    "    **{\n",
    "       \"tot_pitches\": pd.NamedAgg(column=\"count\", aggfunc='count')\n",
    "    }\n",
    ")\n",
    "\n",
    "usage_by_count = pitches_by_count.merge(pitches_overall, how = \"inner\", on = \"count\")\n",
    "usage_by_count[\"usage\"] = usage_by_count[\"count_pitches\"] / usage_by_count[\"tot_pitches\"]\n",
    "\n",
    "print(usage_by_count.head())"
   ]
  },
  {
   "cell_type": "code",
   "execution_count": null,
   "metadata": {
    "colab": {
     "base_uri": "https://localhost:8080/",
     "height": 542
    },
    "executionInfo": {
     "elapsed": 315,
     "status": "ok",
     "timestamp": 1639010354949,
     "user": {
      "displayName": "Jake Sauberman",
      "photoUrl": "https://lh3.googleusercontent.com/a-/AOh14Gj3ctFQVUF4lK8a50Ax2CdA5Fv675ParwX6B5LCiw=s64",
      "userId": "14756566655797636634"
     },
     "user_tz": 300
    },
    "id": "zllFarT97zPm",
    "outputId": "316c47ec-7771-458c-a969-8bc19557e7b3"
   },
   "outputs": [
    {
     "data": {
      "text/html": [
       "<html>\n",
       "<head><meta charset=\"utf-8\" /></head>\n",
       "<body>\n",
       "    <div>\n",
       "            <script src=\"https://cdnjs.cloudflare.com/ajax/libs/mathjax/2.7.5/MathJax.js?config=TeX-AMS-MML_SVG\"></script><script type=\"text/javascript\">if (window.MathJax) {MathJax.Hub.Config({SVG: {font: \"STIX-Web\"}});}</script>\n",
       "                <script type=\"text/javascript\">window.PlotlyConfig = {MathJaxConfig: 'local'};</script>\n",
       "        <script src=\"https://cdn.plot.ly/plotly-latest.min.js\"></script>    \n",
       "            <div id=\"171f7e5e-798f-4359-b679-039c1356a7f7\" class=\"plotly-graph-div\" style=\"height:525px; width:100%;\"></div>\n",
       "            <script type=\"text/javascript\">\n",
       "                \n",
       "                    window.PLOTLYENV=window.PLOTLYENV || {};\n",
       "                    \n",
       "                if (document.getElementById(\"171f7e5e-798f-4359-b679-039c1356a7f7\")) {\n",
       "                    Plotly.newPlot(\n",
       "                        '171f7e5e-798f-4359-b679-039c1356a7f7',\n",
       "                        [{\"alignmentgroup\": \"True\", \"hoverlabel\": {\"namelength\": 0}, \"hovertemplate\": \"pitch_class=Changeup<br>count=%{x}<br>usage=%{y}\", \"legendgroup\": \"pitch_class=Changeup\", \"marker\": {\"color\": \"#636efa\"}, \"name\": \"pitch_class=Changeup\", \"offsetgroup\": \"pitch_class=Changeup\", \"orientation\": \"v\", \"showlegend\": true, \"textposition\": \"auto\", \"type\": \"bar\", \"x\": [\"0-0\", \"0-1\", \"0-2\", \"1-0\", \"1-1\", \"1-2\", \"2-0\", \"2-1\", \"2-2\", \"3-0\", \"3-1\", \"3-2\"], \"xaxis\": \"x\", \"y\": [0.08186952852801549, 0.13996854016672325, 0.11549975562072336, 0.1424301494476933, 0.1618708552089963, 0.13667693653778135, 0.10225934459805427, 0.147665363147164, 0.14691352663036691, 0.018517017828200973, 0.0763876351527552, 0.11597528447106792], \"yaxis\": \"y\"}, {\"alignmentgroup\": \"True\", \"hoverlabel\": {\"namelength\": 0}, \"hovertemplate\": \"pitch_class=Curveball<br>count=%{x}<br>usage=%{y}\", \"legendgroup\": \"pitch_class=Curveball\", \"marker\": {\"color\": \"#EF553B\"}, \"name\": \"pitch_class=Curveball\", \"offsetgroup\": \"pitch_class=Curveball\", \"orientation\": \"v\", \"showlegend\": true, \"textposition\": \"auto\", \"type\": \"bar\", \"x\": [\"0-0\", \"0-1\", \"0-2\", \"1-0\", \"1-1\", \"1-2\", \"2-0\", \"2-1\", \"2-2\", \"3-0\", \"3-1\", \"3-2\"], \"xaxis\": \"x\", \"y\": [0.11960057499529753, 0.1224750712003936, 0.1497705550124905, 0.07183621325756324, 0.10876539804112806, 0.14755803563117822, 0.029333077316948286, 0.0626817406998897, 0.12067402433132292, 0.004983792544570502, 0.0231991334175844, 0.06253423980888574], \"yaxis\": \"y\"}, {\"alignmentgroup\": \"True\", \"hoverlabel\": {\"namelength\": 0}, \"hovertemplate\": \"pitch_class=Cutter<br>count=%{x}<br>usage=%{y}\", \"legendgroup\": \"pitch_class=Cutter\", \"marker\": {\"color\": \"#00cc96\"}, \"name\": \"pitch_class=Cutter\", \"offsetgroup\": \"pitch_class=Cutter\", \"orientation\": \"v\", \"showlegend\": true, \"textposition\": \"auto\", \"type\": \"bar\", \"x\": [\"0-0\", \"0-1\", \"0-2\", \"1-0\", \"1-1\", \"1-2\", \"2-0\", \"2-1\", \"2-2\", \"3-0\", \"3-1\", \"3-2\"], \"xaxis\": \"x\", \"y\": [0.055055972306348934, 0.06215395915765257, 0.04788136743781905, 0.06378343850838647, 0.06278469134407984, 0.051794590166986246, 0.06153993855606759, 0.06597396303352385, 0.05746795724375295, 0.031847649918962724, 0.05938697318007663, 0.06334701428866517], \"yaxis\": \"y\"}, {\"alignmentgroup\": \"True\", \"hoverlabel\": {\"namelength\": 0}, \"hovertemplate\": \"pitch_class=Fourseam<br>count=%{x}<br>usage=%{y}\", \"legendgroup\": \"pitch_class=Fourseam\", \"marker\": {\"color\": \"#ab63fa\"}, \"name\": \"pitch_class=Fourseam\", \"offsetgroup\": \"pitch_class=Fourseam\", \"orientation\": \"v\", \"showlegend\": true, \"textposition\": \"auto\", \"type\": \"bar\", \"x\": [\"0-0\", \"0-1\", \"0-2\", \"1-0\", \"1-1\", \"1-2\", \"2-0\", \"2-1\", \"2-2\", \"3-0\", \"3-1\", \"3-2\"], \"xaxis\": \"x\", \"y\": [0.37194620031994036, 0.31439564551558785, 0.3393952970565874, 0.35290360238323365, 0.31024161158380165, 0.3122033062159093, 0.4328725038402458, 0.35986329757010593, 0.322096880140277, 0.6202998379254457, 0.47957914585464684, 0.4012276936064735], \"yaxis\": \"y\"}, {\"alignmentgroup\": \"True\", \"hoverlabel\": {\"namelength\": 0}, \"hovertemplate\": \"pitch_class=Slider<br>count=%{x}<br>usage=%{y}\", \"legendgroup\": \"pitch_class=Slider\", \"marker\": {\"color\": \"#FFA15A\"}, \"name\": \"pitch_class=Slider\", \"offsetgroup\": \"pitch_class=Slider\", \"orientation\": \"v\", \"showlegend\": true, \"textposition\": \"auto\", \"type\": \"bar\", \"x\": [\"0-0\", \"0-1\", \"0-2\", \"1-0\", \"1-1\", \"1-2\", \"2-0\", \"2-1\", \"2-2\", \"3-0\", \"3-1\", \"3-2\"], \"xaxis\": \"x\", \"y\": [0.14794394313551906, 0.17954452536535676, 0.22252430216139893, 0.1414059316527351, 0.17373095812688572, 0.21974188804289144, 0.09489887352790578, 0.14739797453123432, 0.19901252395403, 0.017645867098865477, 0.0816432970251349, 0.15862124709242278], \"yaxis\": \"y\"}, {\"alignmentgroup\": \"True\", \"hoverlabel\": {\"namelength\": 0}, \"hovertemplate\": \"pitch_class=Twoseam<br>count=%{x}<br>usage=%{y}\", \"legendgroup\": \"pitch_class=Twoseam\", \"marker\": {\"color\": \"#19d3f3\"}, \"name\": \"pitch_class=Twoseam\", \"offsetgroup\": \"pitch_class=Twoseam\", \"orientation\": \"v\", \"showlegend\": true, \"textposition\": \"auto\", \"type\": \"bar\", \"x\": [\"0-0\", \"0-1\", \"0-2\", \"1-0\", \"1-1\", \"1-2\", \"2-0\", \"2-1\", \"2-2\", \"3-0\", \"3-1\", \"3-2\"], \"xaxis\": \"x\", \"y\": [0.21543254935865244, 0.17458128624983543, 0.1174072716411426, 0.21813636413695883, 0.17616379975106816, 0.12545842098404603, 0.2625448028673835, 0.2103220361643103, 0.1480101190508504, 0.2661264181523501, 0.27349501514513247, 0.19288799877859306], \"yaxis\": \"y\"}],\n",
       "                        {\"barmode\": \"relative\", \"legend\": {\"tracegroupgap\": 0}, \"template\": {\"data\": {\"bar\": [{\"error_x\": {\"color\": \"#2a3f5f\"}, \"error_y\": {\"color\": \"#2a3f5f\"}, \"marker\": {\"line\": {\"color\": \"#E5ECF6\", \"width\": 0.5}}, \"type\": \"bar\"}], \"barpolar\": [{\"marker\": {\"line\": {\"color\": \"#E5ECF6\", \"width\": 0.5}}, \"type\": \"barpolar\"}], \"carpet\": [{\"aaxis\": {\"endlinecolor\": \"#2a3f5f\", \"gridcolor\": \"white\", \"linecolor\": \"white\", \"minorgridcolor\": \"white\", \"startlinecolor\": \"#2a3f5f\"}, \"baxis\": {\"endlinecolor\": \"#2a3f5f\", \"gridcolor\": \"white\", \"linecolor\": \"white\", \"minorgridcolor\": \"white\", \"startlinecolor\": \"#2a3f5f\"}, \"type\": \"carpet\"}], \"choropleth\": [{\"colorbar\": {\"outlinewidth\": 0, \"ticks\": \"\"}, \"type\": \"choropleth\"}], \"contour\": [{\"colorbar\": {\"outlinewidth\": 0, \"ticks\": \"\"}, \"colorscale\": [[0.0, \"#0d0887\"], [0.1111111111111111, \"#46039f\"], [0.2222222222222222, \"#7201a8\"], [0.3333333333333333, \"#9c179e\"], [0.4444444444444444, \"#bd3786\"], [0.5555555555555556, \"#d8576b\"], [0.6666666666666666, \"#ed7953\"], [0.7777777777777778, \"#fb9f3a\"], [0.8888888888888888, \"#fdca26\"], [1.0, \"#f0f921\"]], \"type\": \"contour\"}], \"contourcarpet\": [{\"colorbar\": {\"outlinewidth\": 0, \"ticks\": \"\"}, \"type\": \"contourcarpet\"}], \"heatmap\": [{\"colorbar\": {\"outlinewidth\": 0, \"ticks\": \"\"}, \"colorscale\": [[0.0, \"#0d0887\"], [0.1111111111111111, \"#46039f\"], [0.2222222222222222, \"#7201a8\"], [0.3333333333333333, \"#9c179e\"], [0.4444444444444444, \"#bd3786\"], [0.5555555555555556, \"#d8576b\"], [0.6666666666666666, \"#ed7953\"], [0.7777777777777778, \"#fb9f3a\"], [0.8888888888888888, \"#fdca26\"], [1.0, \"#f0f921\"]], \"type\": \"heatmap\"}], \"heatmapgl\": [{\"colorbar\": {\"outlinewidth\": 0, \"ticks\": \"\"}, \"colorscale\": [[0.0, \"#0d0887\"], [0.1111111111111111, \"#46039f\"], [0.2222222222222222, \"#7201a8\"], [0.3333333333333333, \"#9c179e\"], [0.4444444444444444, \"#bd3786\"], [0.5555555555555556, \"#d8576b\"], [0.6666666666666666, \"#ed7953\"], [0.7777777777777778, \"#fb9f3a\"], [0.8888888888888888, \"#fdca26\"], [1.0, \"#f0f921\"]], \"type\": \"heatmapgl\"}], \"histogram\": [{\"marker\": {\"colorbar\": {\"outlinewidth\": 0, \"ticks\": \"\"}}, \"type\": \"histogram\"}], \"histogram2d\": [{\"colorbar\": {\"outlinewidth\": 0, \"ticks\": \"\"}, \"colorscale\": [[0.0, \"#0d0887\"], [0.1111111111111111, \"#46039f\"], [0.2222222222222222, \"#7201a8\"], [0.3333333333333333, \"#9c179e\"], [0.4444444444444444, \"#bd3786\"], [0.5555555555555556, \"#d8576b\"], [0.6666666666666666, \"#ed7953\"], [0.7777777777777778, \"#fb9f3a\"], [0.8888888888888888, \"#fdca26\"], [1.0, \"#f0f921\"]], \"type\": \"histogram2d\"}], \"histogram2dcontour\": [{\"colorbar\": {\"outlinewidth\": 0, \"ticks\": \"\"}, \"colorscale\": [[0.0, \"#0d0887\"], [0.1111111111111111, \"#46039f\"], [0.2222222222222222, \"#7201a8\"], [0.3333333333333333, \"#9c179e\"], [0.4444444444444444, \"#bd3786\"], [0.5555555555555556, \"#d8576b\"], [0.6666666666666666, \"#ed7953\"], [0.7777777777777778, \"#fb9f3a\"], [0.8888888888888888, \"#fdca26\"], [1.0, \"#f0f921\"]], \"type\": \"histogram2dcontour\"}], \"mesh3d\": [{\"colorbar\": {\"outlinewidth\": 0, \"ticks\": \"\"}, \"type\": \"mesh3d\"}], \"parcoords\": [{\"line\": {\"colorbar\": {\"outlinewidth\": 0, \"ticks\": \"\"}}, \"type\": \"parcoords\"}], \"pie\": [{\"automargin\": true, \"type\": \"pie\"}], \"scatter\": [{\"marker\": {\"colorbar\": {\"outlinewidth\": 0, \"ticks\": \"\"}}, \"type\": \"scatter\"}], \"scatter3d\": [{\"line\": {\"colorbar\": {\"outlinewidth\": 0, \"ticks\": \"\"}}, \"marker\": {\"colorbar\": {\"outlinewidth\": 0, \"ticks\": \"\"}}, \"type\": \"scatter3d\"}], \"scattercarpet\": [{\"marker\": {\"colorbar\": {\"outlinewidth\": 0, \"ticks\": \"\"}}, \"type\": \"scattercarpet\"}], \"scattergeo\": [{\"marker\": {\"colorbar\": {\"outlinewidth\": 0, \"ticks\": \"\"}}, \"type\": \"scattergeo\"}], \"scattergl\": [{\"marker\": {\"colorbar\": {\"outlinewidth\": 0, \"ticks\": \"\"}}, \"type\": \"scattergl\"}], \"scattermapbox\": [{\"marker\": {\"colorbar\": {\"outlinewidth\": 0, \"ticks\": \"\"}}, \"type\": \"scattermapbox\"}], \"scatterpolar\": [{\"marker\": {\"colorbar\": {\"outlinewidth\": 0, \"ticks\": \"\"}}, \"type\": \"scatterpolar\"}], \"scatterpolargl\": [{\"marker\": {\"colorbar\": {\"outlinewidth\": 0, \"ticks\": \"\"}}, \"type\": \"scatterpolargl\"}], \"scatterternary\": [{\"marker\": {\"colorbar\": {\"outlinewidth\": 0, \"ticks\": \"\"}}, \"type\": \"scatterternary\"}], \"surface\": [{\"colorbar\": {\"outlinewidth\": 0, \"ticks\": \"\"}, \"colorscale\": [[0.0, \"#0d0887\"], [0.1111111111111111, \"#46039f\"], [0.2222222222222222, \"#7201a8\"], [0.3333333333333333, \"#9c179e\"], [0.4444444444444444, \"#bd3786\"], [0.5555555555555556, \"#d8576b\"], [0.6666666666666666, \"#ed7953\"], [0.7777777777777778, \"#fb9f3a\"], [0.8888888888888888, \"#fdca26\"], [1.0, \"#f0f921\"]], \"type\": \"surface\"}], \"table\": [{\"cells\": {\"fill\": {\"color\": \"#EBF0F8\"}, \"line\": {\"color\": \"white\"}}, \"header\": {\"fill\": {\"color\": \"#C8D4E3\"}, \"line\": {\"color\": \"white\"}}, \"type\": \"table\"}]}, \"layout\": {\"annotationdefaults\": {\"arrowcolor\": \"#2a3f5f\", \"arrowhead\": 0, \"arrowwidth\": 1}, \"coloraxis\": {\"colorbar\": {\"outlinewidth\": 0, \"ticks\": \"\"}}, \"colorscale\": {\"diverging\": [[0, \"#8e0152\"], [0.1, \"#c51b7d\"], [0.2, \"#de77ae\"], [0.3, \"#f1b6da\"], [0.4, \"#fde0ef\"], [0.5, \"#f7f7f7\"], [0.6, \"#e6f5d0\"], [0.7, \"#b8e186\"], [0.8, \"#7fbc41\"], [0.9, \"#4d9221\"], [1, \"#276419\"]], \"sequential\": [[0.0, \"#0d0887\"], [0.1111111111111111, \"#46039f\"], [0.2222222222222222, \"#7201a8\"], [0.3333333333333333, \"#9c179e\"], [0.4444444444444444, \"#bd3786\"], [0.5555555555555556, \"#d8576b\"], [0.6666666666666666, \"#ed7953\"], [0.7777777777777778, \"#fb9f3a\"], [0.8888888888888888, \"#fdca26\"], [1.0, \"#f0f921\"]], \"sequentialminus\": [[0.0, \"#0d0887\"], [0.1111111111111111, \"#46039f\"], [0.2222222222222222, \"#7201a8\"], [0.3333333333333333, \"#9c179e\"], [0.4444444444444444, \"#bd3786\"], [0.5555555555555556, \"#d8576b\"], [0.6666666666666666, \"#ed7953\"], [0.7777777777777778, \"#fb9f3a\"], [0.8888888888888888, \"#fdca26\"], [1.0, \"#f0f921\"]]}, \"colorway\": [\"#636efa\", \"#EF553B\", \"#00cc96\", \"#ab63fa\", \"#FFA15A\", \"#19d3f3\", \"#FF6692\", \"#B6E880\", \"#FF97FF\", \"#FECB52\"], \"font\": {\"color\": \"#2a3f5f\"}, \"geo\": {\"bgcolor\": \"white\", \"lakecolor\": \"white\", \"landcolor\": \"#E5ECF6\", \"showlakes\": true, \"showland\": true, \"subunitcolor\": \"white\"}, \"hoverlabel\": {\"align\": \"left\"}, \"hovermode\": \"closest\", \"mapbox\": {\"style\": \"light\"}, \"paper_bgcolor\": \"white\", \"plot_bgcolor\": \"#E5ECF6\", \"polar\": {\"angularaxis\": {\"gridcolor\": \"white\", \"linecolor\": \"white\", \"ticks\": \"\"}, \"bgcolor\": \"#E5ECF6\", \"radialaxis\": {\"gridcolor\": \"white\", \"linecolor\": \"white\", \"ticks\": \"\"}}, \"scene\": {\"xaxis\": {\"backgroundcolor\": \"#E5ECF6\", \"gridcolor\": \"white\", \"gridwidth\": 2, \"linecolor\": \"white\", \"showbackground\": true, \"ticks\": \"\", \"zerolinecolor\": \"white\"}, \"yaxis\": {\"backgroundcolor\": \"#E5ECF6\", \"gridcolor\": \"white\", \"gridwidth\": 2, \"linecolor\": \"white\", \"showbackground\": true, \"ticks\": \"\", \"zerolinecolor\": \"white\"}, \"zaxis\": {\"backgroundcolor\": \"#E5ECF6\", \"gridcolor\": \"white\", \"gridwidth\": 2, \"linecolor\": \"white\", \"showbackground\": true, \"ticks\": \"\", \"zerolinecolor\": \"white\"}}, \"shapedefaults\": {\"line\": {\"color\": \"#2a3f5f\"}}, \"ternary\": {\"aaxis\": {\"gridcolor\": \"white\", \"linecolor\": \"white\", \"ticks\": \"\"}, \"baxis\": {\"gridcolor\": \"white\", \"linecolor\": \"white\", \"ticks\": \"\"}, \"bgcolor\": \"#E5ECF6\", \"caxis\": {\"gridcolor\": \"white\", \"linecolor\": \"white\", \"ticks\": \"\"}}, \"title\": {\"x\": 0.05}, \"xaxis\": {\"automargin\": true, \"gridcolor\": \"white\", \"linecolor\": \"white\", \"ticks\": \"\", \"title\": {\"standoff\": 15}, \"zerolinecolor\": \"white\", \"zerolinewidth\": 2}, \"yaxis\": {\"automargin\": true, \"gridcolor\": \"white\", \"linecolor\": \"white\", \"ticks\": \"\", \"title\": {\"standoff\": 15}, \"zerolinecolor\": \"white\", \"zerolinewidth\": 2}}}, \"title\": {\"text\": \"Pitch Type Usage by Count\"}, \"xaxis\": {\"anchor\": \"y\", \"domain\": [0.0, 1.0], \"title\": {\"text\": \"count\"}}, \"yaxis\": {\"anchor\": \"x\", \"domain\": [0.0, 1.0], \"title\": {\"text\": \"usage\"}}},\n",
       "                        {\"responsive\": true}\n",
       "                    ).then(function(){\n",
       "                            \n",
       "var gd = document.getElementById('171f7e5e-798f-4359-b679-039c1356a7f7');\n",
       "var x = new MutationObserver(function (mutations, observer) {{\n",
       "        var display = window.getComputedStyle(gd).display;\n",
       "        if (!display || display === 'none') {{\n",
       "            console.log([gd, 'removed!']);\n",
       "            Plotly.purge(gd);\n",
       "            observer.disconnect();\n",
       "        }}\n",
       "}});\n",
       "\n",
       "// Listen for the removal of the full notebook cells\n",
       "var notebookContainer = gd.closest('#notebook-container');\n",
       "if (notebookContainer) {{\n",
       "    x.observe(notebookContainer, {childList: true});\n",
       "}}\n",
       "\n",
       "// Listen for the clearing of the current output cell\n",
       "var outputEl = gd.closest('.output');\n",
       "if (outputEl) {{\n",
       "    x.observe(outputEl, {childList: true});\n",
       "}}\n",
       "\n",
       "                        })\n",
       "                };\n",
       "                \n",
       "            </script>\n",
       "        </div>\n",
       "</body>\n",
       "</html>"
      ]
     },
     "metadata": {},
     "output_type": "display_data"
    }
   ],
   "source": [
    "# Plot pitch type usage by count\n",
    "fig = px.bar(usage_by_count, x=\"count\", y=\"usage\", color=\"pitch_class\", title=\"Pitch Type Usage by Count\")\n",
    "fig.show()"
   ]
  },
  {
   "cell_type": "markdown",
   "metadata": {
    "id": "7He_4vvuC_lh"
   },
   "source": [
    "Count appears to be an influencer over pitch type usage. In counts more favorable to hitters (1-0, 2-0, 3-0, 3-1), we can see higher fastball usage. In counts more favorable to pitchers (0-2, 1-2, 2-2), we can see higher slider and curveball usage."
   ]
  },
  {
   "cell_type": "code",
   "execution_count": null,
   "metadata": {
    "colab": {
     "base_uri": "https://localhost:8080/",
     "height": 542
    },
    "executionInfo": {
     "elapsed": 1978,
     "status": "ok",
     "timestamp": 1639010356923,
     "user": {
      "displayName": "Jake Sauberman",
      "photoUrl": "https://lh3.googleusercontent.com/a-/AOh14Gj3ctFQVUF4lK8a50Ax2CdA5Fv675ParwX6B5LCiw=s64",
      "userId": "14756566655797636634"
     },
     "user_tz": 300
    },
    "id": "G8tcZ2FsBz6j",
    "outputId": "8437054d-17a7-452b-e5ef-47e8f446425c"
   },
   "outputs": [
    {
     "data": {
      "text/html": [
       "<html>\n",
       "<head><meta charset=\"utf-8\" /></head>\n",
       "<body>\n",
       "    <div>\n",
       "            <script src=\"https://cdnjs.cloudflare.com/ajax/libs/mathjax/2.7.5/MathJax.js?config=TeX-AMS-MML_SVG\"></script><script type=\"text/javascript\">if (window.MathJax) {MathJax.Hub.Config({SVG: {font: \"STIX-Web\"}});}</script>\n",
       "                <script type=\"text/javascript\">window.PlotlyConfig = {MathJaxConfig: 'local'};</script>\n",
       "        <script src=\"https://cdn.plot.ly/plotly-latest.min.js\"></script>    \n",
       "            <div id=\"302ac140-f3c6-4809-b10a-64f0190894ad\" class=\"plotly-graph-div\" style=\"height:525px; width:100%;\"></div>\n",
       "            <script type=\"text/javascript\">\n",
       "                \n",
       "                    window.PLOTLYENV=window.PLOTLYENV || {};\n",
       "                    \n",
       "                if (document.getElementById(\"302ac140-f3c6-4809-b10a-64f0190894ad\")) {\n",
       "                    Plotly.newPlot(\n",
       "                        '302ac140-f3c6-4809-b10a-64f0190894ad',\n",
       "                        [{\"alignmentgroup\": \"True\", \"hoverlabel\": {\"namelength\": 0}, \"hovertemplate\": \"pitch_class=%{x}<br>frequency=%{y}\", \"legendgroup\": \"pitch_class=Changeup\", \"marker\": {\"color\": \"#636efa\"}, \"name\": \"pitch_class=Changeup\", \"offsetgroup\": \"pitch_class=Changeup\", \"orientation\": \"v\", \"showlegend\": true, \"textposition\": \"auto\", \"type\": \"bar\", \"x\": [\"Changeup\"], \"xaxis\": \"x\", \"y\": [0.7639046538024972], \"yaxis\": \"y\"}, {\"alignmentgroup\": \"True\", \"hoverlabel\": {\"namelength\": 0}, \"hovertemplate\": \"pitch_class=%{x}<br>frequency=%{y}\", \"legendgroup\": \"pitch_class=Curveball\", \"marker\": {\"color\": \"#EF553B\"}, \"name\": \"pitch_class=Curveball\", \"offsetgroup\": \"pitch_class=Curveball\", \"orientation\": \"v\", \"showlegend\": true, \"textposition\": \"auto\", \"type\": \"bar\", \"x\": [\"Curveball\"], \"xaxis\": \"x\", \"y\": [0.5913734392735528], \"yaxis\": \"y\"}, {\"alignmentgroup\": \"True\", \"hoverlabel\": {\"namelength\": 0}, \"hovertemplate\": \"pitch_class=%{x}<br>frequency=%{y}\", \"legendgroup\": \"pitch_class=Cutter\", \"marker\": {\"color\": \"#00cc96\"}, \"name\": \"pitch_class=Cutter\", \"offsetgroup\": \"pitch_class=Cutter\", \"orientation\": \"v\", \"showlegend\": true, \"textposition\": \"auto\", \"type\": \"bar\", \"x\": [\"Cutter\"], \"xaxis\": \"x\", \"y\": [0.24404086265607264], \"yaxis\": \"y\"}, {\"alignmentgroup\": \"True\", \"hoverlabel\": {\"namelength\": 0}, \"hovertemplate\": \"pitch_class=%{x}<br>frequency=%{y}\", \"legendgroup\": \"pitch_class=Fourseam\", \"marker\": {\"color\": \"#ab63fa\"}, \"name\": \"pitch_class=Fourseam\", \"offsetgroup\": \"pitch_class=Fourseam\", \"orientation\": \"v\", \"showlegend\": true, \"textposition\": \"auto\", \"type\": \"bar\", \"x\": [\"Fourseam\"], \"xaxis\": \"x\", \"y\": [0.8774120317820658], \"yaxis\": \"y\"}, {\"alignmentgroup\": \"True\", \"hoverlabel\": {\"namelength\": 0}, \"hovertemplate\": \"pitch_class=%{x}<br>frequency=%{y}\", \"legendgroup\": \"pitch_class=Slider\", \"marker\": {\"color\": \"#FFA15A\"}, \"name\": \"pitch_class=Slider\", \"offsetgroup\": \"pitch_class=Slider\", \"orientation\": \"v\", \"showlegend\": true, \"textposition\": \"auto\", \"type\": \"bar\", \"x\": [\"Slider\"], \"xaxis\": \"x\", \"y\": [0.7559591373439274], \"yaxis\": \"y\"}, {\"alignmentgroup\": \"True\", \"hoverlabel\": {\"namelength\": 0}, \"hovertemplate\": \"pitch_class=%{x}<br>frequency=%{y}\", \"legendgroup\": \"pitch_class=Twoseam\", \"marker\": {\"color\": \"#19d3f3\"}, \"name\": \"pitch_class=Twoseam\", \"offsetgroup\": \"pitch_class=Twoseam\", \"orientation\": \"v\", \"showlegend\": true, \"textposition\": \"auto\", \"type\": \"bar\", \"x\": [\"Twoseam\"], \"xaxis\": \"x\", \"y\": [0.5573212258796821], \"yaxis\": \"y\"}],\n",
       "                        {\"barmode\": \"relative\", \"legend\": {\"tracegroupgap\": 0}, \"template\": {\"data\": {\"bar\": [{\"error_x\": {\"color\": \"#2a3f5f\"}, \"error_y\": {\"color\": \"#2a3f5f\"}, \"marker\": {\"line\": {\"color\": \"#E5ECF6\", \"width\": 0.5}}, \"type\": \"bar\"}], \"barpolar\": [{\"marker\": {\"line\": {\"color\": \"#E5ECF6\", \"width\": 0.5}}, \"type\": \"barpolar\"}], \"carpet\": [{\"aaxis\": {\"endlinecolor\": \"#2a3f5f\", \"gridcolor\": \"white\", \"linecolor\": \"white\", \"minorgridcolor\": \"white\", \"startlinecolor\": \"#2a3f5f\"}, \"baxis\": {\"endlinecolor\": \"#2a3f5f\", \"gridcolor\": \"white\", \"linecolor\": \"white\", \"minorgridcolor\": \"white\", \"startlinecolor\": \"#2a3f5f\"}, \"type\": \"carpet\"}], \"choropleth\": [{\"colorbar\": {\"outlinewidth\": 0, \"ticks\": \"\"}, \"type\": \"choropleth\"}], \"contour\": [{\"colorbar\": {\"outlinewidth\": 0, \"ticks\": \"\"}, \"colorscale\": [[0.0, \"#0d0887\"], [0.1111111111111111, \"#46039f\"], [0.2222222222222222, \"#7201a8\"], [0.3333333333333333, \"#9c179e\"], [0.4444444444444444, \"#bd3786\"], [0.5555555555555556, \"#d8576b\"], [0.6666666666666666, \"#ed7953\"], [0.7777777777777778, \"#fb9f3a\"], [0.8888888888888888, \"#fdca26\"], [1.0, \"#f0f921\"]], \"type\": \"contour\"}], \"contourcarpet\": [{\"colorbar\": {\"outlinewidth\": 0, \"ticks\": \"\"}, \"type\": \"contourcarpet\"}], \"heatmap\": [{\"colorbar\": {\"outlinewidth\": 0, \"ticks\": \"\"}, \"colorscale\": [[0.0, \"#0d0887\"], [0.1111111111111111, \"#46039f\"], [0.2222222222222222, \"#7201a8\"], [0.3333333333333333, \"#9c179e\"], [0.4444444444444444, \"#bd3786\"], [0.5555555555555556, \"#d8576b\"], [0.6666666666666666, \"#ed7953\"], [0.7777777777777778, \"#fb9f3a\"], [0.8888888888888888, \"#fdca26\"], [1.0, \"#f0f921\"]], \"type\": \"heatmap\"}], \"heatmapgl\": [{\"colorbar\": {\"outlinewidth\": 0, \"ticks\": \"\"}, \"colorscale\": [[0.0, \"#0d0887\"], [0.1111111111111111, \"#46039f\"], [0.2222222222222222, \"#7201a8\"], [0.3333333333333333, \"#9c179e\"], [0.4444444444444444, \"#bd3786\"], [0.5555555555555556, \"#d8576b\"], [0.6666666666666666, \"#ed7953\"], [0.7777777777777778, \"#fb9f3a\"], [0.8888888888888888, \"#fdca26\"], [1.0, \"#f0f921\"]], \"type\": \"heatmapgl\"}], \"histogram\": [{\"marker\": {\"colorbar\": {\"outlinewidth\": 0, \"ticks\": \"\"}}, \"type\": \"histogram\"}], \"histogram2d\": [{\"colorbar\": {\"outlinewidth\": 0, \"ticks\": \"\"}, \"colorscale\": [[0.0, \"#0d0887\"], [0.1111111111111111, \"#46039f\"], [0.2222222222222222, \"#7201a8\"], [0.3333333333333333, \"#9c179e\"], [0.4444444444444444, \"#bd3786\"], [0.5555555555555556, \"#d8576b\"], [0.6666666666666666, \"#ed7953\"], [0.7777777777777778, \"#fb9f3a\"], [0.8888888888888888, \"#fdca26\"], [1.0, \"#f0f921\"]], \"type\": \"histogram2d\"}], \"histogram2dcontour\": [{\"colorbar\": {\"outlinewidth\": 0, \"ticks\": \"\"}, \"colorscale\": [[0.0, \"#0d0887\"], [0.1111111111111111, \"#46039f\"], [0.2222222222222222, \"#7201a8\"], [0.3333333333333333, \"#9c179e\"], [0.4444444444444444, \"#bd3786\"], [0.5555555555555556, \"#d8576b\"], [0.6666666666666666, \"#ed7953\"], [0.7777777777777778, \"#fb9f3a\"], [0.8888888888888888, \"#fdca26\"], [1.0, \"#f0f921\"]], \"type\": \"histogram2dcontour\"}], \"mesh3d\": [{\"colorbar\": {\"outlinewidth\": 0, \"ticks\": \"\"}, \"type\": \"mesh3d\"}], \"parcoords\": [{\"line\": {\"colorbar\": {\"outlinewidth\": 0, \"ticks\": \"\"}}, \"type\": \"parcoords\"}], \"pie\": [{\"automargin\": true, \"type\": \"pie\"}], \"scatter\": [{\"marker\": {\"colorbar\": {\"outlinewidth\": 0, \"ticks\": \"\"}}, \"type\": \"scatter\"}], \"scatter3d\": [{\"line\": {\"colorbar\": {\"outlinewidth\": 0, \"ticks\": \"\"}}, \"marker\": {\"colorbar\": {\"outlinewidth\": 0, \"ticks\": \"\"}}, \"type\": \"scatter3d\"}], \"scattercarpet\": [{\"marker\": {\"colorbar\": {\"outlinewidth\": 0, \"ticks\": \"\"}}, \"type\": \"scattercarpet\"}], \"scattergeo\": [{\"marker\": {\"colorbar\": {\"outlinewidth\": 0, \"ticks\": \"\"}}, \"type\": \"scattergeo\"}], \"scattergl\": [{\"marker\": {\"colorbar\": {\"outlinewidth\": 0, \"ticks\": \"\"}}, \"type\": \"scattergl\"}], \"scattermapbox\": [{\"marker\": {\"colorbar\": {\"outlinewidth\": 0, \"ticks\": \"\"}}, \"type\": \"scattermapbox\"}], \"scatterpolar\": [{\"marker\": {\"colorbar\": {\"outlinewidth\": 0, \"ticks\": \"\"}}, \"type\": \"scatterpolar\"}], \"scatterpolargl\": [{\"marker\": {\"colorbar\": {\"outlinewidth\": 0, \"ticks\": \"\"}}, \"type\": \"scatterpolargl\"}], \"scatterternary\": [{\"marker\": {\"colorbar\": {\"outlinewidth\": 0, \"ticks\": \"\"}}, \"type\": \"scatterternary\"}], \"surface\": [{\"colorbar\": {\"outlinewidth\": 0, \"ticks\": \"\"}, \"colorscale\": [[0.0, \"#0d0887\"], [0.1111111111111111, \"#46039f\"], [0.2222222222222222, \"#7201a8\"], [0.3333333333333333, \"#9c179e\"], [0.4444444444444444, \"#bd3786\"], [0.5555555555555556, \"#d8576b\"], [0.6666666666666666, \"#ed7953\"], [0.7777777777777778, \"#fb9f3a\"], [0.8888888888888888, \"#fdca26\"], [1.0, \"#f0f921\"]], \"type\": \"surface\"}], \"table\": [{\"cells\": {\"fill\": {\"color\": \"#EBF0F8\"}, \"line\": {\"color\": \"white\"}}, \"header\": {\"fill\": {\"color\": \"#C8D4E3\"}, \"line\": {\"color\": \"white\"}}, \"type\": \"table\"}]}, \"layout\": {\"annotationdefaults\": {\"arrowcolor\": \"#2a3f5f\", \"arrowhead\": 0, \"arrowwidth\": 1}, \"coloraxis\": {\"colorbar\": {\"outlinewidth\": 0, \"ticks\": \"\"}}, \"colorscale\": {\"diverging\": [[0, \"#8e0152\"], [0.1, \"#c51b7d\"], [0.2, \"#de77ae\"], [0.3, \"#f1b6da\"], [0.4, \"#fde0ef\"], [0.5, \"#f7f7f7\"], [0.6, \"#e6f5d0\"], [0.7, \"#b8e186\"], [0.8, \"#7fbc41\"], [0.9, \"#4d9221\"], [1, \"#276419\"]], \"sequential\": [[0.0, \"#0d0887\"], [0.1111111111111111, \"#46039f\"], [0.2222222222222222, \"#7201a8\"], [0.3333333333333333, \"#9c179e\"], [0.4444444444444444, \"#bd3786\"], [0.5555555555555556, \"#d8576b\"], [0.6666666666666666, \"#ed7953\"], [0.7777777777777778, \"#fb9f3a\"], [0.8888888888888888, \"#fdca26\"], [1.0, \"#f0f921\"]], \"sequentialminus\": [[0.0, \"#0d0887\"], [0.1111111111111111, \"#46039f\"], [0.2222222222222222, \"#7201a8\"], [0.3333333333333333, \"#9c179e\"], [0.4444444444444444, \"#bd3786\"], [0.5555555555555556, \"#d8576b\"], [0.6666666666666666, \"#ed7953\"], [0.7777777777777778, \"#fb9f3a\"], [0.8888888888888888, \"#fdca26\"], [1.0, \"#f0f921\"]]}, \"colorway\": [\"#636efa\", \"#EF553B\", \"#00cc96\", \"#ab63fa\", \"#FFA15A\", \"#19d3f3\", \"#FF6692\", \"#B6E880\", \"#FF97FF\", \"#FECB52\"], \"font\": {\"color\": \"#2a3f5f\"}, \"geo\": {\"bgcolor\": \"white\", \"lakecolor\": \"white\", \"landcolor\": \"#E5ECF6\", \"showlakes\": true, \"showland\": true, \"subunitcolor\": \"white\"}, \"hoverlabel\": {\"align\": \"left\"}, \"hovermode\": \"closest\", \"mapbox\": {\"style\": \"light\"}, \"paper_bgcolor\": \"white\", \"plot_bgcolor\": \"#E5ECF6\", \"polar\": {\"angularaxis\": {\"gridcolor\": \"white\", \"linecolor\": \"white\", \"ticks\": \"\"}, \"bgcolor\": \"#E5ECF6\", \"radialaxis\": {\"gridcolor\": \"white\", \"linecolor\": \"white\", \"ticks\": \"\"}}, \"scene\": {\"xaxis\": {\"backgroundcolor\": \"#E5ECF6\", \"gridcolor\": \"white\", \"gridwidth\": 2, \"linecolor\": \"white\", \"showbackground\": true, \"ticks\": \"\", \"zerolinecolor\": \"white\"}, \"yaxis\": {\"backgroundcolor\": \"#E5ECF6\", \"gridcolor\": \"white\", \"gridwidth\": 2, \"linecolor\": \"white\", \"showbackground\": true, \"ticks\": \"\", \"zerolinecolor\": \"white\"}, \"zaxis\": {\"backgroundcolor\": \"#E5ECF6\", \"gridcolor\": \"white\", \"gridwidth\": 2, \"linecolor\": \"white\", \"showbackground\": true, \"ticks\": \"\", \"zerolinecolor\": \"white\"}}, \"shapedefaults\": {\"line\": {\"color\": \"#2a3f5f\"}}, \"ternary\": {\"aaxis\": {\"gridcolor\": \"white\", \"linecolor\": \"white\", \"ticks\": \"\"}, \"baxis\": {\"gridcolor\": \"white\", \"linecolor\": \"white\", \"ticks\": \"\"}, \"bgcolor\": \"#E5ECF6\", \"caxis\": {\"gridcolor\": \"white\", \"linecolor\": \"white\", \"ticks\": \"\"}}, \"title\": {\"x\": 0.05}, \"xaxis\": {\"automargin\": true, \"gridcolor\": \"white\", \"linecolor\": \"white\", \"ticks\": \"\", \"title\": {\"standoff\": 15}, \"zerolinecolor\": \"white\", \"zerolinewidth\": 2}, \"yaxis\": {\"automargin\": true, \"gridcolor\": \"white\", \"linecolor\": \"white\", \"ticks\": \"\", \"title\": {\"standoff\": 15}, \"zerolinecolor\": \"white\", \"zerolinewidth\": 2}}}, \"title\": {\"text\": \"% of Pitchers Who Threw Each Pitch Type in 2021\"}, \"xaxis\": {\"anchor\": \"y\", \"categoryarray\": [\"Changeup\", \"Curveball\", \"Cutter\", \"Fourseam\", \"Slider\", \"Twoseam\"], \"categoryorder\": \"array\", \"domain\": [0.0, 1.0], \"title\": {\"text\": \"pitch_class\"}}, \"yaxis\": {\"anchor\": \"x\", \"domain\": [0.0, 1.0], \"title\": {\"text\": \"frequency\"}}},\n",
       "                        {\"responsive\": true}\n",
       "                    ).then(function(){\n",
       "                            \n",
       "var gd = document.getElementById('302ac140-f3c6-4809-b10a-64f0190894ad');\n",
       "var x = new MutationObserver(function (mutations, observer) {{\n",
       "        var display = window.getComputedStyle(gd).display;\n",
       "        if (!display || display === 'none') {{\n",
       "            console.log([gd, 'removed!']);\n",
       "            Plotly.purge(gd);\n",
       "            observer.disconnect();\n",
       "        }}\n",
       "}});\n",
       "\n",
       "// Listen for the removal of the full notebook cells\n",
       "var notebookContainer = gd.closest('#notebook-container');\n",
       "if (notebookContainer) {{\n",
       "    x.observe(notebookContainer, {childList: true});\n",
       "}}\n",
       "\n",
       "// Listen for the clearing of the current output cell\n",
       "var outputEl = gd.closest('.output');\n",
       "if (outputEl) {{\n",
       "    x.observe(outputEl, {childList: true});\n",
       "}}\n",
       "\n",
       "                        })\n",
       "                };\n",
       "                \n",
       "            </script>\n",
       "        </div>\n",
       "</body>\n",
       "</html>"
      ]
     },
     "metadata": {},
     "output_type": "display_data"
    }
   ],
   "source": [
    "# Calculate % of pitchers that throw each pitch type\n",
    "num_pitchers = len(statcast_df.query('game_year == 2021').pitcher.unique())\n",
    "\n",
    "pitchers_by_pitch_type = statcast_df.query('game_year == 2021').groupby(by=[\"pitch_class\"], as_index=False).agg(\n",
    "    **{\n",
    "       \"pitchers\": pd.NamedAgg(column=\"pitcher\", aggfunc=pd.Series.nunique)\n",
    "    }\n",
    ")\n",
    "\n",
    "pitchers_by_pitch_type[\"frequency\"] = pitchers_by_pitch_type[\"pitchers\"] / num_pitchers\n",
    "\n",
    "fig = px.bar(pitchers_by_pitch_type, x=\"pitch_class\", y=\"frequency\", color=\"pitch_class\", title=\"% of Pitchers Who Threw Each Pitch Type in 2021\")\n",
    "fig.show()\n"
   ]
  },
  {
   "cell_type": "markdown",
   "metadata": {
    "id": "UVLsztM38Gx_"
   },
   "source": [
    "#### Modify the on base features"
   ]
  },
  {
   "cell_type": "markdown",
   "metadata": {
    "id": "cXiJ16dVMWaA"
   },
   "source": [
    "The on base features in the data in the original data represent player ids, when there is a runner on the base and NaN if there is not a runner on. We will transform this feature to be an indicator if there is a runner on the base as the runner likely doesn't affect the pitch type."
   ]
  },
  {
   "cell_type": "code",
   "execution_count": null,
   "metadata": {
    "id": "-iVCEs8r6SUF"
   },
   "outputs": [],
   "source": [
    "# change the on base fields to indicators\n",
    "statcast_df['on_1b'] = np.where(statcast_df['on_1b'].isna(), 0, 1)\n",
    "statcast_df['on_2b'] = np.where(statcast_df['on_2b'].isna(), 0, 1)\n",
    "statcast_df['on_3b'] = np.where(statcast_df['on_3b'].isna(), 0, 1)"
   ]
  },
  {
   "cell_type": "markdown",
   "metadata": {
    "id": "jn39G9Yn4O1m"
   },
   "source": [
    "#### Remove at-bats with missing pitch type information"
   ]
  },
  {
   "cell_type": "markdown",
   "metadata": {
    "id": "aLSvqNYDbG_M"
   },
   "source": [
    "There are over 12000 pitches in the dataset which have a missing pitch type. There are also several other features in the dataset which are missing for certain pitch tracking measurements. We will remove at bats which are missing any pitch type information as the hypothesis is the pitch sequence information will be valuable to improve the model accuracy."
   ]
  },
  {
   "cell_type": "code",
   "execution_count": null,
   "metadata": {
    "id": "a5B3LqB1joDD"
   },
   "outputs": [],
   "source": [
    "# get game ids and at bats with missing data\n",
    "missing_pitch_type_removal = statcast_df[statcast_df['pitch_class'].isna()][['game_pk','at_bat_number']].drop_duplicates()\n",
    "\n",
    "# remove at bats from the data set with a missing pitch type\n",
    "statcast_df = statcast_df[~(statcast_df['at_bat_number'].isin(missing_pitch_type_removal['at_bat_number']) & \\\n",
    "                            statcast_df['game_pk'].isin(missing_pitch_type_removal['game_pk']))]"
   ]
  },
  {
   "cell_type": "markdown",
   "metadata": {
    "id": "n3m8cK5QcKF7"
   },
   "source": [
    "#### Create starting pitcher indicator feature"
   ]
  },
  {
   "cell_type": "code",
   "execution_count": null,
   "metadata": {
    "id": "AT6mpv7mcxtz"
   },
   "outputs": [],
   "source": [
    "home_starter = (statcast_df[(statcast_df['inning']==1) &\n",
    "                       (statcast_df['inning_topbot'] == 'Top')].groupby('game_pk')\n",
    "                       .head(n=1)\n",
    "                       .set_index('game_pk')['pitcher']\n",
    "           .rename('home_starter'))\n",
    "\n",
    "away_starter = (statcast_df[(statcast_df['inning']==1) &\n",
    "                       (statcast_df['inning_topbot'] == 'Top')].groupby('game_pk')\n",
    "                       .head(n=1)\n",
    "                       .set_index('game_pk')['pitcher']\n",
    "           .rename('away_starter'))"
   ]
  },
  {
   "cell_type": "code",
   "execution_count": null,
   "metadata": {
    "id": "cEXBJmR_cJPx"
   },
   "outputs": [],
   "source": [
    "home_starter = (statcast_df[(statcast_df['inning']==1) &\n",
    "                       (statcast_df['inning_topbot'] == 'Top')].groupby('game_pk')\n",
    "                       .head(n=1)\n",
    "                       .set_index('game_pk')['pitcher']\n",
    "           .rename('home_starter'))\n",
    "\n",
    "away_starter = (statcast_df[(statcast_df['inning']==1) &\n",
    "                       (statcast_df['inning_topbot'] == 'Top')].groupby('game_pk')\n",
    "                       .head(n=1)\n",
    "                       .set_index('game_pk')['pitcher']\n",
    "           .rename('away_starter'))\n",
    "\n",
    "starting_pitcher = home_starter.to_frame().join(away_starter, how='left', on='game_pk')\n",
    "\n",
    "statcast_df = statcast_df.join(starting_pitcher, on='game_pk', how='left')\n",
    "\n",
    "statcast_df['starter'] = ((statcast_df['pitcher'] == statcast_df['home_starter']) | (statcast_df['pitcher'] == statcast_df['away_starter']))\n",
    "\n",
    "statcast_df.drop(columns=['home_starter', 'away_starter'], inplace=True)"
   ]
  },
  {
   "cell_type": "markdown",
   "metadata": {
    "id": "0qYV1G6DkI3h"
   },
   "source": [
    "#### Previous pitch class pitcher statistics"
   ]
  },
  {
   "cell_type": "markdown",
   "metadata": {
    "id": "nPjykbyJkQGp"
   },
   "source": [
    "We are going to create features to get the mean of the pitch statistics going into the next pitch. These will be based on the last 50 pitches thrown by the pitcher for that pitch type. The pitcher needs a minimum of at least 1 pitch thrown for the pitch to calculate the mean."
   ]
  },
  {
   "cell_type": "code",
   "execution_count": null,
   "metadata": {
    "id": "rz8nDJvw3s7R"
   },
   "outputs": [],
   "source": [
    "# create strike percentage feature\n",
    "statcast_df['strike_per'] = statcast_df['description'].isin(['called_strike', 'foul', 'swinging_strike', 'hit_into_play'])\n",
    "\n",
    "# create whiff percentage feature\n",
    "statcast_df['whiff_per'] = np.where(statcast_df['description'].isin(['swinging_strike']), 1, np.where(statcast_df['description'].isin(['foul', 'hit_into_play']), 0, np.nan))"
   ]
  },
  {
   "cell_type": "code",
   "execution_count": null,
   "metadata": {
    "id": "BOQsosJVhIg5"
   },
   "outputs": [],
   "source": [
    "pitch_stat_cols = [# pitch speed\n",
    "                  'release_speed',\n",
    "\n",
    "                  # pitch release spin\n",
    "                  'release_spin_rate',\n",
    "                   \n",
    "                   # strike percentage\n",
    "                   'strike_per',\n",
    "\n",
    "                   # whiff percentage\n",
    "                   'whiff_per',\n",
    "\n",
    "                   # woba value\n",
    "                   'woba_value'\n",
    "                   ]\n",
    "\n",
    "# Sort dataframe by date, game, at bat number\n",
    "statcast_df = statcast_df.sort_values([\"game_date\", \"game_pk\", \"at_bat_number\", \"pitch_number\"], ascending = (True, True, True, True))\n",
    "\n",
    "# set the pitch unique id\n",
    "statcast_df['pitch_id'] = statcast_df[\"game_date\"].astype(str) + \"_\" + statcast_df[\"game_pk\"].astype(int).astype(str) + \"_\" + statcast_df[\"at_bat_number\"].astype(int).astype(str) + \"_\" + statcast_df[\"pitch_number\"].astype(int).astype(str)\n",
    "\n",
    "# set the index\n",
    "statcast_df.set_index('pitch_id', inplace=True)\n",
    "\n",
    "# group\n",
    "rolling_pitch_affects = (statcast_df.groupby(['pitcher', 'game_year', 'pitch_class'])[pitch_stat_cols].rolling(window=50, min_periods=1))"
   ]
  },
  {
   "cell_type": "code",
   "execution_count": null,
   "metadata": {
    "id": "q4J10iVTj_T8"
   },
   "outputs": [],
   "source": [
    "# calculate the rolling 50 pitch statistics by pitcher and pitch class\n",
    "rolling_pitch_affects_means = rolling_pitch_affects.mean().fillna(0)\n",
    "\n",
    "# pivot the data so that it is in wide format for these statistics\n",
    "rolling_pitch_affects_means = rolling_pitch_affects_means.unstack(level=2)\n",
    "\n",
    "# rename the columns\n",
    "rolling_pitch_affects_means = (rolling_pitch_affects_means.set_axis([f\"{y}_{x}_m\" for x, y in rolling_pitch_affects_means.columns],\n",
    "                                                                    axis=1, inplace=False)\n",
    "                        .reset_index()\n",
    "                        .set_index('pitch_id'))\n",
    "\n",
    "rolling_pitch_affects_means = rolling_pitch_affects_means.drop(['pitcher', 'game_year'], axis=1)\n",
    "\n",
    "# merge the previous 50 pitch stats with data\n",
    "statcast_df = statcast_df.merge(rolling_pitch_affects_means, left_index=True, right_index=True)"
   ]
  },
  {
   "cell_type": "code",
   "execution_count": null,
   "metadata": {
    "colab": {
     "background_save": true
    },
    "id": "8I3J3vUH2T37"
   },
   "outputs": [],
   "source": [
    "pitch_stat_cols = [\n",
    "'Changeup_release_speed_m',\n",
    "'Curveball_release_speed_m',\n",
    "'Cutter_release_speed_m',\n",
    "'Fourseam_release_speed_m',\n",
    "'Slider_release_speed_m',\n",
    "'Twoseam_release_speed_m',\n",
    "'Changeup_release_spin_rate_m',\n",
    "'Curveball_release_spin_rate_m',\n",
    "'Cutter_release_spin_rate_m',\n",
    "'Fourseam_release_spin_rate_m',\n",
    "'Slider_release_spin_rate_m',\n",
    "'Twoseam_release_spin_rate_m',\n",
    "'Changeup_strike_per_m',\n",
    "'Curveball_strike_per_m',\n",
    "'Cutter_strike_per_m',\n",
    "'Fourseam_strike_per_m',\n",
    "'Slider_strike_per_m',\n",
    "'Twoseam_strike_per_m',\n",
    "'Changeup_whiff_per_m',\n",
    "'Curveball_whiff_per_m',\n",
    "'Cutter_whiff_per_m',\n",
    "'Fourseam_whiff_per_m',\n",
    "'Slider_whiff_per_m',\n",
    "'Twoseam_whiff_per_m',\n",
    "'Changeup_woba_value_m',\n",
    "'Curveball_woba_value_m',\n",
    "'Cutter_woba_value_m',\n",
    "'Fourseam_woba_value_m',\n",
    "'Slider_woba_value_m',\n",
    "'Twoseam_woba_value_m']\n",
    "\n",
    "# iterating the columns and doing a forward fill of the last 50 pitches results for each pitch type\n",
    "for i in pitch_stat_cols:\n",
    "    statcast_df[i] = statcast_df.groupby('pitcher')[i].transform(lambda x: x.ffill())\n",
    "    statcast_df[i] = statcast_df[i].fillna(0) # replace a missing value with 0"
   ]
  },
  {
   "cell_type": "code",
   "execution_count": null,
   "metadata": {
    "colab": {
     "background_save": true
    },
    "id": "Qxy7pDYTa3m_"
   },
   "outputs": [],
   "source": [
    "# Repeat process for batter stats columns\n",
    "bat_stat_cols = [# whiff percentage\n",
    "                   'whiff_per',\n",
    "\n",
    "                   # woba value\n",
    "                   'woba_value'\n",
    "                   ]\n",
    "\n",
    "# group\n",
    "rolling_bat_affects = (statcast_df.groupby(['batter', 'game_year', 'pitch_class'])[bat_stat_cols].rolling(window=50, min_periods=1))\n",
    "\n",
    "# calculate the rolling 50 pitch statistics by batter and pitch class\n",
    "rolling_bat_affects_means = rolling_bat_affects.mean().fillna(0)\n",
    "\n",
    "# pivot the data so that it is in wide format for these statistics\n",
    "rolling_bat_affects_means = rolling_bat_affects_means.unstack(level=2)\n",
    "\n",
    "# rename the columns\n",
    "rolling_bat_affects_means = (rolling_bat_affects_means.set_axis([f\"batter_{y}_{x}_m\" for x, y in rolling_bat_affects_means.columns],\n",
    "                                                                    axis=1, inplace=False)\n",
    "                        .reset_index()\n",
    "                        .set_index('pitch_id'))\n",
    "\n",
    "rolling_bat_affects_means = rolling_bat_affects_means.drop(['batter', 'game_year'], axis=1)\n",
    "\n",
    "# merge the previous 50 pitch stats with data\n",
    "statcast_df = statcast_df.merge(rolling_bat_affects_means, left_index=True, right_index=True)"
   ]
  },
  {
   "cell_type": "code",
   "execution_count": null,
   "metadata": {
    "colab": {
     "background_save": true
    },
    "id": "CLe2vowhcvpL"
   },
   "outputs": [],
   "source": [
    "bat_stat_cols = [\n",
    "'batter_Changeup_whiff_per_m',\n",
    "'batter_Curveball_whiff_per_m',\n",
    "'batter_Cutter_whiff_per_m',\n",
    "'batter_Fourseam_whiff_per_m',\n",
    "'batter_Slider_whiff_per_m',\n",
    "'batter_Twoseam_whiff_per_m',\n",
    "'batter_Changeup_woba_value_m',\n",
    "'batter_Curveball_woba_value_m',\n",
    "'batter_Cutter_woba_value_m',\n",
    "'batter_Fourseam_woba_value_m',\n",
    "'batter_Slider_woba_value_m',\n",
    "'batter_Twoseam_woba_value_m']\n",
    "\n",
    "# iterating the columns and doing a forward fill of the last 50 pitches results for each pitch type\n",
    "for i in bat_stat_cols:\n",
    "    statcast_df[i] = statcast_df.groupby('batter')[i].transform(lambda x: x.ffill())\n",
    "    statcast_df[i] = statcast_df[i].fillna(0) # replace a missing value with 0"
   ]
  },
  {
   "cell_type": "markdown",
   "metadata": {
    "id": "H3hWGwu5kIEx"
   },
   "source": [
    "Calculate the number of times the pitcher has faced that batter in the current game. Often, the pitcher will try not to throw too many of the same pitch class to the same batter, as there is a negative correlation with performance."
   ]
  },
  {
   "cell_type": "code",
   "execution_count": null,
   "metadata": {
    "colab": {
     "background_save": true
    },
    "id": "JdG5eto6kGID"
   },
   "outputs": [],
   "source": [
    "# calculate number of times the pitcher has faced that batter in the current game\n",
    "statcast_df[\"tto\"] = statcast_df.groupby([\"game_pk\", \"pitcher\", \"batter\"])[\"at_bat_number\"].rank(\"dense\", ascending=True)"
   ]
  },
  {
   "cell_type": "markdown",
   "metadata": {
    "id": "QOJBKMXD2XDT"
   },
   "source": [
    "#### Create previous pitch selection by pitcher features"
   ]
  },
  {
   "cell_type": "markdown",
   "metadata": {
    "id": "ZMUGWUK2WM8t"
   },
   "source": [
    "The identity of the pitcher will be another factor in predicting pitch type, as not every pitcher throws every pitch type. Each pitcher has their own unique arsenal, which consists of a subset of pitch types. 75% of pitchers do not throw a cutter, therefore that target option can all but be eliminated for those pitchers when predicting pitch type. We will calculate several features to calculate the pitchers pitch type selection for the previous 100 pitches, and the previous 1000 pitches. The pitcher historical pitch probabilities for at bats where the pitcher does not have at least 100 or 1000 pitches respectively thrown will be imputed with the previous MLB season average pitch probabilities."
   ]
  },
  {
   "cell_type": "code",
   "execution_count": null,
   "metadata": {
    "colab": {
     "background_save": true
    },
    "id": "GYsqKEFuTd8r"
   },
   "outputs": [],
   "source": [
    "# Create OHE for pitch class\n",
    "temp = statcast_df['pitch_class']\n",
    "statcast_df['pitch_class'] = statcast_df['pitch_class'].str.lower()\n",
    "statcast_df = pd.get_dummies(statcast_df, columns=['pitch_class'], dtype=float)\n",
    "statcast_df['pitch_class'] = temp"
   ]
  },
  {
   "cell_type": "code",
   "execution_count": null,
   "metadata": {
    "colab": {
     "background_save": true
    },
    "id": "LYt0MLNY3Jr5"
   },
   "outputs": [],
   "source": [
    "# Calculate rolling 30-pitch pitch type usage for each pitcher\n",
    "statcast_df['recent_fourseam_usage'] = statcast_df.groupby('pitcher')['pitch_class_fourseam'].transform(lambda x: x.rolling(30, 5).mean())\n",
    "statcast_df['recent_twoseam_usage'] = statcast_df.groupby('pitcher')['pitch_class_twoseam'].transform(lambda x: x.rolling(30, 5).mean())\n",
    "statcast_df['recent_cutter_usage'] = statcast_df.groupby('pitcher')['pitch_class_cutter'].transform(lambda x: x.rolling(30, 5).mean())\n",
    "statcast_df['recent_slider_usage'] = statcast_df.groupby('pitcher')['pitch_class_slider'].transform(lambda x: x.rolling(30, 5).mean())\n",
    "statcast_df['recent_curveball_usage'] = statcast_df.groupby('pitcher')['pitch_class_curveball'].transform(lambda x: x.rolling(30, 5).mean())\n",
    "statcast_df['recent_changeup_usage'] = statcast_df.groupby('pitcher')['pitch_class_changeup'].transform(lambda x: x.rolling(30, 5).mean())\n",
    "\n",
    "# need to shift the rolling means by 1 pitch so that the current pitch is not included in the rolling mean\n",
    "statcast_df['recent_fourseam_usage'] = statcast_df.groupby(['pitcher'])['recent_fourseam_usage'].shift(1)\n",
    "statcast_df['recent_twoseam_usage'] = statcast_df.groupby(['pitcher'])['recent_twoseam_usage'].shift(1)\n",
    "statcast_df['recent_cutter_usage'] = statcast_df.groupby(['pitcher'])['recent_cutter_usage'].shift(1)\n",
    "statcast_df['recent_slider_usage'] = statcast_df.groupby(['pitcher'])['recent_slider_usage'].shift(1)\n",
    "statcast_df['recent_curveball_usage'] = statcast_df.groupby(['pitcher'])['recent_curveball_usage'].shift(1)\n",
    "statcast_df['recent_changeup_usage'] = statcast_df.groupby(['pitcher'])['recent_changeup_usage'].shift(1)"
   ]
  },
  {
   "cell_type": "code",
   "execution_count": null,
   "metadata": {
    "colab": {
     "background_save": true
    },
    "id": "5a9eNFzV3W6q"
   },
   "outputs": [],
   "source": [
    "# Calculate rolling 100-pitch pitch type usage for each pitcher\n",
    "statcast_df['long_term_fourseam_usage'] = statcast_df.groupby('pitcher')['pitch_class_fourseam'].transform(lambda x: x.rolling(100, 10).mean())\n",
    "statcast_df['long_term_twoseam_usage'] = statcast_df.groupby('pitcher')['pitch_class_twoseam'].transform(lambda x: x.rolling(100, 10).mean())\n",
    "statcast_df['long_term_cutter_usage'] = statcast_df.groupby('pitcher')['pitch_class_cutter'].transform(lambda x: x.rolling(100, 10).mean())\n",
    "statcast_df['long_term_slider_usage'] = statcast_df.groupby('pitcher')['pitch_class_slider'].transform(lambda x: x.rolling(100, 10).mean())\n",
    "statcast_df['long_term_curveball_usage'] = statcast_df.groupby('pitcher')['pitch_class_curveball'].transform(lambda x: x.rolling(100, 10).mean())\n",
    "statcast_df['long_term_changeup_usage'] = statcast_df.groupby('pitcher')['pitch_class_changeup'].transform(lambda x: x.rolling(100, 10).mean())\n",
    "\n",
    "# need to shift the rolling means by 1 pitch so that the current pitch is not included in the rolling mean\n",
    "statcast_df['long_term_fourseam_usage'] = statcast_df.groupby(['pitcher'])['long_term_fourseam_usage'].shift(1)\n",
    "statcast_df['long_term_twoseam_usage'] = statcast_df.groupby(['pitcher'])['long_term_twoseam_usage'].shift(1)\n",
    "statcast_df['long_term_cutter_usage'] = statcast_df.groupby(['pitcher'])['long_term_cutter_usage'].shift(1)\n",
    "statcast_df['long_term_slider_usage'] = statcast_df.groupby(['pitcher'])['long_term_slider_usage'].shift(1)\n",
    "statcast_df['long_term_curveball_usage'] = statcast_df.groupby(['pitcher'])['long_term_curveball_usage'].shift(1)\n",
    "statcast_df['long_term_changeup_usage'] = statcast_df.groupby(['pitcher'])['long_term_changeup_usage'].shift(1)"
   ]
  },
  {
   "cell_type": "code",
   "execution_count": null,
   "metadata": {
    "colab": {
     "background_save": true
    },
    "id": "nD4qzuQ8PJEa"
   },
   "outputs": [],
   "source": [
    "# Calculate league average usage rates from the previous season\n",
    "season_average_usage = pd.DataFrame()\n",
    "season_average_usage['lg_avg_fourseam'] = statcast_df.groupby('game_year')['pitch_class_fourseam'].mean()\n",
    "season_average_usage['lg_avg_twoseam'] = statcast_df.groupby('game_year')['pitch_class_twoseam'].mean()\n",
    "season_average_usage['lg_avg_cutter'] = statcast_df.groupby('game_year')['pitch_class_cutter'].mean()\n",
    "season_average_usage['lg_avg_slider'] = statcast_df.groupby('game_year')['pitch_class_slider'].mean()\n",
    "season_average_usage['lg_avg_curveball'] = statcast_df.groupby('game_year')['pitch_class_curveball'].mean()\n",
    "season_average_usage['lg_avg_changeup'] = statcast_df.groupby('game_year')['pitch_class_changeup'].mean()\n",
    "season_average_usage = season_average_usage.reset_index()\n",
    "\n",
    "season_average_usage['game_year'] = season_average_usage['game_year'] + 1\n",
    "\n",
    "statcast_df = statcast_df.merge(season_average_usage, left_on = 'game_year', right_on = 'game_year', how = 'left')"
   ]
  },
  {
   "cell_type": "code",
   "execution_count": null,
   "metadata": {
    "colab": {
     "background_save": true
    },
    "id": "PuMH8pX0uFQ4"
   },
   "outputs": [],
   "source": [
    "# Impute missing values in rolling averages with league average usage rates from the previous season\n",
    "statcast_df['recent_fourseam_usage'] = np.where(np.isnan(statcast_df['recent_fourseam_usage']) == True, statcast_df['lg_avg_fourseam'], statcast_df['recent_fourseam_usage'])\n",
    "statcast_df['recent_twoseam_usage'] = np.where(np.isnan(statcast_df['recent_twoseam_usage']) == True, statcast_df['lg_avg_twoseam'], statcast_df['recent_twoseam_usage'])\n",
    "statcast_df['recent_cutter_usage'] = np.where(np.isnan(statcast_df['recent_cutter_usage']) == True, statcast_df['lg_avg_cutter'], statcast_df['recent_cutter_usage'])\n",
    "statcast_df['recent_slider_usage'] = np.where(np.isnan(statcast_df['recent_slider_usage']) == True, statcast_df['lg_avg_slider'], statcast_df['recent_slider_usage'])\n",
    "statcast_df['recent_curveball_usage'] = np.where(np.isnan(statcast_df['recent_curveball_usage']) == True, statcast_df['lg_avg_curveball'], statcast_df['recent_curveball_usage'])\n",
    "statcast_df['recent_changeup_usage'] = np.where(np.isnan(statcast_df['recent_changeup_usage']) == True, statcast_df['lg_avg_changeup'], statcast_df['recent_changeup_usage'])\n",
    "\n",
    "statcast_df['long_term_fourseam_usage'] = np.where(np.isnan(statcast_df['long_term_fourseam_usage']) == True, statcast_df['lg_avg_fourseam'], statcast_df['long_term_fourseam_usage'])\n",
    "statcast_df['long_term_twoseam_usage'] = np.where(np.isnan(statcast_df['long_term_twoseam_usage']) == True, statcast_df['lg_avg_twoseam'], statcast_df['long_term_twoseam_usage'])\n",
    "statcast_df['long_term_cutter_usage'] = np.where(np.isnan(statcast_df['long_term_cutter_usage']) == True, statcast_df['lg_avg_cutter'], statcast_df['long_term_cutter_usage'])\n",
    "statcast_df['long_term_slider_usage'] = np.where(np.isnan(statcast_df['long_term_slider_usage']) == True, statcast_df['lg_avg_slider'], statcast_df['long_term_slider_usage'])\n",
    "statcast_df['long_term_curveball_usage'] = np.where(np.isnan(statcast_df['long_term_curveball_usage']) == True, statcast_df['lg_avg_curveball'], statcast_df['long_term_curveball_usage'])\n",
    "statcast_df['long_term_changeup_usage'] = np.where(np.isnan(statcast_df['long_term_changeup_usage']) == True, statcast_df['lg_avg_changeup'], statcast_df['long_term_changeup_usage'])"
   ]
  },
  {
   "cell_type": "markdown",
   "metadata": {
    "id": "_kqPzdu-Of-A"
   },
   "source": [
    "#### Incorporating previous pitch results with current game state"
   ]
  },
  {
   "cell_type": "markdown",
   "metadata": {
    "id": "XdmSLduFU9Ds"
   },
   "source": [
    "The results from the previous pitches within the at-bat may influence the next pitches thrown. We will need to append the previous pitch result in the game to the game state of the pitch we are trying to predict."
   ]
  },
  {
   "cell_type": "markdown",
   "metadata": {
    "id": "5q5uzpYL8URA"
   },
   "source": [
    "##### Split the current game state features and the previous pitch result features"
   ]
  },
  {
   "cell_type": "markdown",
   "metadata": {
    "id": "iMUnr-f5KM70"
   },
   "source": [
    "Let's start by specifying the columns from the original statcast data we need "
   ]
  },
  {
   "cell_type": "code",
   "execution_count": null,
   "metadata": {
    "colab": {
     "background_save": true
    },
    "id": "EWV_cqlnuSSD"
   },
   "outputs": [],
   "source": [
    "##### Select columns of interest ----\n",
    "\n",
    "# features contain information about the pitch event in the game\n",
    "prev_columns = ['game_pk',\n",
    "                'pitch_number',\n",
    "                'at_bat_number',\n",
    "                \n",
    "                # target\n",
    "                'pitch_class', \n",
    "           \n",
    "                # pitch speed\n",
    "                'release_speed',\n",
    "                'effective_speed',\n",
    "                \n",
    "                # pitch release position\n",
    "                'release_pos_x',\n",
    "                'release_pos_y',\n",
    "                'release_pos_z',\n",
    "                \n",
    "                # pitch velocity\n",
    "                'vx0',\n",
    "                'vy0',\n",
    "                'vz0',\n",
    "                \n",
    "                # pitch acceleration\n",
    "                'ax',\n",
    "                'ay',\n",
    "                'az',\n",
    "                \n",
    "                # pitch movement\n",
    "                'pfx_x',\n",
    "                'pfx_z',\n",
    "                \n",
    "                # pitch release spin\n",
    "                'release_spin_rate',\n",
    "                'release_extension',\n",
    "                'spin_axis',\n",
    "                \n",
    "                # where crosses plate\n",
    "                'zone',\n",
    "                'plate_x',\n",
    "                'plate_z',\n",
    "                \n",
    "                # pitch events\n",
    "                'type',\n",
    "                'events',\n",
    "                'description',\n",
    "                'bb_type',\n",
    "                \n",
    "                # hit location\n",
    "                'hc_x',\n",
    "                'hc_y',\n",
    "                'hit_distance_sc',\n",
    "                'launch_speed_angle'\n",
    "      ]\n",
    "\n",
    "# features contain information about the current game situation\n",
    "game_state_columns = [# target\n",
    "                      'pitch_class',\n",
    "                      'batter',\n",
    "                      'pitcher',\n",
    "                      'starter',\n",
    "                      'recent_fourseam_usage',\n",
    "                      'recent_twoseam_usage',\n",
    "                      'recent_cutter_usage',\n",
    "                      'recent_slider_usage',\n",
    "                      'recent_curveball_usage',\n",
    "                      'recent_changeup_usage',\n",
    "                      'long_term_fourseam_usage',\n",
    "                      'long_term_twoseam_usage',\n",
    "                      'long_term_cutter_usage',\n",
    "                      'long_term_slider_usage',\n",
    "                      'long_term_curveball_usage',\n",
    "                      'long_term_changeup_usage',\n",
    "                      'Changeup_release_speed_m',\n",
    "                      'Curveball_release_speed_m',\n",
    "                      'Cutter_release_speed_m',\n",
    "                      'Fourseam_release_speed_m',\n",
    "                      'Slider_release_speed_m',\n",
    "                      'Twoseam_release_speed_m',\n",
    "                      'Changeup_release_spin_rate_m',\n",
    "                      'Curveball_release_spin_rate_m',\n",
    "                      'Cutter_release_spin_rate_m',\n",
    "                      'Fourseam_release_spin_rate_m',\n",
    "                      'Slider_release_spin_rate_m',\n",
    "                      'Twoseam_release_spin_rate_m',\n",
    "                      'Changeup_strike_per_m',\n",
    "                      'Curveball_strike_per_m',\n",
    "                      'Cutter_strike_per_m',\n",
    "                      'Fourseam_strike_per_m',\n",
    "                      'Slider_strike_per_m',\n",
    "                      'Twoseam_strike_per_m',\n",
    "                      'Changeup_whiff_per_m',\n",
    "                      'Curveball_whiff_per_m',\n",
    "                      'Cutter_whiff_per_m',\n",
    "                      'Fourseam_whiff_per_m',\n",
    "                      'Slider_whiff_per_m',\n",
    "                      'Twoseam_whiff_per_m',\n",
    "                      'Changeup_woba_value_m',\n",
    "                      'Curveball_woba_value_m',\n",
    "                      'Cutter_woba_value_m',\n",
    "                      'Fourseam_woba_value_m',\n",
    "                      'Slider_woba_value_m',\n",
    "                      'Twoseam_woba_value_m',\n",
    "                      'batter_Changeup_whiff_per_m',\n",
    "                      'batter_Curveball_whiff_per_m',\n",
    "                      'batter_Cutter_whiff_per_m',\n",
    "                      'batter_Fourseam_whiff_per_m',\n",
    "                      'batter_Slider_whiff_per_m',\n",
    "                      'batter_Twoseam_whiff_per_m',\n",
    "                      'batter_Changeup_woba_value_m',\n",
    "                      'batter_Curveball_woba_value_m',\n",
    "                      'batter_Cutter_woba_value_m',\n",
    "                      'batter_Fourseam_woba_value_m',\n",
    "                      'batter_Slider_woba_value_m',\n",
    "                      'batter_Twoseam_woba_value_m',\n",
    "                      'inning',\n",
    "                      'inning_topbot',\n",
    "                      'outs_when_up',\n",
    "                      'bat_score',\n",
    "                      'fld_score',\n",
    "                      'count',\n",
    "                      'stand',\n",
    "                      'p_throws',\n",
    "                      'on_1b',\n",
    "                      'on_2b',\n",
    "                      'on_3b',\n",
    "                      'game_pk',\n",
    "                      'pitch_number',\n",
    "                      'at_bat_number',\n",
    "                      'tto',\n",
    "                      'game_year']"
   ]
  },
  {
   "cell_type": "code",
   "execution_count": null,
   "metadata": {
    "colab": {
     "background_save": true
    },
    "id": "05BlhEHg1Gf3"
   },
   "outputs": [],
   "source": [
    "# split the data set into the game state features and the results of the previous pitch\n",
    "game_state_statcast_df = statcast_df[game_state_columns].sort_values(['game_pk','at_bat_number','pitch_number'])\n",
    "prev_pitch_statcast_df = statcast_df[prev_columns].sort_values(['game_pk','at_bat_number','pitch_number'])"
   ]
  },
  {
   "cell_type": "code",
   "execution_count": null,
   "metadata": {
    "colab": {
     "background_save": true
    },
    "id": "AuFTjRS7n6BJ",
    "outputId": "3b6efd55-13b9-46aa-ab52-e7b05249bd10"
   },
   "outputs": [
    {
     "data": {
      "text/html": [
       "<div>\n",
       "<style scoped>\n",
       "    .dataframe tbody tr th:only-of-type {\n",
       "        vertical-align: middle;\n",
       "    }\n",
       "\n",
       "    .dataframe tbody tr th {\n",
       "        vertical-align: top;\n",
       "    }\n",
       "\n",
       "    .dataframe thead th {\n",
       "        text-align: right;\n",
       "    }\n",
       "</style>\n",
       "<table border=\"1\" class=\"dataframe\">\n",
       "  <thead>\n",
       "    <tr style=\"text-align: right;\">\n",
       "      <th></th>\n",
       "      <th>Percent</th>\n",
       "      <th>Train Missing Count</th>\n",
       "    </tr>\n",
       "  </thead>\n",
       "  <tbody>\n",
       "    <tr>\n",
       "      <th>long_term_twoseam_usage</th>\n",
       "      <td>0.22000</td>\n",
       "      <td>7066</td>\n",
       "    </tr>\n",
       "    <tr>\n",
       "      <th>long_term_fourseam_usage</th>\n",
       "      <td>0.22000</td>\n",
       "      <td>7066</td>\n",
       "    </tr>\n",
       "    <tr>\n",
       "      <th>long_term_curveball_usage</th>\n",
       "      <td>0.22000</td>\n",
       "      <td>7066</td>\n",
       "    </tr>\n",
       "    <tr>\n",
       "      <th>long_term_slider_usage</th>\n",
       "      <td>0.22000</td>\n",
       "      <td>7066</td>\n",
       "    </tr>\n",
       "    <tr>\n",
       "      <th>long_term_cutter_usage</th>\n",
       "      <td>0.22000</td>\n",
       "      <td>7066</td>\n",
       "    </tr>\n",
       "    <tr>\n",
       "      <th>long_term_changeup_usage</th>\n",
       "      <td>0.22000</td>\n",
       "      <td>7066</td>\n",
       "    </tr>\n",
       "    <tr>\n",
       "      <th>recent_twoseam_usage</th>\n",
       "      <td>0.11000</td>\n",
       "      <td>3543</td>\n",
       "    </tr>\n",
       "    <tr>\n",
       "      <th>recent_cutter_usage</th>\n",
       "      <td>0.11000</td>\n",
       "      <td>3543</td>\n",
       "    </tr>\n",
       "    <tr>\n",
       "      <th>recent_curveball_usage</th>\n",
       "      <td>0.11000</td>\n",
       "      <td>3543</td>\n",
       "    </tr>\n",
       "    <tr>\n",
       "      <th>recent_changeup_usage</th>\n",
       "      <td>0.11000</td>\n",
       "      <td>3543</td>\n",
       "    </tr>\n",
       "    <tr>\n",
       "      <th>recent_fourseam_usage</th>\n",
       "      <td>0.11000</td>\n",
       "      <td>3543</td>\n",
       "    </tr>\n",
       "    <tr>\n",
       "      <th>recent_slider_usage</th>\n",
       "      <td>0.11000</td>\n",
       "      <td>3543</td>\n",
       "    </tr>\n",
       "  </tbody>\n",
       "</table>\n",
       "</div>"
      ],
      "text/plain": [
       "                           Percent  Train Missing Count\n",
       "long_term_twoseam_usage    0.22000                 7066\n",
       "long_term_fourseam_usage   0.22000                 7066\n",
       "long_term_curveball_usage  0.22000                 7066\n",
       "long_term_slider_usage     0.22000                 7066\n",
       "long_term_cutter_usage     0.22000                 7066\n",
       "long_term_changeup_usage   0.22000                 7066\n",
       "recent_twoseam_usage       0.11000                 3543\n",
       "recent_cutter_usage        0.11000                 3543\n",
       "recent_curveball_usage     0.11000                 3543\n",
       "recent_changeup_usage      0.11000                 3543\n",
       "recent_fourseam_usage      0.11000                 3543\n",
       "recent_slider_usage        0.11000                 3543"
      ]
     },
     "metadata": {},
     "output_type": "display_data"
    },
    {
     "data": {
      "text/html": [
       "<div>\n",
       "<style scoped>\n",
       "    .dataframe tbody tr th:only-of-type {\n",
       "        vertical-align: middle;\n",
       "    }\n",
       "\n",
       "    .dataframe tbody tr th {\n",
       "        vertical-align: top;\n",
       "    }\n",
       "\n",
       "    .dataframe thead th {\n",
       "        text-align: right;\n",
       "    }\n",
       "</style>\n",
       "<table border=\"1\" class=\"dataframe\">\n",
       "  <thead>\n",
       "    <tr style=\"text-align: right;\">\n",
       "      <th></th>\n",
       "      <th>Percent</th>\n",
       "      <th>Train Missing Count</th>\n",
       "    </tr>\n",
       "  </thead>\n",
       "  <tbody>\n",
       "    <tr>\n",
       "      <th>launch_speed_angle</th>\n",
       "      <td>82.72000</td>\n",
       "      <td>2678175</td>\n",
       "    </tr>\n",
       "    <tr>\n",
       "      <th>hc_y</th>\n",
       "      <td>82.59000</td>\n",
       "      <td>2674089</td>\n",
       "    </tr>\n",
       "    <tr>\n",
       "      <th>hc_x</th>\n",
       "      <td>82.59000</td>\n",
       "      <td>2674089</td>\n",
       "    </tr>\n",
       "    <tr>\n",
       "      <th>bb_type</th>\n",
       "      <td>82.47000</td>\n",
       "      <td>2670304</td>\n",
       "    </tr>\n",
       "    <tr>\n",
       "      <th>events</th>\n",
       "      <td>74.39000</td>\n",
       "      <td>2408420</td>\n",
       "    </tr>\n",
       "    <tr>\n",
       "      <th>hit_distance_sc</th>\n",
       "      <td>73.05000</td>\n",
       "      <td>2365257</td>\n",
       "    </tr>\n",
       "    <tr>\n",
       "      <th>spin_axis</th>\n",
       "      <td>12.09000</td>\n",
       "      <td>391462</td>\n",
       "    </tr>\n",
       "    <tr>\n",
       "      <th>release_spin_rate</th>\n",
       "      <td>2.63000</td>\n",
       "      <td>85177</td>\n",
       "    </tr>\n",
       "    <tr>\n",
       "      <th>release_extension</th>\n",
       "      <td>0.59000</td>\n",
       "      <td>19070</td>\n",
       "    </tr>\n",
       "    <tr>\n",
       "      <th>effective_speed</th>\n",
       "      <td>0.48000</td>\n",
       "      <td>15695</td>\n",
       "    </tr>\n",
       "    <tr>\n",
       "      <th>release_speed</th>\n",
       "      <td>0.43000</td>\n",
       "      <td>13931</td>\n",
       "    </tr>\n",
       "    <tr>\n",
       "      <th>vy0</th>\n",
       "      <td>0.43000</td>\n",
       "      <td>13900</td>\n",
       "    </tr>\n",
       "    <tr>\n",
       "      <th>vx0</th>\n",
       "      <td>0.43000</td>\n",
       "      <td>13900</td>\n",
       "    </tr>\n",
       "    <tr>\n",
       "      <th>release_pos_y</th>\n",
       "      <td>0.43000</td>\n",
       "      <td>13900</td>\n",
       "    </tr>\n",
       "    <tr>\n",
       "      <th>release_pos_z</th>\n",
       "      <td>0.43000</td>\n",
       "      <td>13900</td>\n",
       "    </tr>\n",
       "    <tr>\n",
       "      <th>ax</th>\n",
       "      <td>0.43000</td>\n",
       "      <td>13900</td>\n",
       "    </tr>\n",
       "    <tr>\n",
       "      <th>release_pos_x</th>\n",
       "      <td>0.43000</td>\n",
       "      <td>13900</td>\n",
       "    </tr>\n",
       "    <tr>\n",
       "      <th>vz0</th>\n",
       "      <td>0.43000</td>\n",
       "      <td>13900</td>\n",
       "    </tr>\n",
       "    <tr>\n",
       "      <th>pfx_x</th>\n",
       "      <td>0.43000</td>\n",
       "      <td>13900</td>\n",
       "    </tr>\n",
       "    <tr>\n",
       "      <th>ay</th>\n",
       "      <td>0.43000</td>\n",
       "      <td>13900</td>\n",
       "    </tr>\n",
       "    <tr>\n",
       "      <th>az</th>\n",
       "      <td>0.43000</td>\n",
       "      <td>13900</td>\n",
       "    </tr>\n",
       "    <tr>\n",
       "      <th>pfx_z</th>\n",
       "      <td>0.43000</td>\n",
       "      <td>13900</td>\n",
       "    </tr>\n",
       "    <tr>\n",
       "      <th>zone</th>\n",
       "      <td>0.43000</td>\n",
       "      <td>13900</td>\n",
       "    </tr>\n",
       "    <tr>\n",
       "      <th>plate_x</th>\n",
       "      <td>0.43000</td>\n",
       "      <td>13900</td>\n",
       "    </tr>\n",
       "    <tr>\n",
       "      <th>plate_z</th>\n",
       "      <td>0.43000</td>\n",
       "      <td>13900</td>\n",
       "    </tr>\n",
       "  </tbody>\n",
       "</table>\n",
       "</div>"
      ],
      "text/plain": [
       "                    Percent  Train Missing Count\n",
       "launch_speed_angle 82.72000              2678175\n",
       "hc_y               82.59000              2674089\n",
       "hc_x               82.59000              2674089\n",
       "bb_type            82.47000              2670304\n",
       "events             74.39000              2408420\n",
       "hit_distance_sc    73.05000              2365257\n",
       "spin_axis          12.09000               391462\n",
       "release_spin_rate   2.63000                85177\n",
       "release_extension   0.59000                19070\n",
       "effective_speed     0.48000                15695\n",
       "release_speed       0.43000                13931\n",
       "vy0                 0.43000                13900\n",
       "vx0                 0.43000                13900\n",
       "release_pos_y       0.43000                13900\n",
       "release_pos_z       0.43000                13900\n",
       "ax                  0.43000                13900\n",
       "release_pos_x       0.43000                13900\n",
       "vz0                 0.43000                13900\n",
       "pfx_x               0.43000                13900\n",
       "ay                  0.43000                13900\n",
       "az                  0.43000                13900\n",
       "pfx_z               0.43000                13900\n",
       "zone                0.43000                13900\n",
       "plate_x             0.43000                13900\n",
       "plate_z             0.43000                13900"
      ]
     },
     "metadata": {},
     "output_type": "display_data"
    }
   ],
   "source": [
    "##### Missing Data Check ----\n",
    "\n",
    "# game state data\n",
    "percent = (game_state_statcast_df.isnull().sum()/game_state_statcast_df.isnull().count()*100).sort_values(ascending = False).round(2)\n",
    "sum_missing = game_state_statcast_df.isna().sum().sort_values(ascending = False)\n",
    "missing_data  = pd.concat([percent, sum_missing], axis=1, keys=['Percent', \"Train Missing Count\"])\n",
    "display(missing_data[missing_data['Percent'] != 0])\n",
    "\n",
    "# previous pitch data\n",
    "percent = (prev_pitch_statcast_df.isnull().sum()/prev_pitch_statcast_df.isnull().count()*100).sort_values(ascending = False).round(2)\n",
    "sum_missing = prev_pitch_statcast_df.isna().sum().sort_values(ascending = False)\n",
    "missing_data  = pd.concat([percent, sum_missing], axis=1, keys=['Percent', \"Train Missing Count\"])\n",
    "display(missing_data[missing_data['Percent'] != 0])"
   ]
  },
  {
   "cell_type": "markdown",
   "metadata": {
    "id": "QDYaxVvCLVqU"
   },
   "source": [
    "The network can not know the resulting information of the pitch before generating a prediction. Thus we will pass in the result of the previous pitch to the network for the model to learn from the previous at bat results. The resulting data frame contains a row per pitch, with the previous pitch results and the current game state."
   ]
  },
  {
   "cell_type": "code",
   "execution_count": null,
   "metadata": {
    "colab": {
     "background_save": true
    },
    "id": "fhPSk-0H1I__"
   },
   "outputs": [],
   "source": [
    "# create a game pitch number\n",
    "game_state_statcast_df['game_pitch_number'] = 1\n",
    "game_state_statcast_df['pitcher_pitch_number'] = game_state_statcast_df.groupby(['game_pk','pitcher'])['game_pitch_number'].cumsum()\n",
    "game_state_statcast_df['game_pitch_number'] = game_state_statcast_df.groupby(['game_pk'])['game_pitch_number'].cumsum()\n",
    "\n",
    "# create a game pitch number\n",
    "prev_pitch_statcast_df['game_pitch_number'] = 1\n",
    "prev_pitch_statcast_df['game_pitch_number'] = prev_pitch_statcast_df.groupby(['game_pk'])['game_pitch_number'].cumsum()\n",
    "\n",
    "# calculate the game pitch number and previous pitch number in game state data\n",
    "game_state_statcast_df['prev_game_pitch_number'] = game_state_statcast_df['game_pitch_number'] - 1"
   ]
  },
  {
   "cell_type": "code",
   "execution_count": null,
   "metadata": {
    "colab": {
     "background_save": true
    },
    "id": "zC5BsPRo8lYK"
   },
   "outputs": [],
   "source": [
    "# join the previous pitch result data to the current game state\n",
    "statcast_new_df = game_state_statcast_df.merge(prev_pitch_statcast_df.add_prefix('prev_'), left_on=['game_pk','prev_game_pitch_number'], right_on = ['prev_game_pk','prev_game_pitch_number'], how='left')"
   ]
  },
  {
   "cell_type": "markdown",
   "metadata": {
    "id": "DwD1Al2nOlR3"
   },
   "source": [
    "## Data Filtering"
   ]
  },
  {
   "cell_type": "markdown",
   "metadata": {
    "id": "IE0CYWTmMv1J"
   },
   "source": [
    "There are games which can go into extra innings. We will remove any at-bats which occur in extra innings from the training data as these events are not common in the MLB. An important input into the model are the batter and the pitcher embeddings. We will only keep at-bats which feature the batters and pitchers which make up 90% of all at-bats in the training seasons."
   ]
  },
  {
   "cell_type": "code",
   "execution_count": null,
   "metadata": {
    "id": "2Ci6MVOpL6jI"
   },
   "outputs": [],
   "source": [
    "##### Data Filtering to First 9 innings and Starting in 2017 ----\n",
    "\n",
    "# we are only going to predict the first 9 innings\n",
    "statcast_new_df = statcast_new_df[statcast_new_df['inning'] <= 9.0]\n",
    "\n",
    "# we are only using data starting in the 2017 season for training data\n",
    "statcast_new_df = statcast_new_df[statcast_new_df['game_year'] >= 2017]"
   ]
  },
  {
   "cell_type": "markdown",
   "metadata": {
    "id": "WuHCaQ8BZmWL"
   },
   "source": [
    "There are many instances in major league baseball where rookie batters and pitchers receive at-bats and there is little or no prior pitch sequence data. In order to make a prediction on next pitch types in the 2019, 2020, and 2021 seasons, the batter and the pitcher need to have a significant amount of recorded at-bats in the 2017 and 2018 seasons. Only batters and pitchers accounting for 90% of at-bats in the 2017 and 2018 seasons were included in scope (443 batters and 521 pitchers). "
   ]
  },
  {
   "cell_type": "code",
   "execution_count": null,
   "metadata": {
    "id": "VhLTSdEEeUbJ"
   },
   "outputs": [],
   "source": [
    "##### Filter to only batter and pitcher matchups accounting for 90% of total at-bats -----\n",
    "\n",
    "# get the at bats from before 2019\n",
    "train_years = statcast_new_df[statcast_new_df['game_year'] < 2019]\n",
    "unique_abs_train = train_years[['game_pk', 'at_bat_number', 'batter', 'pitcher']].drop_duplicates()\n",
    "\n",
    "# get the batter ids that made up 90% of at bats in from 2017 to 2018\n",
    "unique_abs_batter = unique_abs_train.groupby(['batter']).count().sort_values(by='game_pk', ascending=False)\n",
    "unique_abs_batter['cum_sum'] = unique_abs_batter['game_pk'].cumsum()\n",
    "unique_abs_batter['cum_perc'] = 100*unique_abs_batter['cum_sum']/unique_abs_batter['game_pk'].sum()\n",
    "unique_batters = list(unique_abs_batter[unique_abs_batter['cum_perc'] <= 90].index)\n",
    "\n",
    "# get the pitcher ids that made up 90% of at bats in from 2017 to 2018\n",
    "unique_abs_pitcher = unique_abs_train.groupby(['pitcher']).count().sort_values(by='game_pk', ascending=False)\n",
    "unique_abs_pitcher['cum_sum'] = unique_abs_pitcher['game_pk'].cumsum()\n",
    "unique_abs_pitcher['cum_perc'] = 100*unique_abs_pitcher['cum_sum']/unique_abs_pitcher['game_pk'].sum()\n",
    "unique_pitchers = list(unique_abs_pitcher[unique_abs_pitcher['cum_perc'] <= 90].index)\n",
    "\n",
    "# filter the data to only the get the batter, pitcher matchups from batters and pitchers that make up 90% of at bats\n",
    "statcast_new_df = statcast_new_df[(statcast_new_df[\"batter\"].isin(unique_batters)) & (statcast_new_df[\"pitcher\"].isin(unique_pitchers))]\n",
    "\n",
    "# delete objects no longer needed for memory\n",
    "import gc\n",
    "gc.enable()\n",
    "del unique_abs_batter, unique_abs_pitcher, train_years, unique_abs_train\n",
    "gc.collect()"
   ]
  },
  {
   "cell_type": "markdown",
   "metadata": {
    "id": "FvdDT-nFOnIo"
   },
   "source": [
    "## Data Splitting"
   ]
  },
  {
   "cell_type": "markdown",
   "metadata": {
    "id": "E7KrMKyzNljg"
   },
   "source": [
    "To avoid data leakage, the data can not be randomly split across all years in the training, validation, and test sets. Future pitches cannot be included as inputs within the training data to generate predictions for past pitches in the validation and/or test data. The data from the 2017 and 2018 seasons will be used for training data while the 2019 season is used for validation. 2020 and 2021 seasons will be used for the testing data in the next pitch prediction model. "
   ]
  },
  {
   "cell_type": "code",
   "execution_count": null,
   "metadata": {
    "id": "75hUnz3JAIiC"
   },
   "outputs": [],
   "source": [
    "##### Data Splitting ----\n",
    "\n",
    "# split the data into train, validation, and test\n",
    "train_data = statcast_new_df[statcast_new_df['game_year'] < 2019].drop(columns=['game_year'])\n",
    "validation_data = statcast_new_df[statcast_new_df['game_year'] == 2019].drop(columns=['game_year'])\n",
    "test_data = statcast_new_df[statcast_new_df['game_year'] > 2019].drop(columns=['game_year'])"
   ]
  },
  {
   "cell_type": "markdown",
   "metadata": {
    "id": "PMr2O7blOKxb"
   },
   "source": [
    "After checking for missing data after these transformations, we see there are still some of the previous pitch data features which are missing. These represent the first pitches of the game and so there is no previous pitch information. These features will be imputed with a 0 when passed into the model."
   ]
  },
  {
   "cell_type": "code",
   "execution_count": null,
   "metadata": {
    "id": "m2UaRx2VoiHu"
   },
   "outputs": [],
   "source": [
    "##### Missing Data Check ----\n",
    "\n",
    "# game state data\n",
    "percent = (train_data.isnull().sum()/train_data.isnull().count()*100).sort_values(ascending = False).round(2)\n",
    "sum_missing = train_data.isna().sum().sort_values(ascending = False)\n",
    "missing_data  = pd.concat([percent, sum_missing], axis=1, keys=['Percent', \"Train Missing Count\"])\n",
    "display(missing_data[missing_data['Percent'] != 0])"
   ]
  },
  {
   "cell_type": "markdown",
   "metadata": {
    "id": "uTt3QNo3Rs1I"
   },
   "source": [
    "## Save output"
   ]
  },
  {
   "cell_type": "markdown",
   "metadata": {
    "id": "TsXNtztlVWFU"
   },
   "source": [
    "The training, validation, and test data sets will be used throughout the model building process. There will be several models attempted. The data sets need to be consistent across model runs. These files will be referenced throughout the model notebooks for training, tuning, and evaluating models."
   ]
  },
  {
   "cell_type": "code",
   "execution_count": null,
   "metadata": {
    "id": "XocWj1SbRu2q"
   },
   "outputs": [],
   "source": [
    "##### Save the training, validation, and test prepped data ----\n",
    "\n",
    "# Save data\n",
    "train_data.to_csv(os.path.join(DATA_DIR, f'train_data.csv'), index = None, header=True)\n",
    "validation_data.to_csv(os.path.join(DATA_DIR, f'validation_data.csv'), index = None, header=True)\n",
    "test_data.to_csv(os.path.join(DATA_DIR, f'test_data.csv'), index = None, header=True)"
   ]
  }
 ],
 "metadata": {
  "colab": {
   "collapsed_sections": [],
   "machine_shape": "hm",
   "name": "01_statcast_data_preparation.ipynb",
   "provenance": [
    {
     "file_id": "1eFpuuDAccULNYDGGKbGfG10-eqn2Ouf0",
     "timestamp": 1638318383364
    },
    {
     "file_id": "1G6UjsXrkONozO_B_6dAAubDpmDh4CnZh",
     "timestamp": 1637502813543
    }
   ]
  },
  "kernelspec": {
   "display_name": "Python 3",
   "language": "python",
   "name": "python3"
  },
  "language_info": {
   "codemirror_mode": {
    "name": "ipython",
    "version": 3
   },
   "file_extension": ".py",
   "mimetype": "text/x-python",
   "name": "python",
   "nbconvert_exporter": "python",
   "pygments_lexer": "ipython3",
   "version": "3.7.7"
  },
  "toc": {
   "base_numbering": 1,
   "nav_menu": {},
   "number_sections": true,
   "sideBar": true,
   "skip_h1_title": false,
   "title_cell": "Table of Contents",
   "title_sidebar": "Contents",
   "toc_cell": false,
   "toc_position": {},
   "toc_section_display": true,
   "toc_window_display": false
  }
 },
 "nbformat": 4,
 "nbformat_minor": 1
}
