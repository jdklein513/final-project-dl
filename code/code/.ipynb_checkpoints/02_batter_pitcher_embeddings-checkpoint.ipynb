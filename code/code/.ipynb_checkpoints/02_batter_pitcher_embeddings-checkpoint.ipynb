{
 "cells": [
  {
   "cell_type": "markdown",
   "metadata": {
    "id": "hJULtPG9guNm"
   },
   "source": [
    "# Pitcher/Batter Embeddings\n",
    "\n",
    "**Author:** Joel Klein, Jacob Sauberman, Ben Perkins\n",
    "\n",
    "**Date:** November 21, 2021\n",
    "\n",
    "**Description:** This script loads in MLB Statcast data from every MLB registered pitch since 2017 and generates batter and pitcher embedding vectors. The batter and pitcher are important factors which affects which pitch type is thrown within an at-bat. Batter and pitcher embedding vectors are needed to represent the batter and pitcher as multi-dimensional vectors rather than sparse, high-dimensional one hot encoded vectors. These batter and pitcher embedding vectors will eventually be used as input into an attention model to predict next pitch type.\n",
    "\n",
    "**Data:** The data is scraped from *baseballsavant.com* for each year and combined together in one large data file. This file leverages the training and validation data which is prepared in the statcast_data_preparation.ipynb file in the code folder.\n",
    "\n",
    "**Scope:** The data from the 2017 and 2018 seasons is used for training data while the 2019 season is used for validation. 2020 and 2021 seasons will be used for the testing data in the next pitch prediction model. \n",
    "\n",
    "There are many instances in major league baseball where rookie batters and pitchers receive at-bats and there is little or no prior pitch sequence data. In order to make a prediction on next pitch types in the 2019, 2020, and 2021 seasons, the batter and the pitcher need to have a significant amount of recorded at-bats in the 2017 and 2018 seasons. Only batters and pitchers accounting for 90% of at-bats in the 2017 and 2018 seasons were included in scope (441 batters and 512 pitchers). There will be a 9-dimensional vector embedding generated for the batters and a 9-dimensional vector embedding generated for the pitchers. The final outputs of this file are two pandas data frames: the mapping of the batter ids to the batter embeddings, the mapping of the pitcher ids to the pitcher embeddings.\n",
    "\n",
    "**Notes:** \n",
    "\n",
    "**Warnings:** \n",
    "\n",
    "**Outline:** \n",
    "  - Install Libraries\n",
    "  - Global Options\n",
    "  - Set Directories\n",
    "  - Define Functions\n",
    "  - Load Data\n",
    "  - Data Preparation\n",
    "  - Data Splitting\n",
    "  - Data Sampling\n",
    "  - One Hot Encoding\n",
    "  - Data Loaders\n",
    "  - Train Model\n",
    "  - Final Output\n",
    "  - Batter & Pitcher Embedding Analysis"
   ]
  },
  {
   "cell_type": "markdown",
   "metadata": {
    "id": "Vwx_cBcmgvIh"
   },
   "source": [
    "## Import Libraries"
   ]
  },
  {
   "cell_type": "code",
   "execution_count": null,
   "metadata": {
    "colab": {
     "base_uri": "https://localhost:8080/"
    },
    "executionInfo": {
     "elapsed": 3365,
     "status": "ok",
     "timestamp": 1639012745668,
     "user": {
      "displayName": "Joel Klein",
      "photoUrl": "https://lh3.googleusercontent.com/a/default-user=s64",
      "userId": "12422283647264597477"
     },
     "user_tz": 420
    },
    "id": "vjGBv3RKg0mS",
    "outputId": "28dfb8fd-e71f-45a0-d85c-b3a926169c07"
   },
   "outputs": [
    {
     "name": "stdout",
     "output_type": "stream",
     "text": [
      "Requirement already satisfied: pybaseball in /usr/local/lib/python3.7/dist-packages (2.2.1)\n",
      "Requirement already satisfied: attrs>=20.3.0 in /usr/local/lib/python3.7/dist-packages (from pybaseball) (21.2.0)\n",
      "Requirement already satisfied: requests>=2.18.1 in /usr/local/lib/python3.7/dist-packages (from pybaseball) (2.23.0)\n",
      "Requirement already satisfied: numpy>=1.13.0 in /usr/local/lib/python3.7/dist-packages (from pybaseball) (1.19.5)\n",
      "Requirement already satisfied: pyarrow>=1.0.1 in /usr/local/lib/python3.7/dist-packages (from pybaseball) (3.0.0)\n",
      "Requirement already satisfied: tqdm>=4.50.0 in /usr/local/lib/python3.7/dist-packages (from pybaseball) (4.62.3)\n",
      "Requirement already satisfied: matplotlib>=2.0.0 in /usr/local/lib/python3.7/dist-packages (from pybaseball) (3.2.2)\n",
      "Requirement already satisfied: beautifulsoup4>=4.4.0 in /usr/local/lib/python3.7/dist-packages (from pybaseball) (4.6.3)\n",
      "Requirement already satisfied: scipy>=1.4.0 in /usr/local/lib/python3.7/dist-packages (from pybaseball) (1.4.1)\n",
      "Requirement already satisfied: pygithub>=1.51 in /usr/local/lib/python3.7/dist-packages (from pybaseball) (1.55)\n",
      "Requirement already satisfied: pandas>=1.0.3 in /usr/local/lib/python3.7/dist-packages (from pybaseball) (1.1.5)\n",
      "Requirement already satisfied: lxml>=4.2.1 in /usr/local/lib/python3.7/dist-packages (from pybaseball) (4.2.6)\n",
      "Requirement already satisfied: python-dateutil>=2.1 in /usr/local/lib/python3.7/dist-packages (from matplotlib>=2.0.0->pybaseball) (2.8.2)\n",
      "Requirement already satisfied: cycler>=0.10 in /usr/local/lib/python3.7/dist-packages (from matplotlib>=2.0.0->pybaseball) (0.11.0)\n",
      "Requirement already satisfied: kiwisolver>=1.0.1 in /usr/local/lib/python3.7/dist-packages (from matplotlib>=2.0.0->pybaseball) (1.3.2)\n",
      "Requirement already satisfied: pyparsing!=2.0.4,!=2.1.2,!=2.1.6,>=2.0.1 in /usr/local/lib/python3.7/dist-packages (from matplotlib>=2.0.0->pybaseball) (3.0.6)\n",
      "Requirement already satisfied: pytz>=2017.2 in /usr/local/lib/python3.7/dist-packages (from pandas>=1.0.3->pybaseball) (2018.9)\n",
      "Requirement already satisfied: deprecated in /usr/local/lib/python3.7/dist-packages (from pygithub>=1.51->pybaseball) (1.2.13)\n",
      "Requirement already satisfied: pynacl>=1.4.0 in /usr/local/lib/python3.7/dist-packages (from pygithub>=1.51->pybaseball) (1.4.0)\n",
      "Requirement already satisfied: pyjwt>=2.0 in /usr/local/lib/python3.7/dist-packages (from pygithub>=1.51->pybaseball) (2.3.0)\n",
      "Requirement already satisfied: cffi>=1.4.1 in /usr/local/lib/python3.7/dist-packages (from pynacl>=1.4.0->pygithub>=1.51->pybaseball) (1.15.0)\n",
      "Requirement already satisfied: six in /usr/local/lib/python3.7/dist-packages (from pynacl>=1.4.0->pygithub>=1.51->pybaseball) (1.15.0)\n",
      "Requirement already satisfied: pycparser in /usr/local/lib/python3.7/dist-packages (from cffi>=1.4.1->pynacl>=1.4.0->pygithub>=1.51->pybaseball) (2.21)\n",
      "Requirement already satisfied: certifi>=2017.4.17 in /usr/local/lib/python3.7/dist-packages (from requests>=2.18.1->pybaseball) (2021.10.8)\n",
      "Requirement already satisfied: idna<3,>=2.5 in /usr/local/lib/python3.7/dist-packages (from requests>=2.18.1->pybaseball) (2.10)\n",
      "Requirement already satisfied: chardet<4,>=3.0.2 in /usr/local/lib/python3.7/dist-packages (from requests>=2.18.1->pybaseball) (3.0.4)\n",
      "Requirement already satisfied: urllib3!=1.25.0,!=1.25.1,<1.26,>=1.21.1 in /usr/local/lib/python3.7/dist-packages (from requests>=2.18.1->pybaseball) (1.24.3)\n",
      "Requirement already satisfied: wrapt<2,>=1.10 in /usr/local/lib/python3.7/dist-packages (from deprecated->pygithub>=1.51->pybaseball) (1.13.3)\n"
     ]
    }
   ],
   "source": [
    "# data manipulation\n",
    "import numpy as np\n",
    "import pandas as pd \n",
    "import os\n",
    "import zipfile\n",
    "\n",
    "# plotting\n",
    "import seaborn as sns\n",
    "import matplotlib.pyplot as plt\n",
    "from pandas.plotting import scatter_matrix\n",
    "import plotly.express as px\n",
    "\n",
    "# pytorch\n",
    "import torch\n",
    "import torch.nn as nn\n",
    "import torch.nn.functional as F\n",
    "import torch.optim as optim\n",
    "from torch.utils.data import Dataset, DataLoader, SubsetRandomSampler\n",
    "import torchvision\n",
    "import torch.utils.data\n",
    "import torchvision.transforms as transforms\n",
    "from torchvision.transforms import ToTensor\n",
    "from torch.utils.data import random_split\n",
    "from torch import cuda\n",
    "from torch.autograd import Variable\n",
    "from torch.utils.data import TensorDataset\n",
    "\n",
    "# splitting data\n",
    "from sklearn.model_selection import train_test_split\n",
    "\n",
    "# preprocessing\n",
    "from sklearn.preprocessing import OneHotEncoder\n",
    "\n",
    "# pipelines\n",
    "from sklearn.decomposition import PCA\n",
    "from sklearn.compose import ColumnTransformer\n",
    "from sklearn.base import BaseEstimator, TransformerMixin\n",
    "from sklearn.pipeline import Pipeline, FeatureUnion, make_pipeline\n",
    "\n",
    "# random number generator\n",
    "import random\n",
    "\n",
    "# other\n",
    "import IPython\n",
    "import pickle\n",
    "from os import listdir\n",
    "from os.path import isfile, join\n",
    "\n",
    "# pybaseball\n",
    "!pip install pybaseball\n",
    "from pybaseball import playerid_reverse_lookup"
   ]
  },
  {
   "cell_type": "markdown",
   "metadata": {
    "id": "lWmA2eCigvKw"
   },
   "source": [
    "## Global Options"
   ]
  },
  {
   "cell_type": "code",
   "execution_count": null,
   "metadata": {
    "id": "zRn1T74RhC07"
   },
   "outputs": [],
   "source": [
    "# do not show warnings\n",
    "import warnings\n",
    "warnings.filterwarnings('ignore')\n",
    "\n",
    "# set pandas display options\n",
    "pd.set_option('display.max_rows', 500)\n",
    "pd.set_option('display.max_columns', 500)\n",
    "pd.set_option('display.width', 2000)\n",
    "pd.set_option('display.max_colwidth', 2000)\n",
    "pd.options.display.float_format = '{:.5f}'.format"
   ]
  },
  {
   "cell_type": "markdown",
   "metadata": {
    "id": "x9HT0qCwhbFN"
   },
   "source": [
    "## Set Directories"
   ]
  },
  {
   "cell_type": "code",
   "execution_count": null,
   "metadata": {
    "colab": {
     "base_uri": "https://localhost:8080/"
    },
    "executionInfo": {
     "elapsed": 1121,
     "status": "ok",
     "timestamp": 1639012746785,
     "user": {
      "displayName": "Joel Klein",
      "photoUrl": "https://lh3.googleusercontent.com/a/default-user=s64",
      "userId": "12422283647264597477"
     },
     "user_tz": 420
    },
    "id": "y7rTjs1jhen9",
    "outputId": "f54685b3-1b76-4cb2-ae29-6a26b41e4817"
   },
   "outputs": [
    {
     "name": "stdout",
     "output_type": "stream",
     "text": [
      "Drive already mounted at /content/drive; to attempt to forcibly remount, call drive.mount(\"/content/drive\", force_remount=True).\n"
     ]
    }
   ],
   "source": [
    "# mount data drive on colab\n",
    "from google.colab import drive\n",
    "drive.mount('/content/drive')\n",
    "\n",
    "# set folder directories to load and save data\n",
    "DATA_DIR = \"/content/drive/MyDrive/final-project-dl/data\"\n",
    "STATCAST_DATA_DIR = \"/content/drive/MyDrive/final-project-dl/data/statcast\"\n",
    "EMBEDDINGS_DATA_DIR = \"/content/drive/MyDrive/final-project-dl/data/embeddings\""
   ]
  },
  {
   "cell_type": "markdown",
   "metadata": {
    "id": "WbbO4WK7hsWT"
   },
   "source": [
    "## Define Functions"
   ]
  },
  {
   "cell_type": "code",
   "execution_count": null,
   "metadata": {
    "id": "BYBm_Yq9hvMX"
   },
   "outputs": [],
   "source": [
    "##### Define data loading function ----\n",
    "\n",
    "# define a function for loading in dataset\n",
    "def load_data(in_path, name):\n",
    "    df = pd.read_csv(in_path)\n",
    "    print(f\"{name}: shape is {df.shape}\")\n",
    "    \n",
    "    return df"
   ]
  },
  {
   "cell_type": "code",
   "execution_count": null,
   "metadata": {
    "id": "mWHllB1eVoC3"
   },
   "outputs": [],
   "source": [
    "#### Define training functions ----\n",
    "\n",
    "# define function to train a model at each epoch and return train loss and accuracy\n",
    "def train_epoch(epoch, clf, criterion, opt, data_loader, printlog=False, printnum=1):\n",
    "\n",
    "  \"\"\"Train pytorch model and collect training results\n",
    "  \n",
    "  Keyword arguments:\n",
    "  \n",
    "  epoch -- number of epochs\n",
    "  clf -- torch nn module\n",
    "  criterion -- loss function\n",
    "  opt -- torch optimizer function\n",
    "  data_loader -- torch train data loader\n",
    "  printlog -- indicator to print the training loss and accuracy (default=False)\n",
    "  printnum -- print the output after this number of epochs\n",
    "  \"\"\"\n",
    "\n",
    "  # training mode\n",
    "  clf.train()\n",
    "\n",
    "  # reset train_loss, correct predictions, and predictions\n",
    "  correct = 0.0\n",
    "  n = 0.0\n",
    "  train_loss = 0.0\n",
    "\n",
    "  # training via batching\n",
    "  for batch_id, data in enumerate(data_loader):\n",
    "      \n",
    "      # load in input and target data in batch\n",
    "      batter_input, pitcher_input, target = data[0].to(device), data[1].to(device), data[2].to(device)\n",
    "      \n",
    "      # predict the train data\n",
    "      y_pred = clf(batter_input, pitcher_input)\n",
    "      \n",
    "      # calculate loss\n",
    "      loss = criterion(y_pred, target)\n",
    "      \n",
    "      # zero the gradient\n",
    "      opt.zero_grad()\n",
    "\n",
    "      # backpropogation\n",
    "      loss.backward()\n",
    "      \n",
    "      # update model weights\n",
    "      opt.step()\n",
    "\n",
    "      # append loss stat\n",
    "      train_loss += loss.item()\n",
    "\n",
    "      # returns class prediction\n",
    "      pred_class = torch.max(y_pred.data, 1)[1]\n",
    "\n",
    "      # number of correct predictions\n",
    "      correct += (pred_class == target).sum().item()\n",
    "        \n",
    "      # append number of predictions made\n",
    "      n += target.size(0)\n",
    "\n",
    "  # print run stats at end of each epoch for average loss, accuracy\n",
    "  if (printlog == True) & (epoch % printnum == 0):\n",
    "    print(f'Epoch {epoch}: | Train Loss: {train_loss/len(data_loader):.5f} | Train Acc: {correct/n:.5f}')\n",
    "\n",
    "  train_loss = train_loss/len(data_loader) # running loss\n",
    "  train_accuracy = correct/n # train accuracy for epoch\n",
    "\n",
    "  return clf, train_loss, train_accuracy\n",
    "\n",
    "# define function to evaluate a model at each epoch and return test loss and accuracy\n",
    "def evaluate_model(epoch, clf, criterion, opt, data_loader, printlog=False, printnum=1):\n",
    "\n",
    "  \"\"\"Evaluate pytorch model and collect test results\n",
    "  \n",
    "  Keyword arguments:\n",
    "  \n",
    "  epoch -- number of epochs\n",
    "  clf -- torch nn module\n",
    "  criterion -- loss function\n",
    "  opt -- torch optimizer function\n",
    "  data_loader -- torch test data loader\n",
    "  printlog -- indicator to print the test loss and accuracy (default=False)\n",
    "  printnum -- print the output after this number of epochs\n",
    "  \"\"\"\n",
    "\n",
    "  clf.eval() # set model in inference mode\n",
    "  \n",
    "  # set test_loss, correct predictions, and predictions\n",
    "  test_loss = 0.0\n",
    "  correct = 0.0\n",
    "  n = 0.0\n",
    "\n",
    "  with torch.no_grad():\n",
    "    for i,data in enumerate(data_loader):\n",
    "        \n",
    "        # load in input and target data in batch\n",
    "        batter_input, pitcher_input, target = data[0].to(device), data[1].to(device), data[2].to(device)\n",
    "      \n",
    "        # predict the test data\n",
    "        y_pred = clf(batter_input, pitcher_input)\n",
    "        \n",
    "        # calculate loss\n",
    "        loss = criterion(y_pred, target)\n",
    "        \n",
    "        # returns class prediction\n",
    "        pred_class = torch.max(y_pred.data, 1)[1]\n",
    "        \n",
    "        # append loss stat\n",
    "        test_loss += loss.item()\n",
    "        \n",
    "        # number of correct predictions\n",
    "        correct += (pred_class == target).sum().item()\n",
    "        \n",
    "        # append test accuracy\n",
    "        n += target.size(0)\n",
    "\n",
    "  # print run stats at end of each epoch for average loss, accuracy\n",
    "  if (printlog == True) & (epoch % printnum) == 0:\n",
    "    print(f'Epoch {epoch}: | Test Loss: {test_loss/len(data_loader):.5f} | Test Acc: {correct/n:.5f}')\n",
    "\n",
    "  test_loss = test_loss/len(data_loader) # running loss\n",
    "  test_accuracy = correct/n\n",
    "\n",
    "  return test_loss, test_accuracy\n",
    "\n",
    "\n",
    "##### Define training and evaluation function wrapper ----\n",
    "\n",
    "# define a function to perform training given classifier, hidden layers, activation function, \n",
    "# initialization technique, and optimizer arguments\n",
    "def train_and_evaluate(clf, opt, epochs, learning_rate, criterion, printlog, train_data_loader, test_data_loader, printnum):\n",
    "\n",
    "  \"\"\"Train and Evaluate pytorch deep neural network model given classifier, \n",
    "  number of hidden layers, activation function, weight initialization strategy, \n",
    "  and training parameters.\n",
    "  \n",
    "  Keyword arguments:\n",
    "  \n",
    "  clf -- torch nn module\n",
    "  opt -- torch optimizer function\n",
    "  epochs -- number of epochs\n",
    "  learning_rate -- learning rate for weight optimization\n",
    "  criterion -- loss function\n",
    "  printlog -- indicator to print the training and test loss and accuracy (default=False)\n",
    "  train_data_loader -- training data loader \n",
    "  test_data_loader -- out of sample data loader for performance estimation\n",
    "  printnum -- print the output after this number of epochs\n",
    "  \"\"\"\n",
    "\n",
    "  # place classifier on the device\n",
    "  clf.to(device)\n",
    "\n",
    "  # show classifier architecture\n",
    "  print(clf)\n",
    "\n",
    "  # set optimizer\n",
    "  opt = opt(clf.parameters(), lr=learning_rate)\n",
    "  \n",
    "  # set loss function\n",
    "  criterion = criterion()\n",
    "\n",
    "  # initialize vectors to store performance\n",
    "  train_loss = []\n",
    "  train_accuracy = []\n",
    "  test_loss = []\n",
    "  test_accuracy = []\n",
    "\n",
    "  # train the model using parameters\n",
    "  for epoch in range(epochs):\n",
    "      clf, train_loss_epoch, train_accuracy_epoch = train_epoch(epoch, clf, criterion, opt, train_data_loader, printlog, printnum)\n",
    "      test_loss_epoch, test_accuracy_epoch = evaluate_model(epoch, clf, criterion, opt, test_data_loader, printlog, printnum)\n",
    "      train_loss.append(train_loss_epoch)\n",
    "      train_accuracy.append(train_accuracy_epoch)\n",
    "      test_loss.append(test_loss_epoch)\n",
    "      test_accuracy.append(test_accuracy_epoch)\n",
    "\n",
    "  return clf, train_loss, train_accuracy, test_loss, test_accuracy"
   ]
  },
  {
   "cell_type": "markdown",
   "metadata": {
    "id": "P4MStBqLhgvJ"
   },
   "source": [
    "## Load Data"
   ]
  },
  {
   "cell_type": "markdown",
   "metadata": {
    "id": "c7iZIszaZfR9"
   },
   "source": [
    "Let's load in the training, validation, and test data files produced from the data preparation code. "
   ]
  },
  {
   "cell_type": "code",
   "execution_count": null,
   "metadata": {
    "colab": {
     "base_uri": "https://localhost:8080/"
    },
    "executionInfo": {
     "elapsed": 13411,
     "status": "ok",
     "timestamp": 1639012760728,
     "user": {
      "displayName": "Joel Klein",
      "photoUrl": "https://lh3.googleusercontent.com/a/default-user=s64",
      "userId": "12422283647264597477"
     },
     "user_tz": 420
    },
    "id": "k3oo9FGehf5B",
    "outputId": "a35bb529-5805-4351-8c01-4f3b6081a0c8"
   },
   "outputs": [
    {
     "name": "stdout",
     "output_type": "stream",
     "text": [
      "train_data: shape is (785777, 63)\n",
      "validation_data: shape is (344941, 63)\n",
      "test_data: shape is (267635, 63)\n"
     ]
    }
   ],
   "source": [
    "# load in each dataset\n",
    "train_data = load_data(os.path.join(STATCAST_DATA_DIR, 'train_data.csv'), 'train_data')\n",
    "validation_data = load_data(os.path.join(STATCAST_DATA_DIR, 'validation_data.csv'), 'validation_data')\n",
    "test_data = load_data(os.path.join(STATCAST_DATA_DIR, 'test_data.csv'), 'test_data')"
   ]
  },
  {
   "cell_type": "markdown",
   "metadata": {
    "id": "o32Z70wnC3pA"
   },
   "source": [
    "## Data Preparation"
   ]
  },
  {
   "cell_type": "markdown",
   "metadata": {
    "id": "WuHCaQ8BZmWL"
   },
   "source": [
    "To proceed with model training we will need to categorize the pitch classes by a specific code. This operation needs to be done to both the training and the validation data sets."
   ]
  },
  {
   "cell_type": "code",
   "execution_count": null,
   "metadata": {
    "id": "VhLTSdEEeUbJ"
   },
   "outputs": [],
   "source": [
    "# change the pitch type to be a numeric representation for model to handle\n",
    "train_data['pitch_class'] = pd.Categorical(train_data['pitch_class'])\n",
    "train_data['pitch_class'] = train_data['pitch_class'].cat.codes\n",
    "\n",
    "# filter the dataset to only get batter, pitcher, and pitch type fields\n",
    "train_data = train_data[['batter', 'pitcher','pitch_class']]\n",
    "\n",
    "# split the input and labels\n",
    "x_train = train_data[['batter', 'pitcher']]\n",
    "y_train = train_data['pitch_class']\n",
    "\n",
    "# change the pitch type to be a numeric representation for model to handle\n",
    "validation_data['pitch_class'] = pd.Categorical(validation_data['pitch_class'])\n",
    "validation_data['pitch_class'] = validation_data['pitch_class'].cat.codes\n",
    "\n",
    "# filter the dataset to only get batter, pitcher, and pitch type fields\n",
    "validation_data = validation_data[['batter', 'pitcher', 'pitch_class']]\n",
    "\n",
    "# split the input and labels\n",
    "x_valid = validation_data[['batter', 'pitcher']]\n",
    "y_valid = validation_data['pitch_class']"
   ]
  },
  {
   "cell_type": "markdown",
   "metadata": {
    "id": "7Tq0p476DK1i"
   },
   "source": [
    "## Data Sampling"
   ]
  },
  {
   "cell_type": "markdown",
   "metadata": {
    "id": "McjR7IQ9Z_Aj"
   },
   "source": [
    "There are about 700k pitches thrown in the 2017 and 2018 seasons in scope. Let's sample this data and select only 50% of this data for training. Let's also sample 50% of the 2019 pitch data for estimating the model accuracy in the validation set."
   ]
  },
  {
   "cell_type": "code",
   "execution_count": null,
   "metadata": {
    "colab": {
     "base_uri": "https://localhost:8080/"
    },
    "executionInfo": {
     "elapsed": 568,
     "status": "ok",
     "timestamp": 1639012761487,
     "user": {
      "displayName": "Joel Klein",
      "photoUrl": "https://lh3.googleusercontent.com/a/default-user=s64",
      "userId": "12422283647264597477"
     },
     "user_tz": 420
    },
    "id": "hLFIpv-cDxaa",
    "outputId": "ed8bafed-71d4-4977-f07c-2c9e69a66b16"
   },
   "outputs": [
    {
     "name": "stdout",
     "output_type": "stream",
     "text": [
      "Training data size: 392888\n",
      "Validation data size: 172470\n"
     ]
    }
   ],
   "source": [
    "##### Data Sampling -----\n",
    "\n",
    "# randomly sample 25% of data for training\n",
    "x_train_samp, x_1, y_train_samp, y_1 = train_test_split(x_train, y_train, stratify = y_train, train_size=.5, random_state=42)\n",
    "\n",
    "# randomly sample 25% of data for training\n",
    "x_valid_samp, x_1, y_valid_samp, y_1 = train_test_split(x_valid, y_valid, stratify = y_valid, train_size=.5, random_state=42)\n",
    "\n",
    "# delete objects no longer needed in memory\n",
    "import gc\n",
    "gc.enable()\n",
    "del x_1, y_1\n",
    "gc.collect()\n",
    "\n",
    "print('Training data size:',len(x_train_samp))\n",
    "print('Validation data size:',len(x_valid_samp))"
   ]
  },
  {
   "cell_type": "code",
   "execution_count": null,
   "metadata": {
    "id": "nvX5e8otZ5Xo"
   },
   "outputs": [],
   "source": [
    "# get the number of batters and pitchers in the data set\n",
    "n_batters = len(np.unique(x_train_samp['batter']))\n",
    "n_pitchers = len(np.unique(x_train_samp['pitcher']))"
   ]
  },
  {
   "cell_type": "code",
   "execution_count": null,
   "metadata": {
    "colab": {
     "base_uri": "https://localhost:8080/"
    },
    "executionInfo": {
     "elapsed": 8,
     "status": "ok",
     "timestamp": 1639012761489,
     "user": {
      "displayName": "Joel Klein",
      "photoUrl": "https://lh3.googleusercontent.com/a/default-user=s64",
      "userId": "12422283647264597477"
     },
     "user_tz": 420
    },
    "id": "pGbnghdZd_oB",
    "outputId": "0d07abe4-1406-4d4a-afe8-2a09b6a416c7"
   },
   "outputs": [
    {
     "name": "stdout",
     "output_type": "stream",
     "text": [
      "[ True]\n",
      "[ True]\n"
     ]
    }
   ],
   "source": [
    "# make sure all batters in the validation set are in the training set\n",
    "print(np.unique(x_valid_samp['batter'].isin(x_train_samp['batter']))) # should be True\n",
    "\n",
    "# make sure all pitchers in the validation set are in the training set\n",
    "print(np.unique(x_valid_samp['pitcher'].isin(x_train_samp['pitcher']))) # should be True"
   ]
  },
  {
   "cell_type": "markdown",
   "metadata": {
    "id": "_lnj7dHcDOHn"
   },
   "source": [
    "## One Hot Encoding"
   ]
  },
  {
   "cell_type": "markdown",
   "metadata": {
    "id": "niA-I07ba4c9"
   },
   "source": [
    "The next step is to one hot encode the input training and validation data based on the batter and pitcher ids. Each batter and pitcher will be represented as a OHE vector."
   ]
  },
  {
   "cell_type": "code",
   "execution_count": null,
   "metadata": {
    "id": "-RELyxwEkSnL"
   },
   "outputs": [],
   "source": [
    "##### Data preparation - OHE -----\n",
    "\n",
    "categorical_features = ['batter','pitcher']\n",
    "\n",
    "# create pipeline for categorical features\n",
    "cat_pipeline = Pipeline([\n",
    "        ('ohe', OneHotEncoder(sparse=False, handle_unknown=\"ignore\"))\n",
    "    ])\n",
    "\n",
    "# specify the column transformer for numeric and categorical features\n",
    "data_pipeline = ColumnTransformer(\n",
    "    [(\"cat_pipeline\", cat_pipeline, categorical_features)],\n",
    "    remainder='passthrough')\n",
    "\n",
    "# generate the pipeline w/ feature selection\n",
    "full_data_pipeline = Pipeline([\n",
    "    (\"preparation\", data_pipeline)\n",
    "])\n",
    "\n",
    "# fit the model pipeline on the training data and transform the training data\n",
    "x_train_ohe = full_data_pipeline.fit_transform(x_train_samp, y_train_samp)\n",
    "\n",
    "# transform the validation data\n",
    "x_valid_ohe = full_data_pipeline.transform(x_valid_samp)"
   ]
  },
  {
   "cell_type": "markdown",
   "metadata": {
    "id": "O5d2JCXSDSuD"
   },
   "source": [
    "## Data Loaders"
   ]
  },
  {
   "cell_type": "markdown",
   "metadata": {
    "id": "tq4SWiwVbPj8"
   },
   "source": [
    "The batter and the pitcher OHE vectors will be split into two sets of vectors. One for the batters and one for the pitchers. Each set of vectors will be passed into a separate embedding layer within the network. The output of the embedding layers will be concatenated and then passed into a fully connected layer to produce the pitch prediction output. The vectors need further processing as the embedding layers require vectors of indices. Let's use argmax to get the input vector of indices of the batter and pitcher vectors. "
   ]
  },
  {
   "cell_type": "code",
   "execution_count": null,
   "metadata": {
    "id": "BZWgBTPAZI7v"
   },
   "outputs": [],
   "source": [
    "#### Data Loaders ----\n",
    "\n",
    "# set batch size for training data loader\n",
    "BATCH_SIZE = 1000\n",
    "\n",
    "# set seed for reproducibility\n",
    "torch.manual_seed(42)\n",
    "\n",
    "# get the training vectors\n",
    "x_train_batters = np.float64(x_train_ohe[:, :n_batters]) # there are 441 batters\n",
    "x_train_pitchers = np.float64(x_train_ohe[:, n_batters:]) # the remaining vectors are pitchers\n",
    "\n",
    "# get the validation vectors\n",
    "x_valid_batters = np.float64(x_valid_ohe[:, :n_batters]) # there are 441 batters\n",
    "x_valid_pitchers = np.float64(x_valid_ohe[:, n_batters:]) # the remaining vectors are pitchers\n",
    "\n",
    "# load input indices and pitch labels into the training data tensor data set\n",
    "train_data = TensorDataset(torch.argmax(torch.FloatTensor(x_train_batters), 1).reshape(-1, 1), torch.argmax(torch.FloatTensor(x_train_pitchers), 1).reshape(-1, 1), torch.LongTensor(np.array(y_train_samp)))\n",
    "\n",
    "# load input indices and pitch labels into the validation data tensor data set\n",
    "validation_data = TensorDataset(torch.argmax(torch.FloatTensor(x_valid_batters), 1).reshape(-1, 1), torch.argmax(torch.FloatTensor(x_valid_pitchers), 1).reshape(-1, 1), torch.LongTensor(np.array(y_valid_samp)))\n",
    "\n",
    "# set training data loader\n",
    "train_loader = DataLoader(train_data, batch_size=BATCH_SIZE, shuffle=True, num_workers=0)\n",
    "\n",
    "# set validation data loader\n",
    "validation_loader = DataLoader(validation_data, batch_size=x_valid_pitchers.shape[0], shuffle=False, num_workers=0)"
   ]
  },
  {
   "cell_type": "markdown",
   "metadata": {
    "id": "7Hj_TZhWDZcn"
   },
   "source": [
    "## Train Model"
   ]
  },
  {
   "cell_type": "markdown",
   "metadata": {
    "id": "Da8G_j9UdI2y"
   },
   "source": [
    "Before training we need to set up the GPU instance.\n"
   ]
  },
  {
   "cell_type": "code",
   "execution_count": null,
   "metadata": {
    "colab": {
     "base_uri": "https://localhost:8080/"
    },
    "executionInfo": {
     "elapsed": 7,
     "status": "ok",
     "timestamp": 1639012766144,
     "user": {
      "displayName": "Joel Klein",
      "photoUrl": "https://lh3.googleusercontent.com/a/default-user=s64",
      "userId": "12422283647264597477"
     },
     "user_tz": 420
    },
    "id": "fwgB9W3KKkAL",
    "outputId": "dfd40dbd-cedb-4ecb-ae0e-5dfbc9405846"
   },
   "outputs": [
    {
     "name": "stdout",
     "output_type": "stream",
     "text": [
      "Training will occur using a cuda device\n"
     ]
    }
   ],
   "source": [
    "#### Set up the GPU instance ----\n",
    "\n",
    "# set up GPU instance\n",
    "device = 'cuda' if cuda.is_available() else 'cpu'\n",
    "\n",
    "# we should be printing out CUDA\n",
    "print(f\"Training will occur using a {device} device\")"
   ]
  },
  {
   "cell_type": "markdown",
   "metadata": {
    "id": "ILKITdOFdN5X"
   },
   "source": [
    "The embedding architecture takes as input a vector of batter indices and pitcher indices. Each are passed into an embedding layer. The output of the embedding layers are then reshaped and concatentated. The concatenated input then passes to the final fully connected layer to generate the pitch prediction. We are interested in training the embedding layer weights."
   ]
  },
  {
   "cell_type": "code",
   "execution_count": null,
   "metadata": {
    "id": "jx5def1BK9cl"
   },
   "outputs": [],
   "source": [
    "#### Define the model architecture ----\n",
    "\n",
    "class batterPitcherEmbed(nn.Module):\n",
    "    \n",
    "    def __init__(self, batter_size, pitcher_size, embedding_size, activation, classes):\n",
    "        super(batterPitcherEmbed, self).__init__()\n",
    "        \n",
    "        # set the number of output classes\n",
    "        self.classes = classes\n",
    "\n",
    "        # embedding layers\n",
    "        self.batter_embeddings = nn.Embedding(batter_size, embedding_size)\n",
    "        self.pitcher_embeddings = nn.Embedding(pitcher_size, embedding_size)\n",
    "\n",
    "        # linear layer\n",
    "        self.linear_layer_1 = nn.Linear(2*embedding_size, self.classes)\n",
    "\n",
    "        # activation function passed in by user\n",
    "        self.activation = activation\n",
    "\n",
    "    def forward(self, batter_vec, pitcher_vec):\n",
    "        \n",
    "        # batter embeddings\n",
    "        batter_emb = self.batter_embeddings(batter_vec).view((batter_vec.size(0), -1))\n",
    "        batter_emb = self.activation(batter_emb)\n",
    "\n",
    "        # pitcher embeddings\n",
    "        pitcher_emb = self.pitcher_embeddings(pitcher_vec).view((pitcher_vec.size(0), -1))\n",
    "        pitcher_emb = self.activation(pitcher_emb)\n",
    "\n",
    "        # concatenate the embeddings\n",
    "        x = torch.cat((batter_emb, pitcher_emb), dim=1)\n",
    "\n",
    "        # fully connected layer\n",
    "        x = self.linear_layer_1(x)\n",
    "\n",
    "        return x"
   ]
  },
  {
   "cell_type": "markdown",
   "metadata": {
    "id": "kH_cVbTMeEhE"
   },
   "source": [
    "Let's train the model with the following parameters:\n",
    "\n",
    "- Default initialization\n",
    "- Relu activation after embedding layers\n",
    "- Adam optimization with 0.001 learning rate\n",
    "- Cross Entropy Loss (for multiclass classification task)\n",
    "- 1000 batch size\n",
    "- 100 epochs\n",
    "\n",
    "The embeddings will be 9 dimensional."
   ]
  },
  {
   "cell_type": "code",
   "execution_count": null,
   "metadata": {
    "colab": {
     "base_uri": "https://localhost:8080/"
    },
    "executionInfo": {
     "elapsed": 314878,
     "status": "ok",
     "timestamp": 1639013276354,
     "user": {
      "displayName": "Joel Klein",
      "photoUrl": "https://lh3.googleusercontent.com/a/default-user=s64",
      "userId": "12422283647264597477"
     },
     "user_tz": 420
    },
    "id": "VMRrgKE1KxWj",
    "outputId": "9b858024-b410-4099-dda6-aaa150624abe"
   },
   "outputs": [
    {
     "name": "stdout",
     "output_type": "stream",
     "text": [
      "batterPitcherEmbed(\n",
      "  (batter_embeddings): Embedding(441, 9)\n",
      "  (pitcher_embeddings): Embedding(512, 9)\n",
      "  (linear_layer_1): Linear(in_features=18, out_features=6, bias=True)\n",
      "  (activation): ReLU()\n",
      ")\n",
      "Epoch 0: | Train Loss: 1.69726 | Train Acc: 0.30415\n",
      "Epoch 0: | Test Loss: 1.67903 | Test Acc: 0.33959\n",
      "Epoch 1: | Train Loss: 1.63698 | Train Acc: 0.34307\n",
      "Epoch 1: | Test Loss: 1.65186 | Test Acc: 0.34840\n",
      "Epoch 2: | Train Loss: 1.60354 | Train Acc: 0.35713\n",
      "Epoch 2: | Test Loss: 1.62233 | Test Acc: 0.35288\n",
      "Epoch 3: | Train Loss: 1.56696 | Train Acc: 0.37224\n",
      "Epoch 3: | Test Loss: 1.59305 | Test Acc: 0.36364\n",
      "Epoch 4: | Train Loss: 1.53188 | Train Acc: 0.38700\n",
      "Epoch 4: | Test Loss: 1.56729 | Test Acc: 0.37266\n",
      "Epoch 5: | Train Loss: 1.50210 | Train Acc: 0.39955\n",
      "Epoch 5: | Test Loss: 1.54658 | Test Acc: 0.38189\n",
      "Epoch 6: | Train Loss: 1.47804 | Train Acc: 0.40934\n",
      "Epoch 6: | Test Loss: 1.53092 | Test Acc: 0.38966\n",
      "Epoch 7: | Train Loss: 1.45901 | Train Acc: 0.41609\n",
      "Epoch 7: | Test Loss: 1.51934 | Test Acc: 0.39607\n",
      "Epoch 8: | Train Loss: 1.44383 | Train Acc: 0.41949\n",
      "Epoch 8: | Test Loss: 1.50988 | Test Acc: 0.39662\n",
      "Epoch 9: | Train Loss: 1.43189 | Train Acc: 0.42164\n",
      "Epoch 9: | Test Loss: 1.50272 | Test Acc: 0.40045\n",
      "Epoch 10: | Train Loss: 1.42226 | Train Acc: 0.42375\n",
      "Epoch 10: | Test Loss: 1.49715 | Test Acc: 0.40297\n",
      "Epoch 11: | Train Loss: 1.41426 | Train Acc: 0.42578\n",
      "Epoch 11: | Test Loss: 1.49255 | Test Acc: 0.40441\n",
      "Epoch 12: | Train Loss: 1.40749 | Train Acc: 0.42787\n",
      "Epoch 12: | Test Loss: 1.48734 | Test Acc: 0.40635\n",
      "Epoch 13: | Train Loss: 1.40178 | Train Acc: 0.42922\n",
      "Epoch 13: | Test Loss: 1.48433 | Test Acc: 0.40795\n",
      "Epoch 14: | Train Loss: 1.39699 | Train Acc: 0.43062\n",
      "Epoch 14: | Test Loss: 1.48169 | Test Acc: 0.40831\n",
      "Epoch 15: | Train Loss: 1.39287 | Train Acc: 0.43121\n",
      "Epoch 15: | Test Loss: 1.47877 | Test Acc: 0.41004\n",
      "Epoch 16: | Train Loss: 1.38928 | Train Acc: 0.43264\n",
      "Epoch 16: | Test Loss: 1.47642 | Test Acc: 0.41007\n",
      "Epoch 17: | Train Loss: 1.38609 | Train Acc: 0.43310\n",
      "Epoch 17: | Test Loss: 1.47392 | Test Acc: 0.41127\n",
      "Epoch 18: | Train Loss: 1.38323 | Train Acc: 0.43412\n",
      "Epoch 18: | Test Loss: 1.47141 | Test Acc: 0.41187\n",
      "Epoch 19: | Train Loss: 1.38067 | Train Acc: 0.43444\n",
      "Epoch 19: | Test Loss: 1.47029 | Test Acc: 0.41241\n",
      "Epoch 20: | Train Loss: 1.37832 | Train Acc: 0.43590\n",
      "Epoch 20: | Test Loss: 1.46786 | Test Acc: 0.41238\n",
      "Epoch 21: | Train Loss: 1.37623 | Train Acc: 0.43657\n",
      "Epoch 21: | Test Loss: 1.46673 | Test Acc: 0.41244\n",
      "Epoch 22: | Train Loss: 1.37434 | Train Acc: 0.43684\n",
      "Epoch 22: | Test Loss: 1.46514 | Test Acc: 0.41265\n",
      "Epoch 23: | Train Loss: 1.37261 | Train Acc: 0.43721\n",
      "Epoch 23: | Test Loss: 1.46361 | Test Acc: 0.41273\n",
      "Epoch 24: | Train Loss: 1.37105 | Train Acc: 0.43787\n",
      "Epoch 24: | Test Loss: 1.46259 | Test Acc: 0.41332\n",
      "Epoch 25: | Train Loss: 1.36957 | Train Acc: 0.43804\n",
      "Epoch 25: | Test Loss: 1.46166 | Test Acc: 0.41265\n",
      "Epoch 26: | Train Loss: 1.36826 | Train Acc: 0.43807\n",
      "Epoch 26: | Test Loss: 1.46006 | Test Acc: 0.41255\n",
      "Epoch 27: | Train Loss: 1.36699 | Train Acc: 0.43828\n",
      "Epoch 27: | Test Loss: 1.45972 | Test Acc: 0.41269\n",
      "Epoch 28: | Train Loss: 1.36584 | Train Acc: 0.43845\n",
      "Epoch 28: | Test Loss: 1.45862 | Test Acc: 0.41261\n",
      "Epoch 29: | Train Loss: 1.36476 | Train Acc: 0.43836\n",
      "Epoch 29: | Test Loss: 1.45819 | Test Acc: 0.41219\n",
      "Epoch 30: | Train Loss: 1.36374 | Train Acc: 0.43842\n",
      "Epoch 30: | Test Loss: 1.45683 | Test Acc: 0.41235\n",
      "Epoch 31: | Train Loss: 1.36280 | Train Acc: 0.43826\n",
      "Epoch 31: | Test Loss: 1.45633 | Test Acc: 0.41269\n",
      "Epoch 32: | Train Loss: 1.36192 | Train Acc: 0.43855\n",
      "Epoch 32: | Test Loss: 1.45581 | Test Acc: 0.41223\n",
      "Epoch 33: | Train Loss: 1.36110 | Train Acc: 0.43851\n",
      "Epoch 33: | Test Loss: 1.45619 | Test Acc: 0.41185\n",
      "Epoch 34: | Train Loss: 1.36031 | Train Acc: 0.43850\n",
      "Epoch 34: | Test Loss: 1.45517 | Test Acc: 0.41193\n",
      "Epoch 35: | Train Loss: 1.35958 | Train Acc: 0.43823\n",
      "Epoch 35: | Test Loss: 1.45519 | Test Acc: 0.41212\n",
      "Epoch 36: | Train Loss: 1.35886 | Train Acc: 0.43839\n",
      "Epoch 36: | Test Loss: 1.45362 | Test Acc: 0.41200\n",
      "Epoch 37: | Train Loss: 1.35822 | Train Acc: 0.43824\n",
      "Epoch 37: | Test Loss: 1.45337 | Test Acc: 0.41217\n",
      "Epoch 38: | Train Loss: 1.35756 | Train Acc: 0.43827\n",
      "Epoch 38: | Test Loss: 1.45236 | Test Acc: 0.41205\n",
      "Epoch 39: | Train Loss: 1.35700 | Train Acc: 0.43833\n",
      "Epoch 39: | Test Loss: 1.45344 | Test Acc: 0.41205\n",
      "Epoch 40: | Train Loss: 1.35644 | Train Acc: 0.43845\n",
      "Epoch 40: | Test Loss: 1.45307 | Test Acc: 0.41215\n",
      "Epoch 41: | Train Loss: 1.35593 | Train Acc: 0.43849\n",
      "Epoch 41: | Test Loss: 1.45244 | Test Acc: 0.41205\n",
      "Epoch 42: | Train Loss: 1.35539 | Train Acc: 0.43869\n",
      "Epoch 42: | Test Loss: 1.45168 | Test Acc: 0.41229\n",
      "Epoch 43: | Train Loss: 1.35491 | Train Acc: 0.43860\n",
      "Epoch 43: | Test Loss: 1.45185 | Test Acc: 0.41244\n",
      "Epoch 44: | Train Loss: 1.35447 | Train Acc: 0.43847\n",
      "Epoch 44: | Test Loss: 1.45138 | Test Acc: 0.41255\n",
      "Epoch 45: | Train Loss: 1.35401 | Train Acc: 0.43852\n",
      "Epoch 45: | Test Loss: 1.45150 | Test Acc: 0.41176\n",
      "Epoch 46: | Train Loss: 1.35361 | Train Acc: 0.43869\n",
      "Epoch 46: | Test Loss: 1.45127 | Test Acc: 0.41210\n",
      "Epoch 47: | Train Loss: 1.35320 | Train Acc: 0.43877\n",
      "Epoch 47: | Test Loss: 1.45079 | Test Acc: 0.41235\n",
      "Epoch 48: | Train Loss: 1.35280 | Train Acc: 0.43873\n",
      "Epoch 48: | Test Loss: 1.45052 | Test Acc: 0.41245\n",
      "Epoch 49: | Train Loss: 1.35243 | Train Acc: 0.43897\n",
      "Epoch 49: | Test Loss: 1.44988 | Test Acc: 0.41206\n"
     ]
    }
   ],
   "source": [
    "#### Train Model ----\n",
    "\n",
    "# set classifier\n",
    "embedding_nn = batterPitcherEmbed(n_batters, n_pitchers, 9, nn.ReLU(), 6) # 441 batters, 512 pitchers, 9 dimensions embeddings, relu activation, 6 pitch type classes\n",
    "\n",
    "# train and evaluate model with parameters\n",
    "embedding_nn, train_loss, train_accuracy, validation_loss, validation_accuracy = train_and_evaluate(embedding_nn, optim.Adam, 50, 0.0005, nn.CrossEntropyLoss, True, train_loader, validation_loader, 1)"
   ]
  },
  {
   "cell_type": "markdown",
   "metadata": {
    "id": "3F7pwWnAew07"
   },
   "source": [
    "The validation accuracy rounds out to 0.428 after 100 epochs. The majority class in the data occurs at 34%. We are seeing a 8 percentage point lift just from passing in the batter and pitcher indices."
   ]
  },
  {
   "cell_type": "markdown",
   "metadata": {
    "id": "UNSz_7UfDenU"
   },
   "source": [
    "## Final Output"
   ]
  },
  {
   "cell_type": "markdown",
   "metadata": {
    "id": "xuArxhM2fErp"
   },
   "source": [
    "Let's save the model weights for later."
   ]
  },
  {
   "cell_type": "code",
   "execution_count": null,
   "metadata": {
    "id": "xbby7Q-X6FIe"
   },
   "outputs": [],
   "source": [
    "##### Save the model -----\n",
    "\n",
    "# save model weights\n",
    "torch.save(embedding_nn.state_dict(), os.path.join(EMBEDDINGS_DATA_DIR, 'batter_pitcher_weights.pth'))"
   ]
  },
  {
   "cell_type": "markdown",
   "metadata": {
    "id": "D6sIjT6QfJwh"
   },
   "source": [
    "The final output is a mapping of the batter ids to the 30 dimensional batter embeddings and a mapping of the pitcher ids to the 30 dimensional pitcher embeddings."
   ]
  },
  {
   "cell_type": "code",
   "execution_count": null,
   "metadata": {
    "colab": {
     "base_uri": "https://localhost:8080/"
    },
    "executionInfo": {
     "elapsed": 7493,
     "status": "ok",
     "timestamp": 1639013318127,
     "user": {
      "displayName": "Joel Klein",
      "photoUrl": "https://lh3.googleusercontent.com/a/default-user=s64",
      "userId": "12422283647264597477"
     },
     "user_tz": 420
    },
    "id": "SlTIPNzx7zZN",
    "outputId": "14706df9-89f6-4c35-b1a6-81a5d3bf7bc7"
   },
   "outputs": [
    {
     "name": "stdout",
     "output_type": "stream",
     "text": [
      "Gathering player lookup table. This may take a moment.\n"
     ]
    }
   ],
   "source": [
    "##### Create data frame of batter and pitcher vector embeddings -----\n",
    "\n",
    "# batter embeddings\n",
    "batter_ids = pd.DataFrame({'batter':x_train_samp['batter'], 'batter_idx':torch.argmax(torch.FloatTensor(x_train_batters), 1).cpu().detach().numpy()}).drop_duplicates().sort_values('batter_idx')\n",
    "batter_embeddings = pd.DataFrame(embedding_nn.state_dict()['batter_embeddings.weight'].cpu().detach().numpy(), columns=['batter_' + str(i) for i in range(9)])\n",
    "batter_embedding_map_df = pd.concat([batter_ids.reset_index(drop=True), batter_embeddings], axis=1)\n",
    "batter_embedding_map_df['batter_name'] = playerid_reverse_lookup(batter_embedding_map_df['batter'])['name_first'] + ' ' +  playerid_reverse_lookup(batter_embedding_map_df['batter'])['name_last']\n",
    "\n",
    "# pitcher embeddings\n",
    "pitcher_ids = pd.DataFrame({'pitcher':x_train_samp['pitcher'], 'pitcher_idx':torch.argmax(torch.FloatTensor(x_train_pitchers), 1).cpu().detach().numpy()}).drop_duplicates().sort_values('pitcher_idx')\n",
    "pitcher_embeddings = pd.DataFrame(embedding_nn.state_dict()['pitcher_embeddings.weight'].cpu().detach().numpy(), columns=['pitcher_' + str(i) for i in range(9)])\n",
    "pitcher_embedding_map_df = pd.concat([pitcher_ids.reset_index(drop=True), pitcher_embeddings], axis=1)\n",
    "pitcher_embedding_map_df['pitcher_name'] = playerid_reverse_lookup(pitcher_embedding_map_df['pitcher'])['name_first'] + ' ' +  playerid_reverse_lookup(pitcher_embedding_map_df['pitcher'])['name_last']"
   ]
  },
  {
   "cell_type": "code",
   "execution_count": null,
   "metadata": {
    "id": "wGa-acGnDoyK"
   },
   "outputs": [],
   "source": [
    "##### Save batter and pitcher vector embeddings -----\n",
    "\n",
    "# save batter embedding table\n",
    "batter_embedding_map_df.to_pickle(os.path.join(EMBEDDINGS_DATA_DIR, 'batter_embedding_df.pkl'))\n",
    "\n",
    "# save pitcher embedding table\n",
    "pitcher_embedding_map_df.to_pickle(os.path.join(EMBEDDINGS_DATA_DIR, 'pitcher_embedding_df.pkl'))"
   ]
  },
  {
   "cell_type": "markdown",
   "metadata": {
    "id": "P35c4VWaf2Rv"
   },
   "source": [
    "## Batter & Pitcher Embedding Analysis"
   ]
  },
  {
   "cell_type": "markdown",
   "metadata": {
    "id": "qohcCWUCf7W-"
   },
   "source": [
    "Let's do some analysis to view the quality of the embeddings to confirm and see which pitchers and hitters are similar to each other based on the pitches they throw and receive respectively. We will use a tSNE analysis to reduce the dimensionality of the data to 2 dimensions. We will then visualize the data in a 2D plot to see clusters of pitchers."
   ]
  },
  {
   "cell_type": "markdown",
   "metadata": {
    "id": "rT16C8p1ghDj"
   },
   "source": [
    "### tSNE analysis"
   ]
  },
  {
   "cell_type": "code",
   "execution_count": null,
   "metadata": {
    "id": "BsUpD23RwSwu"
   },
   "outputs": [],
   "source": [
    "from sklearn.manifold import TSNE\n",
    "\n",
    "tsne = TSNE(n_components = 2)\n",
    "\n",
    "# batter tsne\n",
    "tsne_batter = tsne.fit_transform(batter_embedding_map_df[['batter_' + str(i) for i in range(9)]])\n",
    "batter_embedding_map_tsne_df = pd.concat([batter_embedding_map_df, pd.DataFrame(tsne_batter, columns = ['tsne_1','tsne_2'])], axis=1, join=\"inner\")\n",
    "\n",
    "# pitcher tsne\n",
    "tsne_pitcher = tsne.fit_transform(pitcher_embedding_map_df[['pitcher_' + str(i) for i in range(9)]])\n",
    "pitcher_embedding_map_tsne_df = pd.concat([pitcher_embedding_map_df, pd.DataFrame(tsne_pitcher, columns = ['tsne_1','tsne_2'])], axis=1, join=\"inner\")"
   ]
  },
  {
   "cell_type": "code",
   "execution_count": null,
   "metadata": {
    "colab": {
     "base_uri": "https://localhost:8080/",
     "height": 1000
    },
    "executionInfo": {
     "elapsed": 1069,
     "status": "ok",
     "timestamp": 1639013349755,
     "user": {
      "displayName": "Joel Klein",
      "photoUrl": "https://lh3.googleusercontent.com/a/default-user=s64",
      "userId": "12422283647264597477"
     },
     "user_tz": 420
    },
    "id": "VV85iK2Nx5t5",
    "outputId": "4321ddb4-0c92-4abd-a214-c4eea818c7a4"
   },
   "outputs": [
    {
     "data": {
      "text/html": [
       "<html>\n",
       "<head><meta charset=\"utf-8\" /></head>\n",
       "<body>\n",
       "    <div>\n",
       "            <script src=\"https://cdnjs.cloudflare.com/ajax/libs/mathjax/2.7.5/MathJax.js?config=TeX-AMS-MML_SVG\"></script><script type=\"text/javascript\">if (window.MathJax) {MathJax.Hub.Config({SVG: {font: \"STIX-Web\"}});}</script>\n",
       "                <script type=\"text/javascript\">window.PlotlyConfig = {MathJaxConfig: 'local'};</script>\n",
       "        <script src=\"https://cdn.plot.ly/plotly-latest.min.js\"></script>    \n",
       "            <div id=\"cceecda9-7863-4ec6-a069-097140cb8ed2\" class=\"plotly-graph-div\" style=\"height:1600px; width:100%;\"></div>\n",
       "            <script type=\"text/javascript\">\n",
       "                \n",
       "                    window.PLOTLYENV=window.PLOTLYENV || {};\n",
       "                    \n",
       "                if (document.getElementById(\"cceecda9-7863-4ec6-a069-097140cb8ed2\")) {\n",
       "                    Plotly.newPlot(\n",
       "                        'cceecda9-7863-4ec6-a069-097140cb8ed2',\n",
       "                        [{\"hoverlabel\": {\"namelength\": 0}, \"hovertemplate\": \"tsne_1=%{x}<br>tsne_2=%{y}<br>batter_name=%{text}\", \"legendgroup\": \"\", \"marker\": {\"color\": \"#636efa\", \"symbol\": \"circle\"}, \"mode\": \"markers+text\", \"name\": \"\", \"showlegend\": false, \"text\": [\"jos\\u00e9 abreu\", \"ronald acuna\", \"willy adames\", \"matt adams\", \"jim adduci\", \"ehire adrianza\", \"jesus aguilar\", \"nick ahmed\", \"ozzie albies\", \"jorge alfaro\", \"greg allen\", \"abraham almonte\", \"albert almora\", \"yonder alonso\", \"aaron altherr\", \"jose altuve\", \"brian anderson\", \"tim anderson\", \"elvis andrus\", \"miguel andujar\", \"nori aoki\", \"orlando arcia\", \"nolan arenado\", \"carlos asuaje\", \"tyler austin\", \"alex avila\", \"erick aybar\", \"harrison bader\", \"javier baez\", \"austin barnes\", \"darwin barney\", \"tucker barnhart\", \"jake bauers\", \"jose bautista\", \"tim beckham\", \"josh bell\", \"cody bellinger\", \"brandon belt\", \"carlos beltran\", \"adrian beltre\", \"andrew benintendi\", \"mookie betts\", \"greg bird\", \"charlie blackmon\", \"gregor blanco\", \"xander bogaerts\", \"jorge bonifacio\", \"justin bour\", \"peter bourjos\", \"jackie bradley\", \"michael brantley\", \"ryan braun\", \"alex bregman\", \"lewis brinson\", \"keon broxton\", \"jay bruce\", \"kris bryant\", \"drew butera\", \"byron buxton\", \"asdrubal cabrera\", \"melky cabrera\", \"miguel cabrera\", \"lorenzo cain\", \"kole calhoun\", \"johan camargo\", \"jeimer candelario\", \"mark canha\", \"robinson cano\", \"victor caratini\", \"matt carpenter\", \"ezequiel carrera\", \"nick castellanos\", \"welington castillo\", \"jason castro\", \"starlin castro\", \"jake cave\", \"francisco cervelli\", \"yoenis c\\u00e9spedes\", \"matt chapman\", \"robinson chirinos\", \"lonnie chisenhall\", \"ji-man choi\", \"shin-soo choo\", \"michael conforto\", \"willson contreras\", \"carlos correa\", \"kaleb cowart\", \"zack cozart\", \"brandon crawford\", \"j. p. crawford\", \"c. j. cron\", \"nelson cruz\", \"charlie culberson\", \"cheslor cuthbert\", \"travis d'arnaud\", \"david dahl\", \"matt davidson\", \"chris davis\", \"khris davis\", \"rajai davis\", \"paul dejong\", \"nick delmonico\", \"daniel descalso\", \"delino deshields\", \"ian desmond\", \"rafael devers\", \"aledmys d\\u00edaz\", \"elias diaz\", \"yandy d\\u00edaz\", \"corey dickerson\", \"derek dietrich\", \"wilmer difo\", \"josh donaldson\", \"brian dozier\", \"hunter dozier\", \"brandon drury\", \"lucas duda\", \"matt duffy\", \"adam duvall\", \"jarrod dyson\", \"adam eaton\", \"a. j. ellis\", \"jacoby ellsbury\", \"edwin encarnacion\", \"adam engel\", \"phil ervin\", \"alcides escobar\", \"eduardo escobar\", \"yunel escobar\", \"danny espinosa\", \"johnny field\", \"derek fisher\", \"ryan flaherty\", \"david fletcher\", \"wilmer flores\", \"tyler flowers\", \"logan forsythe\", \"dexter fowler\", \"maikel franco\", \"adam frazier\", \"todd frazier\", \"freddie freeman\", \"david freese\", \"joey gallo\", \"freddy galvis\", \"ben gamel\", \"avisail garcia\", \"greg garcia\", \"leury garcia\", \"brett gardner\", \"mitch garver\", \"evan gattis\", \"scooter gennett\", \"craig gentry\", \"chris gimenez\", \"ryan goins\", \"paul goldschmidt\", \"yan gomes\", \"carlos gomez\", \"adrian gonzalez\", \"carlos gonzalez\", \"erik gonzalez\", \"marwin gonzalez\", \"niko goodrum\", \"brian goodwin\", \"alex gordon\", \"yasmani grandal\", \"curtis granderson\", \"didi gregorius\", \"randal grichuk\", \"robbie grossman\", \"lourdes gurriel\", \"yuli gurriel\", \"brandon guyer\", \"ronald guzman\", \"jedd gyorko\", \"billy hamilton\", \"mitch haniger\", \"alen hanson\", \"ian happ\", \"j. j. hardy\", \"bryce harper\", \"josh harrison\", \"chase headley\", \"ryon healy\", \"adeiny hechavarria\", \"austin hedges\", \"guillermo heredia\", \"cesar hernandez\", \"enrique hernandez\", \"gorkys hernandez\", \"teoscar hernandez\", \"odubel herrera\", \"rosell herrera\", \"chris herrmann\", \"jason heyward\", \"aaron hicks\", \"john hicks\", \"matt holliday\", \"brock holt\", \"rhys hoskins\", \"eric hosmer\", \"nick hundley\", \"chris iannetta\", \"jos\\u00e9 iglesias\", \"ender inciarte\", \"austin jackson\", \"travis jankowski\", \"john jaso\", \"jon jay\", \"adam jones\", \"jacoby jones\", \"caleb joseph\", \"tommy joseph\", \"matt joyce\", \"aaron judge\", \"matt kemp\", \"tony kemp\", \"howie kendrick\", \"max kepler\", \"kevin kiermaier\", \"hyun soo kim\", \"isiah kiner-falefa\", \"scott kingery\", \"ian kinsler\", \"jason kipnis\", \"andrew knapp\", \"erik kratz\", \"tommy la stella\", \"juan lagares\", \"jake lamb\", \"dj lemahieu\", \"sandy leon\", \"adam lind\", \"francisco lindor\", \"jose lobaton\", \"evan longoria\", \"jed lowrie\", \"jonathan lucroy\", \"dixon machado\", \"manny machado\", \"mikie mahtook\", \"luke maile\", \"martin maldonado\", \"trey mancini\", \"manuel margot\", \"jake marisnick\", \"nick markakis\", \"deven marrero\", \"jefry marte\", \"ketel marte\", \"starling marte\", \"leonys mart\\u00edn\", \"russell martin\", \"j. d. martinez\", \"jose martinez\", \"victor martinez\", \"jeff mathis\", \"joe mauer\", \"bruce maxwell\", \"cameron maybin\", \"nomar mazara\", \"brian mccann\", \"james mccann\", \"andrew mccutchen\", \"ryan mcmahon\", \"jeff mcneil\", \"austin meadows\", \"jordy mercer\", \"whit merrifield\", \"devin mesoraco\", \"brad miller\", \"yadier molina\", \"yoan moncada\", \"adalberto mondesi\", \"kendrys morales\", \"colin moran\", \"mitch moreland\", \"logan morrison\", \"brandon moss\", \"taylor motter\", \"mike moustakas\", \"max muncy\", \"yairo munoz\", \"daniel murphy\", \"j. r. murphy\", \"wil myers\", \"mike napoli\", \"tyler naquin\", \"omar narvaez\", \"brandon nimmo\", \"eduardo nunez\", \"renato nunez\", \"rougned odor\", \"shohei ohtani\", \"matt olson\", \"jose osuna\", \"chris owings\", \"marcell ozuna\", \"daniel palka\", \"joe panik\", \"gerardo parra\", \"steve pearce\", \"joc pederson\", \"dustin pedroia\", \"hunter pence\", \"cliff pennington\", \"david peralta\", \"jose peraza\", \"hernan perez\", \"roberto perez\", \"salvador perez\", \"jace peterson\", \"tommy pham\", \"brandon phillips\", \"brett phillips\", \"kevin pillar\", \"manny pina\", \"chad pinder\", \"jose pirela\", \"stephen piscotty\", \"kevin plawecki\", \"trevor plouffe\", \"gregory polanco\", \"jorge polanco\", \"aj pollock\", \"buster posey\", \"martin prado\", \"alex presley\", \"jurickson profar\", \"yasiel puig\", \"albert pujols\", \"hanley ramirez\", \"jose ramirez\", \"wilson ramos\", \"j. t. realmuto\", \"josh reddick\", \"anthony rendon\", \"hunter renfroe\", \"ben revere\", \"franmil reyes\", \"jose reyes\", \"victor reyes\", \"mark reynolds\", \"joey rickard\", \"jt riddle\", \"rene rivera\", \"anthony rizzo\", \"daniel robertson\", \"drew robinson\", \"ronny rodriguez\", \"sean rodriguez\", \"miguel rojas\", \"andrew romine\", \"austin romine\", \"adam rosales\", \"amed rosario\", \"eddie rosario\", \"ryan rua\", \"cameron rupp\", \"addison russell\", \"tyler saladino\", \"carlos sanchez\", \"gary sanchez\", \"pablo sandoval\", \"miguel sano\", \"carlos santana\", \"domingo santana\", \"scott schebler\", \"jonathan schoop\", \"kyle schwarber\", \"corey seager\", \"kyle seager\", \"jean segura\", \"marcus semien\", \"travis shaw\", \"magneuris sierra\", \"andrelton simmons\", \"chance sisco\", \"austin slater\", \"dominic smith\", \"kevan smith\", \"mallex smith\", \"seth smith\", \"justin smoak\", \"eric sogard\", \"yangervis solarte\", \"jorge soler\", \"juan soto\", \"steven souza\", \"denard span\", \"cory spangenberg\", \"george springer\", \"giancarlo stanton\", \"max stassi\", \"trevor story\", \"dee strange-gordon\", \"eugenio suarez\", \"jesus sucre\", \"kurt suzuki\", \"dansby swanson\", \"chris taylor\", \"michael taylor\", \"eric thames\", \"kelby tomlinson\", \"gleyber torres\", \"ronald torreyes\", \"devon travis\", \"mike trout\", \"mark trumbo\", \"troy tulowitzki\", \"justin turner\", \"trea turner\", \"justin upton\", \"chase utley\", \"pat valaika\", \"luis valbuena\", \"danny valencia\", \"kennys vargas\", \"christian vazquez\", \"christian villanueva\", \"jonathan villar\", \"stephen vogt\", \"luke voit\", \"joey votto\", \"neil walker\", \"joey wendle\", \"jayson werth\", \"tyler white\", \"matt wieters\", \"nick williams\", \"jesse winker\", \"tony wolters\", \"kolten wong\", \"christian yelich\", \"chris young\", \"eric young\", \"bradley zimmer\", \"ryan zimmerman\", \"ben zobrist\", \"mike zunino\"], \"textposition\": \"top center\", \"type\": \"scatter\", \"x\": [-7.518347263336182, -8.709772109985352, 11.269718170166016, -9.738564491271973, -8.993992805480957, -13.383825302124023, 5.81635856628418, 10.09354019165039, 0.5847415924072266, 9.318984031677246, 9.212654113769531, -11.391182899475098, -3.544128894805908, 4.219517707824707, -3.5958096981048584, 0.9812548160552979, 20.94088363647461, -3.0776784420013428, 13.842242240905762, 2.444011688232422, -7.30989933013916, -4.670969009399414, 0.7848268151283264, 7.588866233825684, -7.233144283294678, 12.896138191223145, 8.235509872436523, 10.249333381652832, -1.0239957571029663, -3.474691152572632, -5.955626010894775, -13.149261474609375, -5.044987678527832, -5.993955612182617, 0.28900453448295593, -0.9342339634895325, 5.239294052124023, 13.060467720031738, 13.86042594909668, -0.9651292562484741, -7.911344051361084, 3.5263400077819824, -8.999555587768555, 4.754375457763672, 2.6549015045166016, 12.222949981689453, -15.182411193847656, -8.78757381439209, 2.3210289478302, 19.9317626953125, 9.5267915725708, -8.28442096710205, 7.305684566497803, 8.10594654083252, -10.310522079467773, -1.163848638534546, 18.17795181274414, 7.455368995666504, -2.12919282913208, -14.44174575805664, -12.85942268371582, -2.770366907119751, -6.496595859527588, -4.25895357131958, 14.78947639465332, -6.572616100311279, 5.20041561126709, 1.9270583391189575, -3.5112531185150146, 2.176412582397461, 2.8742005825042725, -0.032065700739622116, -10.527329444885254, -5.883465766906738, 10.236793518066406, 0.6419526934623718, 0.7297106981277466, -11.624739646911621, -4.872021198272705, -0.25625962018966675, -1.4509645700454712, -0.4674104154109955, -5.077714443206787, -6.172082424163818, -6.341772079467773, -6.637242317199707, -13.7657470703125, -9.918549537658691, 7.642498970031738, 14.382164001464844, 7.29659366607666, 8.706719398498535, 18.255544662475586, 7.362732410430908, -16.890100479125977, 16.97907257080078, 0.5346996784210205, 5.370262145996094, 11.280835151672363, -13.679621696472168, 4.159572601318359, 14.49195671081543, 2.8695411682128906, -8.749918937683105, 10.429091453552246, 18.363067626953125, 8.733487129211426, -15.758533477783203, -0.34877824783325195, -5.991269588470459, 8.60544490814209, -7.083652496337891, 5.719855785369873, 7.543725490570068, 7.14443826675415, 14.80813980102539, 0.9822025895118713, 10.815258979797363, -4.3947577476501465, -9.520102500915527, -3.4197981357574463, -1.8460569381713867, -6.389867782592773, 5.984376907348633, -8.51490592956543, 0.4659861922264099, 10.644217491149902, 1.9052406549453735, -4.749166011810303, -6.018198013305664, 7.450225830078125, -3.600224256515503, -5.158810138702393, -2.182187795639038, 7.230376720428467, -12.674653053283691, -5.84318208694458, 0.6319472193717957, -6.972042560577393, 2.694610595703125, 4.666180610656738, 0.9581231474876404, -4.850031852722168, 8.054718971252441, -1.3340113162994385, 0.0219111330807209, 13.212270736694336, 1.7403255701065063, -1.200542688369751, 15.310272216796875, 0.954641580581665, 19.080482482910156, -12.33617115020752, -3.860098361968994, -8.440530776977539, -5.0103044509887695, -3.350919723510742, 13.197343826293945, -7.452971935272217, 4.907418251037598, 8.718214988708496, -13.251442909240723, -9.728225708007812, -1.7320953607559204, -7.44363260269165, -3.596766710281372, 18.302013397216797, 12.951398849487305, -5.07485818862915, 4.719332695007324, 19.200422286987305, 6.138833999633789, -10.714157104492188, 9.07973861694336, -1.0172076225280762, -8.489920616149902, -7.657776832580566, -2.9142167568206787, -15.984271049499512, -10.502302169799805, -19.499881744384766, 15.365368843078613, 8.147705078125, -11.289769172668457, -2.177016258239746, -16.367755889892578, -8.673394203186035, -2.697641134262085, -14.516077995300293, 0.2513054609298706, -5.135917663574219, -0.621381402015686, 3.3878393173217773, 2.4337756633758545, -9.838475227355957, 1.6890149116516113, -0.054849788546562195, -2.2746682167053223, -15.86959457397461, 19.74178695678711, 6.8184685707092285, 3.862786054611206, -14.642339706420898, -17.094181060791016, -9.286230087280273, -2.179882526397705, 6.1016435623168945, -3.5720438957214355, -4.3257575035095215, -12.200353622436523, -2.392597198486328, -15.977519035339355, -7.9503278732299805, 2.9094972610473633, 11.343343734741211, -4.246303081512451, -7.093162536621094, -14.262977600097656, 8.878790855407715, 4.769975662231445, -2.66675066947937, 10.999310493469238, 8.426753044128418, 13.650522232055664, 5.921635150909424, -4.290448188781738, 4.16505241394043, -5.558432579040527, 0.8040427565574646, -0.46278414130210876, 0.19069790840148926, -12.461282730102539, -3.025113582611084, -4.1430134773254395, -17.4138240814209, 3.127730131149292, 4.986138820648193, 7.188629627227783, -3.843695878982544, 10.560090065002441, -12.27509593963623, 7.7058491706848145, 12.129054069519043, -19.987031936645508, -6.400547504425049, 6.349714756011963, -12.812189102172852, 4.838912010192871, 16.13801383972168, 4.566702365875244, 2.509645700454712, 10.442831993103027, 2.4246888160705566, 7.985154628753662, 4.25042724609375, -3.3523621559143066, -8.797595024108887, 14.62386417388916, 8.679774284362793, 17.855545043945312, 1.6721738576889038, 11.570816040039062, 0.020427124574780464, -18.74829864501953, -8.39888858795166, -0.7339694499969482, 6.812399387359619, 5.029516696929932, 13.414175033569336, -19.0789794921875, -4.112120151519775, -0.914186954498291, -14.987120628356934, 10.877494812011719, -0.05978315323591232, -2.759279489517212, -2.3745839595794678, -1.8761488199234009, -12.60551643371582, 14.553403854370117, 0.22673948109149933, -0.9842270016670227, 2.3531079292297363, -1.3324711322784424, 1.7488480806350708, -6.856533050537109, -15.54051685333252, -1.0719778537750244, 6.953342914581299, -11.296822547912598, 1.7181090116500854, -2.1207737922668457, -1.0526840686798096, -7.8520684242248535, -14.432896614074707, -3.512664556503296, 11.403373718261719, -0.16267389059066772, -3.399259090423584, 0.9658319354057312, 5.543888568878174, 9.21017074584961, -6.584980010986328, -15.916563034057617, -0.891727864742279, -12.559687614440918, -14.486296653747559, -4.488667011260986, 10.306838035583496, 7.235416412353516, 7.132813930511475, 12.349255561828613, -2.1169161796569824, -4.929471015930176, 8.368492126464844, -0.8608244061470032, -11.364888191223145, 7.062185764312744, 15.640822410583496, -12.174927711486816, -2.8260974884033203, 19.98050308227539, -1.0973641872406006, -18.724773406982422, 2.9846208095550537, -1.2628231048583984, -2.202244520187378, 16.786046981811523, 6.773482799530029, 5.308043003082275, 1.1594983339309692, 5.139690399169922, 6.580504417419434, -6.883777141571045, 14.565460205078125, 3.0820300579071045, -17.217859268188477, -2.1718952655792236, -10.15152645111084, 4.654097080230713, 2.861196756362915, 3.693910837173462, 6.69784688949585, -0.8143512010574341, -18.1806697845459, -3.833540439605713, 14.49133014678955, 18.60074806213379, 1.4363926649093628, -2.5037126541137695, 2.434256076812744, -5.990170955657959, -11.449248313903809, 3.3369009494781494, 2.626711845397949, -18.51423454284668, -3.516680955886841, 15.66600227355957, -13.58651065826416, 13.980724334716797, 6.638676643371582, -2.012655735015869, 7.113740921020508, -15.680062294006348, 3.1201562881469727, 4.578540325164795, -7.834277629852295, -11.714339256286621, -7.013523101806641, 6.479676723480225, -10.242233276367188, -2.8605666160583496, 10.815726280212402, -6.875925064086914, 2.7898740768432617, -13.336087226867676, -10.004704475402832, 10.562451362609863, -0.9545987844467163, 1.8030622005462646, -2.1652393341064453, -9.839886665344238, -8.185721397399902, 3.3016726970672607, 7.836753845214844, -9.223991394042969, -5.987063884735107, 14.165206909179688, -6.240792274475098, -3.9777097702026367, -18.16997528076172, 5.995858669281006, 10.945866584777832, 7.362379550933838, -12.301575660705566, -3.314574718475342, -3.2493810653686523, -13.871070861816406, -15.255887031555176, 14.851033210754395, 2.141563892364502, -2.0387258529663086, 5.2217793464660645, -17.68436622619629, 10.530986785888672, 18.55963134765625, 1.1294382810592651, -8.35626220703125, -2.0836758613586426, 3.740861415863037, -7.652390956878662, 16.330564498901367, 4.351741790771484, -6.2502593994140625, 4.173493385314941, 2.5380537509918213, 6.573116779327393, 14.307435989379883, -14.505189895629883, -8.994016647338867, 1.9997568130493164, 9.768170356750488, 17.64083480834961, 6.9819231033325195, 3.1898081302642822, -4.482532501220703, -16.545440673828125, -6.889479637145996, 4.299278259277344, -0.23980394005775452, -1.159447193145752, -16.019939422607422, -12.39164924621582, 11.843544006347656, -3.045100450515747, 11.395624160766602, 2.7507870197296143, -10.665836334228516, 6.402695655822754, 3.9593629837036133, 2.8889849185943604], \"xaxis\": \"x\", \"y\": [-1.7025377750396729, -3.0709304809570312, 4.088507175445557, -6.162095069885254, 12.861512184143066, 1.8031901121139526, 2.420982599258423, -4.8466081619262695, -13.168990135192871, -4.756348609924316, 15.196584701538086, 8.564927101135254, -3.396439790725708, 11.368550300598145, -6.456000328063965, 0.929377555847168, 0.8471602201461792, 6.569644927978516, 1.043788194656372, -18.533607482910156, 7.397671222686768, 16.796743392944336, -16.422351837158203, -7.440502166748047, 3.6051950454711914, 14.743638038635254, -1.403084635734558, 2.3219573497772217, 3.7350757122039795, 1.969620943069458, 16.48480987548828, -12.450357437133789, 2.1999001502990723, -15.97659683227539, 7.4184794425964355, 16.180438995361328, 4.536027908325195, 5.491676330566406, -2.0489730834960938, 4.476855278015137, -8.630684852600098, 13.815736770629883, -0.5833073854446411, 9.014113426208496, -11.330216407775879, -7.288049697875977, -1.438847541809082, 7.184304714202881, -5.129318714141846, 5.250612258911133, 2.577214002609253, 19.100269317626953, -3.5958034992218018, 8.755000114440918, 1.9604731798171997, 0.8883377313613892, 3.418626308441162, 10.882137298583984, 17.35613441467285, 4.136221885681152, 14.902806282043457, 14.623552322387695, 1.227594256401062, 4.041423797607422, -0.8799222111701965, -18.12898826599121, 16.67922592163086, 6.7891621589660645, 7.263203144073486, -9.76269245147705, 6.4574294090271, -10.507694244384766, -3.848374605178833, 12.379814147949219, 7.54599666595459, 5.000917911529541, 1.909608006477356, 15.034136772155762, -14.914749145507812, -4.392373085021973, -11.729313850402832, -6.060330867767334, -14.840038299560547, -14.7621488571167, 5.363954067230225, -8.633651733398438, 8.76522445678711, 12.546330451965332, -4.194170951843262, 8.862380981445312, -1.1806769371032715, 4.896758079528809, -7.390786170959473, 4.911818027496338, -3.4835150241851807, -5.554549217224121, 6.775002479553223, -8.984909057617188, -12.513903617858887, 5.092172145843506, -6.746631145477295, 8.896780967712402, 4.432134628295898, 5.081440448760986, -0.8486640453338623, 2.9016482830047607, 14.668804168701172, 12.858736038208008, -0.7881463766098022, 17.13205337524414, -8.819212913513184, 8.991790771484375, -6.186630725860596, -10.427700996398926, -5.9639787673950195, -7.1989898681640625, -5.8438920974731445, -2.611382484436035, -11.150586128234863, 0.6331380009651184, -17.643260955810547, -0.9118712544441223, 8.261534690856934, 14.161626815795898, 8.797987937927246, 5.64865779876709, 11.71426773071289, -6.87283182144165, 2.645542860031128, 2.943559408187866, 13.053343772888184, 5.178510665893555, 16.403047561645508, 1.4871577024459839, 8.579180717468262, 5.26707124710083, 10.859200477600098, -20.179391860961914, 11.09639835357666, -8.342041015625, -14.432805061340332, 9.27719497680664, -0.6379656195640564, 10.818924903869629, 8.230363845825195, -8.491881370544434, -6.451009273529053, 17.478595733642578, -14.02764892578125, -2.4245693683624268, 0.7808594703674316, -5.205630302429199, -5.1434125900268555, 8.388626098632812, 13.979866981506348, -3.5035512447357178, -4.7748212814331055, -0.2738058269023895, 9.328794479370117, -3.486868381500244, 14.614690780639648, -12.20279598236084, -6.025200843811035, 5.3658013343811035, 8.012187957763672, 18.223058700561523, 1.2078338861465454, 8.769335746765137, -4.256687641143799, -0.3107905685901642, -5.297675609588623, 0.10687173902988434, 8.476780891418457, -7.056588172912598, 2.7139551639556885, -11.039924621582031, -7.732053756713867, 0.522302508354187, 0.4957211911678314, 4.516944885253906, 1.7475043535232544, -2.6968865394592285, 13.772616386413574, -1.655205249786377, -13.703950881958008, 3.7559876441955566, 5.134531497955322, 11.76207447052002, 7.090819358825684, -9.876748085021973, 17.92804718017578, 9.607856750488281, -14.311563491821289, 13.776244163513184, 3.5173258781433105, -8.227293014526367, -13.930131912231445, 17.5067138671875, -4.241787910461426, -3.8215317726135254, -1.657143235206604, -2.1340231895446777, 7.382883071899414, -2.5362398624420166, -9.016401290893555, -0.24741101264953613, -10.045707702636719, -8.64745044708252, 1.6202667951583862, 6.9166998863220215, 14.70376205444336, 3.109133720397949, -14.375692367553711, 3.138488292694092, 1.8049006462097168, -7.914691925048828, -4.710169792175293, 1.229671597480774, 0.7711455225944519, -14.398977279663086, -12.033806800842285, -1.7460461854934692, 1.531596064567566, 10.54800796508789, 9.759201049804688, 6.133105754852295, -18.0655460357666, -0.06611771136522293, -1.6018970012664795, -7.899220943450928, 3.5391461849212646, -5.113069534301758, 9.057371139526367, 7.540255546569824, -1.1121721267700195, -14.546761512756348, -7.944619178771973, -14.80142879486084, -0.057564202696084976, 6.997117042541504, 1.054626703262329, 16.45294189453125, 3.7262513637542725, 2.039503574371338, 1.3477120399475098, 3.2012782096862793, -12.750785827636719, 4.847644805908203, -0.6464453935623169, -4.805936813354492, 0.5647677183151245, -11.546944618225098, -12.2373046875, -13.311897277832031, -11.858479499816895, -2.175154685974121, 1.085925579071045, 6.324285507202148, -9.212773323059082, -6.699951171875, 2.651852607727051, -8.114622116088867, -10.284300804138184, -1.6457288265228271, 19.384061813354492, 11.471935272216797, 4.601513385772705, 16.970521926879883, -6.534814834594727, 5.863226890563965, -5.997769832611084, -9.459907531738281, 4.249479293823242, -3.588230609893799, 7.334273815155029, 1.0536030530929565, 11.593626976013184, -5.599806308746338, -8.921350479125977, 3.08676815032959, -14.897974014282227, -4.977066993713379, 4.758319854736328, -1.400647521018982, -3.7687623500823975, 10.756250381469727, 2.0081231594085693, 9.384584426879883, 1.6229822635650635, 4.317256450653076, 11.441784858703613, -6.905953407287598, 6.376157283782959, -0.8278493285179138, 8.986915588378906, -17.853818893432617, 3.587385654449463, 11.766313552856445, 16.34370231628418, -5.838321685791016, -7.560622692108154, -3.594845771789551, 9.523184776306152, 1.3461053371429443, 1.009982943534851, 13.082740783691406, 10.053400039672852, 4.240619659423828, 0.9728997945785522, -3.4182076454162598, 6.311846733093262, 3.4820876121520996, -10.082801818847656, -4.604893207550049, 2.3623571395874023, -1.7309322357177734, 9.779343605041504, 8.661413192749023, 8.674437522888184, 4.209629535675049, 9.24362564086914, -0.21015949547290802, -3.8840694427490234, -6.8089728355407715, 13.770461082458496, -5.3653435707092285, -3.144911289215088, -4.931268215179443, -12.629560470581055, 6.54498815536499, -13.075955390930176, -3.521413803100586, -5.932241439819336, -1.7420977354049683, -1.743327260017395, 9.207723617553711, 5.591262340545654, 4.176007270812988, 6.105138778686523, 7.01537561416626, 5.223179817199707, -17.22511100769043, -13.396178245544434, 15.438291549682617, 5.8400349617004395, -7.299428939819336, -6.93555212020874, 2.3546440601348877, -19.4954891204834, -2.7960240840911865, -1.3033572435379028, -7.399988651275635, 14.553051948547363, -3.0226457118988037, -8.20494270324707, 0.9291843771934509, 12.242673873901367, -4.222502708435059, 4.5258378982543945, 8.5646390914917, 13.627530097961426, -4.511951446533203, 0.05208795517683029, -0.16006620228290558, 0.964245617389679, -7.415528774261475, -8.386909484863281, 2.528916597366333, 17.6813907623291, -9.246037483215332, 1.8771319389343262, -4.539161682128906, 5.668308258056641, 4.52712869644165, -4.697265148162842, 3.186394214630127, -0.9907440543174744, 7.015336036682129, 5.852172374725342, -6.669240474700928, -4.980292797088623, 10.359946250915527, 13.634906768798828, -2.4202706813812256, 3.458501100540161, 10.228230476379395, -9.361724853515625, 2.0666427612304688, 5.5621795654296875, 19.57590675354004, -4.0489912033081055, -1.6919147968292236, -11.9568452835083, -13.578262329101562, 6.700621128082275, -10.812707901000977, 4.885393142700195, -1.4572497606277466, -6.915179252624512, 5.826197147369385, -3.115300416946411, -5.9156012535095215, -16.824575424194336, -0.9593594074249268, 11.694352149963379, 2.1087489128112793, 2.9917311668395996, -11.349569320678711, 2.543630838394165, 1.1973164081573486, 3.361400842666626, -1.9900836944580078, 11.258157730102539, -6.283469200134277, 9.0966157913208, -11.86618423461914, 12.647493362426758, 12.100412368774414, 9.772517204284668, 8.119095802307129, 8.283668518066406, 4.32689905166626, -4.183450698852539, -0.2267199605703354, -17.935876846313477, 8.543266296386719, 5.079268455505371, -6.525555610656738, 2.4940478801727295, 6.707788467407227, 14.659828186035156, -4.714611530303955, 12.096014976501465, -6.440343856811523, -15.080792427062988, 6.550957202911377, 9.112459182739258, -1.0939550399780273, 1.0459750890731812, 0.39832520484924316, 2.1235082149505615], \"yaxis\": \"y\"}],\n",
       "                        {\"height\": 1600, \"legend\": {\"tracegroupgap\": 0}, \"margin\": {\"t\": 60}, \"template\": {\"data\": {\"bar\": [{\"error_x\": {\"color\": \"#2a3f5f\"}, \"error_y\": {\"color\": \"#2a3f5f\"}, \"marker\": {\"line\": {\"color\": \"#E5ECF6\", \"width\": 0.5}}, \"type\": \"bar\"}], \"barpolar\": [{\"marker\": {\"line\": {\"color\": \"#E5ECF6\", \"width\": 0.5}}, \"type\": \"barpolar\"}], \"carpet\": [{\"aaxis\": {\"endlinecolor\": \"#2a3f5f\", \"gridcolor\": \"white\", \"linecolor\": \"white\", \"minorgridcolor\": \"white\", \"startlinecolor\": \"#2a3f5f\"}, \"baxis\": {\"endlinecolor\": \"#2a3f5f\", \"gridcolor\": \"white\", \"linecolor\": \"white\", \"minorgridcolor\": \"white\", \"startlinecolor\": \"#2a3f5f\"}, \"type\": \"carpet\"}], \"choropleth\": [{\"colorbar\": {\"outlinewidth\": 0, \"ticks\": \"\"}, \"type\": \"choropleth\"}], \"contour\": [{\"colorbar\": {\"outlinewidth\": 0, \"ticks\": \"\"}, \"colorscale\": [[0.0, \"#0d0887\"], [0.1111111111111111, \"#46039f\"], [0.2222222222222222, \"#7201a8\"], [0.3333333333333333, \"#9c179e\"], [0.4444444444444444, \"#bd3786\"], [0.5555555555555556, \"#d8576b\"], [0.6666666666666666, \"#ed7953\"], [0.7777777777777778, \"#fb9f3a\"], [0.8888888888888888, \"#fdca26\"], [1.0, \"#f0f921\"]], \"type\": \"contour\"}], \"contourcarpet\": [{\"colorbar\": {\"outlinewidth\": 0, \"ticks\": \"\"}, \"type\": \"contourcarpet\"}], \"heatmap\": [{\"colorbar\": {\"outlinewidth\": 0, \"ticks\": \"\"}, \"colorscale\": [[0.0, \"#0d0887\"], [0.1111111111111111, \"#46039f\"], [0.2222222222222222, \"#7201a8\"], [0.3333333333333333, \"#9c179e\"], [0.4444444444444444, \"#bd3786\"], [0.5555555555555556, \"#d8576b\"], [0.6666666666666666, \"#ed7953\"], [0.7777777777777778, \"#fb9f3a\"], [0.8888888888888888, \"#fdca26\"], [1.0, \"#f0f921\"]], \"type\": \"heatmap\"}], \"heatmapgl\": [{\"colorbar\": {\"outlinewidth\": 0, \"ticks\": \"\"}, \"colorscale\": [[0.0, \"#0d0887\"], [0.1111111111111111, \"#46039f\"], [0.2222222222222222, \"#7201a8\"], [0.3333333333333333, \"#9c179e\"], [0.4444444444444444, \"#bd3786\"], [0.5555555555555556, \"#d8576b\"], [0.6666666666666666, \"#ed7953\"], [0.7777777777777778, \"#fb9f3a\"], [0.8888888888888888, \"#fdca26\"], [1.0, \"#f0f921\"]], \"type\": \"heatmapgl\"}], \"histogram\": [{\"marker\": {\"colorbar\": {\"outlinewidth\": 0, \"ticks\": \"\"}}, \"type\": \"histogram\"}], \"histogram2d\": [{\"colorbar\": {\"outlinewidth\": 0, \"ticks\": \"\"}, \"colorscale\": [[0.0, \"#0d0887\"], [0.1111111111111111, \"#46039f\"], [0.2222222222222222, \"#7201a8\"], [0.3333333333333333, \"#9c179e\"], [0.4444444444444444, \"#bd3786\"], [0.5555555555555556, \"#d8576b\"], [0.6666666666666666, \"#ed7953\"], [0.7777777777777778, \"#fb9f3a\"], [0.8888888888888888, \"#fdca26\"], [1.0, \"#f0f921\"]], \"type\": \"histogram2d\"}], \"histogram2dcontour\": [{\"colorbar\": {\"outlinewidth\": 0, \"ticks\": \"\"}, \"colorscale\": [[0.0, \"#0d0887\"], [0.1111111111111111, \"#46039f\"], [0.2222222222222222, \"#7201a8\"], [0.3333333333333333, \"#9c179e\"], [0.4444444444444444, \"#bd3786\"], [0.5555555555555556, \"#d8576b\"], [0.6666666666666666, \"#ed7953\"], [0.7777777777777778, \"#fb9f3a\"], [0.8888888888888888, \"#fdca26\"], [1.0, \"#f0f921\"]], \"type\": \"histogram2dcontour\"}], \"mesh3d\": [{\"colorbar\": {\"outlinewidth\": 0, \"ticks\": \"\"}, \"type\": \"mesh3d\"}], \"parcoords\": [{\"line\": {\"colorbar\": {\"outlinewidth\": 0, \"ticks\": \"\"}}, \"type\": \"parcoords\"}], \"pie\": [{\"automargin\": true, \"type\": \"pie\"}], \"scatter\": [{\"marker\": {\"colorbar\": {\"outlinewidth\": 0, \"ticks\": \"\"}}, \"type\": \"scatter\"}], \"scatter3d\": [{\"line\": {\"colorbar\": {\"outlinewidth\": 0, \"ticks\": \"\"}}, \"marker\": {\"colorbar\": {\"outlinewidth\": 0, \"ticks\": \"\"}}, \"type\": \"scatter3d\"}], \"scattercarpet\": [{\"marker\": {\"colorbar\": {\"outlinewidth\": 0, \"ticks\": \"\"}}, \"type\": \"scattercarpet\"}], \"scattergeo\": [{\"marker\": {\"colorbar\": {\"outlinewidth\": 0, \"ticks\": \"\"}}, \"type\": \"scattergeo\"}], \"scattergl\": [{\"marker\": {\"colorbar\": {\"outlinewidth\": 0, \"ticks\": \"\"}}, \"type\": \"scattergl\"}], \"scattermapbox\": [{\"marker\": {\"colorbar\": {\"outlinewidth\": 0, \"ticks\": \"\"}}, \"type\": \"scattermapbox\"}], \"scatterpolar\": [{\"marker\": {\"colorbar\": {\"outlinewidth\": 0, \"ticks\": \"\"}}, \"type\": \"scatterpolar\"}], \"scatterpolargl\": [{\"marker\": {\"colorbar\": {\"outlinewidth\": 0, \"ticks\": \"\"}}, \"type\": \"scatterpolargl\"}], \"scatterternary\": [{\"marker\": {\"colorbar\": {\"outlinewidth\": 0, \"ticks\": \"\"}}, \"type\": \"scatterternary\"}], \"surface\": [{\"colorbar\": {\"outlinewidth\": 0, \"ticks\": \"\"}, \"colorscale\": [[0.0, \"#0d0887\"], [0.1111111111111111, \"#46039f\"], [0.2222222222222222, \"#7201a8\"], [0.3333333333333333, \"#9c179e\"], [0.4444444444444444, \"#bd3786\"], [0.5555555555555556, \"#d8576b\"], [0.6666666666666666, \"#ed7953\"], [0.7777777777777778, \"#fb9f3a\"], [0.8888888888888888, \"#fdca26\"], [1.0, \"#f0f921\"]], \"type\": \"surface\"}], \"table\": [{\"cells\": {\"fill\": {\"color\": \"#EBF0F8\"}, \"line\": {\"color\": \"white\"}}, \"header\": {\"fill\": {\"color\": \"#C8D4E3\"}, \"line\": {\"color\": \"white\"}}, \"type\": \"table\"}]}, \"layout\": {\"annotationdefaults\": {\"arrowcolor\": \"#2a3f5f\", \"arrowhead\": 0, \"arrowwidth\": 1}, \"coloraxis\": {\"colorbar\": {\"outlinewidth\": 0, \"ticks\": \"\"}}, \"colorscale\": {\"diverging\": [[0, \"#8e0152\"], [0.1, \"#c51b7d\"], [0.2, \"#de77ae\"], [0.3, \"#f1b6da\"], [0.4, \"#fde0ef\"], [0.5, \"#f7f7f7\"], [0.6, \"#e6f5d0\"], [0.7, \"#b8e186\"], [0.8, \"#7fbc41\"], [0.9, \"#4d9221\"], [1, \"#276419\"]], \"sequential\": [[0.0, \"#0d0887\"], [0.1111111111111111, \"#46039f\"], [0.2222222222222222, \"#7201a8\"], [0.3333333333333333, \"#9c179e\"], [0.4444444444444444, \"#bd3786\"], [0.5555555555555556, \"#d8576b\"], [0.6666666666666666, \"#ed7953\"], [0.7777777777777778, \"#fb9f3a\"], [0.8888888888888888, \"#fdca26\"], [1.0, \"#f0f921\"]], \"sequentialminus\": [[0.0, \"#0d0887\"], [0.1111111111111111, \"#46039f\"], [0.2222222222222222, \"#7201a8\"], [0.3333333333333333, \"#9c179e\"], [0.4444444444444444, \"#bd3786\"], [0.5555555555555556, \"#d8576b\"], [0.6666666666666666, \"#ed7953\"], [0.7777777777777778, \"#fb9f3a\"], [0.8888888888888888, \"#fdca26\"], [1.0, \"#f0f921\"]]}, \"colorway\": [\"#636efa\", \"#EF553B\", \"#00cc96\", \"#ab63fa\", \"#FFA15A\", \"#19d3f3\", \"#FF6692\", \"#B6E880\", \"#FF97FF\", \"#FECB52\"], \"font\": {\"color\": \"#2a3f5f\"}, \"geo\": {\"bgcolor\": \"white\", \"lakecolor\": \"white\", \"landcolor\": \"#E5ECF6\", \"showlakes\": true, \"showland\": true, \"subunitcolor\": \"white\"}, \"hoverlabel\": {\"align\": \"left\"}, \"hovermode\": \"closest\", \"mapbox\": {\"style\": \"light\"}, \"paper_bgcolor\": \"white\", \"plot_bgcolor\": \"#E5ECF6\", \"polar\": {\"angularaxis\": {\"gridcolor\": \"white\", \"linecolor\": \"white\", \"ticks\": \"\"}, \"bgcolor\": \"#E5ECF6\", \"radialaxis\": {\"gridcolor\": \"white\", \"linecolor\": \"white\", \"ticks\": \"\"}}, \"scene\": {\"xaxis\": {\"backgroundcolor\": \"#E5ECF6\", \"gridcolor\": \"white\", \"gridwidth\": 2, \"linecolor\": \"white\", \"showbackground\": true, \"ticks\": \"\", \"zerolinecolor\": \"white\"}, \"yaxis\": {\"backgroundcolor\": \"#E5ECF6\", \"gridcolor\": \"white\", \"gridwidth\": 2, \"linecolor\": \"white\", \"showbackground\": true, \"ticks\": \"\", \"zerolinecolor\": \"white\"}, \"zaxis\": {\"backgroundcolor\": \"#E5ECF6\", \"gridcolor\": \"white\", \"gridwidth\": 2, \"linecolor\": \"white\", \"showbackground\": true, \"ticks\": \"\", \"zerolinecolor\": \"white\"}}, \"shapedefaults\": {\"line\": {\"color\": \"#2a3f5f\"}}, \"ternary\": {\"aaxis\": {\"gridcolor\": \"white\", \"linecolor\": \"white\", \"ticks\": \"\"}, \"baxis\": {\"gridcolor\": \"white\", \"linecolor\": \"white\", \"ticks\": \"\"}, \"bgcolor\": \"#E5ECF6\", \"caxis\": {\"gridcolor\": \"white\", \"linecolor\": \"white\", \"ticks\": \"\"}}, \"title\": {\"x\": 0.05}, \"xaxis\": {\"automargin\": true, \"gridcolor\": \"white\", \"linecolor\": \"white\", \"ticks\": \"\", \"title\": {\"standoff\": 15}, \"zerolinecolor\": \"white\", \"zerolinewidth\": 2}, \"yaxis\": {\"automargin\": true, \"gridcolor\": \"white\", \"linecolor\": \"white\", \"ticks\": \"\", \"title\": {\"standoff\": 15}, \"zerolinecolor\": \"white\", \"zerolinewidth\": 2}}}, \"title\": {\"text\": \"TSNE of MLB Batters\"}, \"xaxis\": {\"anchor\": \"y\", \"domain\": [0.0, 1.0], \"title\": {\"text\": \"tsne_1\"}}, \"yaxis\": {\"anchor\": \"x\", \"domain\": [0.0, 1.0], \"title\": {\"text\": \"tsne_2\"}}},\n",
       "                        {\"responsive\": true}\n",
       "                    ).then(function(){\n",
       "                            \n",
       "var gd = document.getElementById('cceecda9-7863-4ec6-a069-097140cb8ed2');\n",
       "var x = new MutationObserver(function (mutations, observer) {{\n",
       "        var display = window.getComputedStyle(gd).display;\n",
       "        if (!display || display === 'none') {{\n",
       "            console.log([gd, 'removed!']);\n",
       "            Plotly.purge(gd);\n",
       "            observer.disconnect();\n",
       "        }}\n",
       "}});\n",
       "\n",
       "// Listen for the removal of the full notebook cells\n",
       "var notebookContainer = gd.closest('#notebook-container');\n",
       "if (notebookContainer) {{\n",
       "    x.observe(notebookContainer, {childList: true});\n",
       "}}\n",
       "\n",
       "// Listen for the clearing of the current output cell\n",
       "var outputEl = gd.closest('.output');\n",
       "if (outputEl) {{\n",
       "    x.observe(outputEl, {childList: true});\n",
       "}}\n",
       "\n",
       "                        })\n",
       "                };\n",
       "                \n",
       "            </script>\n",
       "        </div>\n",
       "</body>\n",
       "</html>"
      ]
     },
     "metadata": {},
     "output_type": "display_data"
    }
   ],
   "source": [
    "# tsne batter scatterplot\n",
    "fig = px.scatter(batter_embedding_map_tsne_df, x=\"tsne_1\", y=\"tsne_2\", text=\"batter_name\")\n",
    "\n",
    "fig.update_traces(textposition='top center')\n",
    "\n",
    "fig.update_layout(\n",
    "    height=1600,\n",
    "    title_text='TSNE of MLB Batters'\n",
    ")\n",
    "\n",
    "fig.show()"
   ]
  },
  {
   "cell_type": "code",
   "execution_count": null,
   "metadata": {
    "colab": {
     "base_uri": "https://localhost:8080/",
     "height": 1000
    },
    "executionInfo": {
     "elapsed": 596,
     "status": "ok",
     "timestamp": 1639013357883,
     "user": {
      "displayName": "Joel Klein",
      "photoUrl": "https://lh3.googleusercontent.com/a/default-user=s64",
      "userId": "12422283647264597477"
     },
     "user_tz": 420
    },
    "id": "oaTslxL20B97",
    "outputId": "d6362888-5e18-453d-cf60-75f05c593ea4"
   },
   "outputs": [
    {
     "data": {
      "text/html": [
       "<html>\n",
       "<head><meta charset=\"utf-8\" /></head>\n",
       "<body>\n",
       "    <div>\n",
       "            <script src=\"https://cdnjs.cloudflare.com/ajax/libs/mathjax/2.7.5/MathJax.js?config=TeX-AMS-MML_SVG\"></script><script type=\"text/javascript\">if (window.MathJax) {MathJax.Hub.Config({SVG: {font: \"STIX-Web\"}});}</script>\n",
       "                <script type=\"text/javascript\">window.PlotlyConfig = {MathJaxConfig: 'local'};</script>\n",
       "        <script src=\"https://cdn.plot.ly/plotly-latest.min.js\"></script>    \n",
       "            <div id=\"743e6f8b-763e-4e36-9b32-3dd49f5bc0d6\" class=\"plotly-graph-div\" style=\"height:1600px; width:100%;\"></div>\n",
       "            <script type=\"text/javascript\">\n",
       "                \n",
       "                    window.PLOTLYENV=window.PLOTLYENV || {};\n",
       "                    \n",
       "                if (document.getElementById(\"743e6f8b-763e-4e36-9b32-3dd49f5bc0d6\")) {\n",
       "                    Plotly.newPlot(\n",
       "                        '743e6f8b-763e-4e36-9b32-3dd49f5bc0d6',\n",
       "                        [{\"hoverlabel\": {\"namelength\": 0}, \"hovertemplate\": \"tsne_1=%{x}<br>tsne_2=%{y}<br>pitcher_name=%{text}\", \"legendgroup\": \"\", \"marker\": {\"color\": \"#636efa\", \"symbol\": \"circle\"}, \"mode\": \"markers+text\", \"name\": \"\", \"showlegend\": false, \"text\": [\"tim adleman\", \"matt albers\", \"scott alexander\", \"cody allen\", \"dan altavilla\", \"jose alvarado\", \"jose alvarez\", \"brett anderson\", \"chase anderson\", \"justin anderson\", \"tyler anderson\", \"matt andriese\", \"victor arano\", \"chris archer\", \"jake arrieta\", \"bronson arroyo\", \"alec asher\", \"luis avilan\", \"john axford\", \"pedro baez\", \"homer bailey\", \"danny barnes\", \"jacob barnes\", \"matt barnes\", \"tony barnette\", \"kyle barraclough\", \"jaime barria\", \"trevor bauer\", \"chris beck\", \"cam bedrosian\", \"jalen beeks\", \"matt belisle\", \"chad bell\", \"christian bergman\", \"jose berrios\", \"dellin betances\", \"chad bettis\", \"joe biagini\", \"austin bibens-dirkx\", \"jesse biddle\", \"shane bieber\", \"ty blach\", \"paul blackburn\", \"richard bleier\", \"jerry blevins\", \"ryan borucki\", \"matthew bowman\", \"brad boxberger\", \"matt boyd\", \"blaine boyer\", \"brad brach\", \"chase bradford\", \"archie bradley\", \"steven brault\", \"john brebbia\", \"austin brice\", \"parker bridwell\", \"zack britton\", \"clay buchholz\", \"ryan buchter\", \"walker buehler\", \"madison bumgarner\", \"dylan bundy\", \"alan busenitz\", \"matt bush\", \"eddie butler\", \"trevor cahill\", \"matt cain\", \"shane carle\", \"carlos carrasco\", \"andrew cashner\", \"santiago casilla\", \"diego castillo\", \"luis castillo\", \"miguel castro\", \"brett cecil\", \"luis cessa\", \"jhoulys chacin\", \"andrew chafin\", \"aroldis chapman\", \"tyler chatwood\", \"jesse chavez\", \"wei-yin chen\", \"yonny chirinos\", \"steve cishek\", \"alex claudio\", \"mike clevinger\", \"tyler clippard\", \"alex cobb\", \"a. j. cole\", \"gerrit cole\", \"louis coleman\", \"alex colome\", \"bartolo colon\", \"adam conley\", \"patrick corbin\", \"jharel cotton\", \"dylan covey\", \"kyle crick\", \"johnny cueto\", \"yu darvish\", \"zach davies\", \"wade davis\", \"jorge de la rosa\", \"jacob degrom\", \"randall delgado\", \"anthony desclafani\", \"odrisamer despaigne\", \"chris devenski\", \"edwin diaz\", \"miguel diaz\", \"jake diekman\", \"seranthony dominguez\", \"sean doolittle\", \"oliver drake\", \"brian duensing\", \"tyler duffey\", \"danny duffy\", \"zach duke\", \"mike dunn\", \"sam dyson\", \"carl edwards\", \"zach eflin\", \"jerad eickhoff\", \"roenis elias\", \"nathan eovaldi\", \"robbie erlin\", \"marco estrada\", \"jeurys familia\", \"jake faria\", \"buck farmer\", \"erick fedde\", \"scott feldman\", \"michael feliz\", \"caleb ferguson\", \"josh fields\", \"mike fiers\", \"heath fillmyer\", \"doug fister\", \"jack flaherty\", \"chris flexen\", \"dylan floro\", \"brian flynn\", \"mike foltynewicz\", \"wilmer font\", \"kyle freeland\", \"sam freeman\", \"max fried\", \"jace fry\", \"carson fulmer\", \"michael fulmer\", \"yovani gallardo\", \"john gant\", \"jaime garcia\", \"jarlin garcia\", \"luis garcia\", \"amir garrett\", \"matt garza\", \"kevin gausman\", \"sam gaviglio\", \"cory gearrin\", \"dillon gee\", \"domingo german\", \"kyle gibson\", \"ken giles\", \"lucas giolito\", \"mychal givens\", \"tyler glasnow\", \"zack godley\", \"erik goeddel\", \"luiz gohara\", \"austin gomber\", \"marco gonzales\", \"gio gonzalez\", \"miguel gonzalez\", \"nick goody\", \"daniel gossett\", \"matt grace\", \"kendall graveman\", \"jon gray\", \"sonny gray\", \"chad green\", \"shane greene\", \"luke gregerson\", \"zack greinke\", \"a. j. griffin\", \"justin grimm\", \"robert gsellman\", \"javy guerra\", \"junior guerra\", \"tayron guerrero\", \"josh hader\", \"jesse hahn\", \"cole hamels\", \"jason hammel\", \"brad hand\", \"j. a. happ\", \"blaine hardy\", \"will harris\", \"donnie hart\", \"matt harvey\", \"chris hatcher\", \"andrew heaney\", \"jeremy hellickson\", \"heath hembree\", \"kyle hendricks\", \"liam hendriks\", \"david hernandez\", \"elieser hernandez\", \"felix hernandez\", \"kelvin herrera\", \"david hess\", \"jordan hicks\", \"trevor hildenberger\", \"rich hill\", \"yoshihisa hirano\", \"jeff hoffman\", \"jonathan holder\", \"derek holland\", \"greg holland\", \"daniel hudson\", \"jared hughes\", \"phil hughes\", \"tommy hunter\", \"drew hutchison\", \"raisel iglesias\", \"edwin jackson\", \"luke jackson\", \"kenley jansen\", \"jeremy jeffress\", \"dan jennings\", \"joe jimenez\", \"ubaldo jimenez\", \"brian johnson\", \"jim johnson\", \"jakob junis\", \"ariel jurado\", \"tommy kahnle\", \"keone kela\", \"brad keller\", \"shawn kelley\", \"joe kelly\", \"ian kennedy\", \"clayton kershaw\", \"dallas keuchel\", \"craig kimbrel\", \"nick kingham\", \"brandon kintzler\", \"andrew kittredge\", \"corey kluber\", \"corey knebel\", \"matt koch\", \"tom koehler\", \"george kontos\", \"chad kuhl\", \"john lackey\", \"dinelson lamet\", \"eric lauer\", \"casey lawrence\", \"mike leake\", \"wade leblanc\", \"jose leclerc\", \"mark leiter\", \"dominic leone\", \"jon lester\", \"francisco liriano\", \"ben lively\", \"jorge lopez\", \"pablo lopez\", \"reynaldo lopez\", \"michael lorenzen\", \"aaron loup\", \"joey lucchesi\", \"seth lugo\", \"jordan lyles\", \"lance lynn\", \"tyler lyons\", \"ryan madson\", \"kenta maeda\", \"matt magill\", \"tyler mahle\", \"sean manaea\", \"jhan marinez\", \"german marquez\", \"francis martes\", \"carlos martinez\", \"nick martinez\", \"phil maton\", \"steven matz\", \"brandon maurer\", \"mike mayers\", \"tim mayza\", \"zach mcallister\", \"brandon mccarthy\", \"kevin mccarthy\", \"lance mccullers\", \"t. j. mcfarland\", \"jake mcgee\", \"dustin mcgowan\", \"deck mcguire\", \"collin mchugh\", \"adalberto mejia\", \"mark melancon\", \"daniel mengden\", \"alex meyer\", \"keynan middleton\", \"miles mikolas\", \"wade miley\", \"andrew miller\", \"justin miller\", \"tommy milone\", \"juan minaya\", \"mike minor\", \"a. j. minter\", \"ariel miranda\", \"bryan mitchell\", \"frankie montas\", \"rafael montero\", \"jordan montgomery\", \"mike montgomery\", \"matt moore\", \"adam morgan\", \"reyes moronta\", \"brandon morrow\", \"charlie morton\", \"gabriel moya\", \"peter moylan\", \"joe musgrove\", \"jimmy nelson\", \"hector neris\", \"pat neshek\", \"sean newcomb\", \"juan nicasio\", \"jacob nix\", \"aaron nola\", \"ricky nolasco\", \"bud norris\", \"daniel norris\", \"ivan nova\", \"vidal nuno\", \"darren o'day\", \"scott oberg\", \"jake odorizzi\", \"seunghwan oh\", \"roberto osuna\", \"corey oswalt\", \"dan otero\", \"adam ottavino\", \"emilio pagan\", \"thomas pannone\", \"blake parker\", \"james paxton\", \"james pazos\", \"brad peacock\", \"mike pelfrey\", \"felix pena\", \"freddy peralta\", \"wandy peralta\", \"wily peralta\", \"luis perdomo\", \"martin perez\", \"oliver perez\", \"dillon peters\", \"yusmeiro petit\", \"jake petricka\", \"michael pineda\", \"nick pivetta\", \"adam plutko\", \"drew pomeranz\", \"rick porcello\", \"ryan pressly\", \"david price\", \"austin pruitt\", \"jose quintana\", \"erasmo ramirez\", \"j. c. ramirez\", \"jose ramirez\", \"neil ramirez\", \"noe ramirez\", \"yefry ramirez\", \"aj ramos\", \"edubray ramos\", \"robbie ray\", \"addison reed\", \"cody reed\", \"clayton richard\", \"garrett richards\", \"trevor richards\", \"yacksel rios\", \"tanner roark\", \"david robertson\", \"hansel robles\", \"fernando rodney\", \"carlos rodon\", \"dereck rodriguez\", \"eduardo rodriguez\", \"jefry rodriguez\", \"richard rodriguez\", \"chaz roe\", \"taylor rogers\", \"sal romano\", \"enny romero\", \"sergio romo\", \"hector rondon\", \"joe ross\", \"tyson ross\", \"chris rusin\", \"hyun jin ryu\", \"cc sabathia\", \"fernando salas\", \"danny salazar\", \"chris sale\", \"jeff samardzija\", \"aaron sanchez\", \"anibal sanchez\", \"edgar santana\", \"ervin santana\", \"hector santiago\", \"warwick saupold\", \"max scherzer\", \"tanner scott\", \"antonio senzatela\", \"luis severino\", \"paul sewald\", \"bryan shaw\", \"matt shoemaker\", \"chasen shreve\", \"lucas sims\", \"tony sipp\", \"tyler skaggs\", \"eric skoglund\", \"burch smith\", \"caleb smith\", \"chris smith\", \"joe smith\", \"blake snell\", \"sammy solis\", \"joakim soria\", \"glenn sparkman\", \"craig stammen\", \"ryne stanek\", \"drew steckenrider\", \"jackson stephens\", \"robert stephenson\", \"brock stewart\", \"matt strahm\", \"dan straily\", \"stephen strasburg\", \"chris stratton\", \"hunter strickland\", \"ross stripling\", \"marcus stroman\", \"pedro strop\", \"daniel stumpf\", \"andrew suarez\", \"wander suero\", \"brent suter\", \"anthony swarzak\", \"noah syndergaard\", \"jameson taillon\", \"masahiro tanaka\", \"junichi tazawa\", \"julio teheran\", \"ryan tepera\", \"jake thompson\", \"chris tillman\", \"josh tomlin\", \"carlos torres\", \"blake treinen\", \"andrew triggs\", \"lou trivino\", \"nick tropeano\", \"sam tuivailala\", \"jose urena\", \"jason vargas\", \"felipe vazquez\", \"vince velasquez\", \"hector velazquez\", \"drew verhagen\", \"justin verlander\", \"nick vincent\", \"arodys vizcaino\", \"edinson volquez\", \"chris volstad\", \"michael wacha\", \"adam wainwright\", \"taijuan walker\", \"adam warren\", \"tony watson\", \"luke weaver\", \"zack wheeler\", \"chase whitley\", \"taylor williams\", \"trevor williams\", \"alex wilson\", \"justin wilson\", \"dan winkler\", \"matt wisler\", \"nick wittgren\", \"asher wojciechowski\", \"alex wood\", \"blake wood\", \"travis wood\", \"brandon woodruff\", \"brandon workman\", \"vance worley\", \"mike wright\", \"jimmy yacabonis\", \"ryan yarbrough\", \"kirby yates\", \"brad ziegler\", \"jordan zimmermann\"], \"textposition\": \"top center\", \"type\": \"scatter\", \"x\": [-0.8839337229728699, 6.512208461761475, 13.734963417053223, -3.2090322971343994, 7.9803080558776855, -12.746106147766113, 16.493776321411133, 0.6172385215759277, 7.606192111968994, 5.539172172546387, 13.066411018371582, 3.4460771083831787, -5.586169242858887, -2.439816474914551, -15.029970169067383, -10.119649887084961, 11.334822654724121, -14.25921630859375, 13.030508995056152, 9.272360801696777, 6.145201683044434, -2.0486717224121094, -15.934356689453125, -18.846481323242188, 8.4554443359375, 2.300384044647217, -13.76191520690918, 13.274274826049805, -15.193816184997559, 2.4275949001312256, -13.879030227661133, 1.4112985134124756, 0.40283748507499695, -4.721024036407471, -4.099120140075684, 1.975820779800415, 5.773867130279541, 5.962149143218994, 0.9050183892250061, 5.543344497680664, -13.783712387084961, -2.977780342102051, -10.476916313171387, -1.7877964973449707, -3.5245985984802246, -21.770645141601562, 7.894362926483154, -17.811885833740234, 1.1118131875991821, -1.1986016035079956, 10.496054649353027, -6.161441802978516, -5.77600622177124, -7.10843563079834, -16.13263702392578, 8.94100284576416, 4.100518703460693, -15.67586612701416, 11.285234451293945, -16.351110458374023, 3.4295201301574707, -3.385551691055298, -9.32077693939209, 9.053825378417969, 1.666743516921997, -17.93950843811035, 2.679250717163086, -17.891033172607422, -9.542577743530273, -2.3837311267852783, 11.684167861938477, -4.007796287536621, -4.779168605804443, 22.983074188232422, 0.48913830518722534, 18.089231491088867, 2.254702568054199, 8.077239036560059, -21.5020751953125, 7.40728759765625, -7.178083896636963, -14.785524368286133, -7.774959564208984, 3.295989751815796, -8.68474292755127, 10.378716468811035, -14.350058555603027, -7.065224647521973, 0.8092548251152039, -18.290719985961914, 8.923095703125, 5.030704975128174, 22.074134826660156, -11.92547607421875, -10.454621315002441, -21.06481170654297, 0.8193838596343994, -23.744516372680664, 20.529329299926758, 6.690237045288086, 12.432707786560059, -0.5786179900169373, 14.501893043518066, -17.287384033203125, 10.930413246154785, -13.693066596984863, -8.183297157287598, 15.257962226867676, -1.2239406108856201, 1.330269694328308, 8.596858978271484, 15.100054740905762, -3.318037986755371, -21.858808517456055, -9.519000053405762, 4.361719608306885, -12.90093994140625, -16.526580810546875, 13.392868995666504, -10.230523109436035, 14.850790023803711, -6.570883274078369, 17.4552001953125, 3.0228171348571777, 1.235409140586853, 0.5565993785858154, -7.296328067779541, 8.840509414672852, 15.80909538269043, -13.96359634399414, -17.099273681640625, 6.025389194488525, 16.990150451660156, -2.6134252548217773, 15.436013221740723, -10.701680183410645, -11.90819263458252, 15.740909576416016, 11.73844051361084, 10.725597381591797, 2.426126718521118, 14.673276901245117, -1.8293030261993408, -11.82622241973877, 16.611331939697266, 5.003824710845947, 2.0897936820983887, 6.562253475189209, 11.301520347595215, 1.5522462129592896, -8.969865798950195, -14.33774185180664, -23.651342391967773, -14.897479057312012, 23.71297836303711, 20.7528133392334, 6.963656425476074, -0.7358907461166382, -8.106785774230957, -5.9267168045043945, -3.6342804431915283, -3.832301378250122, 3.2076430320739746, -8.55042839050293, -10.217119216918945, 21.74290657043457, -6.510865211486816, -13.484922409057617, 6.443634510040283, 2.6599345207214355, 9.744128227233887, 8.028151512145996, 19.168048858642578, -2.1648623943328857, 2.0056920051574707, -4.570021152496338, -4.348022937774658, 14.38847827911377, -17.433345794677734, -2.3330278396606445, -12.224785804748535, 16.055795669555664, 12.954492568969727, 20.717113494873047, -11.503908157348633, 1.5172123908996582, 1.0067156553268433, -11.190634727478027, 15.707311630249023, 5.49317741394043, -11.326416015625, -12.940940856933594, 8.303807258605957, -6.4573445320129395, 22.778566360473633, 24.73866844177246, -0.07718821614980698, 9.635970115661621, -10.437402725219727, 8.601244926452637, 16.77893829345703, -15.408519744873047, -13.403091430664062, -7.055213451385498, 0.6101040244102478, -13.154007911682129, 11.100788116455078, 1.5902559757232666, -15.375163078308105, 14.41179084777832, -15.564177513122559, -14.122339248657227, -2.048508882522583, -6.5584797859191895, 18.413532257080078, 6.216464996337891, -7.830033302307129, -7.208788871765137, 0.13633914291858673, 25.713611602783203, -15.00778865814209, 13.363036155700684, 18.829261779785156, -11.321901321411133, 12.28234577178955, 11.855611801147461, -1.306452751159668, 12.08502197265625, -21.327465057373047, -1.4561634063720703, 9.260970115661621, -22.059097290039062, -9.935776710510254, 21.33014678955078, 23.751985549926758, -20.62474822998047, -1.1579660177230835, 20.3594913482666, 6.794821262359619, 0.31668123602867126, 9.940743446350098, -22.407848358154297, -12.663745880126953, -4.136545658111572, 18.335493087768555, 9.65848159790039, -12.447198867797852, 9.20152759552002, 11.468524932861328, 19.457170486450195, -3.7106053829193115, 6.687778472900391, -11.415985107421875, -3.3732528686523438, 18.967769622802734, 23.81219482421875, -10.968437194824219, -11.007245063781738, -17.509740829467773, -8.357818603515625, 9.761176109313965, -14.3154935836792, 10.771771430969238, -9.776174545288086, 0.5815734267234802, -15.547149658203125, -18.75885772705078, 17.230571746826172, -11.653687477111816, -16.46295738220215, 23.088613510131836, 3.797429084777832, 2.493623733520508, 7.288464069366455, 14.917876243591309, -23.048768997192383, 16.057783126831055, 1.2404652833938599, 5.938368797302246, -13.769136428833008, -5.066037654876709, 0.5102680325508118, 2.779409885406494, 5.981951713562012, -4.063458442687988, -6.511843681335449, -10.36905574798584, -10.647866249084473, -8.217795372009277, -14.88409423828125, -11.918256759643555, 8.668615341186523, 0.9182566404342651, 12.748861312866211, -4.08005428314209, 4.137818813323975, -16.86545753479004, -16.066041946411133, -16.932031631469727, 2.3143956661224365, -5.235262870788574, -4.28799295425415, -13.855123519897461, 8.544779777526855, -17.370285034179688, 0.2585360109806061, -14.441853523254395, 23.309799194335938, -2.0946412086486816, -5.963032245635986, -16.84950828552246, 8.850607872009277, 4.519657135009766, -21.278488159179688, 4.213710784912109, 21.869916915893555, -16.520315170288086, -14.277565002441406, -6.32863712310791, 22.531705856323242, -3.4782488346099854, -11.448532104492188, -15.946844100952148, -7.791450500488281, 11.15816593170166, 9.979534149169922, -0.6709561347961426, 9.54680061340332, 2.705934762954712, 10.689576148986816, 17.407550811767578, 4.17012357711792, 5.09567403793335, 13.72407054901123, 2.5424468517303467, 3.085702657699585, 6.067724227905273, -8.628276824951172, 7.045726776123047, -15.018353462219238, -5.171888828277588, -8.480807304382324, -10.544864654541016, -15.275917053222656, 6.113523483276367, 13.46014404296875, 14.634367942810059, 7.161064147949219, -19.326589584350586, -3.038648843765259, -0.6602803468704224, -7.681468486785889, -16.770397186279297, -8.600724220275879, -6.530700206756592, 2.0994455814361572, 13.64696216583252, 10.984145164489746, -11.739326477050781, 0.08661985397338867, 1.7460969686508179, -15.489567756652832, -13.474961280822754, -19.12761116027832, 8.63410472869873, 11.845168113708496, 9.842713356018066, 4.157516002655029, 10.170084953308105, -15.376352310180664, -18.223609924316406, -4.774841785430908, 2.406752109527588, -12.929978370666504, -2.210045099258423, -10.438063621520996, 17.10749053955078, 7.975314617156982, -5.850212574005127, -3.717039108276367, -9.29068660736084, -1.3848830461502075, -7.250458240509033, 6.052574157714844, -16.165203094482422, 23.21727752685547, -0.10878590494394302, 18.674123764038086, -11.518226623535156, -20.74653434753418, 8.920748710632324, -8.70046615600586, 8.788497924804688, -6.59708309173584, -13.33721923828125, 3.5473318099975586, -20.481082916259766, 5.037342071533203, -6.165816783905029, -18.794069290161133, -12.858392715454102, -9.281196594238281, -8.432787895202637, 4.186005592346191, 6.4199395179748535, -10.26836109161377, 1.0483460426330566, -15.854755401611328, 10.052654266357422, -7.597720623016357, 6.509364604949951, 15.90196418762207, -8.03641414642334, -17.86573028564453, 13.112821578979492, -11.83556842803955, -11.493613243103027, -20.437318801879883, -0.7079351544380188, 4.214576244354248, -3.586343288421631, -18.694337844848633, 3.01249361038208, -17.103357315063477, 19.753610610961914, 12.287832260131836, -12.261894226074219, -6.184112548828125, 1.4610365629196167, 3.680795431137085, -4.303246021270752, -13.313141822814941, -5.609604835510254, 0.20333066582679749, -12.10455322265625, 10.2630033493042, -8.985447883605957, 16.01344871520996, 5.471567153930664, 3.885296583175659, 15.502272605895996, 12.513376235961914, -6.934700965881348, 8.138191223144531, 9.942588806152344, -15.873817443847656, -13.321388244628906, -13.63589859008789, -19.474740982055664, -15.465190887451172, -2.0194339752197266, 12.44680404663086, -13.793513298034668, -17.341625213623047, 17.024648666381836, 8.377933502197266, 2.653348445892334, -3.2068073749542236, -3.9670636653900146, -22.769304275512695, -20.714637756347656, 1.781954050064087, 6.115484714508057, 6.816095352172852, 4.02315616607666, 3.3218328952789307, -13.221077919006348, 0.9226322770118713, 19.889446258544922, -7.802476406097412, -11.64922046661377, -16.607789993286133, -0.7554097175598145, 21.63549041748047, 7.410521030426025, -4.856939315795898, 17.71356964111328, 9.024676322937012, 5.7688679695129395, 11.343894004821777, -13.347338676452637, -15.205666542053223, 17.465553283691406, 11.131490707397461, -6.405666828155518, 3.8573215007781982, -12.907116889953613, -10.576285362243652, 13.805889129638672, 15.522970199584961, -0.9785722494125366, -1.668725848197937, -1.7454344034194946, 14.655927658081055, -11.985477447509766, 11.913451194763184, 11.54851245880127, -5.512820243835449, 9.740641593933105, -0.25515198707580566, -7.7260212898254395, -16.893939971923828, -8.196985244750977, -15.205476760864258, -1.0454063415527344, 4.303341865539551, 4.533537864685059, -6.287735939025879, 20.750125885009766, -13.499770164489746, -20.61166000366211, -17.902509689331055], \"xaxis\": \"x\", \"y\": [-3.5966172218322754, -7.109241485595703, 4.12261962890625, 10.890703201293945, -2.195159912109375, 14.687616348266602, -9.751500129699707, 5.418769359588623, 0.8095637559890747, -3.0969600677490234, 8.647150039672852, -4.926400661468506, 19.9851016998291, -17.044708251953125, -7.665257930755615, -4.023431777954102, -4.87825345993042, -8.010680198669434, -0.23354099690914154, -1.7041150331497192, 11.619368553161621, 1.301045536994934, 1.356884241104126, -9.268367767333984, -3.2162811756134033, -10.861613273620605, -6.198294162750244, -3.6058671474456787, 20.3502197265625, 17.76106071472168, -2.015676259994507, 6.307740211486816, -7.366795539855957, -12.759479522705078, -10.958016395568848, 11.989167213439941, 17.821109771728516, 16.974687576293945, 21.143959045410156, 13.119258880615234, 13.074864387512207, 4.659914493560791, -19.42169952392578, -6.810772895812988, 1.594544529914856, 1.1748418807983398, -0.9978771209716797, 0.5865039825439453, 21.418556213378906, -5.50615930557251, 0.52774977684021, 19.754837036132812, -20.356794357299805, -11.299708366394043, -3.6605000495910645, 3.0405399799346924, 7.86753511428833, -3.0396952629089355, -11.251410484313965, 14.651037216186523, 2.885739326477051, -9.812617301940918, -17.846073150634766, 6.195005416870117, 2.0464863777160645, -8.505990982055664, -1.367814302444458, -9.710691452026367, -18.14727020263672, 5.154831409454346, -6.337508201599121, -0.696612536907196, -13.479090690612793, 4.181852340698242, 9.196554183959961, -2.338063955307007, 1.0036746263504028, 1.1223373413085938, 0.6655564904212952, 1.841758131980896, 15.465014457702637, -4.317078590393066, 6.631357669830322, -7.778148174285889, -2.013071298599243, 2.621171712875366, -19.987560272216797, -13.162177085876465, 17.263656616210938, 9.834328651428223, -6.478631496429443, -2.449803352355957, 2.1916844844818115, -0.9029539227485657, 2.8210389614105225, -2.2012321949005127, -8.498579025268555, 0.732613205909729, 3.110663890838623, 9.061376571655273, -1.450961709022522, 11.934549331665039, 0.31610727310180664, 7.896697044372559, 10.958837509155273, 16.36093521118164, -21.387554168701172, 4.535686492919922, -10.718154907226562, -13.436391830444336, -9.52850341796875, -8.694684982299805, 7.922091484069824, 2.6490888595581055, 3.1787078380584717, 11.35319995880127, 17.197784423828125, -2.6622252464294434, 17.030155181884766, -0.18932178616523743, -7.607428550720215, 0.8822121024131775, -10.477667808532715, -9.384815216064453, -3.9326231479644775, 16.204618453979492, -11.160905838012695, 5.267273902893066, -2.2171592712402344, 2.764147996902466, -10.558516502380371, -11.924291610717773, 9.94890022277832, -0.5741310715675354, -5.995822429656982, 19.094289779663086, -2.391594648361206, 13.925265312194824, -11.435356140136719, -1.047712802886963, 20.986440658569336, -1.9079163074493408, 11.677757263183594, 11.808629035949707, -9.958732604980469, 16.17148780822754, -7.629937648773193, -15.017355918884277, 8.043841361999512, -5.172034740447998, -12.7801513671875, -6.491091251373291, 5.4823784828186035, -11.356682777404785, 7.57169246673584, 4.698800563812256, 3.2998414039611816, 9.883487701416016, -22.318601608276367, -0.13583384454250336, -6.961187839508057, -3.869814157485962, -3.5689711570739746, -12.129508018493652, -17.47106170654297, 6.422091484069824, 3.0590577125549316, 1.93571937084198, 0.49737802147865295, -5.148550510406494, -2.5897793769836426, -5.763749122619629, 1.8835958242416382, 6.099924087524414, -17.22575569152832, -20.83713722229004, -4.958553314208984, -12.055871963500977, 4.330593585968018, -17.41423988342285, -14.33406925201416, -1.543494701385498, 1.230527639389038, 3.373931646347046, 8.733696937561035, 17.4537296295166, 2.95876145362854, -20.13583755493164, 13.93105411529541, 1.7632620334625244, 20.787242889404297, -12.037349700927734, 7.121738433837891, -3.1633031368255615, 2.525968074798584, 3.6179332733154297, 7.639188289642334, 0.8163580894470215, -5.197898864746094, 2.1424248218536377, -6.632772922515869, 10.950479507446289, 15.698805809020996, 4.149759769439697, -5.454535484313965, 18.348228454589844, -0.40716680884361267, -13.583085060119629, 14.021615028381348, 5.114484786987305, 15.838594436645508, 16.008201599121094, -1.9803459644317627, -6.794934272766113, 1.5926512479782104, 8.115473747253418, -14.367803573608398, -4.657642841339111, -10.583165168762207, 3.82448148727417, -12.474169731140137, 10.402746200561523, 4.745399475097656, 9.121581077575684, 14.7991304397583, -12.542915344238281, -14.41124153137207, -6.206545829772949, 10.405348777770996, -7.251661777496338, -5.076364994049072, 12.302608489990234, -17.015464782714844, 0.7804602384567261, -0.40633296966552734, 13.499343872070312, 3.5088768005371094, 11.455341339111328, -2.1406095027923584, -0.07411760091781616, 5.498854637145996, 10.437292098999023, 17.556562423706055, -14.974066734313965, 8.0330810546875, 10.83165168762207, 11.407471656799316, 7.67507266998291, 4.229884147644043, 3.016277551651001, 9.025404930114746, 9.26883316040039, 10.967606544494629, -11.534704208374023, -2.3731167316436768, 5.918150424957275, 18.533300399780273, -3.034991979598999, 1.2403801679611206, 13.370697021484375, 9.351249694824219, -4.918469429016113, 13.882111549377441, -14.678112030029297, -5.183657169342041, -4.219260215759277, -6.562961101531982, -7.130509853363037, -19.76934242248535, -5.71243143081665, 0.7039758563041687, -9.067811012268066, -11.71338939666748, -6.655830383300781, -2.9892988204956055, 5.003435134887695, -6.538583278656006, -5.968178749084473, -11.247159004211426, 4.667863368988037, -10.908355712890625, 20.927955627441406, 5.049337387084961, -0.5685242414474487, 2.4420859813690186, 15.712610244750977, -6.545556545257568, 5.56788444519043, 7.544578552246094, 10.992955207824707, 5.877793312072754, 7.748478889465332, -7.932486534118652, -11.987197875976562, 9.295369148254395, -1.8846641778945923, -12.749258041381836, 17.16315460205078, 14.0778169631958, -17.64558982849121, 15.75105094909668, -6.32460355758667, 18.419532775878906, 5.116746425628662, 12.814592361450195, 6.914444923400879, -11.940470695495605, 3.7953085899353027, -8.080761909484863, 1.3479557037353516, 9.29477310180664, 11.34033489227295, 3.8656423091888428, -10.050215721130371, -6.669052600860596, 0.13389350473880768, 3.786421298980713, -11.746899604797363, -17.671287536621094, -5.763107776641846, 2.130200147628784, 13.364333152770996, 19.730690002441406, 13.88064193725586, -2.7322070598602295, -1.0214780569076538, -4.57629919052124, -4.955589294433594, 17.336885452270508, 3.77116060256958, -0.16282843053340912, 9.599260330200195, 10.053892135620117, 10.011276245117188, 8.465388298034668, 0.04126577079296112, -14.542136192321777, -8.859820365905762, -10.273148536682129, 18.399995803833008, 4.588622570037842, -12.599642753601074, -0.5232897400856018, -9.509554862976074, 1.9461771249771118, 3.2342350482940674, -7.455076217651367, -3.3914356231689453, 9.294510841369629, 7.307459831237793, -13.423137664794922, 6.584439754486084, 5.692156791687012, 18.596921920776367, 1.463360071182251, 3.7567617893218994, 11.475252151489258, -3.6447012424468994, -13.13193416595459, -11.575793266296387, 11.244194030761719, -2.0120368003845215, 20.179548263549805, -13.197090148925781, 12.590875625610352, -13.845698356628418, 10.056385040283203, 18.834226608276367, 1.3655805587768555, -7.823134422302246, 8.527044296264648, -21.14811897277832, -9.843798637390137, -10.793509483337402, -15.279091835021973, -8.549073219299316, 8.3406400680542, -3.7560043334960938, -5.945283889770508, -7.872226238250732, -7.034340858459473, 4.368897914886475, 18.789531707763672, 5.678683757781982, -6.102240562438965, 3.1227025985717773, 5.96502685546875, 3.7936196327209473, -6.304577350616455, 13.186591148376465, 9.886554718017578, -21.02750587463379, 3.8685271739959717, 2.0936596393585205, 9.435379981994629, 9.316503524780273, 1.1717177629470825, -0.49268946051597595, -7.629796981811523, -7.34252405166626, -4.6334757804870605, 15.882890701293945, -14.209046363830566, -2.758601427078247, 3.9627292156219482, 12.564611434936523, -1.2103722095489502, 3.914652109146118, 19.068391799926758, -15.130995750427246, -2.3285956382751465, 5.792273998260498, 8.221921920776367, 4.2743306159973145, -2.3240387439727783, -7.445455551147461, -6.420820713043213, 1.0877283811569214, 11.446732521057129, 6.873010635375977, -15.701727867126465, -14.261704444885254, 3.8071463108062744, 5.505466461181641, 4.996406555175781, -2.2211103439331055, -2.0143659114837646, -2.1384592056274414, -3.0354928970336914, 18.147647857666016, 15.714164733886719, -13.119853019714355, -0.9919508099555969, -11.110133171081543, -19.15578842163086, -5.975918769836426, 18.254791259765625, 1.4496021270751953, -9.4636869430542, 17.11001968383789, 2.1782968044281006, -12.011457443237305, -3.894922971725464, -8.678794860839844, 8.957332611083984, -16.80806541442871, -16.585474014282227, 12.37954044342041, -12.631513595581055, 19.406248092651367, -14.973538398742676, 14.924910545349121, -18.224708557128906, 13.41498851776123, 9.51017951965332, 8.575735092163086, 7.394327163696289, 3.2721738815307617, -10.642169952392578, 10.110474586486816, -10.031875610351562, 2.1293318271636963, -4.85348653793335, 17.71162223815918, 6.084584712982178, 3.166163206100464, 21.60723304748535, -9.301910400390625, 1.4011820554733276, -18.562833786010742, 13.367294311523438, -14.415949821472168, -6.8173322677612305, 3.591442823410034, -0.8526361584663391, 19.39365577697754, 3.6191039085388184, -0.7434986233711243, -14.386630058288574, -1.882691740989685, 0.8778232932090759, -15.533133506774902, 7.945156574249268, 5.343081474304199, -14.504098892211914, 19.482946395874023, -19.35786247253418, 2.085772752761841, -11.593000411987305, 3.835083484649658, 9.305479049682617, -2.7179512977600098, 0.004164072684943676, -10.939704895019531, 16.235754013061523, 7.8825297355651855, -14.827642440795898, -15.751189231872559, -7.270904541015625, -13.46813678741455, 5.601408004760742, 20.315553665161133, 6.933444976806641, -2.2866404056549072, 2.109238862991333, -15.09030818939209, -3.6548147201538086, -20.714200973510742, 4.699995517730713, -15.306937217712402, 12.166980743408203, 10.312426567077637], \"yaxis\": \"y\"}],\n",
       "                        {\"height\": 1600, \"legend\": {\"tracegroupgap\": 0}, \"margin\": {\"t\": 60}, \"template\": {\"data\": {\"bar\": [{\"error_x\": {\"color\": \"#2a3f5f\"}, \"error_y\": {\"color\": \"#2a3f5f\"}, \"marker\": {\"line\": {\"color\": \"#E5ECF6\", \"width\": 0.5}}, \"type\": \"bar\"}], \"barpolar\": [{\"marker\": {\"line\": {\"color\": \"#E5ECF6\", \"width\": 0.5}}, \"type\": \"barpolar\"}], \"carpet\": [{\"aaxis\": {\"endlinecolor\": \"#2a3f5f\", \"gridcolor\": \"white\", \"linecolor\": \"white\", \"minorgridcolor\": \"white\", \"startlinecolor\": \"#2a3f5f\"}, \"baxis\": {\"endlinecolor\": \"#2a3f5f\", \"gridcolor\": \"white\", \"linecolor\": \"white\", \"minorgridcolor\": \"white\", \"startlinecolor\": \"#2a3f5f\"}, \"type\": \"carpet\"}], \"choropleth\": [{\"colorbar\": {\"outlinewidth\": 0, \"ticks\": \"\"}, \"type\": \"choropleth\"}], \"contour\": [{\"colorbar\": {\"outlinewidth\": 0, \"ticks\": \"\"}, \"colorscale\": [[0.0, \"#0d0887\"], [0.1111111111111111, \"#46039f\"], [0.2222222222222222, \"#7201a8\"], [0.3333333333333333, \"#9c179e\"], [0.4444444444444444, \"#bd3786\"], [0.5555555555555556, \"#d8576b\"], [0.6666666666666666, \"#ed7953\"], [0.7777777777777778, \"#fb9f3a\"], [0.8888888888888888, \"#fdca26\"], [1.0, \"#f0f921\"]], \"type\": \"contour\"}], \"contourcarpet\": [{\"colorbar\": {\"outlinewidth\": 0, \"ticks\": \"\"}, \"type\": \"contourcarpet\"}], \"heatmap\": [{\"colorbar\": {\"outlinewidth\": 0, \"ticks\": \"\"}, \"colorscale\": [[0.0, \"#0d0887\"], [0.1111111111111111, \"#46039f\"], [0.2222222222222222, \"#7201a8\"], [0.3333333333333333, \"#9c179e\"], [0.4444444444444444, \"#bd3786\"], [0.5555555555555556, \"#d8576b\"], [0.6666666666666666, \"#ed7953\"], [0.7777777777777778, \"#fb9f3a\"], [0.8888888888888888, \"#fdca26\"], [1.0, \"#f0f921\"]], \"type\": \"heatmap\"}], \"heatmapgl\": [{\"colorbar\": {\"outlinewidth\": 0, \"ticks\": \"\"}, \"colorscale\": [[0.0, \"#0d0887\"], [0.1111111111111111, \"#46039f\"], [0.2222222222222222, \"#7201a8\"], [0.3333333333333333, \"#9c179e\"], [0.4444444444444444, \"#bd3786\"], [0.5555555555555556, \"#d8576b\"], [0.6666666666666666, \"#ed7953\"], [0.7777777777777778, \"#fb9f3a\"], [0.8888888888888888, \"#fdca26\"], [1.0, \"#f0f921\"]], \"type\": \"heatmapgl\"}], \"histogram\": [{\"marker\": {\"colorbar\": {\"outlinewidth\": 0, \"ticks\": \"\"}}, \"type\": \"histogram\"}], \"histogram2d\": [{\"colorbar\": {\"outlinewidth\": 0, \"ticks\": \"\"}, \"colorscale\": [[0.0, \"#0d0887\"], [0.1111111111111111, \"#46039f\"], [0.2222222222222222, \"#7201a8\"], [0.3333333333333333, \"#9c179e\"], [0.4444444444444444, \"#bd3786\"], [0.5555555555555556, \"#d8576b\"], [0.6666666666666666, \"#ed7953\"], [0.7777777777777778, \"#fb9f3a\"], [0.8888888888888888, \"#fdca26\"], [1.0, \"#f0f921\"]], \"type\": \"histogram2d\"}], \"histogram2dcontour\": [{\"colorbar\": {\"outlinewidth\": 0, \"ticks\": \"\"}, \"colorscale\": [[0.0, \"#0d0887\"], [0.1111111111111111, \"#46039f\"], [0.2222222222222222, \"#7201a8\"], [0.3333333333333333, \"#9c179e\"], [0.4444444444444444, \"#bd3786\"], [0.5555555555555556, \"#d8576b\"], [0.6666666666666666, \"#ed7953\"], [0.7777777777777778, \"#fb9f3a\"], [0.8888888888888888, \"#fdca26\"], [1.0, \"#f0f921\"]], \"type\": \"histogram2dcontour\"}], \"mesh3d\": [{\"colorbar\": {\"outlinewidth\": 0, \"ticks\": \"\"}, \"type\": \"mesh3d\"}], \"parcoords\": [{\"line\": {\"colorbar\": {\"outlinewidth\": 0, \"ticks\": \"\"}}, \"type\": \"parcoords\"}], \"pie\": [{\"automargin\": true, \"type\": \"pie\"}], \"scatter\": [{\"marker\": {\"colorbar\": {\"outlinewidth\": 0, \"ticks\": \"\"}}, \"type\": \"scatter\"}], \"scatter3d\": [{\"line\": {\"colorbar\": {\"outlinewidth\": 0, \"ticks\": \"\"}}, \"marker\": {\"colorbar\": {\"outlinewidth\": 0, \"ticks\": \"\"}}, \"type\": \"scatter3d\"}], \"scattercarpet\": [{\"marker\": {\"colorbar\": {\"outlinewidth\": 0, \"ticks\": \"\"}}, \"type\": \"scattercarpet\"}], \"scattergeo\": [{\"marker\": {\"colorbar\": {\"outlinewidth\": 0, \"ticks\": \"\"}}, \"type\": \"scattergeo\"}], \"scattergl\": [{\"marker\": {\"colorbar\": {\"outlinewidth\": 0, \"ticks\": \"\"}}, \"type\": \"scattergl\"}], \"scattermapbox\": [{\"marker\": {\"colorbar\": {\"outlinewidth\": 0, \"ticks\": \"\"}}, \"type\": \"scattermapbox\"}], \"scatterpolar\": [{\"marker\": {\"colorbar\": {\"outlinewidth\": 0, \"ticks\": \"\"}}, \"type\": \"scatterpolar\"}], \"scatterpolargl\": [{\"marker\": {\"colorbar\": {\"outlinewidth\": 0, \"ticks\": \"\"}}, \"type\": \"scatterpolargl\"}], \"scatterternary\": [{\"marker\": {\"colorbar\": {\"outlinewidth\": 0, \"ticks\": \"\"}}, \"type\": \"scatterternary\"}], \"surface\": [{\"colorbar\": {\"outlinewidth\": 0, \"ticks\": \"\"}, \"colorscale\": [[0.0, \"#0d0887\"], [0.1111111111111111, \"#46039f\"], [0.2222222222222222, \"#7201a8\"], [0.3333333333333333, \"#9c179e\"], [0.4444444444444444, \"#bd3786\"], [0.5555555555555556, \"#d8576b\"], [0.6666666666666666, \"#ed7953\"], [0.7777777777777778, \"#fb9f3a\"], [0.8888888888888888, \"#fdca26\"], [1.0, \"#f0f921\"]], \"type\": \"surface\"}], \"table\": [{\"cells\": {\"fill\": {\"color\": \"#EBF0F8\"}, \"line\": {\"color\": \"white\"}}, \"header\": {\"fill\": {\"color\": \"#C8D4E3\"}, \"line\": {\"color\": \"white\"}}, \"type\": \"table\"}]}, \"layout\": {\"annotationdefaults\": {\"arrowcolor\": \"#2a3f5f\", \"arrowhead\": 0, \"arrowwidth\": 1}, \"coloraxis\": {\"colorbar\": {\"outlinewidth\": 0, \"ticks\": \"\"}}, \"colorscale\": {\"diverging\": [[0, \"#8e0152\"], [0.1, \"#c51b7d\"], [0.2, \"#de77ae\"], [0.3, \"#f1b6da\"], [0.4, \"#fde0ef\"], [0.5, \"#f7f7f7\"], [0.6, \"#e6f5d0\"], [0.7, \"#b8e186\"], [0.8, \"#7fbc41\"], [0.9, \"#4d9221\"], [1, \"#276419\"]], \"sequential\": [[0.0, \"#0d0887\"], [0.1111111111111111, \"#46039f\"], [0.2222222222222222, \"#7201a8\"], [0.3333333333333333, \"#9c179e\"], [0.4444444444444444, \"#bd3786\"], [0.5555555555555556, \"#d8576b\"], [0.6666666666666666, \"#ed7953\"], [0.7777777777777778, \"#fb9f3a\"], [0.8888888888888888, \"#fdca26\"], [1.0, \"#f0f921\"]], \"sequentialminus\": [[0.0, \"#0d0887\"], [0.1111111111111111, \"#46039f\"], [0.2222222222222222, \"#7201a8\"], [0.3333333333333333, \"#9c179e\"], [0.4444444444444444, \"#bd3786\"], [0.5555555555555556, \"#d8576b\"], [0.6666666666666666, \"#ed7953\"], [0.7777777777777778, \"#fb9f3a\"], [0.8888888888888888, \"#fdca26\"], [1.0, \"#f0f921\"]]}, \"colorway\": [\"#636efa\", \"#EF553B\", \"#00cc96\", \"#ab63fa\", \"#FFA15A\", \"#19d3f3\", \"#FF6692\", \"#B6E880\", \"#FF97FF\", \"#FECB52\"], \"font\": {\"color\": \"#2a3f5f\"}, \"geo\": {\"bgcolor\": \"white\", \"lakecolor\": \"white\", \"landcolor\": \"#E5ECF6\", \"showlakes\": true, \"showland\": true, \"subunitcolor\": \"white\"}, \"hoverlabel\": {\"align\": \"left\"}, \"hovermode\": \"closest\", \"mapbox\": {\"style\": \"light\"}, \"paper_bgcolor\": \"white\", \"plot_bgcolor\": \"#E5ECF6\", \"polar\": {\"angularaxis\": {\"gridcolor\": \"white\", \"linecolor\": \"white\", \"ticks\": \"\"}, \"bgcolor\": \"#E5ECF6\", \"radialaxis\": {\"gridcolor\": \"white\", \"linecolor\": \"white\", \"ticks\": \"\"}}, \"scene\": {\"xaxis\": {\"backgroundcolor\": \"#E5ECF6\", \"gridcolor\": \"white\", \"gridwidth\": 2, \"linecolor\": \"white\", \"showbackground\": true, \"ticks\": \"\", \"zerolinecolor\": \"white\"}, \"yaxis\": {\"backgroundcolor\": \"#E5ECF6\", \"gridcolor\": \"white\", \"gridwidth\": 2, \"linecolor\": \"white\", \"showbackground\": true, \"ticks\": \"\", \"zerolinecolor\": \"white\"}, \"zaxis\": {\"backgroundcolor\": \"#E5ECF6\", \"gridcolor\": \"white\", \"gridwidth\": 2, \"linecolor\": \"white\", \"showbackground\": true, \"ticks\": \"\", \"zerolinecolor\": \"white\"}}, \"shapedefaults\": {\"line\": {\"color\": \"#2a3f5f\"}}, \"ternary\": {\"aaxis\": {\"gridcolor\": \"white\", \"linecolor\": \"white\", \"ticks\": \"\"}, \"baxis\": {\"gridcolor\": \"white\", \"linecolor\": \"white\", \"ticks\": \"\"}, \"bgcolor\": \"#E5ECF6\", \"caxis\": {\"gridcolor\": \"white\", \"linecolor\": \"white\", \"ticks\": \"\"}}, \"title\": {\"x\": 0.05}, \"xaxis\": {\"automargin\": true, \"gridcolor\": \"white\", \"linecolor\": \"white\", \"ticks\": \"\", \"title\": {\"standoff\": 15}, \"zerolinecolor\": \"white\", \"zerolinewidth\": 2}, \"yaxis\": {\"automargin\": true, \"gridcolor\": \"white\", \"linecolor\": \"white\", \"ticks\": \"\", \"title\": {\"standoff\": 15}, \"zerolinecolor\": \"white\", \"zerolinewidth\": 2}}}, \"title\": {\"text\": \"TSNE of MLB Pitchers\"}, \"xaxis\": {\"anchor\": \"y\", \"domain\": [0.0, 1.0], \"title\": {\"text\": \"tsne_1\"}}, \"yaxis\": {\"anchor\": \"x\", \"domain\": [0.0, 1.0], \"title\": {\"text\": \"tsne_2\"}}},\n",
       "                        {\"responsive\": true}\n",
       "                    ).then(function(){\n",
       "                            \n",
       "var gd = document.getElementById('743e6f8b-763e-4e36-9b32-3dd49f5bc0d6');\n",
       "var x = new MutationObserver(function (mutations, observer) {{\n",
       "        var display = window.getComputedStyle(gd).display;\n",
       "        if (!display || display === 'none') {{\n",
       "            console.log([gd, 'removed!']);\n",
       "            Plotly.purge(gd);\n",
       "            observer.disconnect();\n",
       "        }}\n",
       "}});\n",
       "\n",
       "// Listen for the removal of the full notebook cells\n",
       "var notebookContainer = gd.closest('#notebook-container');\n",
       "if (notebookContainer) {{\n",
       "    x.observe(notebookContainer, {childList: true});\n",
       "}}\n",
       "\n",
       "// Listen for the clearing of the current output cell\n",
       "var outputEl = gd.closest('.output');\n",
       "if (outputEl) {{\n",
       "    x.observe(outputEl, {childList: true});\n",
       "}}\n",
       "\n",
       "                        })\n",
       "                };\n",
       "                \n",
       "            </script>\n",
       "        </div>\n",
       "</body>\n",
       "</html>"
      ]
     },
     "metadata": {},
     "output_type": "display_data"
    }
   ],
   "source": [
    "# tsne pitcher scatterplot\n",
    "fig = px.scatter(pitcher_embedding_map_tsne_df, x=\"tsne_1\", y=\"tsne_2\", text=\"pitcher_name\")\n",
    "\n",
    "fig.update_traces(textposition='top center')\n",
    "\n",
    "fig.update_layout(\n",
    "    height=1600,\n",
    "    title_text='TSNE of MLB Pitchers'\n",
    ")\n",
    "\n",
    "fig.show()"
   ]
  }
 ],
 "metadata": {
  "accelerator": "GPU",
  "colab": {
   "authorship_tag": "ABX9TyOOeXyGDuU1ra2FDqaDHf5q",
   "collapsed_sections": [
    "Vwx_cBcmgvIh",
    "lWmA2eCigvKw",
    "x9HT0qCwhbFN",
    "WbbO4WK7hsWT"
   ],
   "machine_shape": "hm",
   "name": "02_batter_pitcher_embeddings.ipynb",
   "provenance": [
    {
     "file_id": "1G6UjsXrkONozO_B_6dAAubDpmDh4CnZh",
     "timestamp": 1635011951588
    }
   ]
  },
  "kernelspec": {
   "display_name": "Python 3",
   "language": "python",
   "name": "python3"
  },
  "language_info": {
   "codemirror_mode": {
    "name": "ipython",
    "version": 3
   },
   "file_extension": ".py",
   "mimetype": "text/x-python",
   "name": "python",
   "nbconvert_exporter": "python",
   "pygments_lexer": "ipython3",
   "version": "3.7.7"
  },
  "toc": {
   "base_numbering": 1,
   "nav_menu": {},
   "number_sections": true,
   "sideBar": true,
   "skip_h1_title": false,
   "title_cell": "Table of Contents",
   "title_sidebar": "Contents",
   "toc_cell": false,
   "toc_position": {},
   "toc_section_display": true,
   "toc_window_display": false
  }
 },
 "nbformat": 4,
 "nbformat_minor": 1
}
