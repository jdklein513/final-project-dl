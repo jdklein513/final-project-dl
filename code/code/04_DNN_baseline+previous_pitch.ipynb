{
 "cells": [
  {
   "cell_type": "markdown",
   "metadata": {
    "id": "hJULtPG9guNm"
   },
   "source": [
    "# Modeling - Baseline Model + Previous Pitch\n",
    "\n",
    "**Author:** Joel Klein, Jacob Sauberman, Ben Perkins\n",
    "\n",
    "**Date:** December 7, 2021\n",
    "\n",
    "**Description:** This script loads in MLB Statcast data from every MLB registered pitch since 2017, prepares the pitch data, and then passes in the pitch data to a fully connected neural network to predict the next pitch type. This script includes the neural network modeling with the current game state, historical pitcher/hitter statistics, and the previous pitch info input features.\n",
    "\n",
    "**Data:** The data is scraped from *baseballsavant.com* for each year and combined together in one large data file. \n",
    "\n",
    "**Scope:** To avoid data leakage, the data can not be randomly split across all years in the training, validation, and test sets. Future pitches cannot be included as inputs within the training data to generate predictions for past pitches in the validation and/or test data. The data from the 2017 and 2018 seasons will be used for training data while the 2019 season is used for validation. 2020 and 2021 seasons will be used for the testing data in the next pitch prediction model. \n",
    "\n",
    "There are many instances in major league baseball where rookie batters and pitchers receive at-bats and there is little or no prior pitch sequence data. In order to make a prediction on next pitch types in the 2019, 2020, and 2021 seasons, the batter and the pitcher need to have a significant amount of recorded at-bats in the 2017 and 2018 seasons. Only batters and pitchers accounting for 90% of at-bats in the 2017 and 2018 seasons were included in scope (441 batters and 512 pitchers) for generating the pitcher and batter embeddings.\n",
    "\n",
    "**Notes:** \n",
    "\n",
    "**Warnings:** \n",
    "\n",
    "**Outline:** \n",
    "  - Install Libraries\n",
    "  - Global Options\n",
    "  - Set Directories\n",
    "  - Define Functions\n",
    "  - Load Data\n",
    "  - Data Preparation\n",
    "  - Data Splitting\n",
    "  - Data Loaders\n",
    "  - Train Model\n",
    "  - Evaluation"
   ]
  },
  {
   "cell_type": "markdown",
   "metadata": {
    "id": "Vwx_cBcmgvIh"
   },
   "source": [
    "## Import Libraries"
   ]
  },
  {
   "cell_type": "markdown",
   "metadata": {
    "id": "N1kmInt5JeQ3"
   },
   "source": [
    "Let's load in the python libraries needed for the this notebook."
   ]
  },
  {
   "cell_type": "code",
   "execution_count": 1,
   "metadata": {
    "colab": {
     "base_uri": "https://localhost:8080/"
    },
    "executionInfo": {
     "elapsed": 11702,
     "status": "ok",
     "timestamp": 1639250027694,
     "user": {
      "displayName": "Joel Klein",
      "photoUrl": "https://lh3.googleusercontent.com/a/default-user=s64",
      "userId": "12422283647264597477"
     },
     "user_tz": 420
    },
    "id": "vjGBv3RKg0mS",
    "outputId": "e99a512e-1657-4415-d508-d498be96eaf2"
   },
   "outputs": [
    {
     "name": "stdout",
     "output_type": "stream",
     "text": [
      "Collecting pybaseball\n",
      "  Downloading pybaseball-2.2.1-py3-none-any.whl (415 kB)\n",
      "\u001b[K     |████████████████████████████████| 415 kB 4.2 MB/s \n",
      "\u001b[?25hCollecting pygithub>=1.51\n",
      "  Downloading PyGithub-1.55-py3-none-any.whl (291 kB)\n",
      "\u001b[K     |████████████████████████████████| 291 kB 85.2 MB/s \n",
      "\u001b[?25hRequirement already satisfied: tqdm>=4.50.0 in /usr/local/lib/python3.7/dist-packages (from pybaseball) (4.62.3)\n",
      "Requirement already satisfied: numpy>=1.13.0 in /usr/local/lib/python3.7/dist-packages (from pybaseball) (1.19.5)\n",
      "Requirement already satisfied: scipy>=1.4.0 in /usr/local/lib/python3.7/dist-packages (from pybaseball) (1.4.1)\n",
      "Requirement already satisfied: pyarrow>=1.0.1 in /usr/local/lib/python3.7/dist-packages (from pybaseball) (3.0.0)\n",
      "Requirement already satisfied: lxml>=4.2.1 in /usr/local/lib/python3.7/dist-packages (from pybaseball) (4.2.6)\n",
      "Requirement already satisfied: requests>=2.18.1 in /usr/local/lib/python3.7/dist-packages (from pybaseball) (2.23.0)\n",
      "Requirement already satisfied: beautifulsoup4>=4.4.0 in /usr/local/lib/python3.7/dist-packages (from pybaseball) (4.6.3)\n",
      "Requirement already satisfied: pandas>=1.0.3 in /usr/local/lib/python3.7/dist-packages (from pybaseball) (1.1.5)\n",
      "Requirement already satisfied: matplotlib>=2.0.0 in /usr/local/lib/python3.7/dist-packages (from pybaseball) (3.2.2)\n",
      "Requirement already satisfied: attrs>=20.3.0 in /usr/local/lib/python3.7/dist-packages (from pybaseball) (21.2.0)\n",
      "Requirement already satisfied: cycler>=0.10 in /usr/local/lib/python3.7/dist-packages (from matplotlib>=2.0.0->pybaseball) (0.11.0)\n",
      "Requirement already satisfied: kiwisolver>=1.0.1 in /usr/local/lib/python3.7/dist-packages (from matplotlib>=2.0.0->pybaseball) (1.3.2)\n",
      "Requirement already satisfied: pyparsing!=2.0.4,!=2.1.2,!=2.1.6,>=2.0.1 in /usr/local/lib/python3.7/dist-packages (from matplotlib>=2.0.0->pybaseball) (3.0.6)\n",
      "Requirement already satisfied: python-dateutil>=2.1 in /usr/local/lib/python3.7/dist-packages (from matplotlib>=2.0.0->pybaseball) (2.8.2)\n",
      "Requirement already satisfied: pytz>=2017.2 in /usr/local/lib/python3.7/dist-packages (from pandas>=1.0.3->pybaseball) (2018.9)\n",
      "Collecting pynacl>=1.4.0\n",
      "  Downloading PyNaCl-1.4.0-cp35-abi3-manylinux1_x86_64.whl (961 kB)\n",
      "\u001b[K     |████████████████████████████████| 961 kB 56.0 MB/s \n",
      "\u001b[?25hCollecting deprecated\n",
      "  Downloading Deprecated-1.2.13-py2.py3-none-any.whl (9.6 kB)\n",
      "Collecting pyjwt>=2.0\n",
      "  Downloading PyJWT-2.3.0-py3-none-any.whl (16 kB)\n",
      "Requirement already satisfied: cffi>=1.4.1 in /usr/local/lib/python3.7/dist-packages (from pynacl>=1.4.0->pygithub>=1.51->pybaseball) (1.15.0)\n",
      "Requirement already satisfied: six in /usr/local/lib/python3.7/dist-packages (from pynacl>=1.4.0->pygithub>=1.51->pybaseball) (1.15.0)\n",
      "Requirement already satisfied: pycparser in /usr/local/lib/python3.7/dist-packages (from cffi>=1.4.1->pynacl>=1.4.0->pygithub>=1.51->pybaseball) (2.21)\n",
      "Requirement already satisfied: chardet<4,>=3.0.2 in /usr/local/lib/python3.7/dist-packages (from requests>=2.18.1->pybaseball) (3.0.4)\n",
      "Requirement already satisfied: urllib3!=1.25.0,!=1.25.1,<1.26,>=1.21.1 in /usr/local/lib/python3.7/dist-packages (from requests>=2.18.1->pybaseball) (1.24.3)\n",
      "Requirement already satisfied: idna<3,>=2.5 in /usr/local/lib/python3.7/dist-packages (from requests>=2.18.1->pybaseball) (2.10)\n",
      "Requirement already satisfied: certifi>=2017.4.17 in /usr/local/lib/python3.7/dist-packages (from requests>=2.18.1->pybaseball) (2021.10.8)\n",
      "Requirement already satisfied: wrapt<2,>=1.10 in /usr/local/lib/python3.7/dist-packages (from deprecated->pygithub>=1.51->pybaseball) (1.13.3)\n",
      "Installing collected packages: pynacl, pyjwt, deprecated, pygithub, pybaseball\n",
      "Successfully installed deprecated-1.2.13 pybaseball-2.2.1 pygithub-1.55 pyjwt-2.3.0 pynacl-1.4.0\n"
     ]
    }
   ],
   "source": [
    "# data manipulation\n",
    "import numpy as np\n",
    "import pandas as pd \n",
    "import os\n",
    "import zipfile\n",
    "\n",
    "# plotting\n",
    "import seaborn as sns\n",
    "import matplotlib.pyplot as plt\n",
    "from pandas.plotting import scatter_matrix\n",
    "import plotly.express as px\n",
    "\n",
    "# pytorch\n",
    "import torch\n",
    "import torch.nn as nn\n",
    "import torch.nn.functional as F\n",
    "import torch.optim as optim\n",
    "from torch.utils.data import Dataset, DataLoader, SubsetRandomSampler\n",
    "import torchvision\n",
    "import torch.utils.data\n",
    "import torchvision.transforms as transforms\n",
    "from torchvision.transforms import ToTensor\n",
    "from torch.utils.data import random_split\n",
    "from torch import cuda\n",
    "from torch.autograd import Variable\n",
    "from torch.utils.data import TensorDataset\n",
    "from torch.nn.utils.rnn import pad_sequence\n",
    "\n",
    "# splitting data\n",
    "from sklearn.model_selection import train_test_split\n",
    "\n",
    "# preprocessing\n",
    "from sklearn.impute import SimpleImputer\n",
    "from sklearn.preprocessing import MinMaxScaler, StandardScaler, OneHotEncoder, LabelEncoder\n",
    "\n",
    "# pipelines\n",
    "from sklearn.decomposition import PCA\n",
    "from sklearn.compose import ColumnTransformer\n",
    "from sklearn.base import BaseEstimator, TransformerMixin\n",
    "from sklearn.pipeline import Pipeline, FeatureUnion, make_pipeline\n",
    "\n",
    "# random number generator\n",
    "import random\n",
    "\n",
    "# other\n",
    "import IPython\n",
    "import pickle\n",
    "from os import listdir\n",
    "from os.path import isfile, join\n",
    "\n",
    "# pybaseball\n",
    "!pip install pybaseball\n",
    "from pybaseball import playerid_reverse_lookup"
   ]
  },
  {
   "cell_type": "markdown",
   "metadata": {
    "id": "lWmA2eCigvKw"
   },
   "source": [
    "## Global Options"
   ]
  },
  {
   "cell_type": "markdown",
   "metadata": {
    "id": "54kWfnpRJoWI"
   },
   "source": [
    "Let's set a few global options for the notebook"
   ]
  },
  {
   "cell_type": "code",
   "execution_count": 2,
   "metadata": {
    "executionInfo": {
     "elapsed": 8,
     "status": "ok",
     "timestamp": 1639250027695,
     "user": {
      "displayName": "Joel Klein",
      "photoUrl": "https://lh3.googleusercontent.com/a/default-user=s64",
      "userId": "12422283647264597477"
     },
     "user_tz": 420
    },
    "id": "zRn1T74RhC07"
   },
   "outputs": [],
   "source": [
    "# do not show warnings\n",
    "import warnings\n",
    "warnings.filterwarnings('ignore')\n",
    "\n",
    "# set pandas display options\n",
    "pd.set_option('display.max_rows', 500)\n",
    "pd.set_option('display.max_columns', 500)\n",
    "pd.set_option('display.width', 2000)\n",
    "pd.set_option('display.max_colwidth', 2000)\n",
    "pd.options.display.float_format = '{:.5f}'.format"
   ]
  },
  {
   "cell_type": "markdown",
   "metadata": {
    "id": "x9HT0qCwhbFN"
   },
   "source": [
    "## Set Directories"
   ]
  },
  {
   "cell_type": "markdown",
   "metadata": {
    "id": "OJA0uUHPJws2"
   },
   "source": [
    "Let's set the directories needed to load in the data into the notebook."
   ]
  },
  {
   "cell_type": "code",
   "execution_count": 3,
   "metadata": {
    "colab": {
     "base_uri": "https://localhost:8080/"
    },
    "executionInfo": {
     "elapsed": 82740,
     "status": "ok",
     "timestamp": 1639250110429,
     "user": {
      "displayName": "Joel Klein",
      "photoUrl": "https://lh3.googleusercontent.com/a/default-user=s64",
      "userId": "12422283647264597477"
     },
     "user_tz": 420
    },
    "id": "y7rTjs1jhen9",
    "outputId": "fc75a56e-dc85-4570-bd30-da593efc7a7c"
   },
   "outputs": [
    {
     "name": "stdout",
     "output_type": "stream",
     "text": [
      "Mounted at /content/drive\n"
     ]
    }
   ],
   "source": [
    "# mount data drive on colab\n",
    "from google.colab import drive\n",
    "drive.mount('/content/drive')\n",
    "\n",
    "# set folder directories to load and save data\n",
    "DATA_DIR = \"/content/drive/MyDrive/final-project-dl/data\"\n",
    "STATCAST_DATA_DIR = \"/content/drive/MyDrive/final-project-dl/data/statcast\"\n",
    "EMBEDDINGS_DATA_DIR = \"/content/drive/MyDrive/final-project-dl/data/embeddings\""
   ]
  },
  {
   "cell_type": "markdown",
   "metadata": {
    "id": "WbbO4WK7hsWT"
   },
   "source": [
    "## Define Functions"
   ]
  },
  {
   "cell_type": "markdown",
   "metadata": {
    "id": "u4lWO6_-J2Xw"
   },
   "source": [
    "All custom functions needed in the notebook are listed in this section."
   ]
  },
  {
   "cell_type": "code",
   "execution_count": 4,
   "metadata": {
    "executionInfo": {
     "elapsed": 8,
     "status": "ok",
     "timestamp": 1639250110429,
     "user": {
      "displayName": "Joel Klein",
      "photoUrl": "https://lh3.googleusercontent.com/a/default-user=s64",
      "userId": "12422283647264597477"
     },
     "user_tz": 420
    },
    "id": "BYBm_Yq9hvMX"
   },
   "outputs": [],
   "source": [
    "##### Define data loading function ----\n",
    "\n",
    "# define a function for loading in dataset\n",
    "def load_data(in_path, name):\n",
    "    df = pd.read_csv(in_path)\n",
    "    print(f\"{name}: shape is {df.shape}\")\n",
    "    \n",
    "    return df"
   ]
  },
  {
   "cell_type": "code",
   "execution_count": 5,
   "metadata": {
    "executionInfo": {
     "elapsed": 7,
     "status": "ok",
     "timestamp": 1639250110430,
     "user": {
      "displayName": "Joel Klein",
      "photoUrl": "https://lh3.googleusercontent.com/a/default-user=s64",
      "userId": "12422283647264597477"
     },
     "user_tz": 420
    },
    "id": "BrA0JGVo5Ksw"
   },
   "outputs": [],
   "source": [
    "##### Define early stopping class -----\n",
    "\n",
    "# source: https://github.com/Bjarten/early-stopping-pytorch/blob/master/pytorchtools.py\n",
    "# date accessed: 2021-12-08\n",
    "\n",
    "class EarlyStopping:\n",
    "    \"\"\"Early stops the training if validation loss doesn't improve after a given patience.\"\"\"\n",
    "    def __init__(self, patience=7, verbose=False, delta=0, path='checkpoint.pt', trace_func=print):\n",
    "        \"\"\"\n",
    "        Args:\n",
    "            patience (int): How long to wait after last time validation loss improved.\n",
    "                            Default: 7\n",
    "            verbose (bool): If True, prints a message for each validation loss improvement. \n",
    "                            Default: False\n",
    "            delta (float): Minimum change in the monitored quantity to qualify as an improvement.\n",
    "                            Default: 0\n",
    "            path (str): Path for the checkpoint to be saved to.\n",
    "                            Default: 'checkpoint.pt'\n",
    "            trace_func (function): trace print function.\n",
    "                            Default: print            \n",
    "        \"\"\"\n",
    "        self.patience = patience\n",
    "        self.verbose = verbose\n",
    "        self.counter = 0\n",
    "        self.best_score = None\n",
    "        self.early_stop = False\n",
    "        self.val_loss_min = np.Inf\n",
    "        self.delta = delta\n",
    "        self.path = path\n",
    "        self.trace_func = trace_func\n",
    "    def __call__(self, val_loss, model):\n",
    "\n",
    "        score = -val_loss\n",
    "\n",
    "        if self.best_score is None:\n",
    "            self.best_score = score\n",
    "            self.save_checkpoint(val_loss, model)\n",
    "        elif score < self.best_score + self.delta:\n",
    "            self.counter += 1\n",
    "            self.trace_func(f'EarlyStopping counter: {self.counter} out of {self.patience}')\n",
    "            if self.counter >= self.patience:\n",
    "                self.early_stop = True\n",
    "        else:\n",
    "            self.best_score = score\n",
    "            self.save_checkpoint(val_loss, model)\n",
    "            self.counter = 0\n",
    "\n",
    "    def save_checkpoint(self, val_loss, model):\n",
    "        '''Saves model when validation loss decrease.'''\n",
    "        if self.verbose:\n",
    "            self.trace_func(f'Validation loss decreased ({self.val_loss_min:.6f} --> {val_loss:.6f}).  Saving model ...')\n",
    "        torch.save(model.state_dict(), self.path)\n",
    "        self.val_loss_min = val_loss"
   ]
  },
  {
   "cell_type": "markdown",
   "metadata": {
    "id": "P4MStBqLhgvJ"
   },
   "source": [
    "## Load Data"
   ]
  },
  {
   "cell_type": "markdown",
   "metadata": {
    "id": "c7iZIszaZfR9"
   },
   "source": [
    "Let's load in the pitch data from the 2017, 2018, 2019, 2020, and 2021 seasons via the train, validation, and test sets."
   ]
  },
  {
   "cell_type": "code",
   "execution_count": 6,
   "metadata": {
    "colab": {
     "base_uri": "https://localhost:8080/"
    },
    "executionInfo": {
     "elapsed": 21652,
     "status": "ok",
     "timestamp": 1639250133097,
     "user": {
      "displayName": "Joel Klein",
      "photoUrl": "https://lh3.googleusercontent.com/a/default-user=s64",
      "userId": "12422283647264597477"
     },
     "user_tz": 420
    },
    "id": "k3oo9FGehf5B",
    "outputId": "7401ffe6-fc35-423e-c310-aa31eaa9fed7"
   },
   "outputs": [
    {
     "name": "stdout",
     "output_type": "stream",
     "text": [
      "train_data: shape is (785777, 107)\n",
      "validation_data: shape is (344941, 107)\n",
      "test_data: shape is (267635, 107)\n"
     ]
    }
   ],
   "source": [
    "# load in each dataset\n",
    "train_data = load_data(os.path.join(STATCAST_DATA_DIR, 'train_data.csv'), 'train_data')\n",
    "validation_data = load_data(os.path.join(STATCAST_DATA_DIR, 'validation_data.csv'), 'validation_data')\n",
    "test_data = load_data(os.path.join(STATCAST_DATA_DIR, 'test_data.csv'), 'test_data')"
   ]
  },
  {
   "cell_type": "markdown",
   "metadata": {
    "id": "w3VaEa8lEv1n"
   },
   "source": [
    "Let's load in the batter and pitcher embeddings"
   ]
  },
  {
   "cell_type": "code",
   "execution_count": 7,
   "metadata": {
    "executionInfo": {
     "elapsed": 1635,
     "status": "ok",
     "timestamp": 1639250134723,
     "user": {
      "displayName": "Joel Klein",
      "photoUrl": "https://lh3.googleusercontent.com/a/default-user=s64",
      "userId": "12422283647264597477"
     },
     "user_tz": 420
    },
    "id": "SMAag3jiE52w"
   },
   "outputs": [],
   "source": [
    "# load in batter embeddings reference table\n",
    "with open(os.path.join(EMBEDDINGS_DATA_DIR, 'batter_embedding_df.pkl'), 'rb') as f:\n",
    "    batter_embedding_df = pickle.load(f)\n",
    "\n",
    "# load in pitcher embeddings reference table\n",
    "with open(os.path.join(EMBEDDINGS_DATA_DIR, 'pitcher_embedding_df.pkl'), 'rb') as f:\n",
    "    pitcher_embedding_df = pickle.load(f)"
   ]
  },
  {
   "cell_type": "markdown",
   "metadata": {
    "id": "o32Z70wnC3pA"
   },
   "source": [
    "## Data Preparation"
   ]
  },
  {
   "cell_type": "markdown",
   "metadata": {
    "id": "Dt6VBV-QruKm"
   },
   "source": [
    "#### Recategorize previous outcome to smaller class"
   ]
  },
  {
   "cell_type": "code",
   "execution_count": 8,
   "metadata": {
    "executionInfo": {
     "elapsed": 340,
     "status": "ok",
     "timestamp": 1639250135060,
     "user": {
      "displayName": "Joel Klein",
      "photoUrl": "https://lh3.googleusercontent.com/a/default-user=s64",
      "userId": "12422283647264597477"
     },
     "user_tz": 420
    },
    "id": "0acRmSijrveg"
   },
   "outputs": [],
   "source": [
    "train_data['prev_outcome'] = np.select(\n",
    "    [\n",
    "      train_data['prev_description'].isin([\"ball\", \"blocked_ball\"]), \n",
    "      train_data['prev_description'].isin([\"foul\", \"foul_tip\"]),\n",
    "      (train_data['prev_description'] == \"hit_into_play\") & ~train_data['prev_events'].isin([\"single\", \"double\", \"triple\", \"home_run\"]),\n",
    "      (train_data['prev_description'] == \"hit_into_play\") & ~train_data['prev_events'].isin([\"single\", \"double\", \"triple\", \"home_run\"]),\n",
    "      train_data['prev_description'] == \"called_strike\",\n",
    "      train_data['prev_description'].isin([\"swinging_strike\", \"swinging_strike_blocked\"])\n",
    "    ], \n",
    "    [\n",
    "      'ball', \n",
    "      'foul',\n",
    "      'out',\n",
    "      'hit',\n",
    "      'called_strike',\n",
    "      'swinging_strike'\n",
    "    ], \n",
    "    default='other'\n",
    ")\n",
    "\n",
    "validation_data['prev_outcome'] = np.select(\n",
    "    [\n",
    "      validation_data['prev_description'].isin([\"ball\", \"blocked_ball\"]), \n",
    "      validation_data['prev_description'].isin([\"foul\", \"foul_tip\"]),\n",
    "      (validation_data['prev_description'] == \"hit_into_play\") & ~validation_data['prev_events'].isin([\"single\", \"double\", \"triple\", \"home_run\"]),\n",
    "      (validation_data['prev_description'] == \"hit_into_play\") & ~validation_data['prev_events'].isin([\"single\", \"double\", \"triple\", \"home_run\"]),\n",
    "      validation_data['prev_description'] == \"called_strike\",\n",
    "      validation_data['prev_description'].isin([\"swinging_strike\", \"swinging_strike_blocked\"])\n",
    "    ], \n",
    "    [\n",
    "      'ball', \n",
    "      'foul',\n",
    "      'out',\n",
    "      'hit',\n",
    "      'called_strike',\n",
    "      'swinging_strike'\n",
    "    ], \n",
    "    default='other'\n",
    ")\n",
    "\n",
    "test_data['prev_outcome'] = np.select(\n",
    "    [\n",
    "      test_data['prev_description'].isin([\"ball\", \"blocked_ball\"]), \n",
    "      test_data['prev_description'].isin([\"foul\", \"foul_tip\"]),\n",
    "      (test_data['prev_description'] == \"hit_into_play\") & ~test_data['prev_events'].isin([\"single\", \"double\", \"triple\", \"home_run\"]),\n",
    "      (test_data['prev_description'] == \"hit_into_play\") & ~test_data['prev_events'].isin([\"single\", \"double\", \"triple\", \"home_run\"]),\n",
    "      test_data['prev_description'] == \"called_strike\",\n",
    "      test_data['prev_description'].isin([\"swinging_strike\", \"swinging_strike_blocked\"])\n",
    "    ], \n",
    "    [\n",
    "      'ball', \n",
    "      'foul',\n",
    "      'out',\n",
    "      'hit',\n",
    "      'called_strike',\n",
    "      'swinging_strike'\n",
    "    ], \n",
    "    default='other'\n",
    ")"
   ]
  },
  {
   "cell_type": "markdown",
   "metadata": {
    "id": "_kqPzdu-Of-A"
   },
   "source": [
    "### Data Integration"
   ]
  },
  {
   "cell_type": "markdown",
   "metadata": {
    "id": "hRZGufelLuPe"
   },
   "source": [
    "The batters and pitchers will be passed in as embedding vectors into the model, which is a lower dimensional representation. We will join the batter and pitcher columns from the original data to the embedding vectors we loaded in earlier."
   ]
  },
  {
   "cell_type": "code",
   "execution_count": 9,
   "metadata": {
    "executionInfo": {
     "elapsed": 5,
     "status": "ok",
     "timestamp": 1639250135061,
     "user": {
      "displayName": "Joel Klein",
      "photoUrl": "https://lh3.googleusercontent.com/a/default-user=s64",
      "userId": "12422283647264597477"
     },
     "user_tz": 420
    },
    "id": "oaq5Fd3Ckdqp"
   },
   "outputs": [],
   "source": [
    "# get the list of the batter column names from the embedding data frame\n",
    "batter_cols = list(['batter_' + str(i) for i in range(9)]) # these are 9 dimensional embeddings\n",
    "batter_cols.append('batter')\n",
    "\n",
    "# get the list of the pitcher column names from the embedding data frame\n",
    "pitcher_cols = list(['pitcher_' + str(i) for i in range(9)]) # these are 9 dimensional embeddings\n",
    "pitcher_cols.append('pitcher')"
   ]
  },
  {
   "cell_type": "code",
   "execution_count": 10,
   "metadata": {
    "colab": {
     "base_uri": "https://localhost:8080/"
    },
    "executionInfo": {
     "elapsed": 2489,
     "status": "ok",
     "timestamp": 1639250137546,
     "user": {
      "displayName": "Joel Klein",
      "photoUrl": "https://lh3.googleusercontent.com/a/default-user=s64",
      "userId": "12422283647264597477"
     },
     "user_tz": 420
    },
    "id": "9XwtBZP0FnDa",
    "outputId": "1d9c8ecc-8fab-423e-c041-1ca022c9cbf0"
   },
   "outputs": [
    {
     "name": "stdout",
     "output_type": "stream",
     "text": [
      "True\n",
      "True\n",
      "True\n"
     ]
    }
   ],
   "source": [
    "##### Batter Embedding Integration ----\n",
    "\n",
    "## Train --\n",
    "\n",
    "# get the existing statcast data row count\n",
    "train_data_nrow = len(train_data)\n",
    "\n",
    "# join the batter embeddings to the data\n",
    "train_data = train_data.merge(batter_embedding_df[batter_cols], on='batter', how='left')\n",
    "\n",
    "# get the new statcast data row count\n",
    "train_data_batter_nrow = len(train_data)\n",
    "\n",
    "# make sure the join doesn't produce duplicate records\n",
    "print(train_data_nrow == train_data_batter_nrow)\n",
    "\n",
    "## Validation --\n",
    "\n",
    "# get the existing statcast data row count\n",
    "validation_data_nrow = len(validation_data)\n",
    "\n",
    "# join the batter embeddings to the data\n",
    "validation_data = validation_data.merge(batter_embedding_df[batter_cols], on='batter', how='left')\n",
    "\n",
    "# get the new statcast data row count\n",
    "validation_data_batter_nrow = len(validation_data)\n",
    "\n",
    "# make sure the join doesn't produce duplicate records\n",
    "print(validation_data_nrow == validation_data_batter_nrow)\n",
    "\n",
    "## Test --\n",
    "\n",
    "# get the existing statcast data row count\n",
    "test_data_nrow = len(test_data)\n",
    "\n",
    "# join the batter embeddings to the data\n",
    "test_data = test_data.merge(batter_embedding_df[batter_cols], on='batter', how='left')\n",
    "\n",
    "# get the new statcast data row count\n",
    "test_data_batter_nrow = len(test_data)\n",
    "\n",
    "# make sure the join doesn't produce duplicate records\n",
    "print(test_data_nrow == test_data_batter_nrow)"
   ]
  },
  {
   "cell_type": "code",
   "execution_count": 11,
   "metadata": {
    "colab": {
     "base_uri": "https://localhost:8080/"
    },
    "executionInfo": {
     "elapsed": 1466,
     "status": "ok",
     "timestamp": 1639250139010,
     "user": {
      "displayName": "Joel Klein",
      "photoUrl": "https://lh3.googleusercontent.com/a/default-user=s64",
      "userId": "12422283647264597477"
     },
     "user_tz": 420
    },
    "id": "wr86EtN6HAqt",
    "outputId": "836685e7-391e-4aa1-d927-3c3d7ccef2f4"
   },
   "outputs": [
    {
     "name": "stdout",
     "output_type": "stream",
     "text": [
      "True\n",
      "True\n",
      "True\n"
     ]
    }
   ],
   "source": [
    "##### Pitcher Embedding Integration ----\n",
    "\n",
    "## Train --\n",
    "\n",
    "# get the existing statcast data row count\n",
    "train_data_nrow = len(train_data)\n",
    "\n",
    "# join the pitcher embeddings to the data\n",
    "train_data = train_data.merge(pitcher_embedding_df[pitcher_cols], on='pitcher', how='left')\n",
    "\n",
    "# get the new statcast data row count\n",
    "train_data_pitcher_nrow = len(train_data)\n",
    "\n",
    "# make sure the join doesn't produce duplicate records\n",
    "print(train_data_nrow == train_data_pitcher_nrow)\n",
    "\n",
    "## Validation --\n",
    "\n",
    "# get the existing statcast data row count\n",
    "validation_data_nrow = len(validation_data)\n",
    "\n",
    "# join the pitcher embeddings to the data\n",
    "validation_data = validation_data.merge(pitcher_embedding_df[pitcher_cols], on='pitcher', how='left')\n",
    "\n",
    "# get the new statcast data row count\n",
    "validation_data_pitcher_nrow = len(validation_data)\n",
    "\n",
    "# make sure the join doesn't produce duplicate records\n",
    "print(validation_data_nrow == validation_data_pitcher_nrow)\n",
    "\n",
    "## Test --\n",
    "\n",
    "# get the existing statcast data row count\n",
    "test_data_nrow = len(test_data)\n",
    "\n",
    "# join the pitcher embeddings to the data\n",
    "test_data = test_data.merge(pitcher_embedding_df[pitcher_cols], on='pitcher', how='left')\n",
    "\n",
    "# get the new statcast data row count\n",
    "test_data_pitcher_nrow = len(test_data)\n",
    "\n",
    "# make sure the join doesn't produce duplicate records\n",
    "print(test_data_nrow == test_data_pitcher_nrow)"
   ]
  },
  {
   "cell_type": "markdown",
   "metadata": {
    "id": "a-WroBFzMKZU"
   },
   "source": [
    "After the join, we need to remove features that are not needed for the training data."
   ]
  },
  {
   "cell_type": "code",
   "execution_count": 12,
   "metadata": {
    "executionInfo": {
     "elapsed": 630,
     "status": "ok",
     "timestamp": 1639250139637,
     "user": {
      "displayName": "Joel Klein",
      "photoUrl": "https://lh3.googleusercontent.com/a/default-user=s64",
      "userId": "12422283647264597477"
     },
     "user_tz": 420
    },
    "id": "2WucUOfD3XTQ"
   },
   "outputs": [],
   "source": [
    "# drop columns from data set we do not care about\n",
    "train_data = train_data.drop(columns=['batter', 'pitcher', 'prev_game_pitch_number', 'prev_game_pitch_number', 'prev_game_pk', 'prev_pitch_number', 'prev_at_bat_number', 'game_pitch_number'])\n",
    "validation_data = validation_data.drop(columns=['batter', 'pitcher', 'prev_game_pitch_number', 'prev_game_pitch_number', 'prev_game_pk', 'prev_pitch_number', 'prev_at_bat_number', 'game_pitch_number'])\n",
    "test_data = test_data.drop(columns=['batter', 'pitcher', 'prev_game_pitch_number', 'prev_game_pitch_number', 'prev_game_pk', 'prev_pitch_number', 'prev_at_bat_number', 'game_pitch_number'])"
   ]
  },
  {
   "cell_type": "code",
   "execution_count": 13,
   "metadata": {
    "executionInfo": {
     "elapsed": 9,
     "status": "ok",
     "timestamp": 1639250140375,
     "user": {
      "displayName": "Joel Klein",
      "photoUrl": "https://lh3.googleusercontent.com/a/default-user=s64",
      "userId": "12422283647264597477"
     },
     "user_tz": 420
    },
    "id": "AqEt6C4wEOv9"
   },
   "outputs": [],
   "source": [
    "# assign the input and response features\n",
    "x_train = train_data.drop(['pitch_class'], axis = 1) # features\n",
    "y_train = train_data['pitch_class'] # label\n",
    "\n",
    "x_validation = validation_data.drop(['pitch_class'], axis = 1) # features\n",
    "y_validation = validation_data['pitch_class'] # label\n",
    "\n",
    "x_test = test_data.drop(['pitch_class'], axis = 1) # features\n",
    "y_test = test_data['pitch_class'] # label"
   ]
  },
  {
   "cell_type": "markdown",
   "metadata": {
    "id": "z3oYGFweVa2D"
   },
   "source": [
    "We need to convert the input features into an index before training."
   ]
  },
  {
   "cell_type": "code",
   "execution_count": 14,
   "metadata": {
    "executionInfo": {
     "elapsed": 8,
     "status": "ok",
     "timestamp": 1639250140375,
     "user": {
      "displayName": "Joel Klein",
      "photoUrl": "https://lh3.googleusercontent.com/a/default-user=s64",
      "userId": "12422283647264597477"
     },
     "user_tz": 420
    },
    "id": "WIfWqxLGSIOf"
   },
   "outputs": [],
   "source": [
    "# Assign each pitch with a unique index\n",
    "pitch_to_ix = {\"fourseam\": 0, \"twoseam\": 1, \"slider\": 2,\n",
    "               \"changeup\": 3, \"curveball\": 4, \"cutter\": 5}\n",
    "\n",
    "# Convert the pitch code to the index for target data, y_train_df, y_valid_df\n",
    "y_train = y_train.map(pitch_to_ix)\n",
    "y_validation = y_validation.map(pitch_to_ix)\n",
    "y_test = y_test.map(pitch_to_ix)"
   ]
  },
  {
   "cell_type": "markdown",
   "metadata": {
    "id": "PMr2O7blOKxb"
   },
   "source": [
    "After checking for missing data after these transformations, we see there are still some of the previous pitch data features which are missing. These represent the first pitches of the game and so there is no previous pitch information. These features will be imputed with a 0 when passed into the model."
   ]
  },
  {
   "cell_type": "code",
   "execution_count": 15,
   "metadata": {
    "colab": {
     "base_uri": "https://localhost:8080/",
     "height": 0
    },
    "executionInfo": {
     "elapsed": 1267,
     "status": "ok",
     "timestamp": 1639250141635,
     "user": {
      "displayName": "Joel Klein",
      "photoUrl": "https://lh3.googleusercontent.com/a/default-user=s64",
      "userId": "12422283647264597477"
     },
     "user_tz": 420
    },
    "id": "m2UaRx2VoiHu",
    "outputId": "4b3b2f4e-ecd3-4d83-bccb-a2246b60756d"
   },
   "outputs": [
    {
     "data": {
      "text/html": [
       "<div>\n",
       "<style scoped>\n",
       "    .dataframe tbody tr th:only-of-type {\n",
       "        vertical-align: middle;\n",
       "    }\n",
       "\n",
       "    .dataframe tbody tr th {\n",
       "        vertical-align: top;\n",
       "    }\n",
       "\n",
       "    .dataframe thead th {\n",
       "        text-align: right;\n",
       "    }\n",
       "</style>\n",
       "<table border=\"1\" class=\"dataframe\">\n",
       "  <thead>\n",
       "    <tr style=\"text-align: right;\">\n",
       "      <th></th>\n",
       "      <th>Percent</th>\n",
       "      <th>Train Missing Count</th>\n",
       "    </tr>\n",
       "  </thead>\n",
       "  <tbody>\n",
       "    <tr>\n",
       "      <th>prev_hc_x</th>\n",
       "      <td>82.95000</td>\n",
       "      <td>651819</td>\n",
       "    </tr>\n",
       "    <tr>\n",
       "      <th>prev_hc_y</th>\n",
       "      <td>82.95000</td>\n",
       "      <td>651819</td>\n",
       "    </tr>\n",
       "    <tr>\n",
       "      <th>prev_launch_speed_angle</th>\n",
       "      <td>82.89000</td>\n",
       "      <td>651364</td>\n",
       "    </tr>\n",
       "    <tr>\n",
       "      <th>prev_bb_type</th>\n",
       "      <td>82.68000</td>\n",
       "      <td>649651</td>\n",
       "    </tr>\n",
       "    <tr>\n",
       "      <th>prev_events</th>\n",
       "      <td>74.83000</td>\n",
       "      <td>587991</td>\n",
       "    </tr>\n",
       "    <tr>\n",
       "      <th>prev_hit_distance_sc</th>\n",
       "      <td>73.70000</td>\n",
       "      <td>579104</td>\n",
       "    </tr>\n",
       "    <tr>\n",
       "      <th>prev_release_spin_rate</th>\n",
       "      <td>1.97000</td>\n",
       "      <td>15500</td>\n",
       "    </tr>\n",
       "    <tr>\n",
       "      <th>prev_effective_speed</th>\n",
       "      <td>0.66000</td>\n",
       "      <td>5196</td>\n",
       "    </tr>\n",
       "    <tr>\n",
       "      <th>prev_release_extension</th>\n",
       "      <td>0.48000</td>\n",
       "      <td>3788</td>\n",
       "    </tr>\n",
       "    <tr>\n",
       "      <th>prev_release_speed</th>\n",
       "      <td>0.48000</td>\n",
       "      <td>3788</td>\n",
       "    </tr>\n",
       "    <tr>\n",
       "      <th>prev_release_pos_x</th>\n",
       "      <td>0.48000</td>\n",
       "      <td>3786</td>\n",
       "    </tr>\n",
       "    <tr>\n",
       "      <th>prev_plate_x</th>\n",
       "      <td>0.48000</td>\n",
       "      <td>3786</td>\n",
       "    </tr>\n",
       "    <tr>\n",
       "      <th>prev_zone</th>\n",
       "      <td>0.48000</td>\n",
       "      <td>3786</td>\n",
       "    </tr>\n",
       "    <tr>\n",
       "      <th>prev_spin_axis</th>\n",
       "      <td>0.48000</td>\n",
       "      <td>3786</td>\n",
       "    </tr>\n",
       "    <tr>\n",
       "      <th>prev_release_pos_y</th>\n",
       "      <td>0.48000</td>\n",
       "      <td>3786</td>\n",
       "    </tr>\n",
       "    <tr>\n",
       "      <th>prev_release_pos_z</th>\n",
       "      <td>0.48000</td>\n",
       "      <td>3786</td>\n",
       "    </tr>\n",
       "    <tr>\n",
       "      <th>prev_pfx_z</th>\n",
       "      <td>0.48000</td>\n",
       "      <td>3786</td>\n",
       "    </tr>\n",
       "    <tr>\n",
       "      <th>prev_plate_z</th>\n",
       "      <td>0.48000</td>\n",
       "      <td>3786</td>\n",
       "    </tr>\n",
       "    <tr>\n",
       "      <th>prev_az</th>\n",
       "      <td>0.48000</td>\n",
       "      <td>3786</td>\n",
       "    </tr>\n",
       "    <tr>\n",
       "      <th>prev_ax</th>\n",
       "      <td>0.48000</td>\n",
       "      <td>3786</td>\n",
       "    </tr>\n",
       "    <tr>\n",
       "      <th>prev_vz0</th>\n",
       "      <td>0.48000</td>\n",
       "      <td>3786</td>\n",
       "    </tr>\n",
       "    <tr>\n",
       "      <th>prev_vy0</th>\n",
       "      <td>0.48000</td>\n",
       "      <td>3786</td>\n",
       "    </tr>\n",
       "    <tr>\n",
       "      <th>prev_vx0</th>\n",
       "      <td>0.48000</td>\n",
       "      <td>3786</td>\n",
       "    </tr>\n",
       "    <tr>\n",
       "      <th>prev_pfx_x</th>\n",
       "      <td>0.48000</td>\n",
       "      <td>3786</td>\n",
       "    </tr>\n",
       "    <tr>\n",
       "      <th>prev_ay</th>\n",
       "      <td>0.48000</td>\n",
       "      <td>3786</td>\n",
       "    </tr>\n",
       "    <tr>\n",
       "      <th>prev_description</th>\n",
       "      <td>0.39000</td>\n",
       "      <td>3076</td>\n",
       "    </tr>\n",
       "    <tr>\n",
       "      <th>prev_pitch_class</th>\n",
       "      <td>0.39000</td>\n",
       "      <td>3076</td>\n",
       "    </tr>\n",
       "    <tr>\n",
       "      <th>prev_type</th>\n",
       "      <td>0.39000</td>\n",
       "      <td>3076</td>\n",
       "    </tr>\n",
       "  </tbody>\n",
       "</table>\n",
       "</div>"
      ],
      "text/plain": [
       "                         Percent  Train Missing Count\n",
       "prev_hc_x               82.95000               651819\n",
       "prev_hc_y               82.95000               651819\n",
       "prev_launch_speed_angle 82.89000               651364\n",
       "prev_bb_type            82.68000               649651\n",
       "prev_events             74.83000               587991\n",
       "prev_hit_distance_sc    73.70000               579104\n",
       "prev_release_spin_rate   1.97000                15500\n",
       "prev_effective_speed     0.66000                 5196\n",
       "prev_release_extension   0.48000                 3788\n",
       "prev_release_speed       0.48000                 3788\n",
       "prev_release_pos_x       0.48000                 3786\n",
       "prev_plate_x             0.48000                 3786\n",
       "prev_zone                0.48000                 3786\n",
       "prev_spin_axis           0.48000                 3786\n",
       "prev_release_pos_y       0.48000                 3786\n",
       "prev_release_pos_z       0.48000                 3786\n",
       "prev_pfx_z               0.48000                 3786\n",
       "prev_plate_z             0.48000                 3786\n",
       "prev_az                  0.48000                 3786\n",
       "prev_ax                  0.48000                 3786\n",
       "prev_vz0                 0.48000                 3786\n",
       "prev_vy0                 0.48000                 3786\n",
       "prev_vx0                 0.48000                 3786\n",
       "prev_pfx_x               0.48000                 3786\n",
       "prev_ay                  0.48000                 3786\n",
       "prev_description         0.39000                 3076\n",
       "prev_pitch_class         0.39000                 3076\n",
       "prev_type                0.39000                 3076"
      ]
     },
     "metadata": {},
     "output_type": "display_data"
    }
   ],
   "source": [
    "##### Missing Data Check ----\n",
    "\n",
    "# game state data\n",
    "percent = (x_train.isnull().sum()/x_train.isnull().count()*100).sort_values(ascending = False).round(2)\n",
    "sum_missing = x_train.isna().sum().sort_values(ascending = False)\n",
    "missing_data  = pd.concat([percent, sum_missing], axis=1, keys=['Percent', \"Train Missing Count\"])\n",
    "display(missing_data[missing_data['Percent'] != 0])"
   ]
  },
  {
   "cell_type": "markdown",
   "metadata": {
    "id": "k3Q2_51POrGF"
   },
   "source": [
    "### Data Pipeline"
   ]
  },
  {
   "cell_type": "markdown",
   "metadata": {
    "id": "VvmEM6pNOtKO"
   },
   "source": [
    "To prepare the inputs and targets, we will first pass the input data into a preparation pipeline. The pipeline will impute missing categorical features with \"Unknown\" and one hot encode the features. All numeric features missing will be imputed with 0 and then scaled. We start by setting the features we will pass into the pipeline. The ID features are still needed so we can split the data by at bat and eventually pass that in as a sequence to the model."
   ]
  },
  {
   "cell_type": "code",
   "execution_count": 16,
   "metadata": {
    "executionInfo": {
     "elapsed": 6,
     "status": "ok",
     "timestamp": 1639250141636,
     "user": {
      "displayName": "Joel Klein",
      "photoUrl": "https://lh3.googleusercontent.com/a/default-user=s64",
      "userId": "12422283647264597477"
     },
     "user_tz": 420
    },
    "id": "29fbxqOIAFg-"
   },
   "outputs": [],
   "source": [
    "# ohe and no imputation\n",
    "categorical_features = ['outs_when_up',\n",
    "                        'count',\n",
    "                        'stand',\n",
    "                        'p_throws',\n",
    "                        'prev_pitch_class',\n",
    "                        'prev_outcome',\n",
    "                        'tto']\n",
    "\n",
    "# numeric and impute with 0\n",
    "numerical_features = ['recent_fourseam_usage',\n",
    "                      'recent_twoseam_usage',\n",
    "                      'recent_cutter_usage',\n",
    "                      'recent_slider_usage',\n",
    "                      'recent_curveball_usage',\n",
    "                      'recent_changeup_usage',\n",
    "                      'long_term_fourseam_usage',\n",
    "                      'long_term_twoseam_usage',\n",
    "                      'long_term_cutter_usage',\n",
    "                      'long_term_slider_usage',\n",
    "                      'long_term_curveball_usage',\n",
    "                      'long_term_changeup_usage',\n",
    "                      'Changeup_release_speed_m',\n",
    "                      'Curveball_release_speed_m',\n",
    "                      'Cutter_release_speed_m',\n",
    "                      'Fourseam_release_speed_m',\n",
    "                      'Slider_release_speed_m',\n",
    "                      'Twoseam_release_speed_m',\n",
    "                      'Changeup_release_spin_rate_m',\n",
    "                      'Curveball_release_spin_rate_m',\n",
    "                      'Cutter_release_spin_rate_m',\n",
    "                      'Fourseam_release_spin_rate_m',\n",
    "                      'Slider_release_spin_rate_m',\n",
    "                      'Twoseam_release_spin_rate_m',\n",
    "                      'Changeup_strike_per_m',\n",
    "                      'Curveball_strike_per_m',\n",
    "                      'Cutter_strike_per_m',\n",
    "                      'Fourseam_strike_per_m',\n",
    "                      'Slider_strike_per_m',\n",
    "                      'Twoseam_strike_per_m',\n",
    "                      'Changeup_whiff_per_m',\n",
    "                      'Curveball_whiff_per_m',\n",
    "                      'Cutter_whiff_per_m',\n",
    "                      'Fourseam_whiff_per_m',\n",
    "                      'Slider_whiff_per_m',\n",
    "                      'Twoseam_whiff_per_m',\n",
    "                      'Changeup_woba_value_m',\n",
    "                      'Curveball_woba_value_m',\n",
    "                      'Cutter_woba_value_m',\n",
    "                      'Fourseam_woba_value_m',\n",
    "                      'Slider_woba_value_m',\n",
    "                      'Twoseam_woba_value_m',\n",
    "                      'batter_Changeup_whiff_per_m',\n",
    "                      'batter_Curveball_whiff_per_m',\n",
    "                      'batter_Cutter_whiff_per_m',\n",
    "                      'batter_Fourseam_whiff_per_m',\n",
    "                      'batter_Slider_whiff_per_m',\n",
    "                      'batter_Twoseam_whiff_per_m',\n",
    "                      'batter_Changeup_woba_value_m',\n",
    "                      'batter_Curveball_woba_value_m',\n",
    "                      'batter_Cutter_woba_value_m',\n",
    "                      'batter_Fourseam_woba_value_m',\n",
    "                      'batter_Slider_woba_value_m',\n",
    "                      'batter_Twoseam_woba_value_m',\n",
    "                      'bat_score',\n",
    "                      'fld_score',\n",
    "                      'on_1b',\n",
    "                      'on_2b',\n",
    "                      'on_3b',\n",
    "                      'pitch_number',\n",
    "                      'pitcher_pitch_number',\n",
    "                      'prev_release_speed',\n",
    "                      'prev_release_spin_rate',\n",
    "                      'prev_plate_x',\n",
    "                      'prev_plate_z',\n",
    "                      'prev_hit_distance_sc']"
   ]
  },
  {
   "cell_type": "markdown",
   "metadata": {
    "id": "pwx_gSKgPgaB"
   },
   "source": [
    "We specify the pipeline below to perform the data transformations."
   ]
  },
  {
   "cell_type": "code",
   "execution_count": 17,
   "metadata": {
    "executionInfo": {
     "elapsed": 5,
     "status": "ok",
     "timestamp": 1639250141636,
     "user": {
      "displayName": "Joel Klein",
      "photoUrl": "https://lh3.googleusercontent.com/a/default-user=s64",
      "userId": "12422283647264597477"
     },
     "user_tz": 420
    },
    "id": "oIqsH4af_Ab0"
   },
   "outputs": [],
   "source": [
    "##### Data Pipelines ----\n",
    "\n",
    "# create pipeline for numeric features\n",
    "num_pipeline = Pipeline([\n",
    "        ('imputer', SimpleImputer(strategy='constant', fill_value=0.0)),\n",
    "        ('std_scaler', StandardScaler()),\n",
    "    ])\n",
    "\n",
    "# create pipeline for numeric features\n",
    "cat_pipeline = Pipeline([\n",
    "        ('imputer', SimpleImputer(strategy='constant', fill_value=\"NA\")),\n",
    "        ('ohe', OneHotEncoder(handle_unknown='ignore', drop='if_binary')),\n",
    "    ])\n",
    "\n",
    "# specify the column transformer for numeric features\n",
    "data_pipeline = ColumnTransformer(\n",
    "    [(\"num_pipeline\", num_pipeline, numerical_features),\n",
    "     (\"cat_pipeline\", cat_pipeline, categorical_features)],\n",
    "    remainder='passthrough')"
   ]
  },
  {
   "cell_type": "markdown",
   "metadata": {
    "id": "OcfCa_T-PnYE"
   },
   "source": [
    "We will then apply the data transformation pipeline to the training, validation, and test data."
   ]
  },
  {
   "cell_type": "code",
   "execution_count": 18,
   "metadata": {
    "executionInfo": {
     "elapsed": 8443,
     "status": "ok",
     "timestamp": 1639250150074,
     "user": {
      "displayName": "Joel Klein",
      "photoUrl": "https://lh3.googleusercontent.com/a/default-user=s64",
      "userId": "12422283647264597477"
     },
     "user_tz": 420
    },
    "id": "eFnePUAnLjfg"
   },
   "outputs": [],
   "source": [
    "# convert categorical variables to strings\n",
    "x_train[categorical_features] = x_train[categorical_features].astype(str) \n",
    "\n",
    "# apply the pipeline to the input data\n",
    "x_train_transformed = data_pipeline.fit_transform(x_train[numerical_features + categorical_features])\n",
    "\n",
    "# convert categorical variables to strings\n",
    "x_validation[categorical_features] = x_validation[categorical_features].astype(str) \n",
    "\n",
    "# apply the pipeline to the validation data\n",
    "x_validation_transformed = data_pipeline.transform(x_validation[numerical_features + categorical_features])\n",
    "\n",
    "# convert categorical variables to strings\n",
    "x_test[categorical_features] = x_test[categorical_features].astype(str) \n",
    "\n",
    "# apply the pipeline to the validation data\n",
    "x_test_transformed = data_pipeline.transform(x_test[numerical_features + categorical_features])"
   ]
  },
  {
   "cell_type": "code",
   "execution_count": 19,
   "metadata": {
    "colab": {
     "base_uri": "https://localhost:8080/",
     "height": 0
    },
    "executionInfo": {
     "elapsed": 8,
     "status": "ok",
     "timestamp": 1639250150074,
     "user": {
      "displayName": "Joel Klein",
      "photoUrl": "https://lh3.googleusercontent.com/a/default-user=s64",
      "userId": "12422283647264597477"
     },
     "user_tz": 420
    },
    "id": "mKgSkqtROVvx",
    "outputId": "c25ceb76-9072-4254-9194-c57ffa244514"
   },
   "outputs": [
    {
     "data": {
      "text/plain": [
       "array([[-0.78042864,  0.58270307, -0.44229141, ...,  0.        ,\n",
       "         0.        ,  0.        ],\n",
       "       [-0.78042864,  0.58270307, -0.44229141, ...,  0.        ,\n",
       "         0.        ,  0.        ],\n",
       "       [-0.92705851,  0.73617727, -0.44229141, ...,  0.        ,\n",
       "         0.        ,  0.        ],\n",
       "       ...,\n",
       "       [-1.51357801, -0.03119376,  5.68341187, ...,  0.        ,\n",
       "         0.        ,  0.        ],\n",
       "       [-1.51357801, -0.18466797,  5.9497468 , ...,  0.        ,\n",
       "         0.        ,  0.        ],\n",
       "       [-1.51357801, -0.18466797,  5.9497468 , ...,  0.        ,\n",
       "         0.        ,  0.        ]])"
      ]
     },
     "metadata": {},
     "output_type": "display_data"
    },
    {
     "name": "stdout",
     "output_type": "stream",
     "text": [
      "(785777, 101)\n"
     ]
    }
   ],
   "source": [
    "# preview the transformed training data\n",
    "display(x_train_transformed)\n",
    "\n",
    "# print the shape of the training data\n",
    "print(x_train_transformed.shape)"
   ]
  },
  {
   "cell_type": "markdown",
   "metadata": {
    "id": "E2T7hH2oYVlp"
   },
   "source": [
    "A custom class needs to be created to enable pytorch to pass in both the input arrays and output labels."
   ]
  },
  {
   "cell_type": "code",
   "execution_count": 20,
   "metadata": {
    "executionInfo": {
     "elapsed": 6,
     "status": "ok",
     "timestamp": 1639250150075,
     "user": {
      "displayName": "Joel Klein",
      "photoUrl": "https://lh3.googleusercontent.com/a/default-user=s64",
      "userId": "12422283647264597477"
     },
     "user_tz": 420
    },
    "id": "FxVmT0oblBEG"
   },
   "outputs": [],
   "source": [
    "# create a custom class to return tensors that will be inputs into deep learning model\n",
    "class CustomDataset(Dataset):\n",
    "    \n",
    "    def __init__(self, X_data, y_data):\n",
    "        self.X_data = torch.FloatTensor(X_data)\n",
    "        self.y_data = torch.LongTensor(y_data)\n",
    "        \n",
    "    def __getitem__(self, index):\n",
    "        return self.X_data[index], self.y_data[index]\n",
    "        \n",
    "    def __len__ (self):\n",
    "        return len(self.X_data)"
   ]
  },
  {
   "cell_type": "markdown",
   "metadata": {
    "id": "8OP67GA6jg5D"
   },
   "source": [
    "A batch size of 2000 is set for the training data loader to apply optimization and backpropogating the loss at each epoch. The validation and test data loader is set to the full size to estimate the out-of-sample loss."
   ]
  },
  {
   "cell_type": "code",
   "execution_count": 21,
   "metadata": {
    "executionInfo": {
     "elapsed": 284,
     "status": "ok",
     "timestamp": 1639250150354,
     "user": {
      "displayName": "Joel Klein",
      "photoUrl": "https://lh3.googleusercontent.com/a/default-user=s64",
      "userId": "12422283647264597477"
     },
     "user_tz": 420
    },
    "id": "HAxoNQAfzMmF"
   },
   "outputs": [],
   "source": [
    "#### Data Loaders ----\n",
    "\n",
    "# set batch size\n",
    "BATCH_SIZE = 2000\n",
    "\n",
    "# return tensors\n",
    "train_data = CustomDataset(x_train_transformed, y_train)\n",
    "\n",
    "# return tensors\n",
    "validation_data = CustomDataset(x_validation_transformed, y_validation)\n",
    "\n",
    "# return tensors\n",
    "test_data = CustomDataset(x_test_transformed, y_test)\n",
    "\n",
    "# set training data loader\n",
    "train_loader = DataLoader(train_data, batch_size=BATCH_SIZE, shuffle=True, num_workers=0)\n",
    "\n",
    "# set validation data loader\n",
    "validation_loader = DataLoader(validation_data, batch_size=BATCH_SIZE, shuffle=False, num_workers=0)\n",
    "\n",
    "# set test data loader\n",
    "test_loader = DataLoader(test_data, BATCH_SIZE, shuffle=False, num_workers=0)"
   ]
  },
  {
   "cell_type": "markdown",
   "metadata": {
    "id": "F7qwzJW-YKOv"
   },
   "source": [
    "### Train Baseline Fully Connected Neural Network"
   ]
  },
  {
   "cell_type": "markdown",
   "metadata": {
    "id": "YRTfntU8kR4X"
   },
   "source": [
    "This code leverages wrappers of pytorch to perform model training and evaluation. The series of training and evaluation functions below enable the training and evaluation to be executed with one line of code later on in the section."
   ]
  },
  {
   "cell_type": "code",
   "execution_count": 22,
   "metadata": {
    "executionInfo": {
     "elapsed": 708,
     "status": "ok",
     "timestamp": 1639250151061,
     "user": {
      "displayName": "Joel Klein",
      "photoUrl": "https://lh3.googleusercontent.com/a/default-user=s64",
      "userId": "12422283647264597477"
     },
     "user_tz": 420
    },
    "id": "_cX19IDe84vE"
   },
   "outputs": [],
   "source": [
    "#### Define training functions ----\n",
    "\n",
    "# define function to train a model at each epoch and return train loss and accuracy\n",
    "def train_epoch(epoch, clf, criterion, opt, data_loader, printlog=False, printnum=1):\n",
    "\n",
    "  \"\"\"Train pytorch model and collect training results\n",
    "  \n",
    "  Keyword arguments:\n",
    "  \n",
    "  epoch -- number of epochs\n",
    "  clf -- torch nn module\n",
    "  criterion -- loss function\n",
    "  opt -- torch optimizer function\n",
    "  data_loader -- torch train data loader\n",
    "  printlog -- indicator to print the training loss and accuracy (default=False)\n",
    "  printnum -- number of epochs run to print the loss\n",
    "  \"\"\"\n",
    "\n",
    "  # training mode\n",
    "  clf.train()\n",
    "\n",
    "  # reset train_loss, correct predictions, and predictions\n",
    "  correct = 0.0\n",
    "  n = 0.0\n",
    "  train_loss = 0.0\n",
    "\n",
    "  # training via batching\n",
    "  for batch_id, data in enumerate(data_loader):\n",
    "      \n",
    "      # load in input and target data in batch\n",
    "      inputs, target = data[0].to(device), data[1].to(device)\n",
    "      \n",
    "      # predict the train data\n",
    "      y_pred = clf(inputs)\n",
    "      \n",
    "      # calculate loss\n",
    "      loss = criterion(y_pred, target)\n",
    "      \n",
    "      # zero the gradient\n",
    "      opt.zero_grad()\n",
    "\n",
    "      # backpropogation\n",
    "      loss.backward()\n",
    "      \n",
    "      # update model weights\n",
    "      opt.step()\n",
    "\n",
    "      # append loss stat\n",
    "      train_loss += loss.item()\n",
    "\n",
    "      # returns class prediction\n",
    "      pred_class = torch.max(y_pred.data, 1)[1]\n",
    "\n",
    "      # number of correct predictions\n",
    "      correct += (pred_class == target).sum().item()\n",
    "        \n",
    "      # append number of predictions made\n",
    "      n += target.size(0)\n",
    "\n",
    "  # print run stats at end of each epoch for average loss, accuracy\n",
    "  if (printlog == True) & (epoch % printnum == 0):\n",
    "    print(f'Epoch {epoch}: | Train Loss: {train_loss/len(data_loader):.5f} | Train Acc: {correct/n:.5f}')\n",
    "\n",
    "  train_loss = train_loss/len(data_loader) # running loss\n",
    "  train_accuracy = correct/n # train accuracy for epoch\n",
    "\n",
    "  return clf, train_loss, train_accuracy\n",
    "\n",
    "# define function to evaluate a model at each epoch and return test loss and accuracy\n",
    "def evaluate_model(epoch, clf, criterion, opt, data_loader, printlog=False, printnum=1):\n",
    "\n",
    "  \"\"\"Evaluate pytorch model and collect test results\n",
    "  \n",
    "  Keyword arguments:\n",
    "  \n",
    "  epoch -- number of epochs\n",
    "  clf -- torch nn module\n",
    "  criterion -- loss function\n",
    "  opt -- torch optimizer function\n",
    "  data_loader -- torch test data loader\n",
    "  printlog -- indicator to print the test loss and accuracy (default=False)\n",
    "  printnum -- number of epochs run to print the loss\n",
    "  \"\"\"\n",
    "\n",
    "  clf.eval() # set model in inference mode\n",
    "  \n",
    "  # set test_loss, correct predictions, and predictions\n",
    "  test_loss = 0.0\n",
    "  correct = 0.0\n",
    "  n = 0.0\n",
    "\n",
    "  with torch.no_grad():\n",
    "    for i,data in enumerate(data_loader):\n",
    "        \n",
    "        # load in input and target data in batch\n",
    "        inputs, target = data[0].to(device), data[1].to(device)\n",
    "\n",
    "        # predict the test data\n",
    "        y_pred = clf(inputs)\n",
    "        \n",
    "        # calculate loss\n",
    "        loss = criterion(y_pred, target)\n",
    "        \n",
    "        # returns class prediction\n",
    "        pred_class = torch.max(y_pred.data, 1)[1]\n",
    "        \n",
    "        # append loss stat\n",
    "        test_loss += loss.item()\n",
    "        \n",
    "        # number of correct predictions\n",
    "        correct += (pred_class == target).sum().item()\n",
    "        \n",
    "        # append test accuracy\n",
    "        n += target.size(0)\n",
    "\n",
    "  # print run stats at end of each epoch for average loss, accuracy\n",
    "  if (printlog == True) & (epoch % printnum == 0):\n",
    "    print(f'Epoch {epoch}: | Test Loss: {test_loss/len(data_loader):.5f} | Test Acc: {correct/n:.5f}')\n",
    "\n",
    "  test_loss = test_loss/len(data_loader) # running loss\n",
    "  test_accuracy = correct/n\n",
    "\n",
    "  return test_loss, test_accuracy\n",
    "\n",
    "\n",
    "##### Define training and evaluation function wrapper ----\n",
    "\n",
    "# define a function to perform training given classifier, hidden layers, activation function, \n",
    "# initialization technique, and optimizer arguments\n",
    "def train_and_evaluate(clf, opt, epochs, learning_rate, criterion, printlog, train_data_loader, test_data_loader, printnum):\n",
    "\n",
    "  \"\"\"Train and Evaluate pytorch deep neural network model given classifier, \n",
    "  number of hidden layers, activation function, weight initialization strategy, \n",
    "  and training parameters.\n",
    "  \n",
    "  Keyword arguments:\n",
    "  \n",
    "  clf -- torch nn module\n",
    "  opt -- torch optimizer function\n",
    "  epochs -- number of epochs\n",
    "  learning_rate -- learning rate for weight optimization\n",
    "  criterion -- loss function\n",
    "  printlog -- indicator to print the training and test loss and accuracy (default=False)\n",
    "  train_data_loader -- the training data loader\n",
    "  test_data_loader -- the out of sample data loader\n",
    "  printnum -- number of epochs run to print the loss\n",
    "  \"\"\"\n",
    "\n",
    "  # place classifier on the device\n",
    "  clf.to(device)\n",
    "\n",
    "  # show classifier architecture\n",
    "  print(clf)\n",
    "\n",
    "  # set optimizer\n",
    "  opt = opt(clf.parameters(), lr=learning_rate)\n",
    "  \n",
    "  # set loss function\n",
    "  criterion = criterion()\n",
    "\n",
    "  # initialize vectors to store performance\n",
    "  train_loss = []\n",
    "  train_accuracy = []\n",
    "  test_loss = []\n",
    "  test_accuracy = []\n",
    "\n",
    "  # initialize the early_stopping object\n",
    "  early_stopping = EarlyStopping(patience=20, verbose=True)\n",
    "\n",
    "  # train the model using parameters\n",
    "  for epoch in range(epochs):\n",
    "\n",
    "      clf, train_loss_epoch, train_accuracy_epoch = train_epoch(epoch, clf, criterion, opt, train_data_loader, printlog, printnum)\n",
    "      test_loss_epoch, test_accuracy_epoch = evaluate_model(epoch, clf, criterion, opt, test_data_loader, printlog, printnum)\n",
    "      train_loss.append(train_loss_epoch)\n",
    "      train_accuracy.append(train_accuracy_epoch)\n",
    "      test_loss.append(test_loss_epoch)\n",
    "      test_accuracy.append(test_accuracy_epoch)\n",
    "      \n",
    "      early_stopping(test_loss_epoch, clf)\n",
    "        \n",
    "      if early_stopping.early_stop:\n",
    "          print(\"Early stopping\")\n",
    "          break\n",
    "\n",
    "      # load the last checkpoint with the best model\n",
    "      clf.load_state_dict(torch.load('checkpoint.pt'))\n",
    "\n",
    "  return clf, train_loss, train_accuracy, test_loss, test_accuracy"
   ]
  },
  {
   "cell_type": "markdown",
   "metadata": {
    "id": "ghEhKmgYeB-i"
   },
   "source": [
    "The GPU instance needs to be setup to allow for faster training and evaluation."
   ]
  },
  {
   "cell_type": "code",
   "execution_count": 23,
   "metadata": {
    "colab": {
     "base_uri": "https://localhost:8080/"
    },
    "executionInfo": {
     "elapsed": 10,
     "status": "ok",
     "timestamp": 1639250151062,
     "user": {
      "displayName": "Joel Klein",
      "photoUrl": "https://lh3.googleusercontent.com/a/default-user=s64",
      "userId": "12422283647264597477"
     },
     "user_tz": 420
    },
    "id": "cWa0u-eOlf2l",
    "outputId": "794c5461-d0a0-4fc3-cdba-545f1bb5fb51"
   },
   "outputs": [
    {
     "name": "stdout",
     "output_type": "stream",
     "text": [
      "Training will occur using a cuda device\n"
     ]
    }
   ],
   "source": [
    "#### Set up the GPU instance ----\n",
    "\n",
    "# set up GPU instance\n",
    "device = 'cuda' if cuda.is_available() else 'cpu'\n",
    "\n",
    "# we should be printing out CUDA\n",
    "print(f\"Training will occur using a {device} device\")"
   ]
  },
  {
   "cell_type": "code",
   "execution_count": 24,
   "metadata": {
    "executionInfo": {
     "elapsed": 4,
     "status": "ok",
     "timestamp": 1639250151062,
     "user": {
      "displayName": "Joel Klein",
      "photoUrl": "https://lh3.googleusercontent.com/a/default-user=s64",
      "userId": "12422283647264597477"
     },
     "user_tz": 420
    },
    "id": "C4syCXSzBUxS"
   },
   "outputs": [],
   "source": [
    "#### Create model architecture ----\n",
    "\n",
    "# model architecture is a deep neural network with 2 hidden layers\n",
    "# the initialization approach takes the PyTorch defaults\n",
    "# the activation function will be ReLU\n",
    "# we will apply batch normalization between layers\n",
    "# we will have a 0.25 dropout rate for regularization\n",
    "\n",
    "class DNN(nn.Module):\n",
    "    def __init__(self, input_dims, hidden_size, output_dims):\n",
    "        super(DNN, self).__init__()\n",
    "        \n",
    "        self.input_dims = input_dims\n",
    "\n",
    "        self.linear_layer_1 = nn.Linear(input_dims, hidden_size)\n",
    "        self.linear_layer_2 = nn.Linear(hidden_size, hidden_size)\n",
    "        self.linear_layer_3 = nn.Linear(hidden_size, output_dims)\n",
    "        self.batch_norm = nn.BatchNorm1d(hidden_size)\n",
    "\n",
    "        self.activation = nn.ReLU()\n",
    "        self.dropout = nn.Dropout(p=0.25)\n",
    "\n",
    "    def forward(self, inputs):\n",
    "        x = self.linear_layer_1(inputs)\n",
    "        x = self.activation(self.batch_norm(x))\n",
    "        x = self.dropout(x)\n",
    "\n",
    "        x = self.linear_layer_2(x)\n",
    "        x = self.activation(self.batch_norm(x))\n",
    "        x = self.dropout(x)\n",
    "\n",
    "        x = self.linear_layer_3(x)\n",
    "        \n",
    "        return x\n"
   ]
  },
  {
   "cell_type": "markdown",
   "metadata": {
    "id": "TVb70ukfBUxS"
   },
   "source": [
    "The model is trained with the predefined training and evaluation function. The training and validation loss are printed at each step. We train the model with 200 epochs, a smaller learning rate of 0.0001, batch size 2000, the cross entropy loss function, and adam optimization technique. Early stopping is applied which stops the model from training further if there has not been a decrease in the validation loss after 20 consecutive epochs."
   ]
  },
  {
   "cell_type": "code",
   "execution_count": 25,
   "metadata": {
    "executionInfo": {
     "elapsed": 4,
     "status": "ok",
     "timestamp": 1639250151062,
     "user": {
      "displayName": "Joel Klein",
      "photoUrl": "https://lh3.googleusercontent.com/a/default-user=s64",
      "userId": "12422283647264597477"
     },
     "user_tz": 420
    },
    "id": "k6UEPd5ibQAM"
   },
   "outputs": [],
   "source": [
    "#### Setup weight initializers ----\n",
    "\n",
    "# define normal weight initialization with mean 0 and standard deviation 0.01\n",
    "def initialize_normal(m):\n",
    "    if isinstance(m, nn.Linear):\n",
    "        nn.init.normal_(m.weight, mean=0.0, std=0.01)\n",
    "    if isinstance(m, nn.Conv2d):\n",
    "        nn.init.normal_(m.weight, mean=0.0, std=0.01)\n",
    "\n",
    "# define xavier weight initialization\n",
    "def initialize_xavier(m):\n",
    "    if isinstance(m, nn.Linear):\n",
    "        nn.init.xavier_normal_(m.weight)\n",
    "    if isinstance(m, nn.Conv2d):\n",
    "        nn.init.xavier_normal_(m.weight)\n",
    "\n",
    "# define he weight initialization\n",
    "def initialize_kaiming(m):\n",
    "    if isinstance(m, nn.Linear):\n",
    "        nn.init.kaiming_normal_(m.weight)\n",
    "    if isinstance(m, nn.Conv2d):\n",
    "        nn.init.kaiming_normal_(m.weight)"
   ]
  },
  {
   "cell_type": "code",
   "execution_count": 26,
   "metadata": {
    "colab": {
     "base_uri": "https://localhost:8080/"
    },
    "executionInfo": {
     "elapsed": 577862,
     "status": "ok",
     "timestamp": 1639250728921,
     "user": {
      "displayName": "Joel Klein",
      "photoUrl": "https://lh3.googleusercontent.com/a/default-user=s64",
      "userId": "12422283647264597477"
     },
     "user_tz": 420
    },
    "id": "bKQNCYaRBUxS",
    "outputId": "dd67e744-d401-4e67-f3d8-c8004fdd062f"
   },
   "outputs": [
    {
     "name": "stdout",
     "output_type": "stream",
     "text": [
      "DNN(\n",
      "  (linear_layer_1): Linear(in_features=101, out_features=300, bias=True)\n",
      "  (linear_layer_2): Linear(in_features=300, out_features=300, bias=True)\n",
      "  (linear_layer_3): Linear(in_features=300, out_features=6, bias=True)\n",
      "  (batch_norm): BatchNorm1d(300, eps=1e-05, momentum=0.1, affine=True, track_running_stats=True)\n",
      "  (activation): ReLU()\n",
      "  (dropout): Dropout(p=0.25, inplace=False)\n",
      ")\n",
      "Epoch 0: | Train Loss: 1.56158 | Train Acc: 0.38104\n",
      "Epoch 0: | Test Loss: 1.30699 | Test Acc: 0.44748\n",
      "Validation loss decreased (inf --> 1.306985).  Saving model ...\n",
      "Epoch 1: | Train Loss: 1.36532 | Train Acc: 0.43386\n",
      "Epoch 1: | Test Loss: 1.27860 | Test Acc: 0.44976\n",
      "Validation loss decreased (1.306985 --> 1.278598).  Saving model ...\n",
      "Epoch 2: | Train Loss: 1.31907 | Train Acc: 0.44336\n",
      "Epoch 2: | Test Loss: 1.26255 | Test Acc: 0.45163\n",
      "Validation loss decreased (1.278598 --> 1.262547).  Saving model ...\n",
      "Epoch 3: | Train Loss: 1.29033 | Train Acc: 0.44908\n",
      "Epoch 3: | Test Loss: 1.25143 | Test Acc: 0.45398\n",
      "Validation loss decreased (1.262547 --> 1.251430).  Saving model ...\n",
      "Epoch 4: | Train Loss: 1.27078 | Train Acc: 0.45428\n",
      "Epoch 4: | Test Loss: 1.24294 | Test Acc: 0.45658\n",
      "Validation loss decreased (1.251430 --> 1.242936).  Saving model ...\n",
      "Epoch 5: | Train Loss: 1.25439 | Train Acc: 0.45963\n",
      "Epoch 5: | Test Loss: 1.23730 | Test Acc: 0.45713\n",
      "Validation loss decreased (1.242936 --> 1.237299).  Saving model ...\n",
      "Epoch 6: | Train Loss: 1.24306 | Train Acc: 0.46292\n",
      "Epoch 6: | Test Loss: 1.22999 | Test Acc: 0.46034\n",
      "Validation loss decreased (1.237299 --> 1.229992).  Saving model ...\n",
      "Epoch 7: | Train Loss: 1.23319 | Train Acc: 0.46584\n",
      "Epoch 7: | Test Loss: 1.22669 | Test Acc: 0.46046\n",
      "Validation loss decreased (1.229992 --> 1.226687).  Saving model ...\n",
      "Epoch 8: | Train Loss: 1.22555 | Train Acc: 0.46821\n",
      "Epoch 8: | Test Loss: 1.22322 | Test Acc: 0.46185\n",
      "Validation loss decreased (1.226687 --> 1.223216).  Saving model ...\n",
      "Epoch 9: | Train Loss: 1.21960 | Train Acc: 0.47005\n",
      "Epoch 9: | Test Loss: 1.22008 | Test Acc: 0.46285\n",
      "Validation loss decreased (1.223216 --> 1.220078).  Saving model ...\n",
      "Epoch 10: | Train Loss: 1.21440 | Train Acc: 0.47150\n",
      "Epoch 10: | Test Loss: 1.21726 | Test Acc: 0.46276\n",
      "Validation loss decreased (1.220078 --> 1.217264).  Saving model ...\n",
      "Epoch 11: | Train Loss: 1.20957 | Train Acc: 0.47359\n",
      "Epoch 11: | Test Loss: 1.21402 | Test Acc: 0.46455\n",
      "Validation loss decreased (1.217264 --> 1.214024).  Saving model ...\n",
      "Epoch 12: | Train Loss: 1.20573 | Train Acc: 0.47424\n",
      "Epoch 12: | Test Loss: 1.21355 | Test Acc: 0.46351\n",
      "Validation loss decreased (1.214024 --> 1.213546).  Saving model ...\n",
      "Epoch 13: | Train Loss: 1.20223 | Train Acc: 0.47502\n",
      "Epoch 13: | Test Loss: 1.21201 | Test Acc: 0.46489\n",
      "Validation loss decreased (1.213546 --> 1.212008).  Saving model ...\n",
      "Epoch 14: | Train Loss: 1.19875 | Train Acc: 0.47655\n",
      "Epoch 14: | Test Loss: 1.20967 | Test Acc: 0.46604\n",
      "Validation loss decreased (1.212008 --> 1.209673).  Saving model ...\n",
      "Epoch 15: | Train Loss: 1.19633 | Train Acc: 0.47687\n",
      "Epoch 15: | Test Loss: 1.20865 | Test Acc: 0.46591\n",
      "Validation loss decreased (1.209673 --> 1.208650).  Saving model ...\n",
      "Epoch 16: | Train Loss: 1.19346 | Train Acc: 0.47788\n",
      "Epoch 16: | Test Loss: 1.20733 | Test Acc: 0.46705\n",
      "Validation loss decreased (1.208650 --> 1.207330).  Saving model ...\n",
      "Epoch 17: | Train Loss: 1.19137 | Train Acc: 0.47870\n",
      "Epoch 17: | Test Loss: 1.20622 | Test Acc: 0.46709\n",
      "Validation loss decreased (1.207330 --> 1.206217).  Saving model ...\n",
      "Epoch 18: | Train Loss: 1.18856 | Train Acc: 0.47915\n",
      "Epoch 18: | Test Loss: 1.20376 | Test Acc: 0.46869\n",
      "Validation loss decreased (1.206217 --> 1.203757).  Saving model ...\n",
      "Epoch 19: | Train Loss: 1.18663 | Train Acc: 0.47998\n",
      "Epoch 19: | Test Loss: 1.20333 | Test Acc: 0.46890\n",
      "Validation loss decreased (1.203757 --> 1.203334).  Saving model ...\n",
      "Epoch 20: | Train Loss: 1.18531 | Train Acc: 0.48041\n",
      "Epoch 20: | Test Loss: 1.20339 | Test Acc: 0.46829\n",
      "EarlyStopping counter: 1 out of 20\n",
      "Epoch 21: | Train Loss: 1.18489 | Train Acc: 0.48084\n",
      "Epoch 21: | Test Loss: 1.20180 | Test Acc: 0.46878\n",
      "Validation loss decreased (1.203334 --> 1.201796).  Saving model ...\n",
      "Epoch 22: | Train Loss: 1.18288 | Train Acc: 0.48118\n",
      "Epoch 22: | Test Loss: 1.20146 | Test Acc: 0.46909\n",
      "Validation loss decreased (1.201796 --> 1.201459).  Saving model ...\n",
      "Epoch 23: | Train Loss: 1.18102 | Train Acc: 0.48171\n",
      "Epoch 23: | Test Loss: 1.20200 | Test Acc: 0.46914\n",
      "EarlyStopping counter: 1 out of 20\n",
      "Epoch 24: | Train Loss: 1.18083 | Train Acc: 0.48168\n",
      "Epoch 24: | Test Loss: 1.20292 | Test Acc: 0.46840\n",
      "EarlyStopping counter: 2 out of 20\n",
      "Epoch 25: | Train Loss: 1.18109 | Train Acc: 0.48115\n",
      "Epoch 25: | Test Loss: 1.20129 | Test Acc: 0.46939\n",
      "Validation loss decreased (1.201459 --> 1.201293).  Saving model ...\n",
      "Epoch 26: | Train Loss: 1.17893 | Train Acc: 0.48210\n",
      "Epoch 26: | Test Loss: 1.20073 | Test Acc: 0.46905\n",
      "Validation loss decreased (1.201293 --> 1.200728).  Saving model ...\n",
      "Epoch 27: | Train Loss: 1.17763 | Train Acc: 0.48261\n",
      "Epoch 27: | Test Loss: 1.19953 | Test Acc: 0.46970\n",
      "Validation loss decreased (1.200728 --> 1.199533).  Saving model ...\n",
      "Epoch 28: | Train Loss: 1.17595 | Train Acc: 0.48266\n",
      "Epoch 28: | Test Loss: 1.19893 | Test Acc: 0.46977\n",
      "Validation loss decreased (1.199533 --> 1.198935).  Saving model ...\n",
      "Epoch 29: | Train Loss: 1.17443 | Train Acc: 0.48293\n",
      "Epoch 29: | Test Loss: 1.19742 | Test Acc: 0.47082\n",
      "Validation loss decreased (1.198935 --> 1.197422).  Saving model ...\n",
      "Epoch 30: | Train Loss: 1.17348 | Train Acc: 0.48380\n",
      "Epoch 30: | Test Loss: 1.19665 | Test Acc: 0.47058\n",
      "Validation loss decreased (1.197422 --> 1.196651).  Saving model ...\n",
      "Epoch 31: | Train Loss: 1.17142 | Train Acc: 0.48467\n",
      "Epoch 31: | Test Loss: 1.19692 | Test Acc: 0.47046\n",
      "EarlyStopping counter: 1 out of 20\n",
      "Epoch 32: | Train Loss: 1.17133 | Train Acc: 0.48420\n",
      "Epoch 32: | Test Loss: 1.19703 | Test Acc: 0.47092\n",
      "EarlyStopping counter: 2 out of 20\n",
      "Epoch 33: | Train Loss: 1.17152 | Train Acc: 0.48437\n",
      "Epoch 33: | Test Loss: 1.19750 | Test Acc: 0.47076\n",
      "EarlyStopping counter: 3 out of 20\n",
      "Epoch 34: | Train Loss: 1.17177 | Train Acc: 0.48426\n",
      "Epoch 34: | Test Loss: 1.19791 | Test Acc: 0.47018\n",
      "EarlyStopping counter: 4 out of 20\n",
      "Epoch 35: | Train Loss: 1.17132 | Train Acc: 0.48426\n",
      "Epoch 35: | Test Loss: 1.19881 | Test Acc: 0.47021\n",
      "EarlyStopping counter: 5 out of 20\n",
      "Epoch 36: | Train Loss: 1.17158 | Train Acc: 0.48413\n",
      "Epoch 36: | Test Loss: 1.19675 | Test Acc: 0.47090\n",
      "EarlyStopping counter: 6 out of 20\n",
      "Epoch 37: | Train Loss: 1.17160 | Train Acc: 0.48474\n",
      "Epoch 37: | Test Loss: 1.19668 | Test Acc: 0.47086\n",
      "EarlyStopping counter: 7 out of 20\n",
      "Epoch 38: | Train Loss: 1.17190 | Train Acc: 0.48416\n",
      "Epoch 38: | Test Loss: 1.19776 | Test Acc: 0.47035\n",
      "EarlyStopping counter: 8 out of 20\n",
      "Epoch 39: | Train Loss: 1.17162 | Train Acc: 0.48402\n",
      "Epoch 39: | Test Loss: 1.19866 | Test Acc: 0.46994\n",
      "EarlyStopping counter: 9 out of 20\n",
      "Epoch 40: | Train Loss: 1.17188 | Train Acc: 0.48393\n",
      "Epoch 40: | Test Loss: 1.19620 | Test Acc: 0.47111\n",
      "Validation loss decreased (1.196651 --> 1.196202).  Saving model ...\n",
      "Epoch 41: | Train Loss: 1.17013 | Train Acc: 0.48508\n",
      "Epoch 41: | Test Loss: 1.19682 | Test Acc: 0.47067\n",
      "EarlyStopping counter: 1 out of 20\n",
      "Epoch 42: | Train Loss: 1.17029 | Train Acc: 0.48452\n",
      "Epoch 42: | Test Loss: 1.19602 | Test Acc: 0.47106\n",
      "Validation loss decreased (1.196202 --> 1.196022).  Saving model ...\n",
      "Epoch 43: | Train Loss: 1.16890 | Train Acc: 0.48526\n",
      "Epoch 43: | Test Loss: 1.19707 | Test Acc: 0.47073\n",
      "EarlyStopping counter: 1 out of 20\n",
      "Epoch 44: | Train Loss: 1.16964 | Train Acc: 0.48449\n",
      "Epoch 44: | Test Loss: 1.19665 | Test Acc: 0.47104\n",
      "EarlyStopping counter: 2 out of 20\n",
      "Epoch 45: | Train Loss: 1.16926 | Train Acc: 0.48469\n",
      "Epoch 45: | Test Loss: 1.19742 | Test Acc: 0.47013\n",
      "EarlyStopping counter: 3 out of 20\n",
      "Epoch 46: | Train Loss: 1.16908 | Train Acc: 0.48541\n",
      "Epoch 46: | Test Loss: 1.19644 | Test Acc: 0.47087\n",
      "EarlyStopping counter: 4 out of 20\n",
      "Epoch 47: | Train Loss: 1.16887 | Train Acc: 0.48575\n",
      "Epoch 47: | Test Loss: 1.19568 | Test Acc: 0.47103\n",
      "Validation loss decreased (1.196022 --> 1.195678).  Saving model ...\n",
      "Epoch 48: | Train Loss: 1.16789 | Train Acc: 0.48548\n",
      "Epoch 48: | Test Loss: 1.19686 | Test Acc: 0.47090\n",
      "EarlyStopping counter: 1 out of 20\n",
      "Epoch 49: | Train Loss: 1.16781 | Train Acc: 0.48595\n",
      "Epoch 49: | Test Loss: 1.19607 | Test Acc: 0.47084\n",
      "EarlyStopping counter: 2 out of 20\n",
      "Epoch 50: | Train Loss: 1.16812 | Train Acc: 0.48499\n",
      "Epoch 50: | Test Loss: 1.19718 | Test Acc: 0.47036\n",
      "EarlyStopping counter: 3 out of 20\n",
      "Epoch 51: | Train Loss: 1.16774 | Train Acc: 0.48538\n",
      "Epoch 51: | Test Loss: 1.19634 | Test Acc: 0.47066\n",
      "EarlyStopping counter: 4 out of 20\n",
      "Epoch 52: | Train Loss: 1.16763 | Train Acc: 0.48580\n",
      "Epoch 52: | Test Loss: 1.19693 | Test Acc: 0.47052\n",
      "EarlyStopping counter: 5 out of 20\n",
      "Epoch 53: | Train Loss: 1.16810 | Train Acc: 0.48504\n",
      "Epoch 53: | Test Loss: 1.19818 | Test Acc: 0.47028\n",
      "EarlyStopping counter: 6 out of 20\n",
      "Epoch 54: | Train Loss: 1.16769 | Train Acc: 0.48563\n",
      "Epoch 54: | Test Loss: 1.19698 | Test Acc: 0.47087\n",
      "EarlyStopping counter: 7 out of 20\n",
      "Epoch 55: | Train Loss: 1.16813 | Train Acc: 0.48524\n",
      "Epoch 55: | Test Loss: 1.19742 | Test Acc: 0.47018\n",
      "EarlyStopping counter: 8 out of 20\n",
      "Epoch 56: | Train Loss: 1.16802 | Train Acc: 0.48521\n",
      "Epoch 56: | Test Loss: 1.19599 | Test Acc: 0.47110\n",
      "EarlyStopping counter: 9 out of 20\n",
      "Epoch 57: | Train Loss: 1.16783 | Train Acc: 0.48542\n",
      "Epoch 57: | Test Loss: 1.19641 | Test Acc: 0.47094\n",
      "EarlyStopping counter: 10 out of 20\n",
      "Epoch 58: | Train Loss: 1.16797 | Train Acc: 0.48554\n",
      "Epoch 58: | Test Loss: 1.19706 | Test Acc: 0.47085\n",
      "EarlyStopping counter: 11 out of 20\n",
      "Epoch 59: | Train Loss: 1.16802 | Train Acc: 0.48505\n",
      "Epoch 59: | Test Loss: 1.19662 | Test Acc: 0.47076\n",
      "EarlyStopping counter: 12 out of 20\n",
      "Epoch 60: | Train Loss: 1.16799 | Train Acc: 0.48539\n",
      "Epoch 60: | Test Loss: 1.19736 | Test Acc: 0.47055\n",
      "EarlyStopping counter: 13 out of 20\n",
      "Epoch 61: | Train Loss: 1.16793 | Train Acc: 0.48533\n",
      "Epoch 61: | Test Loss: 1.19736 | Test Acc: 0.46981\n",
      "EarlyStopping counter: 14 out of 20\n",
      "Epoch 62: | Train Loss: 1.16834 | Train Acc: 0.48552\n",
      "Epoch 62: | Test Loss: 1.19580 | Test Acc: 0.47124\n",
      "EarlyStopping counter: 15 out of 20\n",
      "Epoch 63: | Train Loss: 1.16800 | Train Acc: 0.48512\n",
      "Epoch 63: | Test Loss: 1.19623 | Test Acc: 0.47090\n",
      "EarlyStopping counter: 16 out of 20\n",
      "Epoch 64: | Train Loss: 1.16820 | Train Acc: 0.48544\n",
      "Epoch 64: | Test Loss: 1.19620 | Test Acc: 0.47145\n",
      "EarlyStopping counter: 17 out of 20\n",
      "Epoch 65: | Train Loss: 1.16805 | Train Acc: 0.48564\n",
      "Epoch 65: | Test Loss: 1.19665 | Test Acc: 0.47045\n",
      "EarlyStopping counter: 18 out of 20\n",
      "Epoch 66: | Train Loss: 1.16837 | Train Acc: 0.48546\n",
      "Epoch 66: | Test Loss: 1.19787 | Test Acc: 0.47010\n",
      "EarlyStopping counter: 19 out of 20\n",
      "Epoch 67: | Train Loss: 1.16787 | Train Acc: 0.48525\n",
      "Epoch 67: | Test Loss: 1.19668 | Test Acc: 0.47095\n",
      "EarlyStopping counter: 20 out of 20\n",
      "Early stopping\n"
     ]
    }
   ],
   "source": [
    "#### Train ----\n",
    "\n",
    "# set classifier\n",
    "baseline_clf = DNN(x_train_transformed.shape[1], 300, 6)\n",
    "\n",
    "# apply initialization\n",
    "baseline_clf.apply(initialize_kaiming)\n",
    "\n",
    "# train and evaluate model with parameters\n",
    "baseline_clf, baseline_train_loss, baseline_train_accuracy, baseline_test_loss, baseline_test_accuracy = train_and_evaluate(baseline_clf, optim.Adam, 200, 0.0001, nn.CrossEntropyLoss, True, train_loader, validation_loader, 1)"
   ]
  },
  {
   "cell_type": "code",
   "execution_count": 27,
   "metadata": {
    "executionInfo": {
     "elapsed": 24,
     "status": "ok",
     "timestamp": 1639250728922,
     "user": {
      "displayName": "Joel Klein",
      "photoUrl": "https://lh3.googleusercontent.com/a/default-user=s64",
      "userId": "12422283647264597477"
     },
     "user_tz": 420
    },
    "id": "l0f6Y2f2yS9h"
   },
   "outputs": [],
   "source": [
    "##### HP Tuning Results ----\n",
    "\n",
    "# Batch Size: 2000\n",
    "# Number of layers: 3 \n",
    "# Hidden nodes: 300\n",
    "# Learning rate: 0.0001\n",
    "# Validation Accuracy: .47431\n",
    "\n",
    "# Batch Size: 2000\n",
    "# Number of layers: 3 \n",
    "# Hidden nodes: 500\n",
    "# Learning rate: 0.0001\n",
    "# Validation Accuracy: .47202\n",
    "\n",
    "# Batch Size: 2000\n",
    "# Number of layers: 3 \n",
    "# Hidden nodes: 300\n",
    "# Learning rate: 0.001\n",
    "# Validation Accuracy: .46990\n",
    "\n",
    "# Batch Size: 2000\n",
    "# Number of layers: 3 \n",
    "# Hidden nodes: 500\n",
    "# Learning rate: 0.001\n",
    "# Validation Accuracy: .46478\n",
    "\n",
    "# Batch Size: 10000\n",
    "# Number of layers: 3 \n",
    "# Hidden nodes: 300\n",
    "# Learning rate: 0.001\n",
    "# Validation Accuracy: .47235\n",
    "\n",
    "# Batch Size: 10000\n",
    "# Number of layers: 3 \n",
    "# Hidden nodes: 500\n",
    "# Learning rate: 0.001\n",
    "# Validation Accuracy: .46852\n",
    "\n",
    "# Batch Size: 2000\n",
    "# Number of layers: 5\n",
    "# Hidden nodes: 300\n",
    "# Learning rate: 0.0001\n",
    "# Validation Accuracy: .46202\n",
    "\n",
    "# Batch Size: 2000\n",
    "# Number of layers: 5 \n",
    "# Hidden nodes: 500\n",
    "# Learning rate: 0.0001\n",
    "# Validation Accuracy: .45369\n",
    "\n",
    "# Batch Size: 2000\n",
    "# Number of layers: 5 \n",
    "# Hidden nodes: 300\n",
    "# Learning rate: 0.001\n",
    "# Validation Accuracy: .46468\n",
    "\n",
    "# Batch Size: 2000\n",
    "# Number of layers: 5 \n",
    "# Hidden nodes: 500\n",
    "# Learning rate: 0.001\n",
    "# Validation Accuracy: .45772\n",
    "\n",
    "# Batch Size: 10000\n",
    "# Number of layers: 5 \n",
    "# Hidden nodes: 300\n",
    "# Learning rate: 0.001\n",
    "# Validation Accuracy: .47100\n",
    "\n",
    "# Batch Size: 10000\n",
    "# Number of layers: 5\n",
    "# Hidden nodes: 500\n",
    "# Learning rate: 0.001\n",
    "# Validation Accuracy: .46105"
   ]
  },
  {
   "cell_type": "code",
   "execution_count": 28,
   "metadata": {
    "colab": {
     "base_uri": "https://localhost:8080/",
     "height": 0
    },
    "executionInfo": {
     "elapsed": 7,
     "status": "ok",
     "timestamp": 1639250728922,
     "user": {
      "displayName": "Joel Klein",
      "photoUrl": "https://lh3.googleusercontent.com/a/default-user=s64",
      "userId": "12422283647264597477"
     },
     "user_tz": 420
    },
    "id": "hcAqZ7gZdnzK",
    "outputId": "33b330e3-e6a8-4787-8e8f-5a59ec14f922"
   },
   "outputs": [
    {
     "data": {
      "image/png": "[encoded data removed]",
      "text/plain": [
       "<Figure size 432x288 with 1 Axes>"
      ]
     },
     "metadata": {
      "needs_background": "light"
     },
     "output_type": "display_data"
    }
   ],
   "source": [
    "##### Plot loss ----\n",
    "\n",
    "plt.plot(baseline_test_loss, '-g', label='validation')\n",
    "plt.plot(baseline_train_loss, '-b', label='train')\n",
    "plt.legend();\n",
    "plt.title(\"Model Loss\")\n",
    "plt.xlabel(\"Epoch\")\n",
    "plt.ylabel(\"Loss (Cross Entropy)\");"
   ]
  },
  {
   "cell_type": "code",
   "execution_count": 29,
   "metadata": {
    "colab": {
     "base_uri": "https://localhost:8080/",
     "height": 0
    },
    "executionInfo": {
     "elapsed": 711,
     "status": "ok",
     "timestamp": 1639250729628,
     "user": {
      "displayName": "Joel Klein",
      "photoUrl": "https://lh3.googleusercontent.com/a/default-user=s64",
      "userId": "12422283647264597477"
     },
     "user_tz": 420
    },
    "id": "HAgY7SPAAB-u",
    "outputId": "b71acc06-c39a-4004-c19e-d3017ecbb4b3"
   },
   "outputs": [
    {
     "data": {
      "image/png": "[encoded data removed]",
      "text/plain": [
       "<Figure size 432x288 with 1 Axes>"
      ]
     },
     "metadata": {
      "needs_background": "light"
     },
     "output_type": "display_data"
    }
   ],
   "source": [
    "##### Plot accuracy ----\n",
    "\n",
    "plt.plot(baseline_test_accuracy, '-g', label='validation')\n",
    "plt.plot(baseline_train_accuracy, '-b', label='train')\n",
    "plt.legend();\n",
    "plt.title(\"Model Accuracy\")\n",
    "plt.xlabel(\"Epoch\")\n",
    "plt.ylabel(\"Accuracy\");"
   ]
  },
  {
   "cell_type": "markdown",
   "metadata": {
    "id": "TD_9G3pPW6u2"
   },
   "source": [
    "### Evaluation"
   ]
  },
  {
   "cell_type": "code",
   "execution_count": 30,
   "metadata": {
    "executionInfo": {
     "elapsed": 8,
     "status": "ok",
     "timestamp": 1639250729629,
     "user": {
      "displayName": "Joel Klein",
      "photoUrl": "https://lh3.googleusercontent.com/a/default-user=s64",
      "userId": "12422283647264597477"
     },
     "user_tz": 420
    },
    "id": "FqnZ_cNUVsIR"
   },
   "outputs": [],
   "source": [
    "##### Model evaluation -----\n",
    "\n",
    "with torch.no_grad():\n",
    "\n",
    "  # load in input and target data in batch\n",
    "  inputs = torch.FloatTensor(x_validation_transformed).to(device)\n",
    "  target = y_validation.to_numpy()\n",
    "\n",
    "  # predict the test data\n",
    "  y_pred = baseline_clf(inputs).cpu().detach().numpy().argmax(1)"
   ]
  },
  {
   "cell_type": "code",
   "execution_count": 31,
   "metadata": {
    "colab": {
     "base_uri": "https://localhost:8080/",
     "height": 0
    },
    "executionInfo": {
     "elapsed": 581,
     "status": "ok",
     "timestamp": 1639250730202,
     "user": {
      "displayName": "Joel Klein",
      "photoUrl": "https://lh3.googleusercontent.com/a/default-user=s64",
      "userId": "12422283647264597477"
     },
     "user_tz": 420
    },
    "id": "KzA_-wRAW9Jo",
    "outputId": "c018d7cf-ffbe-4898-ae44-9993e0770c47"
   },
   "outputs": [
    {
     "data": {
      "text/plain": [
       "<matplotlib.axes._subplots.AxesSubplot at 0x7f32b12387d0>"
      ]
     },
     "execution_count": 31,
     "metadata": {},
     "output_type": "execute_result"
    },
    {
     "data": {
      "image/png": "[encoded data removed]",
      "text/plain": [
       "<Figure size 432x288 with 2 Axes>"
      ]
     },
     "metadata": {
      "needs_background": "light"
     },
     "output_type": "display_data"
    }
   ],
   "source": [
    "##### Confusion Matrix -----\n",
    "\n",
    "from sklearn.metrics import confusion_matrix, classification_report\n",
    "\n",
    "confusion_matrix_df = pd.DataFrame(confusion_matrix(target, y_pred))\n",
    "\n",
    "sns.heatmap(confusion_matrix_df, annot=True,fmt='g')"
   ]
  },
  {
   "cell_type": "code",
   "execution_count": 32,
   "metadata": {
    "colab": {
     "base_uri": "https://localhost:8080/"
    },
    "executionInfo": {
     "elapsed": 272,
     "status": "ok",
     "timestamp": 1639250730465,
     "user": {
      "displayName": "Joel Klein",
      "photoUrl": "https://lh3.googleusercontent.com/a/default-user=s64",
      "userId": "12422283647264597477"
     },
     "user_tz": 420
    },
    "id": "pf-sRvcqXF0-",
    "outputId": "c1b22fb8-90c8-4f84-adf9-ac86948d0418"
   },
   "outputs": [
    {
     "name": "stdout",
     "output_type": "stream",
     "text": [
      "              precision    recall  f1-score   support\n",
      "\n",
      "           0     0.5294    0.6454    0.5817    119576\n",
      "           1     0.4543    0.5827    0.5105     56777\n",
      "           2     0.4276    0.4270    0.4273     58853\n",
      "           3     0.4220    0.1771    0.2495     46134\n",
      "           4     0.3858    0.1835    0.2487     38528\n",
      "           5     0.3955    0.4712    0.4301     25073\n",
      "\n",
      "    accuracy                         0.4709    344941\n",
      "   macro avg     0.4358    0.4145    0.4080    344941\n",
      "weighted avg     0.4595    0.4709    0.4510    344941\n",
      "\n"
     ]
    }
   ],
   "source": [
    "##### Classification Report -----\n",
    "\n",
    "print(classification_report(target, y_pred, digits=4))"
   ]
  }
 ],
 "metadata": {
  "accelerator": "GPU",
  "colab": {
   "authorship_tag": "ABX9TyPffHS5DOJroQ5CWabNh/1O",
   "collapsed_sections": [],
   "machine_shape": "hm",
   "name": "04_DNN_baseline+previous_pitch.ipynb",
   "provenance": [
    {
     "file_id": "1lMkSDQ4CXphqz0BHulAtArr9aBk4u1k8",
     "timestamp": 1638235129648
    }
   ]
  },
  "kernelspec": {
   "display_name": "Python 3",
   "language": "python",
   "name": "python3"
  },
  "language_info": {
   "codemirror_mode": {
    "name": "ipython",
    "version": 3
   },
   "file_extension": ".py",
   "mimetype": "text/x-python",
   "name": "python",
   "nbconvert_exporter": "python",
   "pygments_lexer": "ipython3",
   "version": "3.7.7"
  },
  "toc": {
   "base_numbering": 1,
   "nav_menu": {},
   "number_sections": true,
   "sideBar": true,
   "skip_h1_title": false,
   "title_cell": "Table of Contents",
   "title_sidebar": "Contents",
   "toc_cell": false,
   "toc_position": {},
   "toc_section_display": true,
   "toc_window_display": false
  }
 },
 "nbformat": 4,
 "nbformat_minor": 1
}
