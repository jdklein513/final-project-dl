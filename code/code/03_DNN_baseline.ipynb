{
 "cells": [
  {
   "cell_type": "markdown",
   "metadata": {
    "id": "hJULtPG9guNm"
   },
   "source": [
    "# Modeling - Baseline Model\n",
    "\n",
    "**Author:** Joel Klein, Jacob Sauberman, Ben Perkins\n",
    "\n",
    "**Date:** December 7, 2021\n",
    "\n",
    "**Description:** This script loads in MLB Statcast data from every MLB registered pitch since 2017, prepares the pitch data, and then passes in the pitch data to a fully connected neural network to predict the next pitch type. This script includes the neural network modeling with the current game state, and the historical pitcher/hitter statistics input features. \n",
    "\n",
    "**Data:** The data is scraped from *baseballsavant.com* for each year and combined together in one large data file. \n",
    "\n",
    "**Scope:** To avoid data leakage, the data can not be randomly split across all years in the training, validation, and test sets. Future pitches cannot be included as inputs within the training data to generate predictions for past pitches in the validation and/or test data. The data from the 2017 and 2018 seasons will be used for training data while the 2019 season is used for validation. 2020 and 2021 seasons will be used for the testing data in the next pitch prediction model. \n",
    "\n",
    "There are many instances in major league baseball where rookie batters and pitchers receive at-bats and there is little or no prior pitch sequence data. In order to make a prediction on next pitch types in the 2019, 2020, and 2021 seasons, the batter and the pitcher need to have a significant amount of recorded at-bats in the 2017 and 2018 seasons. Only batters and pitchers accounting for 90% of at-bats in the 2017 and 2018 seasons were included in scope (441 batters and 512 pitchers) for generating the pitcher and batter embeddings.\n",
    "\n",
    "**Notes:** \n",
    "\n",
    "**Warnings:** \n",
    "\n",
    "**Outline:** \n",
    "  - Install Libraries\n",
    "  - Global Options\n",
    "  - Set Directories\n",
    "  - Define Functions\n",
    "  - Load Data\n",
    "  - Data Preparation\n",
    "  - Data Splitting\n",
    "  - Data Loaders\n",
    "  - Train Model\n",
    "  - Evaluation"
   ]
  },
  {
   "cell_type": "markdown",
   "metadata": {
    "id": "Vwx_cBcmgvIh"
   },
   "source": [
    "## Import Libraries"
   ]
  },
  {
   "cell_type": "markdown",
   "metadata": {
    "id": "N1kmInt5JeQ3"
   },
   "source": [
    "Let's load in the python libraries needed for the this notebook."
   ]
  },
  {
   "cell_type": "code",
   "execution_count": 1,
   "metadata": {
    "colab": {
     "base_uri": "https://localhost:8080/"
    },
    "executionInfo": {
     "elapsed": 12687,
     "status": "ok",
     "timestamp": 1639247342443,
     "user": {
      "displayName": "Joel Klein",
      "photoUrl": "https://lh3.googleusercontent.com/a/default-user=s64",
      "userId": "12422283647264597477"
     },
     "user_tz": 420
    },
    "id": "vjGBv3RKg0mS",
    "outputId": "821a26fc-f1b2-46a4-bc99-f37162eba025"
   },
   "outputs": [
    {
     "name": "stdout",
     "output_type": "stream",
     "text": [
      "Collecting pybaseball\n",
      "  Downloading pybaseball-2.2.1-py3-none-any.whl (415 kB)\n",
      "\u001b[?25l\r",
      "\u001b[K     |▉                               | 10 kB 30.9 MB/s eta 0:00:01\r",
      "\u001b[K     |█▋                              | 20 kB 36.2 MB/s eta 0:00:01\r",
      "\u001b[K     |██▍                             | 30 kB 41.6 MB/s eta 0:00:01\r",
      "\u001b[K     |███▏                            | 40 kB 26.0 MB/s eta 0:00:01\r",
      "\u001b[K     |████                            | 51 kB 16.9 MB/s eta 0:00:01\r",
      "\u001b[K     |████▊                           | 61 kB 14.5 MB/s eta 0:00:01\r",
      "\u001b[K     |█████▌                          | 71 kB 13.6 MB/s eta 0:00:01\r",
      "\u001b[K     |██████▎                         | 81 kB 15.1 MB/s eta 0:00:01\r",
      "\u001b[K     |███████                         | 92 kB 14.1 MB/s eta 0:00:01\r",
      "\u001b[K     |███████▉                        | 102 kB 14.9 MB/s eta 0:00:01\r",
      "\u001b[K     |████████▊                       | 112 kB 14.9 MB/s eta 0:00:01\r",
      "\u001b[K     |█████████▌                      | 122 kB 14.9 MB/s eta 0:00:01\r",
      "\u001b[K     |██████████▎                     | 133 kB 14.9 MB/s eta 0:00:01\r",
      "\u001b[K     |███████████                     | 143 kB 14.9 MB/s eta 0:00:01\r",
      "\u001b[K     |███████████▉                    | 153 kB 14.9 MB/s eta 0:00:01\r",
      "\u001b[K     |████████████▋                   | 163 kB 14.9 MB/s eta 0:00:01\r",
      "\u001b[K     |█████████████▍                  | 174 kB 14.9 MB/s eta 0:00:01\r",
      "\u001b[K     |██████████████▏                 | 184 kB 14.9 MB/s eta 0:00:01\r",
      "\u001b[K     |███████████████                 | 194 kB 14.9 MB/s eta 0:00:01\r",
      "\u001b[K     |███████████████▊                | 204 kB 14.9 MB/s eta 0:00:01\r",
      "\u001b[K     |████████████████▋               | 215 kB 14.9 MB/s eta 0:00:01\r",
      "\u001b[K     |█████████████████▍              | 225 kB 14.9 MB/s eta 0:00:01\r",
      "\u001b[K     |██████████████████▏             | 235 kB 14.9 MB/s eta 0:00:01\r",
      "\u001b[K     |███████████████████             | 245 kB 14.9 MB/s eta 0:00:01\r",
      "\u001b[K     |███████████████████▊            | 256 kB 14.9 MB/s eta 0:00:01\r",
      "\u001b[K     |████████████████████▌           | 266 kB 14.9 MB/s eta 0:00:01\r",
      "\u001b[K     |█████████████████████▎          | 276 kB 14.9 MB/s eta 0:00:01\r",
      "\u001b[K     |██████████████████████          | 286 kB 14.9 MB/s eta 0:00:01\r",
      "\u001b[K     |██████████████████████▉         | 296 kB 14.9 MB/s eta 0:00:01\r",
      "\u001b[K     |███████████████████████▋        | 307 kB 14.9 MB/s eta 0:00:01\r",
      "\u001b[K     |████████████████████████▍       | 317 kB 14.9 MB/s eta 0:00:01\r",
      "\u001b[K     |█████████████████████████▎      | 327 kB 14.9 MB/s eta 0:00:01\r",
      "\u001b[K     |██████████████████████████      | 337 kB 14.9 MB/s eta 0:00:01\r",
      "\u001b[K     |██████████████████████████▉     | 348 kB 14.9 MB/s eta 0:00:01\r",
      "\u001b[K     |███████████████████████████▋    | 358 kB 14.9 MB/s eta 0:00:01\r",
      "\u001b[K     |████████████████████████████▍   | 368 kB 14.9 MB/s eta 0:00:01\r",
      "\u001b[K     |█████████████████████████████▏  | 378 kB 14.9 MB/s eta 0:00:01\r",
      "\u001b[K     |██████████████████████████████  | 389 kB 14.9 MB/s eta 0:00:01\r",
      "\u001b[K     |██████████████████████████████▊ | 399 kB 14.9 MB/s eta 0:00:01\r",
      "\u001b[K     |███████████████████████████████▌| 409 kB 14.9 MB/s eta 0:00:01\r",
      "\u001b[K     |████████████████████████████████| 415 kB 14.9 MB/s \n",
      "\u001b[?25hRequirement already satisfied: matplotlib>=2.0.0 in /usr/local/lib/python3.7/dist-packages (from pybaseball) (3.2.2)\n",
      "Requirement already satisfied: scipy>=1.4.0 in /usr/local/lib/python3.7/dist-packages (from pybaseball) (1.4.1)\n",
      "Requirement already satisfied: beautifulsoup4>=4.4.0 in /usr/local/lib/python3.7/dist-packages (from pybaseball) (4.6.3)\n",
      "Requirement already satisfied: tqdm>=4.50.0 in /usr/local/lib/python3.7/dist-packages (from pybaseball) (4.62.3)\n",
      "Requirement already satisfied: pandas>=1.0.3 in /usr/local/lib/python3.7/dist-packages (from pybaseball) (1.1.5)\n",
      "Requirement already satisfied: attrs>=20.3.0 in /usr/local/lib/python3.7/dist-packages (from pybaseball) (21.2.0)\n",
      "Requirement already satisfied: numpy>=1.13.0 in /usr/local/lib/python3.7/dist-packages (from pybaseball) (1.19.5)\n",
      "Requirement already satisfied: lxml>=4.2.1 in /usr/local/lib/python3.7/dist-packages (from pybaseball) (4.2.6)\n",
      "Collecting pygithub>=1.51\n",
      "  Downloading PyGithub-1.55-py3-none-any.whl (291 kB)\n",
      "\u001b[?25l\r",
      "\u001b[K     |█▏                              | 10 kB 35.6 MB/s eta 0:00:01\r",
      "\u001b[K     |██▎                             | 20 kB 41.6 MB/s eta 0:00:01\r",
      "\u001b[K     |███▍                            | 30 kB 50.0 MB/s eta 0:00:01\r",
      "\u001b[K     |████▌                           | 40 kB 55.0 MB/s eta 0:00:01\r",
      "\u001b[K     |█████▋                          | 51 kB 58.0 MB/s eta 0:00:01\r",
      "\u001b[K     |██████▊                         | 61 kB 62.5 MB/s eta 0:00:01\r",
      "\u001b[K     |███████▉                        | 71 kB 62.8 MB/s eta 0:00:01\r",
      "\u001b[K     |█████████                       | 81 kB 64.8 MB/s eta 0:00:01\r",
      "\u001b[K     |██████████                      | 92 kB 66.1 MB/s eta 0:00:01\r",
      "\u001b[K     |███████████▎                    | 102 kB 67.4 MB/s eta 0:00:01\r",
      "\u001b[K     |████████████▍                   | 112 kB 67.4 MB/s eta 0:00:01\r",
      "\u001b[K     |█████████████▌                  | 122 kB 67.4 MB/s eta 0:00:01\r",
      "\u001b[K     |██████████████▋                 | 133 kB 67.4 MB/s eta 0:00:01\r",
      "\u001b[K     |███████████████▊                | 143 kB 67.4 MB/s eta 0:00:01\r",
      "\u001b[K     |████████████████▉               | 153 kB 67.4 MB/s eta 0:00:01\r",
      "\u001b[K     |██████████████████              | 163 kB 67.4 MB/s eta 0:00:01\r",
      "\u001b[K     |███████████████████             | 174 kB 67.4 MB/s eta 0:00:01\r",
      "\u001b[K     |████████████████████▏           | 184 kB 67.4 MB/s eta 0:00:01\r",
      "\u001b[K     |█████████████████████▍          | 194 kB 67.4 MB/s eta 0:00:01\r",
      "\u001b[K     |██████████████████████▌         | 204 kB 67.4 MB/s eta 0:00:01\r",
      "\u001b[K     |███████████████████████▋        | 215 kB 67.4 MB/s eta 0:00:01\r",
      "\u001b[K     |████████████████████████▊       | 225 kB 67.4 MB/s eta 0:00:01\r",
      "\u001b[K     |█████████████████████████▉      | 235 kB 67.4 MB/s eta 0:00:01\r",
      "\u001b[K     |███████████████████████████     | 245 kB 67.4 MB/s eta 0:00:01\r",
      "\u001b[K     |████████████████████████████    | 256 kB 67.4 MB/s eta 0:00:01\r",
      "\u001b[K     |█████████████████████████████▏  | 266 kB 67.4 MB/s eta 0:00:01\r",
      "\u001b[K     |██████████████████████████████▎ | 276 kB 67.4 MB/s eta 0:00:01\r",
      "\u001b[K     |███████████████████████████████▌| 286 kB 67.4 MB/s eta 0:00:01\r",
      "\u001b[K     |████████████████████████████████| 291 kB 67.4 MB/s \n",
      "\u001b[?25hRequirement already satisfied: requests>=2.18.1 in /usr/local/lib/python3.7/dist-packages (from pybaseball) (2.23.0)\n",
      "Requirement already satisfied: pyarrow>=1.0.1 in /usr/local/lib/python3.7/dist-packages (from pybaseball) (3.0.0)\n",
      "Requirement already satisfied: python-dateutil>=2.1 in /usr/local/lib/python3.7/dist-packages (from matplotlib>=2.0.0->pybaseball) (2.8.2)\n",
      "Requirement already satisfied: cycler>=0.10 in /usr/local/lib/python3.7/dist-packages (from matplotlib>=2.0.0->pybaseball) (0.11.0)\n",
      "Requirement already satisfied: kiwisolver>=1.0.1 in /usr/local/lib/python3.7/dist-packages (from matplotlib>=2.0.0->pybaseball) (1.3.2)\n",
      "Requirement already satisfied: pyparsing!=2.0.4,!=2.1.2,!=2.1.6,>=2.0.1 in /usr/local/lib/python3.7/dist-packages (from matplotlib>=2.0.0->pybaseball) (3.0.6)\n",
      "Requirement already satisfied: pytz>=2017.2 in /usr/local/lib/python3.7/dist-packages (from pandas>=1.0.3->pybaseball) (2018.9)\n",
      "Collecting pynacl>=1.4.0\n",
      "  Downloading PyNaCl-1.4.0-cp35-abi3-manylinux1_x86_64.whl (961 kB)\n",
      "\u001b[K     |████████████████████████████████| 961 kB 63.6 MB/s \n",
      "\u001b[?25hCollecting deprecated\n",
      "  Downloading Deprecated-1.2.13-py2.py3-none-any.whl (9.6 kB)\n",
      "Collecting pyjwt>=2.0\n",
      "  Downloading PyJWT-2.3.0-py3-none-any.whl (16 kB)\n",
      "Requirement already satisfied: six in /usr/local/lib/python3.7/dist-packages (from pynacl>=1.4.0->pygithub>=1.51->pybaseball) (1.15.0)\n",
      "Requirement already satisfied: cffi>=1.4.1 in /usr/local/lib/python3.7/dist-packages (from pynacl>=1.4.0->pygithub>=1.51->pybaseball) (1.15.0)\n",
      "Requirement already satisfied: pycparser in /usr/local/lib/python3.7/dist-packages (from cffi>=1.4.1->pynacl>=1.4.0->pygithub>=1.51->pybaseball) (2.21)\n",
      "Requirement already satisfied: urllib3!=1.25.0,!=1.25.1,<1.26,>=1.21.1 in /usr/local/lib/python3.7/dist-packages (from requests>=2.18.1->pybaseball) (1.24.3)\n",
      "Requirement already satisfied: idna<3,>=2.5 in /usr/local/lib/python3.7/dist-packages (from requests>=2.18.1->pybaseball) (2.10)\n",
      "Requirement already satisfied: certifi>=2017.4.17 in /usr/local/lib/python3.7/dist-packages (from requests>=2.18.1->pybaseball) (2021.10.8)\n",
      "Requirement already satisfied: chardet<4,>=3.0.2 in /usr/local/lib/python3.7/dist-packages (from requests>=2.18.1->pybaseball) (3.0.4)\n",
      "Requirement already satisfied: wrapt<2,>=1.10 in /usr/local/lib/python3.7/dist-packages (from deprecated->pygithub>=1.51->pybaseball) (1.13.3)\n",
      "Installing collected packages: pynacl, pyjwt, deprecated, pygithub, pybaseball\n",
      "Successfully installed deprecated-1.2.13 pybaseball-2.2.1 pygithub-1.55 pyjwt-2.3.0 pynacl-1.4.0\n"
     ]
    }
   ],
   "source": [
    "# data manipulation\n",
    "import numpy as np\n",
    "import pandas as pd \n",
    "import os\n",
    "import zipfile\n",
    "\n",
    "# plotting\n",
    "import seaborn as sns\n",
    "import matplotlib.pyplot as plt\n",
    "from pandas.plotting import scatter_matrix\n",
    "import plotly.express as px\n",
    "\n",
    "# pytorch\n",
    "import torch\n",
    "import torch.nn as nn\n",
    "import torch.nn.functional as F\n",
    "import torch.optim as optim\n",
    "from torch.utils.data import Dataset, DataLoader, SubsetRandomSampler\n",
    "import torchvision\n",
    "import torch.utils.data\n",
    "import torchvision.transforms as transforms\n",
    "from torchvision.transforms import ToTensor\n",
    "from torch.utils.data import random_split\n",
    "from torch import cuda\n",
    "from torch.autograd import Variable\n",
    "from torch.utils.data import TensorDataset\n",
    "from torch.nn.utils.rnn import pad_sequence\n",
    "\n",
    "# splitting data\n",
    "from sklearn.model_selection import train_test_split\n",
    "\n",
    "# preprocessing\n",
    "from sklearn.impute import SimpleImputer\n",
    "from sklearn.preprocessing import MinMaxScaler, StandardScaler, OneHotEncoder, LabelEncoder\n",
    "\n",
    "# pipelines\n",
    "from sklearn.decomposition import PCA\n",
    "from sklearn.compose import ColumnTransformer\n",
    "from sklearn.base import BaseEstimator, TransformerMixin\n",
    "from sklearn.pipeline import Pipeline, FeatureUnion, make_pipeline\n",
    "\n",
    "# random number generator\n",
    "import random\n",
    "\n",
    "# other\n",
    "import IPython\n",
    "import pickle\n",
    "from os import listdir\n",
    "from os.path import isfile, join\n",
    "\n",
    "# pybaseball\n",
    "!pip install pybaseball\n",
    "from pybaseball import playerid_reverse_lookup"
   ]
  },
  {
   "cell_type": "markdown",
   "metadata": {
    "id": "lWmA2eCigvKw"
   },
   "source": [
    "## Global Options"
   ]
  },
  {
   "cell_type": "markdown",
   "metadata": {
    "id": "54kWfnpRJoWI"
   },
   "source": [
    "Let's set a few global options for the notebook"
   ]
  },
  {
   "cell_type": "code",
   "execution_count": 2,
   "metadata": {
    "executionInfo": {
     "elapsed": 13,
     "status": "ok",
     "timestamp": 1639247342445,
     "user": {
      "displayName": "Joel Klein",
      "photoUrl": "https://lh3.googleusercontent.com/a/default-user=s64",
      "userId": "12422283647264597477"
     },
     "user_tz": 420
    },
    "id": "zRn1T74RhC07"
   },
   "outputs": [],
   "source": [
    "# do not show warnings\n",
    "import warnings\n",
    "warnings.filterwarnings('ignore')\n",
    "\n",
    "# set pandas display options\n",
    "pd.set_option('display.max_rows', 500)\n",
    "pd.set_option('display.max_columns', 500)\n",
    "pd.set_option('display.width', 2000)\n",
    "pd.set_option('display.max_colwidth', 2000)\n",
    "pd.options.display.float_format = '{:.5f}'.format"
   ]
  },
  {
   "cell_type": "markdown",
   "metadata": {
    "id": "x9HT0qCwhbFN"
   },
   "source": [
    "## Set Directories"
   ]
  },
  {
   "cell_type": "markdown",
   "metadata": {
    "id": "OJA0uUHPJws2"
   },
   "source": [
    "Let's set the directories needed to load in the data into the notebook."
   ]
  },
  {
   "cell_type": "code",
   "execution_count": 3,
   "metadata": {
    "colab": {
     "base_uri": "https://localhost:8080/"
    },
    "executionInfo": {
     "elapsed": 28744,
     "status": "ok",
     "timestamp": 1639247371179,
     "user": {
      "displayName": "Joel Klein",
      "photoUrl": "https://lh3.googleusercontent.com/a/default-user=s64",
      "userId": "12422283647264597477"
     },
     "user_tz": 420
    },
    "id": "y7rTjs1jhen9",
    "outputId": "8924952b-8f03-4bdd-e060-143b18d020c3"
   },
   "outputs": [
    {
     "name": "stdout",
     "output_type": "stream",
     "text": [
      "Mounted at /content/drive\n"
     ]
    }
   ],
   "source": [
    "# mount data drive on colab\n",
    "from google.colab import drive\n",
    "drive.mount('/content/drive')\n",
    "\n",
    "# set folder directories to load and save data\n",
    "DATA_DIR = \"/content/drive/MyDrive/final-project-dl/data\"\n",
    "STATCAST_DATA_DIR = \"/content/drive/MyDrive/final-project-dl/data/statcast\"\n",
    "EMBEDDINGS_DATA_DIR = \"/content/drive/MyDrive/final-project-dl/data/embeddings\""
   ]
  },
  {
   "cell_type": "markdown",
   "metadata": {
    "id": "WbbO4WK7hsWT"
   },
   "source": [
    "## Define Functions"
   ]
  },
  {
   "cell_type": "markdown",
   "metadata": {
    "id": "u4lWO6_-J2Xw"
   },
   "source": [
    "All custom functions needed in the notebook are listed in this section."
   ]
  },
  {
   "cell_type": "code",
   "execution_count": 4,
   "metadata": {
    "executionInfo": {
     "elapsed": 5,
     "status": "ok",
     "timestamp": 1639247371180,
     "user": {
      "displayName": "Joel Klein",
      "photoUrl": "https://lh3.googleusercontent.com/a/default-user=s64",
      "userId": "12422283647264597477"
     },
     "user_tz": 420
    },
    "id": "BYBm_Yq9hvMX"
   },
   "outputs": [],
   "source": [
    "##### Define data loading function ----\n",
    "\n",
    "# define a function for loading in dataset\n",
    "def load_data(in_path, name):\n",
    "    df = pd.read_csv(in_path)\n",
    "    print(f\"{name}: shape is {df.shape}\")\n",
    "    \n",
    "    return df"
   ]
  },
  {
   "cell_type": "code",
   "execution_count": 5,
   "metadata": {
    "executionInfo": {
     "elapsed": 4,
     "status": "ok",
     "timestamp": 1639247371180,
     "user": {
      "displayName": "Joel Klein",
      "photoUrl": "https://lh3.googleusercontent.com/a/default-user=s64",
      "userId": "12422283647264597477"
     },
     "user_tz": 420
    },
    "id": "XaGHfSIX20if"
   },
   "outputs": [],
   "source": [
    "##### Define early stopping class -----\n",
    "\n",
    "# source: https://github.com/Bjarten/early-stopping-pytorch/blob/master/pytorchtools.py\n",
    "# date accessed: 2021-12-08\n",
    "\n",
    "class EarlyStopping:\n",
    "    \"\"\"Early stops the training if validation loss doesn't improve after a given patience.\"\"\"\n",
    "    def __init__(self, patience=7, verbose=False, delta=0, path='checkpoint.pt', trace_func=print):\n",
    "        \"\"\"\n",
    "        Args:\n",
    "            patience (int): How long to wait after last time validation loss improved.\n",
    "                            Default: 7\n",
    "            verbose (bool): If True, prints a message for each validation loss improvement. \n",
    "                            Default: False\n",
    "            delta (float): Minimum change in the monitored quantity to qualify as an improvement.\n",
    "                            Default: 0\n",
    "            path (str): Path for the checkpoint to be saved to.\n",
    "                            Default: 'checkpoint.pt'\n",
    "            trace_func (function): trace print function.\n",
    "                            Default: print            \n",
    "        \"\"\"\n",
    "        self.patience = patience\n",
    "        self.verbose = verbose\n",
    "        self.counter = 0\n",
    "        self.best_score = None\n",
    "        self.early_stop = False\n",
    "        self.val_loss_min = np.Inf\n",
    "        self.delta = delta\n",
    "        self.path = path\n",
    "        self.trace_func = trace_func\n",
    "    def __call__(self, val_loss, model):\n",
    "\n",
    "        score = -val_loss\n",
    "\n",
    "        if self.best_score is None:\n",
    "            self.best_score = score\n",
    "            self.save_checkpoint(val_loss, model)\n",
    "        elif score < self.best_score + self.delta:\n",
    "            self.counter += 1\n",
    "            self.trace_func(f'EarlyStopping counter: {self.counter} out of {self.patience}')\n",
    "            if self.counter >= self.patience:\n",
    "                self.early_stop = True\n",
    "        else:\n",
    "            self.best_score = score\n",
    "            self.save_checkpoint(val_loss, model)\n",
    "            self.counter = 0\n",
    "\n",
    "    def save_checkpoint(self, val_loss, model):\n",
    "        '''Saves model when validation loss decrease.'''\n",
    "        if self.verbose:\n",
    "            self.trace_func(f'Validation loss decreased ({self.val_loss_min:.6f} --> {val_loss:.6f}).  Saving model ...')\n",
    "        torch.save(model.state_dict(), self.path)\n",
    "        self.val_loss_min = val_loss"
   ]
  },
  {
   "cell_type": "markdown",
   "metadata": {
    "id": "P4MStBqLhgvJ"
   },
   "source": [
    "## Load Data"
   ]
  },
  {
   "cell_type": "markdown",
   "metadata": {
    "id": "c7iZIszaZfR9"
   },
   "source": [
    "Let's load in the pitch data from the 2017, 2018, 2019, 2020, and 2021 seasons via the train, validation, and test sets."
   ]
  },
  {
   "cell_type": "code",
   "execution_count": 6,
   "metadata": {
    "colab": {
     "base_uri": "https://localhost:8080/"
    },
    "executionInfo": {
     "elapsed": 23045,
     "status": "ok",
     "timestamp": 1639247394222,
     "user": {
      "displayName": "Joel Klein",
      "photoUrl": "https://lh3.googleusercontent.com/a/default-user=s64",
      "userId": "12422283647264597477"
     },
     "user_tz": 420
    },
    "id": "k3oo9FGehf5B",
    "outputId": "3516bea8-998e-49c7-e372-0ab089bbd3cf"
   },
   "outputs": [
    {
     "name": "stdout",
     "output_type": "stream",
     "text": [
      "train_data: shape is (785777, 107)\n",
      "validation_data: shape is (344941, 107)\n",
      "test_data: shape is (267635, 107)\n"
     ]
    }
   ],
   "source": [
    "# load in each dataset\n",
    "train_data = load_data(os.path.join(STATCAST_DATA_DIR, 'train_data.csv'), 'train_data')\n",
    "validation_data = load_data(os.path.join(STATCAST_DATA_DIR, 'validation_data.csv'), 'validation_data')\n",
    "test_data = load_data(os.path.join(STATCAST_DATA_DIR, 'test_data.csv'), 'test_data')"
   ]
  },
  {
   "cell_type": "markdown",
   "metadata": {
    "id": "w3VaEa8lEv1n"
   },
   "source": [
    "Let's load in the batter and pitcher embeddings"
   ]
  },
  {
   "cell_type": "code",
   "execution_count": 7,
   "metadata": {
    "executionInfo": {
     "elapsed": 763,
     "status": "ok",
     "timestamp": 1639247394974,
     "user": {
      "displayName": "Joel Klein",
      "photoUrl": "https://lh3.googleusercontent.com/a/default-user=s64",
      "userId": "12422283647264597477"
     },
     "user_tz": 420
    },
    "id": "SMAag3jiE52w"
   },
   "outputs": [],
   "source": [
    "# load in batter embeddings reference table\n",
    "with open(os.path.join(EMBEDDINGS_DATA_DIR, 'batter_embedding_df.pkl'), 'rb') as f:\n",
    "    batter_embedding_df = pickle.load(f)\n",
    "\n",
    "# load in pitcher embeddings reference table\n",
    "with open(os.path.join(EMBEDDINGS_DATA_DIR, 'pitcher_embedding_df.pkl'), 'rb') as f:\n",
    "    pitcher_embedding_df = pickle.load(f)"
   ]
  },
  {
   "cell_type": "markdown",
   "metadata": {
    "id": "o32Z70wnC3pA"
   },
   "source": [
    "## Data Preparation"
   ]
  },
  {
   "cell_type": "markdown",
   "metadata": {
    "id": "Dt6VBV-QruKm"
   },
   "source": [
    "#### Recategorize previous outcome to smaller class"
   ]
  },
  {
   "cell_type": "code",
   "execution_count": 8,
   "metadata": {
    "executionInfo": {
     "elapsed": 1802,
     "status": "ok",
     "timestamp": 1639247396774,
     "user": {
      "displayName": "Joel Klein",
      "photoUrl": "https://lh3.googleusercontent.com/a/default-user=s64",
      "userId": "12422283647264597477"
     },
     "user_tz": 420
    },
    "id": "wFoiqAuqzSJg"
   },
   "outputs": [],
   "source": [
    "train_data['prev_outcome'] = np.select(\n",
    "    [\n",
    "      train_data['prev_description'].isin([\"ball\", \"blocked_ball\"]), \n",
    "      train_data['prev_description'].isin([\"foul\", \"foul_tip\"]),\n",
    "      (train_data['prev_description'] == \"hit_into_play\") & ~train_data['prev_events'].isin([\"single\", \"double\", \"triple\", \"home_run\"]),\n",
    "      (train_data['prev_description'] == \"hit_into_play\") & ~train_data['prev_events'].isin([\"single\", \"double\", \"triple\", \"home_run\"]),\n",
    "      train_data['prev_description'] == \"called_strike\",\n",
    "      train_data['prev_description'].isin([\"swinging_strike\", \"swinging_strike_blocked\"])\n",
    "    ], \n",
    "    [\n",
    "      'ball', \n",
    "      'foul',\n",
    "      'out',\n",
    "      'hit',\n",
    "      'called_strike',\n",
    "      'swinging_strike'\n",
    "    ], \n",
    "    default='other'\n",
    ")\n",
    "\n",
    "validation_data['prev_outcome'] = np.select(\n",
    "    [\n",
    "      validation_data['prev_description'].isin([\"ball\", \"blocked_ball\"]), \n",
    "      validation_data['prev_description'].isin([\"foul\", \"foul_tip\"]),\n",
    "      (validation_data['prev_description'] == \"hit_into_play\") & ~validation_data['prev_events'].isin([\"single\", \"double\", \"triple\", \"home_run\"]),\n",
    "      (validation_data['prev_description'] == \"hit_into_play\") & ~validation_data['prev_events'].isin([\"single\", \"double\", \"triple\", \"home_run\"]),\n",
    "      validation_data['prev_description'] == \"called_strike\",\n",
    "      validation_data['prev_description'].isin([\"swinging_strike\", \"swinging_strike_blocked\"])\n",
    "    ], \n",
    "    [\n",
    "      'ball', \n",
    "      'foul',\n",
    "      'out',\n",
    "      'hit',\n",
    "      'called_strike',\n",
    "      'swinging_strike'\n",
    "    ], \n",
    "    default='other'\n",
    ")\n",
    "\n",
    "test_data['prev_outcome'] = np.select(\n",
    "    [\n",
    "      test_data['prev_description'].isin([\"ball\", \"blocked_ball\"]), \n",
    "      test_data['prev_description'].isin([\"foul\", \"foul_tip\"]),\n",
    "      (test_data['prev_description'] == \"hit_into_play\") & ~test_data['prev_events'].isin([\"single\", \"double\", \"triple\", \"home_run\"]),\n",
    "      (test_data['prev_description'] == \"hit_into_play\") & ~test_data['prev_events'].isin([\"single\", \"double\", \"triple\", \"home_run\"]),\n",
    "      test_data['prev_description'] == \"called_strike\",\n",
    "      test_data['prev_description'].isin([\"swinging_strike\", \"swinging_strike_blocked\"])\n",
    "    ], \n",
    "    [\n",
    "      'ball', \n",
    "      'foul',\n",
    "      'out',\n",
    "      'hit',\n",
    "      'called_strike',\n",
    "      'swinging_strike'\n",
    "    ], \n",
    "    default='other'\n",
    ")"
   ]
  },
  {
   "cell_type": "markdown",
   "metadata": {
    "id": "_kqPzdu-Of-A"
   },
   "source": [
    "### Data Integration"
   ]
  },
  {
   "cell_type": "markdown",
   "metadata": {
    "id": "hRZGufelLuPe"
   },
   "source": [
    "The batters and pitchers will be passed in as embedding vectors into the model, which is a lower dimensional representation. We will join the batter and pitcher columns from the original data to the embedding vectors we loaded in earlier."
   ]
  },
  {
   "cell_type": "code",
   "execution_count": 9,
   "metadata": {
    "executionInfo": {
     "elapsed": 15,
     "status": "ok",
     "timestamp": 1639247396776,
     "user": {
      "displayName": "Joel Klein",
      "photoUrl": "https://lh3.googleusercontent.com/a/default-user=s64",
      "userId": "12422283647264597477"
     },
     "user_tz": 420
    },
    "id": "oaq5Fd3Ckdqp"
   },
   "outputs": [],
   "source": [
    "# get the list of the batter column names from the embedding data frame\n",
    "batter_cols = list(['batter_' + str(i) for i in range(9)]) # these are 9 dimensional embeddings\n",
    "batter_cols.append('batter')\n",
    "\n",
    "# get the list of the pitcher column names from the embedding data frame\n",
    "pitcher_cols = list(['pitcher_' + str(i) for i in range(9)]) # these are 9 dimensional embeddings\n",
    "pitcher_cols.append('pitcher')"
   ]
  },
  {
   "cell_type": "code",
   "execution_count": 10,
   "metadata": {
    "colab": {
     "base_uri": "https://localhost:8080/"
    },
    "executionInfo": {
     "elapsed": 2277,
     "status": "ok",
     "timestamp": 1639247399043,
     "user": {
      "displayName": "Joel Klein",
      "photoUrl": "https://lh3.googleusercontent.com/a/default-user=s64",
      "userId": "12422283647264597477"
     },
     "user_tz": 420
    },
    "id": "9XwtBZP0FnDa",
    "outputId": "e94d6e28-8d8d-4b69-98db-f54ec5c6c44f"
   },
   "outputs": [
    {
     "name": "stdout",
     "output_type": "stream",
     "text": [
      "True\n",
      "True\n",
      "True\n"
     ]
    }
   ],
   "source": [
    "##### Batter Embedding Integration ----\n",
    "\n",
    "## Train --\n",
    "\n",
    "# get the existing statcast data row count\n",
    "train_data_nrow = len(train_data)\n",
    "\n",
    "# join the batter embeddings to the data\n",
    "train_data = train_data.merge(batter_embedding_df[batter_cols], on='batter', how='left')\n",
    "\n",
    "# get the new statcast data row count\n",
    "train_data_batter_nrow = len(train_data)\n",
    "\n",
    "# make sure the join doesn't produce duplicate records\n",
    "print(train_data_nrow == train_data_batter_nrow)\n",
    "\n",
    "## Validation --\n",
    "\n",
    "# get the existing statcast data row count\n",
    "validation_data_nrow = len(validation_data)\n",
    "\n",
    "# join the batter embeddings to the data\n",
    "validation_data = validation_data.merge(batter_embedding_df[batter_cols], on='batter', how='left')\n",
    "\n",
    "# get the new statcast data row count\n",
    "validation_data_batter_nrow = len(validation_data)\n",
    "\n",
    "# make sure the join doesn't produce duplicate records\n",
    "print(validation_data_nrow == validation_data_batter_nrow)\n",
    "\n",
    "## Test --\n",
    "\n",
    "# get the existing statcast data row count\n",
    "test_data_nrow = len(test_data)\n",
    "\n",
    "# join the batter embeddings to the data\n",
    "test_data = test_data.merge(batter_embedding_df[batter_cols], on='batter', how='left')\n",
    "\n",
    "# get the new statcast data row count\n",
    "test_data_batter_nrow = len(test_data)\n",
    "\n",
    "# make sure the join doesn't produce duplicate records\n",
    "print(test_data_nrow == test_data_batter_nrow)"
   ]
  },
  {
   "cell_type": "code",
   "execution_count": 11,
   "metadata": {
    "colab": {
     "base_uri": "https://localhost:8080/"
    },
    "executionInfo": {
     "elapsed": 480,
     "status": "ok",
     "timestamp": 1639247399519,
     "user": {
      "displayName": "Joel Klein",
      "photoUrl": "https://lh3.googleusercontent.com/a/default-user=s64",
      "userId": "12422283647264597477"
     },
     "user_tz": 420
    },
    "id": "wr86EtN6HAqt",
    "outputId": "5610b526-4aeb-4fe2-aa59-79a482fda104"
   },
   "outputs": [
    {
     "name": "stdout",
     "output_type": "stream",
     "text": [
      "True\n",
      "True\n",
      "True\n"
     ]
    }
   ],
   "source": [
    "##### Pitcher Embedding Integration ----\n",
    "\n",
    "## Train --\n",
    "\n",
    "# get the existing statcast data row count\n",
    "train_data_nrow = len(train_data)\n",
    "\n",
    "# join the pitcher embeddings to the data\n",
    "train_data = train_data.merge(pitcher_embedding_df[pitcher_cols], on='pitcher', how='left')\n",
    "\n",
    "# get the new statcast data row count\n",
    "train_data_pitcher_nrow = len(train_data)\n",
    "\n",
    "# make sure the join doesn't produce duplicate records\n",
    "print(train_data_nrow == train_data_pitcher_nrow)\n",
    "\n",
    "## Validation --\n",
    "\n",
    "# get the existing statcast data row count\n",
    "validation_data_nrow = len(validation_data)\n",
    "\n",
    "# join the pitcher embeddings to the data\n",
    "validation_data = validation_data.merge(pitcher_embedding_df[pitcher_cols], on='pitcher', how='left')\n",
    "\n",
    "# get the new statcast data row count\n",
    "validation_data_pitcher_nrow = len(validation_data)\n",
    "\n",
    "# make sure the join doesn't produce duplicate records\n",
    "print(validation_data_nrow == validation_data_pitcher_nrow)\n",
    "\n",
    "## Test --\n",
    "\n",
    "# get the existing statcast data row count\n",
    "test_data_nrow = len(test_data)\n",
    "\n",
    "# join the pitcher embeddings to the data\n",
    "test_data = test_data.merge(pitcher_embedding_df[pitcher_cols], on='pitcher', how='left')\n",
    "\n",
    "# get the new statcast data row count\n",
    "test_data_pitcher_nrow = len(test_data)\n",
    "\n",
    "# make sure the join doesn't produce duplicate records\n",
    "print(test_data_nrow == test_data_pitcher_nrow)"
   ]
  },
  {
   "cell_type": "markdown",
   "metadata": {
    "id": "a-WroBFzMKZU"
   },
   "source": [
    "After the join, we need to remove features that are not needed for the training data."
   ]
  },
  {
   "cell_type": "code",
   "execution_count": 12,
   "metadata": {
    "executionInfo": {
     "elapsed": 1489,
     "status": "ok",
     "timestamp": 1639247401005,
     "user": {
      "displayName": "Joel Klein",
      "photoUrl": "https://lh3.googleusercontent.com/a/default-user=s64",
      "userId": "12422283647264597477"
     },
     "user_tz": 420
    },
    "id": "2WucUOfD3XTQ"
   },
   "outputs": [],
   "source": [
    "# drop columns from data set we do not care about\n",
    "train_data = train_data.drop(columns=['batter', 'pitcher', 'prev_game_pitch_number', 'prev_game_pitch_number', 'prev_game_pk', 'prev_pitch_number', 'prev_at_bat_number', 'game_pitch_number'])\n",
    "validation_data = validation_data.drop(columns=['batter', 'pitcher', 'prev_game_pitch_number', 'prev_game_pitch_number', 'prev_game_pk', 'prev_pitch_number', 'prev_at_bat_number', 'game_pitch_number'])\n",
    "test_data = test_data.drop(columns=['batter', 'pitcher', 'prev_game_pitch_number', 'prev_game_pitch_number', 'prev_game_pk', 'prev_pitch_number', 'prev_at_bat_number', 'game_pitch_number'])"
   ]
  },
  {
   "cell_type": "code",
   "execution_count": 13,
   "metadata": {
    "executionInfo": {
     "elapsed": 5,
     "status": "ok",
     "timestamp": 1639247401006,
     "user": {
      "displayName": "Joel Klein",
      "photoUrl": "https://lh3.googleusercontent.com/a/default-user=s64",
      "userId": "12422283647264597477"
     },
     "user_tz": 420
    },
    "id": "AqEt6C4wEOv9"
   },
   "outputs": [],
   "source": [
    "# assign the input and response features\n",
    "x_train = train_data.drop(['pitch_class'], axis = 1) # features\n",
    "y_train = train_data['pitch_class'] # label\n",
    "\n",
    "x_validation = validation_data.drop(['pitch_class'], axis = 1) # features\n",
    "y_validation = validation_data['pitch_class'] # label\n",
    "\n",
    "x_test = test_data.drop(['pitch_class'], axis = 1) # features\n",
    "y_test = test_data['pitch_class'] # label"
   ]
  },
  {
   "cell_type": "markdown",
   "metadata": {
    "id": "z3oYGFweVa2D"
   },
   "source": [
    "We need to convert the input features into an index before training."
   ]
  },
  {
   "cell_type": "code",
   "execution_count": 14,
   "metadata": {
    "executionInfo": {
     "elapsed": 4,
     "status": "ok",
     "timestamp": 1639247401006,
     "user": {
      "displayName": "Joel Klein",
      "photoUrl": "https://lh3.googleusercontent.com/a/default-user=s64",
      "userId": "12422283647264597477"
     },
     "user_tz": 420
    },
    "id": "WIfWqxLGSIOf"
   },
   "outputs": [],
   "source": [
    "# Assign each pitch with a unique index\n",
    "pitch_to_ix = {\"fourseam\": 0, \"twoseam\": 1, \"slider\": 2,\n",
    "               \"changeup\": 3, \"curveball\": 4, \"cutter\": 5}\n",
    "\n",
    "# Convert the pitch code to the index for target data, y_train_df, y_valid_df\n",
    "y_train = y_train.map(pitch_to_ix)\n",
    "y_validation = y_validation.map(pitch_to_ix)\n",
    "y_test = y_test.map(pitch_to_ix)"
   ]
  },
  {
   "cell_type": "markdown",
   "metadata": {
    "id": "PMr2O7blOKxb"
   },
   "source": [
    "After checking for missing data after these transformations, we see there are still some of the previous pitch data features which are missing. These represent the first pitches of the game and so there is no previous pitch information. These features will be imputed with a 0 when passed into the model."
   ]
  },
  {
   "cell_type": "code",
   "execution_count": 15,
   "metadata": {
    "colab": {
     "base_uri": "https://localhost:8080/",
     "height": 927
    },
    "executionInfo": {
     "elapsed": 1386,
     "status": "ok",
     "timestamp": 1639247402388,
     "user": {
      "displayName": "Joel Klein",
      "photoUrl": "https://lh3.googleusercontent.com/a/default-user=s64",
      "userId": "12422283647264597477"
     },
     "user_tz": 420
    },
    "id": "m2UaRx2VoiHu",
    "outputId": "fde461cd-ff02-471f-d803-c22cea5fa754"
   },
   "outputs": [
    {
     "data": {
      "text/html": [
       "<div>\n",
       "<style scoped>\n",
       "    .dataframe tbody tr th:only-of-type {\n",
       "        vertical-align: middle;\n",
       "    }\n",
       "\n",
       "    .dataframe tbody tr th {\n",
       "        vertical-align: top;\n",
       "    }\n",
       "\n",
       "    .dataframe thead th {\n",
       "        text-align: right;\n",
       "    }\n",
       "</style>\n",
       "<table border=\"1\" class=\"dataframe\">\n",
       "  <thead>\n",
       "    <tr style=\"text-align: right;\">\n",
       "      <th></th>\n",
       "      <th>Percent</th>\n",
       "      <th>Train Missing Count</th>\n",
       "    </tr>\n",
       "  </thead>\n",
       "  <tbody>\n",
       "    <tr>\n",
       "      <th>prev_hc_x</th>\n",
       "      <td>82.95000</td>\n",
       "      <td>651819</td>\n",
       "    </tr>\n",
       "    <tr>\n",
       "      <th>prev_hc_y</th>\n",
       "      <td>82.95000</td>\n",
       "      <td>651819</td>\n",
       "    </tr>\n",
       "    <tr>\n",
       "      <th>prev_launch_speed_angle</th>\n",
       "      <td>82.89000</td>\n",
       "      <td>651364</td>\n",
       "    </tr>\n",
       "    <tr>\n",
       "      <th>prev_bb_type</th>\n",
       "      <td>82.68000</td>\n",
       "      <td>649651</td>\n",
       "    </tr>\n",
       "    <tr>\n",
       "      <th>prev_events</th>\n",
       "      <td>74.83000</td>\n",
       "      <td>587991</td>\n",
       "    </tr>\n",
       "    <tr>\n",
       "      <th>prev_hit_distance_sc</th>\n",
       "      <td>73.70000</td>\n",
       "      <td>579104</td>\n",
       "    </tr>\n",
       "    <tr>\n",
       "      <th>prev_release_spin_rate</th>\n",
       "      <td>1.97000</td>\n",
       "      <td>15500</td>\n",
       "    </tr>\n",
       "    <tr>\n",
       "      <th>prev_effective_speed</th>\n",
       "      <td>0.66000</td>\n",
       "      <td>5196</td>\n",
       "    </tr>\n",
       "    <tr>\n",
       "      <th>prev_release_extension</th>\n",
       "      <td>0.48000</td>\n",
       "      <td>3788</td>\n",
       "    </tr>\n",
       "    <tr>\n",
       "      <th>prev_release_speed</th>\n",
       "      <td>0.48000</td>\n",
       "      <td>3788</td>\n",
       "    </tr>\n",
       "    <tr>\n",
       "      <th>prev_release_pos_x</th>\n",
       "      <td>0.48000</td>\n",
       "      <td>3786</td>\n",
       "    </tr>\n",
       "    <tr>\n",
       "      <th>prev_plate_x</th>\n",
       "      <td>0.48000</td>\n",
       "      <td>3786</td>\n",
       "    </tr>\n",
       "    <tr>\n",
       "      <th>prev_zone</th>\n",
       "      <td>0.48000</td>\n",
       "      <td>3786</td>\n",
       "    </tr>\n",
       "    <tr>\n",
       "      <th>prev_spin_axis</th>\n",
       "      <td>0.48000</td>\n",
       "      <td>3786</td>\n",
       "    </tr>\n",
       "    <tr>\n",
       "      <th>prev_release_pos_y</th>\n",
       "      <td>0.48000</td>\n",
       "      <td>3786</td>\n",
       "    </tr>\n",
       "    <tr>\n",
       "      <th>prev_release_pos_z</th>\n",
       "      <td>0.48000</td>\n",
       "      <td>3786</td>\n",
       "    </tr>\n",
       "    <tr>\n",
       "      <th>prev_pfx_z</th>\n",
       "      <td>0.48000</td>\n",
       "      <td>3786</td>\n",
       "    </tr>\n",
       "    <tr>\n",
       "      <th>prev_plate_z</th>\n",
       "      <td>0.48000</td>\n",
       "      <td>3786</td>\n",
       "    </tr>\n",
       "    <tr>\n",
       "      <th>prev_az</th>\n",
       "      <td>0.48000</td>\n",
       "      <td>3786</td>\n",
       "    </tr>\n",
       "    <tr>\n",
       "      <th>prev_ax</th>\n",
       "      <td>0.48000</td>\n",
       "      <td>3786</td>\n",
       "    </tr>\n",
       "    <tr>\n",
       "      <th>prev_vz0</th>\n",
       "      <td>0.48000</td>\n",
       "      <td>3786</td>\n",
       "    </tr>\n",
       "    <tr>\n",
       "      <th>prev_vy0</th>\n",
       "      <td>0.48000</td>\n",
       "      <td>3786</td>\n",
       "    </tr>\n",
       "    <tr>\n",
       "      <th>prev_vx0</th>\n",
       "      <td>0.48000</td>\n",
       "      <td>3786</td>\n",
       "    </tr>\n",
       "    <tr>\n",
       "      <th>prev_pfx_x</th>\n",
       "      <td>0.48000</td>\n",
       "      <td>3786</td>\n",
       "    </tr>\n",
       "    <tr>\n",
       "      <th>prev_ay</th>\n",
       "      <td>0.48000</td>\n",
       "      <td>3786</td>\n",
       "    </tr>\n",
       "    <tr>\n",
       "      <th>prev_description</th>\n",
       "      <td>0.39000</td>\n",
       "      <td>3076</td>\n",
       "    </tr>\n",
       "    <tr>\n",
       "      <th>prev_pitch_class</th>\n",
       "      <td>0.39000</td>\n",
       "      <td>3076</td>\n",
       "    </tr>\n",
       "    <tr>\n",
       "      <th>prev_type</th>\n",
       "      <td>0.39000</td>\n",
       "      <td>3076</td>\n",
       "    </tr>\n",
       "  </tbody>\n",
       "</table>\n",
       "</div>"
      ],
      "text/plain": [
       "                         Percent  Train Missing Count\n",
       "prev_hc_x               82.95000               651819\n",
       "prev_hc_y               82.95000               651819\n",
       "prev_launch_speed_angle 82.89000               651364\n",
       "prev_bb_type            82.68000               649651\n",
       "prev_events             74.83000               587991\n",
       "prev_hit_distance_sc    73.70000               579104\n",
       "prev_release_spin_rate   1.97000                15500\n",
       "prev_effective_speed     0.66000                 5196\n",
       "prev_release_extension   0.48000                 3788\n",
       "prev_release_speed       0.48000                 3788\n",
       "prev_release_pos_x       0.48000                 3786\n",
       "prev_plate_x             0.48000                 3786\n",
       "prev_zone                0.48000                 3786\n",
       "prev_spin_axis           0.48000                 3786\n",
       "prev_release_pos_y       0.48000                 3786\n",
       "prev_release_pos_z       0.48000                 3786\n",
       "prev_pfx_z               0.48000                 3786\n",
       "prev_plate_z             0.48000                 3786\n",
       "prev_az                  0.48000                 3786\n",
       "prev_ax                  0.48000                 3786\n",
       "prev_vz0                 0.48000                 3786\n",
       "prev_vy0                 0.48000                 3786\n",
       "prev_vx0                 0.48000                 3786\n",
       "prev_pfx_x               0.48000                 3786\n",
       "prev_ay                  0.48000                 3786\n",
       "prev_description         0.39000                 3076\n",
       "prev_pitch_class         0.39000                 3076\n",
       "prev_type                0.39000                 3076"
      ]
     },
     "metadata": {},
     "output_type": "display_data"
    }
   ],
   "source": [
    "##### Missing Data Check ----\n",
    "\n",
    "# game state data\n",
    "percent = (x_train.isnull().sum()/x_train.isnull().count()*100).sort_values(ascending = False).round(2)\n",
    "sum_missing = x_train.isna().sum().sort_values(ascending = False)\n",
    "missing_data  = pd.concat([percent, sum_missing], axis=1, keys=['Percent', \"Train Missing Count\"])\n",
    "display(missing_data[missing_data['Percent'] != 0])"
   ]
  },
  {
   "cell_type": "markdown",
   "metadata": {
    "id": "k3Q2_51POrGF"
   },
   "source": [
    "### Data Pipeline"
   ]
  },
  {
   "cell_type": "markdown",
   "metadata": {
    "id": "VvmEM6pNOtKO"
   },
   "source": [
    "To prepare the inputs and targets, we will first pass the input data into a preparation pipeline. The pipeline will impute missing categorical features with \"Unknown\" and one hot encode the features. All numeric features missing will be imputed with 0 and then scaled. We start by setting the features we will pass into the pipeline. The ID features are still needed so we can split the data by at bat and eventually pass that in as a sequence to the model."
   ]
  },
  {
   "cell_type": "code",
   "execution_count": 16,
   "metadata": {
    "executionInfo": {
     "elapsed": 7,
     "status": "ok",
     "timestamp": 1639247402389,
     "user": {
      "displayName": "Joel Klein",
      "photoUrl": "https://lh3.googleusercontent.com/a/default-user=s64",
      "userId": "12422283647264597477"
     },
     "user_tz": 420
    },
    "id": "29fbxqOIAFg-"
   },
   "outputs": [],
   "source": [
    "# ohe and no imputation\n",
    "categorical_features = ['outs_when_up',\n",
    "                        'count',\n",
    "                        'stand',\n",
    "                        'p_throws',\n",
    "                        'tto']\n",
    "\n",
    "# numeric and impute with 0\n",
    "numerical_features = ['recent_fourseam_usage',\n",
    "                      'recent_twoseam_usage',\n",
    "                      'recent_cutter_usage',\n",
    "                      'recent_slider_usage',\n",
    "                      'recent_curveball_usage',\n",
    "                      'recent_changeup_usage',\n",
    "                      'long_term_fourseam_usage',\n",
    "                      'long_term_twoseam_usage',\n",
    "                      'long_term_cutter_usage',\n",
    "                      'long_term_slider_usage',\n",
    "                      'long_term_curveball_usage',\n",
    "                      'long_term_changeup_usage',\n",
    "                      'Changeup_release_speed_m',\n",
    "                      'Curveball_release_speed_m',\n",
    "                      'Cutter_release_speed_m',\n",
    "                      'Fourseam_release_speed_m',\n",
    "                      'Slider_release_speed_m',\n",
    "                      'Twoseam_release_speed_m',\n",
    "                      'Changeup_release_spin_rate_m',\n",
    "                      'Curveball_release_spin_rate_m',\n",
    "                      'Cutter_release_spin_rate_m',\n",
    "                      'Fourseam_release_spin_rate_m',\n",
    "                      'Slider_release_spin_rate_m',\n",
    "                      'Twoseam_release_spin_rate_m',\n",
    "                      'Changeup_strike_per_m',\n",
    "                      'Curveball_strike_per_m',\n",
    "                      'Cutter_strike_per_m',\n",
    "                      'Fourseam_strike_per_m',\n",
    "                      'Slider_strike_per_m',\n",
    "                      'Twoseam_strike_per_m',\n",
    "                      'Changeup_whiff_per_m',\n",
    "                      'Curveball_whiff_per_m',\n",
    "                      'Cutter_whiff_per_m',\n",
    "                      'Fourseam_whiff_per_m',\n",
    "                      'Slider_whiff_per_m',\n",
    "                      'Twoseam_whiff_per_m',\n",
    "                      'Changeup_woba_value_m',\n",
    "                      'Curveball_woba_value_m',\n",
    "                      'Cutter_woba_value_m',\n",
    "                      'Fourseam_woba_value_m',\n",
    "                      'Slider_woba_value_m',\n",
    "                      'Twoseam_woba_value_m',\n",
    "                      'batter_Changeup_whiff_per_m',\n",
    "                      'batter_Curveball_whiff_per_m',\n",
    "                      'batter_Cutter_whiff_per_m',\n",
    "                      'batter_Fourseam_whiff_per_m',\n",
    "                      'batter_Slider_whiff_per_m',\n",
    "                      'batter_Twoseam_whiff_per_m',\n",
    "                      'batter_Changeup_woba_value_m',\n",
    "                      'batter_Curveball_woba_value_m',\n",
    "                      'batter_Cutter_woba_value_m',\n",
    "                      'batter_Fourseam_woba_value_m',\n",
    "                      'batter_Slider_woba_value_m',\n",
    "                      'batter_Twoseam_woba_value_m',\n",
    "                      'bat_score',\n",
    "                      'fld_score',\n",
    "                      'on_1b',\n",
    "                      'on_2b',\n",
    "                      'on_3b',\n",
    "                      'pitch_number',\n",
    "                      'pitcher_pitch_number']"
   ]
  },
  {
   "cell_type": "markdown",
   "metadata": {
    "id": "pwx_gSKgPgaB"
   },
   "source": [
    "We specify the pipeline below to perform the data transformations."
   ]
  },
  {
   "cell_type": "code",
   "execution_count": 17,
   "metadata": {
    "executionInfo": {
     "elapsed": 5,
     "status": "ok",
     "timestamp": 1639247402389,
     "user": {
      "displayName": "Joel Klein",
      "photoUrl": "https://lh3.googleusercontent.com/a/default-user=s64",
      "userId": "12422283647264597477"
     },
     "user_tz": 420
    },
    "id": "oIqsH4af_Ab0"
   },
   "outputs": [],
   "source": [
    "##### Data Pipelines ----\n",
    "\n",
    "# create pipeline for numeric features\n",
    "num_pipeline = Pipeline([\n",
    "        ('imputer', SimpleImputer(strategy='constant', fill_value=0.0)),\n",
    "        ('std_scaler', StandardScaler()),\n",
    "    ])\n",
    "\n",
    "# create pipeline for numeric features\n",
    "cat_pipeline = Pipeline([\n",
    "        ('imputer', SimpleImputer(strategy='constant', fill_value=\"NA\")),\n",
    "        ('ohe', OneHotEncoder(handle_unknown='ignore', drop='if_binary')),\n",
    "    ])\n",
    "\n",
    "# specify the column transformer for numeric features\n",
    "data_pipeline = ColumnTransformer(\n",
    "    [(\"num_pipeline\", num_pipeline, numerical_features),\n",
    "     (\"cat_pipeline\", cat_pipeline, categorical_features)],\n",
    "    remainder='passthrough')"
   ]
  },
  {
   "cell_type": "markdown",
   "metadata": {
    "id": "OcfCa_T-PnYE"
   },
   "source": [
    "We will then apply the data transformation pipeline to the training, validation, and test data."
   ]
  },
  {
   "cell_type": "code",
   "execution_count": 18,
   "metadata": {
    "executionInfo": {
     "elapsed": 7354,
     "status": "ok",
     "timestamp": 1639247409738,
     "user": {
      "displayName": "Joel Klein",
      "photoUrl": "https://lh3.googleusercontent.com/a/default-user=s64",
      "userId": "12422283647264597477"
     },
     "user_tz": 420
    },
    "id": "eFnePUAnLjfg"
   },
   "outputs": [],
   "source": [
    "# convert categorical variables to strings\n",
    "x_train[categorical_features] = x_train[categorical_features].astype(str) \n",
    "\n",
    "# apply the pipeline to the input data\n",
    "x_train_transformed = data_pipeline.fit_transform(x_train[numerical_features + categorical_features])\n",
    "\n",
    "# convert categorical variables to strings\n",
    "x_validation[categorical_features] = x_validation[categorical_features].astype(str) \n",
    "\n",
    "# apply the pipeline to the validation data\n",
    "x_validation_transformed = data_pipeline.transform(x_validation[numerical_features + categorical_features])\n",
    "\n",
    "# convert categorical variables to strings\n",
    "x_test[categorical_features] = x_test[categorical_features].astype(str) \n",
    "\n",
    "# apply the pipeline to the validation data\n",
    "x_test_transformed = data_pipeline.transform(x_test[numerical_features + categorical_features])"
   ]
  },
  {
   "cell_type": "code",
   "execution_count": 19,
   "metadata": {
    "colab": {
     "base_uri": "https://localhost:8080/",
     "height": 260
    },
    "executionInfo": {
     "elapsed": 14,
     "status": "ok",
     "timestamp": 1639247409738,
     "user": {
      "displayName": "Joel Klein",
      "photoUrl": "https://lh3.googleusercontent.com/a/default-user=s64",
      "userId": "12422283647264597477"
     },
     "user_tz": 420
    },
    "id": "mKgSkqtROVvx",
    "outputId": "9832699d-afc0-4b1a-bfb0-3f3f6d4a2dc1"
   },
   "outputs": [
    {
     "data": {
      "text/plain": [
       "array([[-0.78042864,  0.58270307, -0.44229141, ...,  0.        ,\n",
       "         0.        ,  0.        ],\n",
       "       [-0.78042864,  0.58270307, -0.44229141, ...,  0.        ,\n",
       "         0.        ,  0.        ],\n",
       "       [-0.92705851,  0.73617727, -0.44229141, ...,  0.        ,\n",
       "         0.        ,  0.        ],\n",
       "       ...,\n",
       "       [-1.51357801, -0.03119376,  5.68341187, ...,  0.        ,\n",
       "         0.        ,  0.        ],\n",
       "       [-1.51357801, -0.18466797,  5.9497468 , ...,  0.        ,\n",
       "         0.        ,  0.        ],\n",
       "       [-1.51357801, -0.18466797,  5.9497468 , ...,  0.        ,\n",
       "         0.        ,  0.        ]])"
      ]
     },
     "metadata": {},
     "output_type": "display_data"
    },
    {
     "name": "stdout",
     "output_type": "stream",
     "text": [
      "(785777, 83)\n"
     ]
    }
   ],
   "source": [
    "# preview the transformed training data\n",
    "display(x_train_transformed)\n",
    "\n",
    "# print the shape of the training data\n",
    "print(x_train_transformed.shape)"
   ]
  },
  {
   "cell_type": "markdown",
   "metadata": {
    "id": "E2T7hH2oYVlp"
   },
   "source": [
    "A custom class needs to be created to enable pytorch to pass in both the input arrays and output labels."
   ]
  },
  {
   "cell_type": "code",
   "execution_count": 20,
   "metadata": {
    "executionInfo": {
     "elapsed": 5,
     "status": "ok",
     "timestamp": 1639247409739,
     "user": {
      "displayName": "Joel Klein",
      "photoUrl": "https://lh3.googleusercontent.com/a/default-user=s64",
      "userId": "12422283647264597477"
     },
     "user_tz": 420
    },
    "id": "FxVmT0oblBEG"
   },
   "outputs": [],
   "source": [
    "# create a custom class to return tensors that will be inputs into deep learning model\n",
    "class CustomDataset(Dataset):\n",
    "    \n",
    "    def __init__(self, X_data, y_data):\n",
    "        self.X_data = torch.FloatTensor(X_data)\n",
    "        self.y_data = torch.LongTensor(y_data)\n",
    "        \n",
    "    def __getitem__(self, index):\n",
    "        return self.X_data[index], self.y_data[index]\n",
    "        \n",
    "    def __len__ (self):\n",
    "        return len(self.X_data)"
   ]
  },
  {
   "cell_type": "markdown",
   "metadata": {
    "id": "8OP67GA6jg5D"
   },
   "source": [
    "A batch size of 2000 is set for the training data loader to apply optimization and backpropogating the loss at each epoch. The validation and test data loader is set to the full size to estimate the out-of-sample loss."
   ]
  },
  {
   "cell_type": "code",
   "execution_count": 21,
   "metadata": {
    "executionInfo": {
     "elapsed": 267,
     "status": "ok",
     "timestamp": 1639247410001,
     "user": {
      "displayName": "Joel Klein",
      "photoUrl": "https://lh3.googleusercontent.com/a/default-user=s64",
      "userId": "12422283647264597477"
     },
     "user_tz": 420
    },
    "id": "HAxoNQAfzMmF"
   },
   "outputs": [],
   "source": [
    "#### Data Loaders ----\n",
    "\n",
    "# set batch size\n",
    "BATCH_SIZE = 2000\n",
    "\n",
    "# return tensors\n",
    "train_data = CustomDataset(x_train_transformed, y_train)\n",
    "\n",
    "# return tensors\n",
    "validation_data = CustomDataset(x_validation_transformed, y_validation)\n",
    "\n",
    "# return tensors\n",
    "test_data = CustomDataset(x_test_transformed, y_test)\n",
    "\n",
    "# set training data loader\n",
    "train_loader = DataLoader(train_data, batch_size=BATCH_SIZE, shuffle=True, num_workers=0)\n",
    "\n",
    "# set validation data loader\n",
    "validation_loader = DataLoader(validation_data, batch_size=BATCH_SIZE, shuffle=False, num_workers=0)\n",
    "\n",
    "# set test data loader\n",
    "test_loader = DataLoader(test_data, BATCH_SIZE, shuffle=False, num_workers=0)"
   ]
  },
  {
   "cell_type": "markdown",
   "metadata": {
    "id": "F7qwzJW-YKOv"
   },
   "source": [
    "### Train Baseline Fully Connected Neural Network"
   ]
  },
  {
   "cell_type": "markdown",
   "metadata": {
    "id": "YRTfntU8kR4X"
   },
   "source": [
    "This code leverages wrappers of pytorch to perform model training and evaluation. The series of training and evaluation functions below enable the training and evaluation to be executed with one line of code later on in the section."
   ]
  },
  {
   "cell_type": "code",
   "execution_count": 22,
   "metadata": {
    "executionInfo": {
     "elapsed": 326,
     "status": "ok",
     "timestamp": 1639247410325,
     "user": {
      "displayName": "Joel Klein",
      "photoUrl": "https://lh3.googleusercontent.com/a/default-user=s64",
      "userId": "12422283647264597477"
     },
     "user_tz": 420
    },
    "id": "_cX19IDe84vE"
   },
   "outputs": [],
   "source": [
    "#### Define training functions ----\n",
    "\n",
    "# define function to train a model at each epoch and return train loss and accuracy\n",
    "def train_epoch(epoch, clf, criterion, opt, data_loader, printlog=False, printnum=1):\n",
    "\n",
    "  \"\"\"Train pytorch model and collect training results\n",
    "  \n",
    "  Keyword arguments:\n",
    "  \n",
    "  epoch -- number of epochs\n",
    "  clf -- torch nn module\n",
    "  criterion -- loss function\n",
    "  opt -- torch optimizer function\n",
    "  data_loader -- torch train data loader\n",
    "  printlog -- indicator to print the training loss and accuracy (default=False)\n",
    "  printnum -- number of epochs run to print the loss\n",
    "  \"\"\"\n",
    "\n",
    "  # training mode\n",
    "  clf.train()\n",
    "\n",
    "  # reset train_loss, correct predictions, and predictions\n",
    "  correct = 0.0\n",
    "  n = 0.0\n",
    "  train_loss = 0.0\n",
    "\n",
    "  # training via batching\n",
    "  for batch_id, data in enumerate(data_loader):\n",
    "      \n",
    "      # load in input and target data in batch\n",
    "      inputs, target = data[0].to(device), data[1].to(device)\n",
    "      \n",
    "      # predict the train data\n",
    "      y_pred = clf(inputs)\n",
    "      \n",
    "      # calculate loss\n",
    "      loss = criterion(y_pred, target)\n",
    "      \n",
    "      # zero the gradient\n",
    "      opt.zero_grad()\n",
    "\n",
    "      # backpropogation\n",
    "      loss.backward()\n",
    "      \n",
    "      # update model weights\n",
    "      opt.step()\n",
    "\n",
    "      # append loss stat\n",
    "      train_loss += loss.item()\n",
    "\n",
    "      # returns class prediction\n",
    "      pred_class = torch.max(y_pred.data, 1)[1]\n",
    "\n",
    "      # number of correct predictions\n",
    "      correct += (pred_class == target).sum().item()\n",
    "        \n",
    "      # append number of predictions made\n",
    "      n += target.size(0)\n",
    "\n",
    "  # print run stats at end of each epoch for average loss, accuracy\n",
    "  if (printlog == True) & (epoch % printnum == 0):\n",
    "    print(f'Epoch {epoch}: | Train Loss: {train_loss/len(data_loader):.5f} | Train Acc: {correct/n:.5f}')\n",
    "\n",
    "  train_loss = train_loss/len(data_loader) # running loss\n",
    "  train_accuracy = correct/n # train accuracy for epoch\n",
    "\n",
    "  return clf, train_loss, train_accuracy\n",
    "\n",
    "# define function to evaluate a model at each epoch and return test loss and accuracy\n",
    "def evaluate_model(epoch, clf, criterion, opt, data_loader, printlog=False, printnum=1):\n",
    "\n",
    "  \"\"\"Evaluate pytorch model and collect test results\n",
    "  \n",
    "  Keyword arguments:\n",
    "  \n",
    "  epoch -- number of epochs\n",
    "  clf -- torch nn module\n",
    "  criterion -- loss function\n",
    "  opt -- torch optimizer function\n",
    "  data_loader -- torch test data loader\n",
    "  printlog -- indicator to print the test loss and accuracy (default=False)\n",
    "  printnum -- number of epochs run to print the loss\n",
    "  \"\"\"\n",
    "\n",
    "  clf.eval() # set model in inference mode\n",
    "  \n",
    "  # set test_loss, correct predictions, and predictions\n",
    "  test_loss = 0.0\n",
    "  correct = 0.0\n",
    "  n = 0.0\n",
    "\n",
    "  with torch.no_grad():\n",
    "    for i,data in enumerate(data_loader):\n",
    "        \n",
    "        # load in input and target data in batch\n",
    "        inputs, target = data[0].to(device), data[1].to(device)\n",
    "\n",
    "        # predict the test data\n",
    "        y_pred = clf(inputs)\n",
    "        \n",
    "        # calculate loss\n",
    "        loss = criterion(y_pred, target)\n",
    "        \n",
    "        # returns class prediction\n",
    "        pred_class = torch.max(y_pred.data, 1)[1]\n",
    "        \n",
    "        # append loss stat\n",
    "        test_loss += loss.item()\n",
    "        \n",
    "        # number of correct predictions\n",
    "        correct += (pred_class == target).sum().item()\n",
    "        \n",
    "        # append test accuracy\n",
    "        n += target.size(0)\n",
    "\n",
    "  # print run stats at end of each epoch for average loss, accuracy\n",
    "  if (printlog == True) & (epoch % printnum == 0):\n",
    "    print(f'Epoch {epoch}: | Test Loss: {test_loss/len(data_loader):.5f} | Test Acc: {correct/n:.5f}')\n",
    "\n",
    "  test_loss = test_loss/len(data_loader) # running loss\n",
    "  test_accuracy = correct/n\n",
    "\n",
    "  return test_loss, test_accuracy\n",
    "\n",
    "\n",
    "##### Define training and evaluation function wrapper ----\n",
    "\n",
    "# define a function to perform training given classifier, hidden layers, activation function, \n",
    "# initialization technique, and optimizer arguments\n",
    "def train_and_evaluate(clf, opt, epochs, learning_rate, criterion, printlog, train_data_loader, test_data_loader, printnum):\n",
    "\n",
    "  \"\"\"Train and Evaluate pytorch deep neural network model given classifier, \n",
    "  number of hidden layers, activation function, weight initialization strategy, \n",
    "  and training parameters.\n",
    "  \n",
    "  Keyword arguments:\n",
    "  \n",
    "  clf -- torch nn module\n",
    "  opt -- torch optimizer function\n",
    "  epochs -- number of epochs\n",
    "  learning_rate -- learning rate for weight optimization\n",
    "  criterion -- loss function\n",
    "  printlog -- indicator to print the training and test loss and accuracy (default=False)\n",
    "  train_data_loader -- the training data loader\n",
    "  test_data_loader -- the out of sample data loader\n",
    "  printnum -- number of epochs run to print the loss\n",
    "  \"\"\"\n",
    "\n",
    "  # place classifier on the device\n",
    "  clf.to(device)\n",
    "\n",
    "  # show classifier architecture\n",
    "  print(clf)\n",
    "\n",
    "  # set optimizer\n",
    "  opt = opt(clf.parameters(), lr=learning_rate)\n",
    "  \n",
    "  # set loss function\n",
    "  criterion = criterion()\n",
    "\n",
    "  # initialize vectors to store performance\n",
    "  train_loss = []\n",
    "  train_accuracy = []\n",
    "  test_loss = []\n",
    "  test_accuracy = []\n",
    "\n",
    "  # initialize the early_stopping object\n",
    "  early_stopping = EarlyStopping(patience=20, verbose=True)\n",
    "\n",
    "  # train the model using parameters\n",
    "  for epoch in range(epochs):\n",
    "\n",
    "      clf, train_loss_epoch, train_accuracy_epoch = train_epoch(epoch, clf, criterion, opt, train_data_loader, printlog, printnum)\n",
    "      test_loss_epoch, test_accuracy_epoch = evaluate_model(epoch, clf, criterion, opt, test_data_loader, printlog, printnum)\n",
    "      train_loss.append(train_loss_epoch)\n",
    "      train_accuracy.append(train_accuracy_epoch)\n",
    "      test_loss.append(test_loss_epoch)\n",
    "      test_accuracy.append(test_accuracy_epoch)\n",
    "      \n",
    "      early_stopping(test_loss_epoch, clf)\n",
    "        \n",
    "      if early_stopping.early_stop:\n",
    "          print(\"Early stopping\")\n",
    "          break\n",
    "\n",
    "      # load the last checkpoint with the best model\n",
    "      clf.load_state_dict(torch.load('checkpoint.pt'))\n",
    "\n",
    "  return clf, train_loss, train_accuracy, test_loss, test_accuracy"
   ]
  },
  {
   "cell_type": "markdown",
   "metadata": {
    "id": "ghEhKmgYeB-i"
   },
   "source": [
    "The GPU instance needs to be setup to allow for faster training and evaluation."
   ]
  },
  {
   "cell_type": "code",
   "execution_count": 23,
   "metadata": {
    "colab": {
     "base_uri": "https://localhost:8080/"
    },
    "executionInfo": {
     "elapsed": 9,
     "status": "ok",
     "timestamp": 1639247410326,
     "user": {
      "displayName": "Joel Klein",
      "photoUrl": "https://lh3.googleusercontent.com/a/default-user=s64",
      "userId": "12422283647264597477"
     },
     "user_tz": 420
    },
    "id": "cWa0u-eOlf2l",
    "outputId": "e6c4a61f-ef19-4f1c-e8b6-81752118787a"
   },
   "outputs": [
    {
     "name": "stdout",
     "output_type": "stream",
     "text": [
      "Training will occur using a cuda device\n"
     ]
    }
   ],
   "source": [
    "#### Set up the GPU instance ----\n",
    "\n",
    "# set up GPU instance\n",
    "device = 'cuda' if cuda.is_available() else 'cpu'\n",
    "\n",
    "# we should be printing out CUDA\n",
    "print(f\"Training will occur using a {device} device\")"
   ]
  },
  {
   "cell_type": "code",
   "execution_count": 24,
   "metadata": {
    "executionInfo": {
     "elapsed": 4,
     "status": "ok",
     "timestamp": 1639247410326,
     "user": {
      "displayName": "Joel Klein",
      "photoUrl": "https://lh3.googleusercontent.com/a/default-user=s64",
      "userId": "12422283647264597477"
     },
     "user_tz": 420
    },
    "id": "C4syCXSzBUxS"
   },
   "outputs": [],
   "source": [
    "#### Create model architecture ----\n",
    "\n",
    "# model architecture is a deep neural network with 3 layers\n",
    "# the initialization approach takes the PyTorch defaults\n",
    "# the activation function will be ReLU\n",
    "# we will apply batch normalization between layers\n",
    "# we will have a 0.25 dropout rate for regularization\n",
    "\n",
    "class DNN(nn.Module):\n",
    "    def __init__(self, input_dims, hidden_size, output_dims):\n",
    "        super(DNN, self).__init__()\n",
    "        \n",
    "        self.input_dims = input_dims\n",
    "\n",
    "        self.linear_layer_1 = nn.Linear(input_dims, hidden_size)\n",
    "        self.linear_layer_2 = nn.Linear(hidden_size, hidden_size)\n",
    "        self.linear_layer_3 = nn.Linear(hidden_size, output_dims)\n",
    "        self.batch_norm = nn.BatchNorm1d(hidden_size)\n",
    "\n",
    "        self.activation = nn.ReLU()\n",
    "        self.dropout = nn.Dropout(p=0.25)\n",
    "\n",
    "    def forward(self, inputs):\n",
    "        x = self.linear_layer_1(inputs)\n",
    "        x = self.activation(self.batch_norm(x))\n",
    "        x = self.dropout(x)\n",
    "\n",
    "        x = self.linear_layer_2(x)\n",
    "        x = self.activation(self.batch_norm(x))\n",
    "        x = self.dropout(x)\n",
    "\n",
    "        x = self.linear_layer_3(x)\n",
    "        \n",
    "        return x\n"
   ]
  },
  {
   "cell_type": "markdown",
   "metadata": {
    "id": "TVb70ukfBUxS"
   },
   "source": [
    "The model is trained with the predefined training and evaluation function. The training and validation loss are printed at each step. We train the model with 200 epochs, a smaller learning rate of 0.0001, batch size 2000, the cross entropy loss function, and adam optimization technique. Early stopping is applied which stops the model from training further if there has not been a decrease in the validation loss after 20 consecutive epochs."
   ]
  },
  {
   "cell_type": "code",
   "execution_count": 25,
   "metadata": {
    "executionInfo": {
     "elapsed": 4,
     "status": "ok",
     "timestamp": 1639247410326,
     "user": {
      "displayName": "Joel Klein",
      "photoUrl": "https://lh3.googleusercontent.com/a/default-user=s64",
      "userId": "12422283647264597477"
     },
     "user_tz": 420
    },
    "id": "k6UEPd5ibQAM"
   },
   "outputs": [],
   "source": [
    "#### Setup weight initializers ----\n",
    "\n",
    "# define normal weight initialization with mean 0 and standard deviation 0.01\n",
    "def initialize_normal(m):\n",
    "    if isinstance(m, nn.Linear):\n",
    "        nn.init.normal_(m.weight, mean=0.0, std=0.01)\n",
    "    if isinstance(m, nn.Conv2d):\n",
    "        nn.init.normal_(m.weight, mean=0.0, std=0.01)\n",
    "\n",
    "# define xavier weight initialization\n",
    "def initialize_xavier(m):\n",
    "    if isinstance(m, nn.Linear):\n",
    "        nn.init.xavier_normal_(m.weight)\n",
    "    if isinstance(m, nn.Conv2d):\n",
    "        nn.init.xavier_normal_(m.weight)\n",
    "\n",
    "# define he weight initialization\n",
    "def initialize_kaiming(m):\n",
    "    if isinstance(m, nn.Linear):\n",
    "        nn.init.kaiming_normal_(m.weight)\n",
    "    if isinstance(m, nn.Conv2d):\n",
    "        nn.init.kaiming_normal_(m.weight)"
   ]
  },
  {
   "cell_type": "code",
   "execution_count": 26,
   "metadata": {
    "colab": {
     "base_uri": "https://localhost:8080/"
    },
    "executionInfo": {
     "elapsed": 382565,
     "status": "ok",
     "timestamp": 1639247792887,
     "user": {
      "displayName": "Joel Klein",
      "photoUrl": "https://lh3.googleusercontent.com/a/default-user=s64",
      "userId": "12422283647264597477"
     },
     "user_tz": 420
    },
    "id": "bKQNCYaRBUxS",
    "outputId": "d698f1a9-9301-4a7a-b493-bde7b2f9cea5"
   },
   "outputs": [
    {
     "name": "stdout",
     "output_type": "stream",
     "text": [
      "DNN(\n",
      "  (linear_layer_1): Linear(in_features=83, out_features=300, bias=True)\n",
      "  (linear_layer_2): Linear(in_features=300, out_features=300, bias=True)\n",
      "  (linear_layer_3): Linear(in_features=300, out_features=6, bias=True)\n",
      "  (batch_norm): BatchNorm1d(300, eps=1e-05, momentum=0.1, affine=True, track_running_stats=True)\n",
      "  (activation): ReLU()\n",
      "  (dropout): Dropout(p=0.25, inplace=False)\n",
      ")\n",
      "Epoch 0: | Train Loss: 1.51424 | Train Acc: 0.39293\n",
      "Epoch 0: | Test Loss: 1.33690 | Test Acc: 0.42677\n",
      "Validation loss decreased (inf --> 1.336900).  Saving model ...\n",
      "Epoch 1: | Train Loss: 1.35759 | Train Acc: 0.43447\n",
      "Epoch 1: | Test Loss: 1.31124 | Test Acc: 0.42860\n",
      "Validation loss decreased (1.336900 --> 1.311245).  Saving model ...\n",
      "Epoch 2: | Train Loss: 1.31572 | Train Acc: 0.44285\n",
      "Epoch 2: | Test Loss: 1.28787 | Test Acc: 0.43402\n",
      "Validation loss decreased (1.311245 --> 1.287875).  Saving model ...\n",
      "Epoch 3: | Train Loss: 1.28832 | Train Acc: 0.45020\n",
      "Epoch 3: | Test Loss: 1.27287 | Test Acc: 0.44049\n",
      "Validation loss decreased (1.287875 --> 1.272868).  Saving model ...\n",
      "Epoch 4: | Train Loss: 1.26933 | Train Acc: 0.45553\n",
      "Epoch 4: | Test Loss: 1.26416 | Test Acc: 0.44465\n",
      "Validation loss decreased (1.272868 --> 1.264164).  Saving model ...\n",
      "Epoch 5: | Train Loss: 1.25529 | Train Acc: 0.45929\n",
      "Epoch 5: | Test Loss: 1.25936 | Test Acc: 0.44591\n",
      "Validation loss decreased (1.264164 --> 1.259362).  Saving model ...\n",
      "Epoch 6: | Train Loss: 1.24414 | Train Acc: 0.46249\n",
      "Epoch 6: | Test Loss: 1.25251 | Test Acc: 0.44910\n",
      "Validation loss decreased (1.259362 --> 1.252513).  Saving model ...\n",
      "Epoch 7: | Train Loss: 1.23606 | Train Acc: 0.46489\n",
      "Epoch 7: | Test Loss: 1.24554 | Test Acc: 0.45236\n",
      "Validation loss decreased (1.252513 --> 1.245542).  Saving model ...\n",
      "Epoch 8: | Train Loss: 1.22863 | Train Acc: 0.46681\n",
      "Epoch 8: | Test Loss: 1.24197 | Test Acc: 0.45309\n",
      "Validation loss decreased (1.245542 --> 1.241971).  Saving model ...\n",
      "Epoch 9: | Train Loss: 1.22290 | Train Acc: 0.46872\n",
      "Epoch 9: | Test Loss: 1.23871 | Test Acc: 0.45522\n",
      "Validation loss decreased (1.241971 --> 1.238705).  Saving model ...\n",
      "Epoch 10: | Train Loss: 1.21743 | Train Acc: 0.47030\n",
      "Epoch 10: | Test Loss: 1.23624 | Test Acc: 0.45610\n",
      "Validation loss decreased (1.238705 --> 1.236245).  Saving model ...\n",
      "Epoch 11: | Train Loss: 1.21314 | Train Acc: 0.47197\n",
      "Epoch 11: | Test Loss: 1.23321 | Test Acc: 0.45770\n",
      "Validation loss decreased (1.236245 --> 1.233210).  Saving model ...\n",
      "Epoch 12: | Train Loss: 1.20953 | Train Acc: 0.47236\n",
      "Epoch 12: | Test Loss: 1.23112 | Test Acc: 0.45853\n",
      "Validation loss decreased (1.233210 --> 1.231122).  Saving model ...\n",
      "Epoch 13: | Train Loss: 1.20631 | Train Acc: 0.47336\n",
      "Epoch 13: | Test Loss: 1.22838 | Test Acc: 0.45969\n",
      "Validation loss decreased (1.231122 --> 1.228383).  Saving model ...\n",
      "Epoch 14: | Train Loss: 1.20281 | Train Acc: 0.47466\n",
      "Epoch 14: | Test Loss: 1.22846 | Test Acc: 0.45970\n",
      "EarlyStopping counter: 1 out of 20\n",
      "Epoch 15: | Train Loss: 1.20261 | Train Acc: 0.47420\n",
      "Epoch 15: | Test Loss: 1.22673 | Test Acc: 0.46050\n",
      "Validation loss decreased (1.228383 --> 1.226729).  Saving model ...\n",
      "Epoch 16: | Train Loss: 1.20005 | Train Acc: 0.47531\n",
      "Epoch 16: | Test Loss: 1.22703 | Test Acc: 0.46031\n",
      "EarlyStopping counter: 1 out of 20\n",
      "Epoch 17: | Train Loss: 1.20022 | Train Acc: 0.47497\n",
      "Epoch 17: | Test Loss: 1.22501 | Test Acc: 0.46105\n",
      "Validation loss decreased (1.226729 --> 1.225012).  Saving model ...\n",
      "Epoch 18: | Train Loss: 1.19741 | Train Acc: 0.47600\n",
      "Epoch 18: | Test Loss: 1.22392 | Test Acc: 0.46169\n",
      "Validation loss decreased (1.225012 --> 1.223922).  Saving model ...\n",
      "Epoch 19: | Train Loss: 1.19516 | Train Acc: 0.47629\n",
      "Epoch 19: | Test Loss: 1.22324 | Test Acc: 0.46177\n",
      "Validation loss decreased (1.223922 --> 1.223245).  Saving model ...\n",
      "Epoch 20: | Train Loss: 1.19285 | Train Acc: 0.47688\n",
      "Epoch 20: | Test Loss: 1.22241 | Test Acc: 0.46261\n",
      "Validation loss decreased (1.223245 --> 1.222411).  Saving model ...\n",
      "Epoch 21: | Train Loss: 1.19054 | Train Acc: 0.47765\n",
      "Epoch 21: | Test Loss: 1.22083 | Test Acc: 0.46408\n",
      "Validation loss decreased (1.222411 --> 1.220830).  Saving model ...\n",
      "Epoch 22: | Train Loss: 1.18905 | Train Acc: 0.47801\n",
      "Epoch 22: | Test Loss: 1.21873 | Test Acc: 0.46494\n",
      "Validation loss decreased (1.220830 --> 1.218735).  Saving model ...\n",
      "Epoch 23: | Train Loss: 1.18726 | Train Acc: 0.47842\n",
      "Epoch 23: | Test Loss: 1.22020 | Test Acc: 0.46502\n",
      "EarlyStopping counter: 1 out of 20\n",
      "Epoch 24: | Train Loss: 1.18719 | Train Acc: 0.47836\n",
      "Epoch 24: | Test Loss: 1.21956 | Test Acc: 0.46415\n",
      "EarlyStopping counter: 2 out of 20\n",
      "Epoch 25: | Train Loss: 1.18698 | Train Acc: 0.47814\n",
      "Epoch 25: | Test Loss: 1.22083 | Test Acc: 0.46411\n",
      "EarlyStopping counter: 3 out of 20\n",
      "Epoch 26: | Train Loss: 1.18717 | Train Acc: 0.47832\n",
      "Epoch 26: | Test Loss: 1.22152 | Test Acc: 0.46349\n",
      "EarlyStopping counter: 4 out of 20\n",
      "Epoch 27: | Train Loss: 1.18666 | Train Acc: 0.47884\n",
      "Epoch 27: | Test Loss: 1.22101 | Test Acc: 0.46418\n",
      "EarlyStopping counter: 5 out of 20\n",
      "Epoch 28: | Train Loss: 1.18721 | Train Acc: 0.47775\n",
      "Epoch 28: | Test Loss: 1.22169 | Test Acc: 0.46391\n",
      "EarlyStopping counter: 6 out of 20\n",
      "Epoch 29: | Train Loss: 1.18713 | Train Acc: 0.47865\n",
      "Epoch 29: | Test Loss: 1.22064 | Test Acc: 0.46331\n",
      "EarlyStopping counter: 7 out of 20\n",
      "Epoch 30: | Train Loss: 1.18704 | Train Acc: 0.47860\n",
      "Epoch 30: | Test Loss: 1.21961 | Test Acc: 0.46437\n",
      "EarlyStopping counter: 8 out of 20\n",
      "Epoch 31: | Train Loss: 1.18712 | Train Acc: 0.47894\n",
      "Epoch 31: | Test Loss: 1.22196 | Test Acc: 0.46305\n",
      "EarlyStopping counter: 9 out of 20\n",
      "Epoch 32: | Train Loss: 1.18717 | Train Acc: 0.47821\n",
      "Epoch 32: | Test Loss: 1.22125 | Test Acc: 0.46398\n",
      "EarlyStopping counter: 10 out of 20\n",
      "Epoch 33: | Train Loss: 1.18706 | Train Acc: 0.47824\n",
      "Epoch 33: | Test Loss: 1.22330 | Test Acc: 0.46258\n",
      "EarlyStopping counter: 11 out of 20\n",
      "Epoch 34: | Train Loss: 1.18696 | Train Acc: 0.47858\n",
      "Epoch 34: | Test Loss: 1.21961 | Test Acc: 0.46470\n",
      "EarlyStopping counter: 12 out of 20\n",
      "Epoch 35: | Train Loss: 1.18701 | Train Acc: 0.47861\n",
      "Epoch 35: | Test Loss: 1.22295 | Test Acc: 0.46249\n",
      "EarlyStopping counter: 13 out of 20\n",
      "Epoch 36: | Train Loss: 1.18706 | Train Acc: 0.47836\n",
      "Epoch 36: | Test Loss: 1.22019 | Test Acc: 0.46455\n",
      "EarlyStopping counter: 14 out of 20\n",
      "Epoch 37: | Train Loss: 1.18674 | Train Acc: 0.47837\n",
      "Epoch 37: | Test Loss: 1.22198 | Test Acc: 0.46404\n",
      "EarlyStopping counter: 15 out of 20\n",
      "Epoch 38: | Train Loss: 1.18706 | Train Acc: 0.47786\n",
      "Epoch 38: | Test Loss: 1.22162 | Test Acc: 0.46388\n",
      "EarlyStopping counter: 16 out of 20\n",
      "Epoch 39: | Train Loss: 1.18716 | Train Acc: 0.47864\n",
      "Epoch 39: | Test Loss: 1.22278 | Test Acc: 0.46354\n",
      "EarlyStopping counter: 17 out of 20\n",
      "Epoch 40: | Train Loss: 1.18709 | Train Acc: 0.47809\n",
      "Epoch 40: | Test Loss: 1.22193 | Test Acc: 0.46379\n",
      "EarlyStopping counter: 18 out of 20\n",
      "Epoch 41: | Train Loss: 1.18701 | Train Acc: 0.47843\n",
      "Epoch 41: | Test Loss: 1.22273 | Test Acc: 0.46320\n",
      "EarlyStopping counter: 19 out of 20\n",
      "Epoch 42: | Train Loss: 1.18689 | Train Acc: 0.47841\n",
      "Epoch 42: | Test Loss: 1.22302 | Test Acc: 0.46362\n",
      "EarlyStopping counter: 20 out of 20\n",
      "Early stopping\n"
     ]
    }
   ],
   "source": [
    "#### Train ----\n",
    "\n",
    "# set classifier\n",
    "baseline_clf = DNN(x_train_transformed.shape[1], 300, 6)\n",
    "\n",
    "# apply initialization\n",
    "baseline_clf.apply(initialize_kaiming)\n",
    "\n",
    "# train and evaluate model with parameters\n",
    "baseline_clf, baseline_train_loss, baseline_train_accuracy, baseline_test_loss, baseline_test_accuracy = train_and_evaluate(baseline_clf, optim.Adam, 200, 0.0001, nn.CrossEntropyLoss, True, train_loader, validation_loader, 1)"
   ]
  },
  {
   "cell_type": "code",
   "execution_count": 27,
   "metadata": {
    "colab": {
     "base_uri": "https://localhost:8080/",
     "height": 295
    },
    "executionInfo": {
     "elapsed": 753,
     "status": "ok",
     "timestamp": 1639247793630,
     "user": {
      "displayName": "Joel Klein",
      "photoUrl": "https://lh3.googleusercontent.com/a/default-user=s64",
      "userId": "12422283647264597477"
     },
     "user_tz": 420
    },
    "id": "hcAqZ7gZdnzK",
    "outputId": "1ea449ff-d6bb-4c43-8a1d-56f3f5e0f7a0"
   },
   "outputs": [
    {
     "data": {
      "image/png": "[encoded data removed]",
      "text/plain": [
       "<Figure size 432x288 with 1 Axes>"
      ]
     },
     "metadata": {
      "needs_background": "light"
     },
     "output_type": "display_data"
    }
   ],
   "source": [
    "##### Plot loss ----\n",
    "\n",
    "plt.plot(baseline_test_loss, '-g', label='validation')\n",
    "plt.plot(baseline_train_loss, '-b', label='train')\n",
    "plt.legend();\n",
    "plt.title(\"Model Loss\")\n",
    "plt.xlabel(\"Epoch\")\n",
    "plt.ylabel(\"Loss (Cross Entropy)\");"
   ]
  },
  {
   "cell_type": "code",
   "execution_count": 28,
   "metadata": {
    "colab": {
     "base_uri": "https://localhost:8080/",
     "height": 295
    },
    "executionInfo": {
     "elapsed": 6,
     "status": "ok",
     "timestamp": 1639247793631,
     "user": {
      "displayName": "Joel Klein",
      "photoUrl": "https://lh3.googleusercontent.com/a/default-user=s64",
      "userId": "12422283647264597477"
     },
     "user_tz": 420
    },
    "id": "HAgY7SPAAB-u",
    "outputId": "49795826-859c-4af1-f48c-240004d7413a"
   },
   "outputs": [
    {
     "data": {
      "image/png": "[encoded data removed]",
      "text/plain": [
       "<Figure size 432x288 with 1 Axes>"
      ]
     },
     "metadata": {
      "needs_background": "light"
     },
     "output_type": "display_data"
    }
   ],
   "source": [
    "##### Plot accuracy ----\n",
    "\n",
    "plt.plot(baseline_test_accuracy, '-g', label='validation')\n",
    "plt.plot(baseline_train_accuracy, '-b', label='train')\n",
    "plt.legend();\n",
    "plt.title(\"Model Accuracy\")\n",
    "plt.xlabel(\"Epoch\")\n",
    "plt.ylabel(\"Accuracy\");"
   ]
  },
  {
   "cell_type": "markdown",
   "metadata": {
    "id": "TD_9G3pPW6u2"
   },
   "source": [
    "### Evaluation"
   ]
  },
  {
   "cell_type": "code",
   "execution_count": 29,
   "metadata": {
    "executionInfo": {
     "elapsed": 379,
     "status": "ok",
     "timestamp": 1639247794005,
     "user": {
      "displayName": "Joel Klein",
      "photoUrl": "https://lh3.googleusercontent.com/a/default-user=s64",
      "userId": "12422283647264597477"
     },
     "user_tz": 420
    },
    "id": "FqnZ_cNUVsIR"
   },
   "outputs": [],
   "source": [
    "##### Model evaluation -----\n",
    "\n",
    "with torch.no_grad():\n",
    "\n",
    "  # load in input and target data in batch\n",
    "  inputs = torch.FloatTensor(x_validation_transformed).to(device)\n",
    "  target = y_validation.to_numpy()\n",
    "\n",
    "  # predict the test data\n",
    "  y_pred = baseline_clf(inputs).cpu().detach().numpy().argmax(1)"
   ]
  },
  {
   "cell_type": "code",
   "execution_count": 30,
   "metadata": {
    "colab": {
     "base_uri": "https://localhost:8080/",
     "height": 282
    },
    "executionInfo": {
     "elapsed": 7,
     "status": "ok",
     "timestamp": 1639247794006,
     "user": {
      "displayName": "Joel Klein",
      "photoUrl": "https://lh3.googleusercontent.com/a/default-user=s64",
      "userId": "12422283647264597477"
     },
     "user_tz": 420
    },
    "id": "KzA_-wRAW9Jo",
    "outputId": "6715d5a2-d3fd-479b-dfbe-6cd22093d6be"
   },
   "outputs": [
    {
     "data": {
      "text/plain": [
       "<matplotlib.axes._subplots.AxesSubplot at 0x7f2a93b7bc90>"
      ]
     },
     "execution_count": 30,
     "metadata": {},
     "output_type": "execute_result"
    },
    {
     "data": {
      "image/png": "[encoded data removed]",
      "text/plain": [
       "<Figure size 432x288 with 2 Axes>"
      ]
     },
     "metadata": {
      "needs_background": "light"
     },
     "output_type": "display_data"
    }
   ],
   "source": [
    "##### Confusion Matrix -----\n",
    "\n",
    "from sklearn.metrics import confusion_matrix, classification_report\n",
    "\n",
    "confusion_matrix_df = pd.DataFrame(confusion_matrix(target, y_pred))\n",
    "\n",
    "sns.heatmap(confusion_matrix_df, annot=True,fmt='g')"
   ]
  },
  {
   "cell_type": "code",
   "execution_count": 31,
   "metadata": {
    "colab": {
     "base_uri": "https://localhost:8080/"
    },
    "executionInfo": {
     "elapsed": 402,
     "status": "ok",
     "timestamp": 1639247794403,
     "user": {
      "displayName": "Joel Klein",
      "photoUrl": "https://lh3.googleusercontent.com/a/default-user=s64",
      "userId": "12422283647264597477"
     },
     "user_tz": 420
    },
    "id": "pf-sRvcqXF0-",
    "outputId": "d8c3d58a-c3d4-4d4e-9ed8-4ee0ffaf5590"
   },
   "outputs": [
    {
     "name": "stdout",
     "output_type": "stream",
     "text": [
      "              precision    recall  f1-score   support\n",
      "\n",
      "           0     0.5326    0.6052    0.5666    119576\n",
      "           1     0.4567    0.5633    0.5044     56777\n",
      "           2     0.4184    0.4704    0.4429     58853\n",
      "           3     0.4295    0.1309    0.2006     46134\n",
      "           4     0.3461    0.2758    0.3070     38528\n",
      "           5     0.3991    0.4473    0.4219     25073\n",
      "\n",
      "    accuracy                         0.4636    344941\n",
      "   macro avg     0.4304    0.4155    0.4072    344941\n",
      "weighted avg     0.4563    0.4636    0.4468    344941\n",
      "\n"
     ]
    }
   ],
   "source": [
    "##### Classification Report -----\n",
    "\n",
    "print(classification_report(target, y_pred, digits = 4))"
   ]
  }
 ],
 "metadata": {
  "accelerator": "GPU",
  "colab": {
   "collapsed_sections": [],
   "machine_shape": "hm",
   "name": "03_DNN_baseline.ipynb",
   "provenance": []
  },
  "kernelspec": {
   "display_name": "Python 3",
   "language": "python",
   "name": "python3"
  },
  "language_info": {
   "codemirror_mode": {
    "name": "ipython",
    "version": 3
   },
   "file_extension": ".py",
   "mimetype": "text/x-python",
   "name": "python",
   "nbconvert_exporter": "python",
   "pygments_lexer": "ipython3",
   "version": "3.7.7"
  },
  "toc": {
   "base_numbering": 1,
   "nav_menu": {},
   "number_sections": true,
   "sideBar": true,
   "skip_h1_title": false,
   "title_cell": "Table of Contents",
   "title_sidebar": "Contents",
   "toc_cell": false,
   "toc_position": {},
   "toc_section_display": true,
   "toc_window_display": false
  }
 },
 "nbformat": 4,
 "nbformat_minor": 1
}
